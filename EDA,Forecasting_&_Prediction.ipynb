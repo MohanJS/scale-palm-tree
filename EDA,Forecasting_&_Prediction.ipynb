{
  "nbformat": 4,
  "nbformat_minor": 0,
  "metadata": {
    "hide_input": false,
    "kernelspec": {
      "display_name": "Python 3",
      "language": "python",
      "name": "python3"
    },
    "latex_envs": {
      "LaTeX_envs_menu_present": true,
      "autoclose": false,
      "autocomplete": true,
      "bibliofile": "biblio.bib",
      "cite_by": "apalike",
      "current_citInitial": 1,
      "eqLabelWithNumbers": true,
      "eqNumInitial": 1,
      "hotkeys": {
        "equation": "Ctrl-E",
        "itemize": "Ctrl-I"
      },
      "labels_anchors": false,
      "latex_user_defs": false,
      "report_style_numbering": false,
      "user_envs_cfg": false
    },
    "toc": {
      "base_numbering": 1,
      "nav_menu": {},
      "number_sections": true,
      "sideBar": true,
      "skip_h1_title": false,
      "title_cell": "Table of Contents",
      "title_sidebar": "Contents",
      "toc_cell": true,
      "toc_position": {
        "height": "calc(100% - 180px)",
        "left": "10px",
        "top": "150px",
        "width": "346.307px"
      },
      "toc_section_display": true,
      "toc_window_display": true
    },
    "varInspector": {
      "cols": {
        "lenName": 16,
        "lenType": 16,
        "lenVar": 40
      },
      "kernels_config": {
        "python": {
          "delete_cmd_postfix": "",
          "delete_cmd_prefix": "del ",
          "library": "var_list.py",
          "varRefreshCmd": "print(var_dic_list())"
        },
        "r": {
          "delete_cmd_postfix": ") ",
          "delete_cmd_prefix": "rm(",
          "library": "var_list.r",
          "varRefreshCmd": "cat(var_dic_list()) "
        }
      },
      "types_to_exclude": [
        "module",
        "function",
        "builtin_function_or_method",
        "instance",
        "_Feature"
      ],
      "window_display": false
    },
    "colab": {
      "name": "EDA,Forecasting & Prediction.ipynb",
      "provenance": [],
      "collapsed_sections": [
        "Eh6qMNJtkSxd",
        "RaDwbD_rkSxk",
        "HbDtxb3_kSyN",
        "2SS3VTXykSye",
        "AxD-XjzVkSyy",
        "sHEJTLiskSy3",
        "uhxfOCTfkSy8",
        "xOza-2qCkSzB",
        "4i2g6aWZkSzz",
        "24AhDG3jkSz7",
        "dhZ4A16tkS0F",
        "JRXLXXgokS0J",
        "-ULde9r3kS0Q",
        "iO9n6fRjkS0Y",
        "SFvjc9-qkS0u"
      ],
      "include_colab_link": true
    },
    "accelerator": "GPU"
  },
  "cells": [
    {
      "cell_type": "markdown",
      "metadata": {
        "id": "view-in-github",
        "colab_type": "text"
      },
      "source": [
        "<a href=\"https://colab.research.google.com/github/MohanJS/scale-palm-tree/blob/master/EDA%2CForecasting_%26_Prediction.ipynb\" target=\"_parent\"><img src=\"https://colab.research.google.com/assets/colab-badge.svg\" alt=\"Open In Colab\"/></a>"
      ]
    },
    {
      "cell_type": "markdown",
      "metadata": {
        "toc": true,
        "id": "W4NNbPz4kSwd",
        "colab_type": "text"
      },
      "source": [
        "<h1>Table of Contents<span class=\"tocSkip\"></span></h1>\n",
        "<div class=\"toc\"><ul class=\"toc-item\"><li><span><a href=\"#Importing-the-required-Libraries\" data-toc-modified-id=\"Importing-the-required-Libraries-1\"><span class=\"toc-item-num\">1&nbsp;&nbsp;</span>Importing the required Libraries</a></span></li><li><span><a href=\"#Importing-the-Data\" data-toc-modified-id=\"Importing-the-Data-2\"><span class=\"toc-item-num\">2&nbsp;&nbsp;</span>Importing the Data</a></span><ul class=\"toc-item\"><li><span><a href=\"#Data-set\" data-toc-modified-id=\"Data-set-2.1\"><span class=\"toc-item-num\">2.1&nbsp;&nbsp;</span>Data set</a></span><ul class=\"toc-item\"><li><span><a href=\"#clean_data\" data-toc-modified-id=\"clean_data-2.1.1\"><span class=\"toc-item-num\">2.1.1&nbsp;&nbsp;</span>clean_data</a></span><ul class=\"toc-item\"><li><span><a href=\"#Province,Lat,Long,Date,Confirmed,Deaths,Recovered\" data-toc-modified-id=\"Province,Lat,Long,Date,Confirmed,Deaths,Recovered-2.1.1.1\"><span class=\"toc-item-num\">2.1.1.1&nbsp;&nbsp;</span>Province,Lat,Long,Date,Confirmed,Deaths,Recovered</a></span></li></ul></li></ul></li><li><span><a href=\"#Cleaning-Data---Data-Processing\" data-toc-modified-id=\"Cleaning-Data---Data-Processing-2.2\"><span class=\"toc-item-num\">2.2&nbsp;&nbsp;</span>Cleaning Data - Data Processing</a></span><ul class=\"toc-item\"><li><span><a href=\"#Date-Formatting\" data-toc-modified-id=\"Date-Formatting-2.2.1\"><span class=\"toc-item-num\">2.2.1&nbsp;&nbsp;</span>Date Formatting</a></span></li><li><span><a href=\"#Checking-whether-data-is-updated\" data-toc-modified-id=\"Checking-whether-data-is-updated-2.2.2\"><span class=\"toc-item-num\">2.2.2&nbsp;&nbsp;</span>Checking whether data is updated</a></span></li><li><span><a href=\"#Cheking-for-missing-values-and-taking-care-of-them\" data-toc-modified-id=\"Cheking-for-missing-values-and-taking-care-of-them-2.2.3\"><span class=\"toc-item-num\">2.2.3&nbsp;&nbsp;</span>Cheking for missing values and taking care of them</a></span></li><li><span><a href=\"#clean_data---Data-Types\" data-toc-modified-id=\"clean_data---Data-Types-2.2.4\"><span class=\"toc-item-num\">2.2.4&nbsp;&nbsp;</span>clean_data - Data Types</a></span></li><li><span><a href=\"#Filtering-problemating-Data\" data-toc-modified-id=\"Filtering-problemating-Data-2.2.5\"><span class=\"toc-item-num\">2.2.5&nbsp;&nbsp;</span>Filtering problemating Data</a></span></li><li><span><a href=\"#Creating-a-Master-Copy-of-the-Data\" data-toc-modified-id=\"Creating-a-Master-Copy-of-the-Data-2.2.6\"><span class=\"toc-item-num\">2.2.6&nbsp;&nbsp;</span>Creating a Master Copy of the Data</a></span><ul class=\"toc-item\"><li><span><a href=\"#Data-Set-Name---data\" data-toc-modified-id=\"Data-Set-Name---data-2.2.6.1\"><span class=\"toc-item-num\">2.2.6.1&nbsp;&nbsp;</span>Data Set Name - data</a></span></li></ul></li></ul></li></ul></li><li><span><a href=\"#EDA---Exploratory-Data-Analysis---The-Data-Story\" data-toc-modified-id=\"EDA---Exploratory-Data-Analysis---The-Data-Story-3\"><span class=\"toc-item-num\">3&nbsp;&nbsp;</span>EDA - Exploratory Data Analysis - The Data Story</a></span><ul class=\"toc-item\"><li><span><a href=\"#Exploring-Infections(Confirmed-Cases),Fatalities-&amp;-Active---Worldwide\" data-toc-modified-id=\"Exploring-Infections(Confirmed-Cases),Fatalities-&amp;-Active---Worldwide-3.1\"><span class=\"toc-item-num\">3.1&nbsp;&nbsp;</span>Exploring Infections(Confirmed Cases),Fatalities &amp; Active - Worldwide</a></span><ul class=\"toc-item\"><li><span><a href=\"#Data-Set-Name---data_cfn\" data-toc-modified-id=\"Data-Set-Name---data_cfn-3.1.1\"><span class=\"toc-item-num\">3.1.1&nbsp;&nbsp;</span>Data Set Name - data_cfn</a></span><ul class=\"toc-item\"><li><span><a href=\"#date,confirmed-&amp;-deaths\" data-toc-modified-id=\"date,confirmed-&amp;-deaths-3.1.1.1\"><span class=\"toc-item-num\">3.1.1.1&nbsp;&nbsp;</span>date,confirmed &amp; deaths</a></span></li></ul></li><li><span><a href=\"#Data-Set-Name---data_cfn_melt\" data-toc-modified-id=\"Data-Set-Name---data_cfn_melt-3.1.2\"><span class=\"toc-item-num\">3.1.2&nbsp;&nbsp;</span>Data Set Name - data_cfn_melt</a></span><ul class=\"toc-item\"><li><span><a href=\"#date,variable(confirmed,deaths,new-cases),value\" data-toc-modified-id=\"date,variable(confirmed,deaths,new-cases),value-3.1.2.1\"><span class=\"toc-item-num\">3.1.2.1&nbsp;&nbsp;</span>date,variable(confirmed,deaths,new cases),value</a></span></li></ul></li><li><span><a href=\"#Line-curve---Worldwide-Confirmed/Fatalities-&amp;-New-Cases\" data-toc-modified-id=\"Line-curve---Worldwide-Confirmed/Fatalities-&amp;-New-Cases-3.1.3\"><span class=\"toc-item-num\">3.1.3&nbsp;&nbsp;</span>Line curve - Worldwide Confirmed/Fatalities &amp; New Cases</a></span></li><li><span><a href=\"#Line-curve---Worldwide-Confirmed/Fatalities-&amp;-New-Cases(log-Scale)\" data-toc-modified-id=\"Line-curve---Worldwide-Confirmed/Fatalities-&amp;-New-Cases(log-Scale)-3.1.4\"><span class=\"toc-item-num\">3.1.4&nbsp;&nbsp;</span>Line curve - Worldwide Confirmed/Fatalities &amp; New Cases(log Scale)</a></span></li><li><span><a href=\"#line-Curve---Mortality-Rate\" data-toc-modified-id=\"line-Curve---Mortality-Rate-3.1.5\"><span class=\"toc-item-num\">3.1.5&nbsp;&nbsp;</span>line Curve - Mortality Rate</a></span></li></ul></li><li><span><a href=\"#Data-Group---Date-&amp;-Country\" data-toc-modified-id=\"Data-Group---Date-&amp;-Country-3.2\"><span class=\"toc-item-num\">3.2&nbsp;&nbsp;</span>Data Group - Date &amp; Country</a></span><ul class=\"toc-item\"><li><span><a href=\"#Data-Set-Name---data_dc_grp\" data-toc-modified-id=\"Data-Set-Name---data_dc_grp-3.2.1\"><span class=\"toc-item-num\">3.2.1&nbsp;&nbsp;</span>Data Set Name - data_dc_grp</a></span><ul class=\"toc-item\"><li><span><a href=\"#date,country,confirmed,deaths,recovered,active\" data-toc-modified-id=\"date,country,confirmed,deaths,recovered,active-3.2.1.1\"><span class=\"toc-item-num\">3.2.1.1&nbsp;&nbsp;</span>date,country,confirmed,deaths,recovered,active</a></span></li></ul></li></ul></li><li><span><a href=\"#Data-Group---Country-Totals\" data-toc-modified-id=\"Data-Group---Country-Totals-3.3\"><span class=\"toc-item-num\">3.3&nbsp;&nbsp;</span>Data Group - Country Totals</a></span><ul class=\"toc-item\"><li><span><a href=\"#Data-Set-Name---data_countries_tot\" data-toc-modified-id=\"Data-Set-Name---data_countries_tot-3.3.1\"><span class=\"toc-item-num\">3.3.1&nbsp;&nbsp;</span>Data Set Name - data_countries_tot</a></span><ul class=\"toc-item\"><li><span><a href=\"#columns---country,-confirmed,-deaths,recovered,active\" data-toc-modified-id=\"columns---country,-confirmed,-deaths,recovered,active-3.3.1.1\"><span class=\"toc-item-num\">3.3.1.1&nbsp;&nbsp;</span>columns - country, confirmed, deaths,recovered,active</a></span></li></ul></li><li><span><a href=\"#Data-Set-Name---data_countries_30---30-Most-effected-countries\" data-toc-modified-id=\"Data-Set-Name---data_countries_30---30-Most-effected-countries-3.3.2\"><span class=\"toc-item-num\">3.3.2&nbsp;&nbsp;</span>Data Set Name - data_countries_30 - 30 Most effected countries</a></span><ul class=\"toc-item\"><li><span><a href=\"#columns---country,confirmed,deaths,recovered,active\" data-toc-modified-id=\"columns---country,confirmed,deaths,recovered,active-3.3.2.1\"><span class=\"toc-item-num\">3.3.2.1&nbsp;&nbsp;</span>columns - country,confirmed,deaths,recovered,active</a></span></li></ul></li></ul></li><li><span><a href=\"#Worlwide--Totals\" data-toc-modified-id=\"Worlwide--Totals-3.4\"><span class=\"toc-item-num\">3.4&nbsp;&nbsp;</span>Worlwide  Totals</a></span><ul class=\"toc-item\"><li><span><a href=\"#Data-Set-Name---data_world_table\" data-toc-modified-id=\"Data-Set-Name---data_world_table-3.4.1\"><span class=\"toc-item-num\">3.4.1&nbsp;&nbsp;</span>Data Set Name - data_world_table</a></span><ul class=\"toc-item\"><li><span><a href=\"#columns---description,total\" data-toc-modified-id=\"columns---description,total-3.4.1.1\"><span class=\"toc-item-num\">3.4.1.1&nbsp;&nbsp;</span>columns - description,total</a></span></li></ul></li><li><span><a href=\"#World-wide-cases-and-fatalities---Bar-Chart\" data-toc-modified-id=\"World-wide-cases-and-fatalities---Bar-Chart-3.4.2\"><span class=\"toc-item-num\">3.4.2&nbsp;&nbsp;</span>World wide cases and fatalities - Bar Chart</a></span></li><li><span><a href=\"#World-wide-cases,fatalities-&amp;-New-Cases---sliding-Area-Chart\" data-toc-modified-id=\"World-wide-cases,fatalities-&amp;-New-Cases---sliding-Area-Chart-3.4.3\"><span class=\"toc-item-num\">3.4.3&nbsp;&nbsp;</span>World wide cases,fatalities &amp; New Cases - sliding Area Chart</a></span></li><li><span><a href=\"#World-wide-cases,fatalities-&amp;-New-Cases---Tree-Map\" data-toc-modified-id=\"World-wide-cases,fatalities-&amp;-New-Cases---Tree-Map-3.4.4\"><span class=\"toc-item-num\">3.4.4&nbsp;&nbsp;</span>World wide cases,fatalities &amp; New Cases - Tree Map</a></span></li></ul></li><li><span><a href=\"#Normalized-Infection-and-Fatality-Ratio¶\" data-toc-modified-id=\"Normalized-Infection-and-Fatality-Ratio¶-3.5\"><span class=\"toc-item-num\">3.5&nbsp;&nbsp;</span>Normalized Infection and Fatality Ratio¶</a></span><ul class=\"toc-item\"><li><span><a href=\"#Reading-Population-Data\" data-toc-modified-id=\"Reading-Population-Data-3.5.1\"><span class=\"toc-item-num\">3.5.1&nbsp;&nbsp;</span>Reading Population Data</a></span><ul class=\"toc-item\"><li><span><a href=\"#Cleaning-the-Data\" data-toc-modified-id=\"Cleaning-the-Data-3.5.1.1\"><span class=\"toc-item-num\">3.5.1.1&nbsp;&nbsp;</span>Cleaning the Data</a></span></li></ul></li><li><span><a href=\"#Merging-the-Population-Data-with-the-original-data\" data-toc-modified-id=\"Merging-the-Population-Data-with-the-original-data-3.5.2\"><span class=\"toc-item-num\">3.5.2&nbsp;&nbsp;</span>Merging the Population Data with the original data</a></span></li><li><span><a href=\"#Bar-chart---Infection-Rate-of-the-top-10-least-populated-countries\" data-toc-modified-id=\"Bar-chart---Infection-Rate-of-the-top-10-least-populated-countries-3.5.3\"><span class=\"toc-item-num\">3.5.3&nbsp;&nbsp;</span>Bar chart - Infection Rate of the top 10 least populated countries</a></span></li></ul></li></ul></li></ul></div>"
      ]
    },
    {
      "cell_type": "markdown",
      "metadata": {
        "id": "y7a6DeSzkSwf",
        "colab_type": "text"
      },
      "source": [
        "## Importing the required Libraries"
      ]
    },
    {
      "cell_type": "code",
      "metadata": {
        "id": "b4SPAdyakSwg",
        "colab_type": "code",
        "colab": {}
      },
      "source": [
        "# Import\n",
        "# ======\n",
        "\n",
        "# essential libraries\n",
        "import math\n",
        "import random\n",
        "import datetime\n",
        "from datetime import timedelta\n",
        "\n",
        "# storing and anaysis\n",
        "import numpy as np\n",
        "import pandas as pd\n",
        "\n",
        "# visualization\n",
        "import matplotlib.pyplot as plt\n",
        "import seaborn as sns\n",
        "import plotly.express as px\n",
        "import plotly.graph_objs as go\n",
        "import plotly.figure_factory as ff\n",
        "from plotly.subplots import make_subplots\n",
        "import calmap\n",
        "import folium\n",
        "import datetime as dt\n",
        "from datetime import date\n",
        "import requests\n",
        "import sys\n",
        "from itertools import chain\n",
        "import pycountry\n",
        "import pycountry_convert as pc\n",
        "\n",
        "import plotly.io as pio\n",
        "pio.templates.default = \"plotly_dark\"\n",
        "%matplotlib inline\n",
        "\n",
        "# color pallette\n",
        "cnf, dth, rec, act, grn = '#393e46', '#ff2e63', '#21bf73', '#fe9801','#2ca02c' \n",
        "blu,bro = '#1f77b4','#8c564b'\n",
        "# converter\n",
        "from pandas.plotting import register_matplotlib_converters\n",
        "register_matplotlib_converters()   \n",
        "\n",
        "# hide warnings\n",
        "import warnings\n",
        "warnings.filterwarnings('ignore')"
      ],
      "execution_count": 0,
      "outputs": []
    },
    {
      "cell_type": "markdown",
      "metadata": {
        "id": "DFr8aWEUkSwn",
        "colab_type": "text"
      },
      "source": [
        "## Importing the Data\n",
        "\n",
        "### Data set\n",
        "#### clean_data\n",
        "##### Province,Lat,Long,Date,Confirmed,Deaths,Recovered"
      ]
    },
    {
      "cell_type": "code",
      "metadata": {
        "id": "Rro6q5uukSwo",
        "colab_type": "code",
        "colab": {}
      },
      "source": [
        "clean_data=pd.read_csv('covid_19_clean_complete.csv')"
      ],
      "execution_count": 0,
      "outputs": []
    },
    {
      "cell_type": "markdown",
      "metadata": {
        "id": "6v3h31j8kSwt",
        "colab_type": "text"
      },
      "source": [
        "### Cleaning Data - Data Processing"
      ]
    },
    {
      "cell_type": "code",
      "metadata": {
        "cell_style": "center",
        "id": "6oq8YUHWkSwu",
        "colab_type": "code",
        "colab": {},
        "outputId": "580b55fa-93bb-4b2a-91ca-beec26bb4fab"
      },
      "source": [
        "display(clean_data.shape)\n",
        "display(clean_data.info())\n",
        "display(clean_data.head())\n",
        "display(clean_data.describe())"
      ],
      "execution_count": 0,
      "outputs": [
        {
          "output_type": "display_data",
          "data": {
            "text/plain": [
              "(24104, 8)"
            ]
          },
          "metadata": {
            "tags": []
          }
        },
        {
          "output_type": "stream",
          "text": [
            "<class 'pandas.core.frame.DataFrame'>\n",
            "RangeIndex: 24104 entries, 0 to 24103\n",
            "Data columns (total 8 columns):\n",
            "Province/State    7360 non-null object\n",
            "Country/Region    24104 non-null object\n",
            "Lat               24104 non-null float64\n",
            "Long              24104 non-null float64\n",
            "Date              24104 non-null object\n",
            "Confirmed         24104 non-null int64\n",
            "Deaths            24104 non-null int64\n",
            "Recovered         24104 non-null int64\n",
            "dtypes: float64(2), int64(3), object(3)\n",
            "memory usage: 1.5+ MB\n"
          ],
          "name": "stdout"
        },
        {
          "output_type": "display_data",
          "data": {
            "text/plain": [
              "None"
            ]
          },
          "metadata": {
            "tags": []
          }
        },
        {
          "output_type": "display_data",
          "data": {
            "text/html": [
              "<div>\n",
              "<style scoped>\n",
              "    .dataframe tbody tr th:only-of-type {\n",
              "        vertical-align: middle;\n",
              "    }\n",
              "\n",
              "    .dataframe tbody tr th {\n",
              "        vertical-align: top;\n",
              "    }\n",
              "\n",
              "    .dataframe thead th {\n",
              "        text-align: right;\n",
              "    }\n",
              "</style>\n",
              "<table border=\"1\" class=\"dataframe\">\n",
              "  <thead>\n",
              "    <tr style=\"text-align: right;\">\n",
              "      <th></th>\n",
              "      <th>Province/State</th>\n",
              "      <th>Country/Region</th>\n",
              "      <th>Lat</th>\n",
              "      <th>Long</th>\n",
              "      <th>Date</th>\n",
              "      <th>Confirmed</th>\n",
              "      <th>Deaths</th>\n",
              "      <th>Recovered</th>\n",
              "    </tr>\n",
              "  </thead>\n",
              "  <tbody>\n",
              "    <tr>\n",
              "      <th>0</th>\n",
              "      <td>NaN</td>\n",
              "      <td>Afghanistan</td>\n",
              "      <td>33.0000</td>\n",
              "      <td>65.0000</td>\n",
              "      <td>1/22/20</td>\n",
              "      <td>0</td>\n",
              "      <td>0</td>\n",
              "      <td>0</td>\n",
              "    </tr>\n",
              "    <tr>\n",
              "      <th>1</th>\n",
              "      <td>NaN</td>\n",
              "      <td>Albania</td>\n",
              "      <td>41.1533</td>\n",
              "      <td>20.1683</td>\n",
              "      <td>1/22/20</td>\n",
              "      <td>0</td>\n",
              "      <td>0</td>\n",
              "      <td>0</td>\n",
              "    </tr>\n",
              "    <tr>\n",
              "      <th>2</th>\n",
              "      <td>NaN</td>\n",
              "      <td>Algeria</td>\n",
              "      <td>28.0339</td>\n",
              "      <td>1.6596</td>\n",
              "      <td>1/22/20</td>\n",
              "      <td>0</td>\n",
              "      <td>0</td>\n",
              "      <td>0</td>\n",
              "    </tr>\n",
              "    <tr>\n",
              "      <th>3</th>\n",
              "      <td>NaN</td>\n",
              "      <td>Andorra</td>\n",
              "      <td>42.5063</td>\n",
              "      <td>1.5218</td>\n",
              "      <td>1/22/20</td>\n",
              "      <td>0</td>\n",
              "      <td>0</td>\n",
              "      <td>0</td>\n",
              "    </tr>\n",
              "    <tr>\n",
              "      <th>4</th>\n",
              "      <td>NaN</td>\n",
              "      <td>Angola</td>\n",
              "      <td>-11.2027</td>\n",
              "      <td>17.8739</td>\n",
              "      <td>1/22/20</td>\n",
              "      <td>0</td>\n",
              "      <td>0</td>\n",
              "      <td>0</td>\n",
              "    </tr>\n",
              "  </tbody>\n",
              "</table>\n",
              "</div>"
            ],
            "text/plain": [
              "  Province/State Country/Region      Lat     Long     Date  Confirmed  Deaths  \\\n",
              "0            NaN    Afghanistan  33.0000  65.0000  1/22/20          0       0   \n",
              "1            NaN        Albania  41.1533  20.1683  1/22/20          0       0   \n",
              "2            NaN        Algeria  28.0339   1.6596  1/22/20          0       0   \n",
              "3            NaN        Andorra  42.5063   1.5218  1/22/20          0       0   \n",
              "4            NaN         Angola -11.2027  17.8739  1/22/20          0       0   \n",
              "\n",
              "   Recovered  \n",
              "0          0  \n",
              "1          0  \n",
              "2          0  \n",
              "3          0  \n",
              "4          0  "
            ]
          },
          "metadata": {
            "tags": []
          }
        },
        {
          "output_type": "display_data",
          "data": {
            "text/html": [
              "<div>\n",
              "<style scoped>\n",
              "    .dataframe tbody tr th:only-of-type {\n",
              "        vertical-align: middle;\n",
              "    }\n",
              "\n",
              "    .dataframe tbody tr th {\n",
              "        vertical-align: top;\n",
              "    }\n",
              "\n",
              "    .dataframe thead th {\n",
              "        text-align: right;\n",
              "    }\n",
              "</style>\n",
              "<table border=\"1\" class=\"dataframe\">\n",
              "  <thead>\n",
              "    <tr style=\"text-align: right;\">\n",
              "      <th></th>\n",
              "      <th>Lat</th>\n",
              "      <th>Long</th>\n",
              "      <th>Confirmed</th>\n",
              "      <th>Deaths</th>\n",
              "      <th>Recovered</th>\n",
              "    </tr>\n",
              "  </thead>\n",
              "  <tbody>\n",
              "    <tr>\n",
              "      <th>count</th>\n",
              "      <td>24104.000000</td>\n",
              "      <td>24104.000000</td>\n",
              "      <td>24104.000000</td>\n",
              "      <td>24104.000000</td>\n",
              "      <td>24104.000000</td>\n",
              "    </tr>\n",
              "    <tr>\n",
              "      <th>mean</th>\n",
              "      <td>21.433571</td>\n",
              "      <td>22.597991</td>\n",
              "      <td>2064.253941</td>\n",
              "      <td>121.304389</td>\n",
              "      <td>504.504647</td>\n",
              "    </tr>\n",
              "    <tr>\n",
              "      <th>std</th>\n",
              "      <td>24.740933</td>\n",
              "      <td>70.570960</td>\n",
              "      <td>20166.993881</td>\n",
              "      <td>1308.820006</td>\n",
              "      <td>4525.386285</td>\n",
              "    </tr>\n",
              "    <tr>\n",
              "      <th>min</th>\n",
              "      <td>-51.796300</td>\n",
              "      <td>-135.000000</td>\n",
              "      <td>-1.000000</td>\n",
              "      <td>-1.000000</td>\n",
              "      <td>0.000000</td>\n",
              "    </tr>\n",
              "    <tr>\n",
              "      <th>25%</th>\n",
              "      <td>7.000000</td>\n",
              "      <td>-19.020800</td>\n",
              "      <td>0.000000</td>\n",
              "      <td>0.000000</td>\n",
              "      <td>0.000000</td>\n",
              "    </tr>\n",
              "    <tr>\n",
              "      <th>50%</th>\n",
              "      <td>23.659750</td>\n",
              "      <td>20.921188</td>\n",
              "      <td>4.000000</td>\n",
              "      <td>0.000000</td>\n",
              "      <td>0.000000</td>\n",
              "    </tr>\n",
              "    <tr>\n",
              "      <th>75%</th>\n",
              "      <td>41.204400</td>\n",
              "      <td>81.000000</td>\n",
              "      <td>155.000000</td>\n",
              "      <td>2.000000</td>\n",
              "      <td>12.000000</td>\n",
              "    </tr>\n",
              "    <tr>\n",
              "      <th>max</th>\n",
              "      <td>71.706900</td>\n",
              "      <td>178.065000</td>\n",
              "      <td>839675.000000</td>\n",
              "      <td>46583.000000</td>\n",
              "      <td>99400.000000</td>\n",
              "    </tr>\n",
              "  </tbody>\n",
              "</table>\n",
              "</div>"
            ],
            "text/plain": [
              "                Lat          Long      Confirmed        Deaths     Recovered\n",
              "count  24104.000000  24104.000000   24104.000000  24104.000000  24104.000000\n",
              "mean      21.433571     22.597991    2064.253941    121.304389    504.504647\n",
              "std       24.740933     70.570960   20166.993881   1308.820006   4525.386285\n",
              "min      -51.796300   -135.000000      -1.000000     -1.000000      0.000000\n",
              "25%        7.000000    -19.020800       0.000000      0.000000      0.000000\n",
              "50%       23.659750     20.921188       4.000000      0.000000      0.000000\n",
              "75%       41.204400     81.000000     155.000000      2.000000     12.000000\n",
              "max       71.706900    178.065000  839675.000000  46583.000000  99400.000000"
            ]
          },
          "metadata": {
            "tags": []
          }
        }
      ]
    },
    {
      "cell_type": "code",
      "metadata": {
        "id": "0zunW4YMkSw1",
        "colab_type": "code",
        "colab": {}
      },
      "source": [
        "clean_data.rename(columns={'Date': 'date', \n",
        "                     'Province/State':'state',\n",
        "                     'Country/Region':'country',\n",
        "                     'Lat':'lat','Long':'long',\n",
        "                     'Confirmed': 'confirmed',\n",
        "                     'Deaths':'deaths',\n",
        "                     'Recovered':'recovered'\n",
        "                    }, inplace=True)\n",
        "# cases \n",
        "cases = ['confirmed', 'deaths', 'recovered', 'active']\n",
        "# Active Case = confirmed - deaths - recovered\n",
        "clean_data['active'] = clean_data['confirmed'] - clean_data['deaths'] - clean_data['recovered']"
      ],
      "execution_count": 0,
      "outputs": []
    },
    {
      "cell_type": "code",
      "metadata": {
        "scrolled": true,
        "id": "KjbqssODkSw8",
        "colab_type": "code",
        "colab": {},
        "outputId": "efaaa061-5edf-44df-9cfd-2d6edbb24510"
      },
      "source": [
        "clean_data"
      ],
      "execution_count": 0,
      "outputs": [
        {
          "output_type": "execute_result",
          "data": {
            "text/html": [
              "<div>\n",
              "<style scoped>\n",
              "    .dataframe tbody tr th:only-of-type {\n",
              "        vertical-align: middle;\n",
              "    }\n",
              "\n",
              "    .dataframe tbody tr th {\n",
              "        vertical-align: top;\n",
              "    }\n",
              "\n",
              "    .dataframe thead th {\n",
              "        text-align: right;\n",
              "    }\n",
              "</style>\n",
              "<table border=\"1\" class=\"dataframe\">\n",
              "  <thead>\n",
              "    <tr style=\"text-align: right;\">\n",
              "      <th></th>\n",
              "      <th>state</th>\n",
              "      <th>country</th>\n",
              "      <th>lat</th>\n",
              "      <th>long</th>\n",
              "      <th>date</th>\n",
              "      <th>confirmed</th>\n",
              "      <th>deaths</th>\n",
              "      <th>recovered</th>\n",
              "      <th>active</th>\n",
              "    </tr>\n",
              "  </thead>\n",
              "  <tbody>\n",
              "    <tr>\n",
              "      <th>0</th>\n",
              "      <td>NaN</td>\n",
              "      <td>Afghanistan</td>\n",
              "      <td>33.000000</td>\n",
              "      <td>65.000000</td>\n",
              "      <td>1/22/20</td>\n",
              "      <td>0</td>\n",
              "      <td>0</td>\n",
              "      <td>0</td>\n",
              "      <td>0</td>\n",
              "    </tr>\n",
              "    <tr>\n",
              "      <th>1</th>\n",
              "      <td>NaN</td>\n",
              "      <td>Albania</td>\n",
              "      <td>41.153300</td>\n",
              "      <td>20.168300</td>\n",
              "      <td>1/22/20</td>\n",
              "      <td>0</td>\n",
              "      <td>0</td>\n",
              "      <td>0</td>\n",
              "      <td>0</td>\n",
              "    </tr>\n",
              "    <tr>\n",
              "      <th>2</th>\n",
              "      <td>NaN</td>\n",
              "      <td>Algeria</td>\n",
              "      <td>28.033900</td>\n",
              "      <td>1.659600</td>\n",
              "      <td>1/22/20</td>\n",
              "      <td>0</td>\n",
              "      <td>0</td>\n",
              "      <td>0</td>\n",
              "      <td>0</td>\n",
              "    </tr>\n",
              "    <tr>\n",
              "      <th>3</th>\n",
              "      <td>NaN</td>\n",
              "      <td>Andorra</td>\n",
              "      <td>42.506300</td>\n",
              "      <td>1.521800</td>\n",
              "      <td>1/22/20</td>\n",
              "      <td>0</td>\n",
              "      <td>0</td>\n",
              "      <td>0</td>\n",
              "      <td>0</td>\n",
              "    </tr>\n",
              "    <tr>\n",
              "      <th>4</th>\n",
              "      <td>NaN</td>\n",
              "      <td>Angola</td>\n",
              "      <td>-11.202700</td>\n",
              "      <td>17.873900</td>\n",
              "      <td>1/22/20</td>\n",
              "      <td>0</td>\n",
              "      <td>0</td>\n",
              "      <td>0</td>\n",
              "      <td>0</td>\n",
              "    </tr>\n",
              "    <tr>\n",
              "      <th>...</th>\n",
              "      <td>...</td>\n",
              "      <td>...</td>\n",
              "      <td>...</td>\n",
              "      <td>...</td>\n",
              "      <td>...</td>\n",
              "      <td>...</td>\n",
              "      <td>...</td>\n",
              "      <td>...</td>\n",
              "      <td>...</td>\n",
              "    </tr>\n",
              "    <tr>\n",
              "      <th>24099</th>\n",
              "      <td>Saint Pierre and Miquelon</td>\n",
              "      <td>France</td>\n",
              "      <td>46.885200</td>\n",
              "      <td>-56.315900</td>\n",
              "      <td>4/22/20</td>\n",
              "      <td>1</td>\n",
              "      <td>0</td>\n",
              "      <td>0</td>\n",
              "      <td>1</td>\n",
              "    </tr>\n",
              "    <tr>\n",
              "      <th>24100</th>\n",
              "      <td>NaN</td>\n",
              "      <td>South Sudan</td>\n",
              "      <td>6.877000</td>\n",
              "      <td>31.307000</td>\n",
              "      <td>4/22/20</td>\n",
              "      <td>4</td>\n",
              "      <td>0</td>\n",
              "      <td>0</td>\n",
              "      <td>4</td>\n",
              "    </tr>\n",
              "    <tr>\n",
              "      <th>24101</th>\n",
              "      <td>NaN</td>\n",
              "      <td>Western Sahara</td>\n",
              "      <td>24.215500</td>\n",
              "      <td>-12.885800</td>\n",
              "      <td>4/22/20</td>\n",
              "      <td>6</td>\n",
              "      <td>0</td>\n",
              "      <td>0</td>\n",
              "      <td>6</td>\n",
              "    </tr>\n",
              "    <tr>\n",
              "      <th>24102</th>\n",
              "      <td>NaN</td>\n",
              "      <td>Sao Tome and Principe</td>\n",
              "      <td>0.186360</td>\n",
              "      <td>6.613081</td>\n",
              "      <td>4/22/20</td>\n",
              "      <td>4</td>\n",
              "      <td>0</td>\n",
              "      <td>0</td>\n",
              "      <td>4</td>\n",
              "    </tr>\n",
              "    <tr>\n",
              "      <th>24103</th>\n",
              "      <td>NaN</td>\n",
              "      <td>Yemen</td>\n",
              "      <td>15.552727</td>\n",
              "      <td>48.516388</td>\n",
              "      <td>4/22/20</td>\n",
              "      <td>1</td>\n",
              "      <td>0</td>\n",
              "      <td>0</td>\n",
              "      <td>1</td>\n",
              "    </tr>\n",
              "  </tbody>\n",
              "</table>\n",
              "<p>24104 rows × 9 columns</p>\n",
              "</div>"
            ],
            "text/plain": [
              "                           state                country        lat       long  \\\n",
              "0                            NaN            Afghanistan  33.000000  65.000000   \n",
              "1                            NaN                Albania  41.153300  20.168300   \n",
              "2                            NaN                Algeria  28.033900   1.659600   \n",
              "3                            NaN                Andorra  42.506300   1.521800   \n",
              "4                            NaN                 Angola -11.202700  17.873900   \n",
              "...                          ...                    ...        ...        ...   \n",
              "24099  Saint Pierre and Miquelon                 France  46.885200 -56.315900   \n",
              "24100                        NaN            South Sudan   6.877000  31.307000   \n",
              "24101                        NaN         Western Sahara  24.215500 -12.885800   \n",
              "24102                        NaN  Sao Tome and Principe   0.186360   6.613081   \n",
              "24103                        NaN                  Yemen  15.552727  48.516388   \n",
              "\n",
              "          date  confirmed  deaths  recovered  active  \n",
              "0      1/22/20          0       0          0       0  \n",
              "1      1/22/20          0       0          0       0  \n",
              "2      1/22/20          0       0          0       0  \n",
              "3      1/22/20          0       0          0       0  \n",
              "4      1/22/20          0       0          0       0  \n",
              "...        ...        ...     ...        ...     ...  \n",
              "24099  4/22/20          1       0          0       1  \n",
              "24100  4/22/20          4       0          0       4  \n",
              "24101  4/22/20          6       0          0       6  \n",
              "24102  4/22/20          4       0          0       4  \n",
              "24103  4/22/20          1       0          0       1  \n",
              "\n",
              "[24104 rows x 9 columns]"
            ]
          },
          "metadata": {
            "tags": []
          },
          "execution_count": 57
        }
      ]
    },
    {
      "cell_type": "markdown",
      "metadata": {
        "id": "ccYVRek5kSxB",
        "colab_type": "text"
      },
      "source": [
        "#### Date Formatting"
      ]
    },
    {
      "cell_type": "code",
      "metadata": {
        "id": "4XrakMT8kSxC",
        "colab_type": "code",
        "colab": {},
        "outputId": "da67c86a-060e-4064-9aef-2de724973d10"
      },
      "source": [
        "clean_data['date'] = pd.to_datetime(clean_data['date'])\n",
        "today = date.today()\n",
        "yesterday = today-datetime.timedelta(days=1)\n",
        "tomorrow = today+datetime.timedelta(days=1)\n",
        "max_date = clean_data['date'].max()\n",
        "print(\"Today's Date is \",today)\n",
        "print(\"yesterday's Date is \",yesterday)\n",
        "print(\"Tomorrow's Date is \",tomorrow)\n",
        "print(\"latest record date\",max_date)"
      ],
      "execution_count": 0,
      "outputs": [
        {
          "output_type": "stream",
          "text": [
            "Today's Date is  2020-04-23\n",
            "yesterday's Date is  2020-04-22\n",
            "Tomorrow's Date is  2020-04-24\n",
            "latest record date 2020-04-22 00:00:00\n"
          ],
          "name": "stdout"
        }
      ]
    },
    {
      "cell_type": "markdown",
      "metadata": {
        "id": "krkLgsk3kSxI",
        "colab_type": "text"
      },
      "source": [
        "#### Checking whether data is updated"
      ]
    },
    {
      "cell_type": "code",
      "metadata": {
        "id": "KNUo2lDnkSxJ",
        "colab_type": "code",
        "colab": {},
        "outputId": "8826d433-fb45-4cf5-96ac-ed627b141213"
      },
      "source": [
        "# Check if the data is updated\n",
        "print(\"External Data\")\n",
        "print(f\"Earliest Entry: {clean_data['date'].min()}\")\n",
        "print(f\"Last Entry:     {clean_data['date'].max()}\")\n",
        "print(f\"Total Days:     {clean_data['date'].max() - clean_data['date'].min()}\")"
      ],
      "execution_count": 0,
      "outputs": [
        {
          "output_type": "stream",
          "text": [
            "External Data\n",
            "Earliest Entry: 2020-01-22 00:00:00\n",
            "Last Entry:     2020-04-22 00:00:00\n",
            "Total Days:     91 days 00:00:00\n"
          ],
          "name": "stdout"
        }
      ]
    },
    {
      "cell_type": "markdown",
      "metadata": {
        "id": "EiG4EIakkSxO",
        "colab_type": "text"
      },
      "source": [
        "#### Cheking for missing values and taking care of them"
      ]
    },
    {
      "cell_type": "code",
      "metadata": {
        "id": "VYgeMr2akSxO",
        "colab_type": "code",
        "colab": {},
        "outputId": "5c24838f-28b5-405a-ca5e-febb187dfd36"
      },
      "source": [
        "#Missing Values\n",
        "clean_data.isnull().sum().to_frame('nulls')"
      ],
      "execution_count": 0,
      "outputs": [
        {
          "output_type": "execute_result",
          "data": {
            "text/html": [
              "<div>\n",
              "<style scoped>\n",
              "    .dataframe tbody tr th:only-of-type {\n",
              "        vertical-align: middle;\n",
              "    }\n",
              "\n",
              "    .dataframe tbody tr th {\n",
              "        vertical-align: top;\n",
              "    }\n",
              "\n",
              "    .dataframe thead th {\n",
              "        text-align: right;\n",
              "    }\n",
              "</style>\n",
              "<table border=\"1\" class=\"dataframe\">\n",
              "  <thead>\n",
              "    <tr style=\"text-align: right;\">\n",
              "      <th></th>\n",
              "      <th>nulls</th>\n",
              "    </tr>\n",
              "  </thead>\n",
              "  <tbody>\n",
              "    <tr>\n",
              "      <th>state</th>\n",
              "      <td>16744</td>\n",
              "    </tr>\n",
              "    <tr>\n",
              "      <th>country</th>\n",
              "      <td>0</td>\n",
              "    </tr>\n",
              "    <tr>\n",
              "      <th>lat</th>\n",
              "      <td>0</td>\n",
              "    </tr>\n",
              "    <tr>\n",
              "      <th>long</th>\n",
              "      <td>0</td>\n",
              "    </tr>\n",
              "    <tr>\n",
              "      <th>date</th>\n",
              "      <td>0</td>\n",
              "    </tr>\n",
              "    <tr>\n",
              "      <th>confirmed</th>\n",
              "      <td>0</td>\n",
              "    </tr>\n",
              "    <tr>\n",
              "      <th>deaths</th>\n",
              "      <td>0</td>\n",
              "    </tr>\n",
              "    <tr>\n",
              "      <th>recovered</th>\n",
              "      <td>0</td>\n",
              "    </tr>\n",
              "    <tr>\n",
              "      <th>active</th>\n",
              "      <td>0</td>\n",
              "    </tr>\n",
              "  </tbody>\n",
              "</table>\n",
              "</div>"
            ],
            "text/plain": [
              "           nulls\n",
              "state      16744\n",
              "country        0\n",
              "lat            0\n",
              "long           0\n",
              "date           0\n",
              "confirmed      0\n",
              "deaths         0\n",
              "recovered      0\n",
              "active         0"
            ]
          },
          "metadata": {
            "tags": []
          },
          "execution_count": 60
        }
      ]
    },
    {
      "cell_type": "code",
      "metadata": {
        "id": "O9bVhlpykSxT",
        "colab_type": "code",
        "colab": {}
      },
      "source": [
        "clean_data[['state']] = clean_data[['state']].fillna('')\n",
        "clean_data[cases] = clean_data[cases].fillna(0)"
      ],
      "execution_count": 0,
      "outputs": []
    },
    {
      "cell_type": "code",
      "metadata": {
        "id": "EVZpOIyUkSxX",
        "colab_type": "code",
        "colab": {},
        "outputId": "dca6e792-a2a3-441d-d8c6-b88729c13556"
      },
      "source": [
        "clean_data.isnull().sum().to_frame('nulls')"
      ],
      "execution_count": 0,
      "outputs": [
        {
          "output_type": "execute_result",
          "data": {
            "text/html": [
              "<div>\n",
              "<style scoped>\n",
              "    .dataframe tbody tr th:only-of-type {\n",
              "        vertical-align: middle;\n",
              "    }\n",
              "\n",
              "    .dataframe tbody tr th {\n",
              "        vertical-align: top;\n",
              "    }\n",
              "\n",
              "    .dataframe thead th {\n",
              "        text-align: right;\n",
              "    }\n",
              "</style>\n",
              "<table border=\"1\" class=\"dataframe\">\n",
              "  <thead>\n",
              "    <tr style=\"text-align: right;\">\n",
              "      <th></th>\n",
              "      <th>nulls</th>\n",
              "    </tr>\n",
              "  </thead>\n",
              "  <tbody>\n",
              "    <tr>\n",
              "      <th>state</th>\n",
              "      <td>0</td>\n",
              "    </tr>\n",
              "    <tr>\n",
              "      <th>country</th>\n",
              "      <td>0</td>\n",
              "    </tr>\n",
              "    <tr>\n",
              "      <th>lat</th>\n",
              "      <td>0</td>\n",
              "    </tr>\n",
              "    <tr>\n",
              "      <th>long</th>\n",
              "      <td>0</td>\n",
              "    </tr>\n",
              "    <tr>\n",
              "      <th>date</th>\n",
              "      <td>0</td>\n",
              "    </tr>\n",
              "    <tr>\n",
              "      <th>confirmed</th>\n",
              "      <td>0</td>\n",
              "    </tr>\n",
              "    <tr>\n",
              "      <th>deaths</th>\n",
              "      <td>0</td>\n",
              "    </tr>\n",
              "    <tr>\n",
              "      <th>recovered</th>\n",
              "      <td>0</td>\n",
              "    </tr>\n",
              "    <tr>\n",
              "      <th>active</th>\n",
              "      <td>0</td>\n",
              "    </tr>\n",
              "  </tbody>\n",
              "</table>\n",
              "</div>"
            ],
            "text/plain": [
              "           nulls\n",
              "state          0\n",
              "country        0\n",
              "lat            0\n",
              "long           0\n",
              "date           0\n",
              "confirmed      0\n",
              "deaths         0\n",
              "recovered      0\n",
              "active         0"
            ]
          },
          "metadata": {
            "tags": []
          },
          "execution_count": 62
        }
      ]
    },
    {
      "cell_type": "markdown",
      "metadata": {
        "id": "Eh6qMNJtkSxd",
        "colab_type": "text"
      },
      "source": [
        "#### clean_data - Data Types"
      ]
    },
    {
      "cell_type": "code",
      "metadata": {
        "scrolled": true,
        "id": "tjqp7exykSxf",
        "colab_type": "code",
        "colab": {},
        "outputId": "11b6dd1a-667e-41b8-8074-65892b50e49f"
      },
      "source": [
        "clean_data.dtypes"
      ],
      "execution_count": 0,
      "outputs": [
        {
          "output_type": "execute_result",
          "data": {
            "text/plain": [
              "state                object\n",
              "country              object\n",
              "lat                 float64\n",
              "long                float64\n",
              "date         datetime64[ns]\n",
              "confirmed             int64\n",
              "deaths                int64\n",
              "recovered             int64\n",
              "active                int64\n",
              "dtype: object"
            ]
          },
          "metadata": {
            "tags": []
          },
          "execution_count": 63
        }
      ]
    },
    {
      "cell_type": "markdown",
      "metadata": {
        "id": "RaDwbD_rkSxk",
        "colab_type": "text"
      },
      "source": [
        "#### Filtering problemating Data"
      ]
    },
    {
      "cell_type": "code",
      "metadata": {
        "id": "zwqvfWsykSxk",
        "colab_type": "code",
        "colab": {}
      },
      "source": [
        "# Filter out problematic data points (The Diamond Princess, cruise ships were associated with Canada)\n",
        "removed_state = \"Diamond Princess\"\n",
        "removed_country = \"Diamond Princess\"\n",
        "\n",
        "clean_data = clean_data[~clean_data[\"state\"].replace(np.nan, \"nan\").str.match(removed_state)]\n",
        "clean_data = clean_data[~clean_data[\"country\"].replace(np.nan, \"nan\").str.match(removed_country)]\n"
      ],
      "execution_count": 0,
      "outputs": []
    },
    {
      "cell_type": "code",
      "metadata": {
        "id": "Y1tS2icQkSxo",
        "colab_type": "code",
        "colab": {}
      },
      "source": [
        "# dealing with negative values in active cases (Min in active is -6), this shows that any of the confirmed or deaths or \n",
        "# recovered are having negative values \n",
        "num1 = clean_data['confirmed']._get_numeric_data()\n",
        "num1[num1 < 0] = 0"
      ],
      "execution_count": 0,
      "outputs": []
    },
    {
      "cell_type": "code",
      "metadata": {
        "id": "jk4U2Zg4kSxs",
        "colab_type": "code",
        "colab": {},
        "outputId": "c145fd8a-c339-4705-aa14-c13d08e8c94e"
      },
      "source": [
        "display(clean_data.shape)\n",
        "display(clean_data.info())\n",
        "display(clean_data.head())\n",
        "display(clean_data.describe())"
      ],
      "execution_count": 0,
      "outputs": [
        {
          "output_type": "display_data",
          "data": {
            "text/plain": [
              "(23920, 9)"
            ]
          },
          "metadata": {
            "tags": []
          }
        },
        {
          "output_type": "stream",
          "text": [
            "<class 'pandas.core.frame.DataFrame'>\n",
            "Int64Index: 23920 entries, 0 to 24103\n",
            "Data columns (total 9 columns):\n",
            "state        23920 non-null object\n",
            "country      23920 non-null object\n",
            "lat          23920 non-null float64\n",
            "long         23920 non-null float64\n",
            "date         23920 non-null datetime64[ns]\n",
            "confirmed    23920 non-null int64\n",
            "deaths       23920 non-null int64\n",
            "recovered    23920 non-null int64\n",
            "active       23920 non-null int64\n",
            "dtypes: datetime64[ns](1), float64(2), int64(4), object(2)\n",
            "memory usage: 1.8+ MB\n"
          ],
          "name": "stdout"
        },
        {
          "output_type": "display_data",
          "data": {
            "text/plain": [
              "None"
            ]
          },
          "metadata": {
            "tags": []
          }
        },
        {
          "output_type": "display_data",
          "data": {
            "text/html": [
              "<div>\n",
              "<style scoped>\n",
              "    .dataframe tbody tr th:only-of-type {\n",
              "        vertical-align: middle;\n",
              "    }\n",
              "\n",
              "    .dataframe tbody tr th {\n",
              "        vertical-align: top;\n",
              "    }\n",
              "\n",
              "    .dataframe thead th {\n",
              "        text-align: right;\n",
              "    }\n",
              "</style>\n",
              "<table border=\"1\" class=\"dataframe\">\n",
              "  <thead>\n",
              "    <tr style=\"text-align: right;\">\n",
              "      <th></th>\n",
              "      <th>state</th>\n",
              "      <th>country</th>\n",
              "      <th>lat</th>\n",
              "      <th>long</th>\n",
              "      <th>date</th>\n",
              "      <th>confirmed</th>\n",
              "      <th>deaths</th>\n",
              "      <th>recovered</th>\n",
              "      <th>active</th>\n",
              "    </tr>\n",
              "  </thead>\n",
              "  <tbody>\n",
              "    <tr>\n",
              "      <th>0</th>\n",
              "      <td></td>\n",
              "      <td>Afghanistan</td>\n",
              "      <td>33.0000</td>\n",
              "      <td>65.0000</td>\n",
              "      <td>2020-01-22</td>\n",
              "      <td>0</td>\n",
              "      <td>0</td>\n",
              "      <td>0</td>\n",
              "      <td>0</td>\n",
              "    </tr>\n",
              "    <tr>\n",
              "      <th>1</th>\n",
              "      <td></td>\n",
              "      <td>Albania</td>\n",
              "      <td>41.1533</td>\n",
              "      <td>20.1683</td>\n",
              "      <td>2020-01-22</td>\n",
              "      <td>0</td>\n",
              "      <td>0</td>\n",
              "      <td>0</td>\n",
              "      <td>0</td>\n",
              "    </tr>\n",
              "    <tr>\n",
              "      <th>2</th>\n",
              "      <td></td>\n",
              "      <td>Algeria</td>\n",
              "      <td>28.0339</td>\n",
              "      <td>1.6596</td>\n",
              "      <td>2020-01-22</td>\n",
              "      <td>0</td>\n",
              "      <td>0</td>\n",
              "      <td>0</td>\n",
              "      <td>0</td>\n",
              "    </tr>\n",
              "    <tr>\n",
              "      <th>3</th>\n",
              "      <td></td>\n",
              "      <td>Andorra</td>\n",
              "      <td>42.5063</td>\n",
              "      <td>1.5218</td>\n",
              "      <td>2020-01-22</td>\n",
              "      <td>0</td>\n",
              "      <td>0</td>\n",
              "      <td>0</td>\n",
              "      <td>0</td>\n",
              "    </tr>\n",
              "    <tr>\n",
              "      <th>4</th>\n",
              "      <td></td>\n",
              "      <td>Angola</td>\n",
              "      <td>-11.2027</td>\n",
              "      <td>17.8739</td>\n",
              "      <td>2020-01-22</td>\n",
              "      <td>0</td>\n",
              "      <td>0</td>\n",
              "      <td>0</td>\n",
              "      <td>0</td>\n",
              "    </tr>\n",
              "  </tbody>\n",
              "</table>\n",
              "</div>"
            ],
            "text/plain": [
              "  state      country      lat     long       date  confirmed  deaths  \\\n",
              "0        Afghanistan  33.0000  65.0000 2020-01-22          0       0   \n",
              "1            Albania  41.1533  20.1683 2020-01-22          0       0   \n",
              "2            Algeria  28.0339   1.6596 2020-01-22          0       0   \n",
              "3            Andorra  42.5063   1.5218 2020-01-22          0       0   \n",
              "4             Angola -11.2027  17.8739 2020-01-22          0       0   \n",
              "\n",
              "   recovered  active  \n",
              "0          0       0  \n",
              "1          0       0  \n",
              "2          0       0  \n",
              "3          0       0  \n",
              "4          0       0  "
            ]
          },
          "metadata": {
            "tags": []
          }
        },
        {
          "output_type": "display_data",
          "data": {
            "text/html": [
              "<div>\n",
              "<style scoped>\n",
              "    .dataframe tbody tr th:only-of-type {\n",
              "        vertical-align: middle;\n",
              "    }\n",
              "\n",
              "    .dataframe tbody tr th {\n",
              "        vertical-align: top;\n",
              "    }\n",
              "\n",
              "    .dataframe thead th {\n",
              "        text-align: right;\n",
              "    }\n",
              "</style>\n",
              "<table border=\"1\" class=\"dataframe\">\n",
              "  <thead>\n",
              "    <tr style=\"text-align: right;\">\n",
              "      <th></th>\n",
              "      <th>lat</th>\n",
              "      <th>long</th>\n",
              "      <th>confirmed</th>\n",
              "      <th>deaths</th>\n",
              "      <th>recovered</th>\n",
              "      <th>active</th>\n",
              "    </tr>\n",
              "  </thead>\n",
              "  <tbody>\n",
              "    <tr>\n",
              "      <th>count</th>\n",
              "      <td>23920.000000</td>\n",
              "      <td>23920.000000</td>\n",
              "      <td>23920.000000</td>\n",
              "      <td>23920.000000</td>\n",
              "      <td>23920.000000</td>\n",
              "      <td>23920.000000</td>\n",
              "    </tr>\n",
              "    <tr>\n",
              "      <th>mean</th>\n",
              "      <td>21.598445</td>\n",
              "      <td>22.771822</td>\n",
              "      <td>2078.138838</td>\n",
              "      <td>122.215008</td>\n",
              "      <td>507.430268</td>\n",
              "      <td>1448.493520</td>\n",
              "    </tr>\n",
              "    <tr>\n",
              "      <th>std</th>\n",
              "      <td>24.764115</td>\n",
              "      <td>70.813933</td>\n",
              "      <td>20243.769186</td>\n",
              "      <td>1313.803098</td>\n",
              "      <td>4542.590314</td>\n",
              "      <td>16473.372927</td>\n",
              "    </tr>\n",
              "    <tr>\n",
              "      <th>min</th>\n",
              "      <td>-51.796300</td>\n",
              "      <td>-135.000000</td>\n",
              "      <td>0.000000</td>\n",
              "      <td>-1.000000</td>\n",
              "      <td>0.000000</td>\n",
              "      <td>-6.000000</td>\n",
              "    </tr>\n",
              "    <tr>\n",
              "      <th>25%</th>\n",
              "      <td>7.844875</td>\n",
              "      <td>-20.026050</td>\n",
              "      <td>0.000000</td>\n",
              "      <td>0.000000</td>\n",
              "      <td>0.000000</td>\n",
              "      <td>0.000000</td>\n",
              "    </tr>\n",
              "    <tr>\n",
              "      <th>50%</th>\n",
              "      <td>23.692500</td>\n",
              "      <td>20.972650</td>\n",
              "      <td>4.000000</td>\n",
              "      <td>0.000000</td>\n",
              "      <td>0.000000</td>\n",
              "      <td>2.000000</td>\n",
              "    </tr>\n",
              "    <tr>\n",
              "      <th>75%</th>\n",
              "      <td>41.227200</td>\n",
              "      <td>81.812500</td>\n",
              "      <td>151.000000</td>\n",
              "      <td>2.000000</td>\n",
              "      <td>12.000000</td>\n",
              "      <td>75.000000</td>\n",
              "    </tr>\n",
              "    <tr>\n",
              "      <th>max</th>\n",
              "      <td>71.706900</td>\n",
              "      <td>178.065000</td>\n",
              "      <td>839675.000000</td>\n",
              "      <td>46583.000000</td>\n",
              "      <td>99400.000000</td>\n",
              "      <td>715726.000000</td>\n",
              "    </tr>\n",
              "  </tbody>\n",
              "</table>\n",
              "</div>"
            ],
            "text/plain": [
              "                lat          long      confirmed        deaths     recovered  \\\n",
              "count  23920.000000  23920.000000   23920.000000  23920.000000  23920.000000   \n",
              "mean      21.598445     22.771822    2078.138838    122.215008    507.430268   \n",
              "std       24.764115     70.813933   20243.769186   1313.803098   4542.590314   \n",
              "min      -51.796300   -135.000000       0.000000     -1.000000      0.000000   \n",
              "25%        7.844875    -20.026050       0.000000      0.000000      0.000000   \n",
              "50%       23.692500     20.972650       4.000000      0.000000      0.000000   \n",
              "75%       41.227200     81.812500     151.000000      2.000000     12.000000   \n",
              "max       71.706900    178.065000  839675.000000  46583.000000  99400.000000   \n",
              "\n",
              "              active  \n",
              "count   23920.000000  \n",
              "mean     1448.493520  \n",
              "std     16473.372927  \n",
              "min        -6.000000  \n",
              "25%         0.000000  \n",
              "50%         2.000000  \n",
              "75%        75.000000  \n",
              "max    715726.000000  "
            ]
          },
          "metadata": {
            "tags": []
          }
        }
      ]
    },
    {
      "cell_type": "code",
      "metadata": {
        "id": "HDio6CfHkSxx",
        "colab_type": "code",
        "colab": {}
      },
      "source": [
        "# dealing with negative values in active cases (Min in active is -6), this shows that any of the confirmed or deaths or \n",
        "# recovered are having negative values \n",
        "num2 = clean_data['deaths']._get_numeric_data()\n",
        "num2[num2 < 0] = 0"
      ],
      "execution_count": 0,
      "outputs": []
    },
    {
      "cell_type": "code",
      "metadata": {
        "id": "tABRk4bUkSx1",
        "colab_type": "code",
        "colab": {},
        "outputId": "e6ee8f0a-96e4-4c50-801b-d63b63a67b25"
      },
      "source": [
        "display(clean_data.info())\n",
        "display(clean_data.describe())"
      ],
      "execution_count": 0,
      "outputs": [
        {
          "output_type": "stream",
          "text": [
            "<class 'pandas.core.frame.DataFrame'>\n",
            "Int64Index: 23920 entries, 0 to 24103\n",
            "Data columns (total 9 columns):\n",
            "state        23920 non-null object\n",
            "country      23920 non-null object\n",
            "lat          23920 non-null float64\n",
            "long         23920 non-null float64\n",
            "date         23920 non-null datetime64[ns]\n",
            "confirmed    23920 non-null int64\n",
            "deaths       23920 non-null int64\n",
            "recovered    23920 non-null int64\n",
            "active       23920 non-null int64\n",
            "dtypes: datetime64[ns](1), float64(2), int64(4), object(2)\n",
            "memory usage: 1.8+ MB\n"
          ],
          "name": "stdout"
        },
        {
          "output_type": "display_data",
          "data": {
            "text/plain": [
              "None"
            ]
          },
          "metadata": {
            "tags": []
          }
        },
        {
          "output_type": "display_data",
          "data": {
            "text/html": [
              "<div>\n",
              "<style scoped>\n",
              "    .dataframe tbody tr th:only-of-type {\n",
              "        vertical-align: middle;\n",
              "    }\n",
              "\n",
              "    .dataframe tbody tr th {\n",
              "        vertical-align: top;\n",
              "    }\n",
              "\n",
              "    .dataframe thead th {\n",
              "        text-align: right;\n",
              "    }\n",
              "</style>\n",
              "<table border=\"1\" class=\"dataframe\">\n",
              "  <thead>\n",
              "    <tr style=\"text-align: right;\">\n",
              "      <th></th>\n",
              "      <th>lat</th>\n",
              "      <th>long</th>\n",
              "      <th>confirmed</th>\n",
              "      <th>deaths</th>\n",
              "      <th>recovered</th>\n",
              "      <th>active</th>\n",
              "    </tr>\n",
              "  </thead>\n",
              "  <tbody>\n",
              "    <tr>\n",
              "      <th>count</th>\n",
              "      <td>23920.000000</td>\n",
              "      <td>23920.000000</td>\n",
              "      <td>23920.000000</td>\n",
              "      <td>23920.000000</td>\n",
              "      <td>23920.000000</td>\n",
              "      <td>23920.000000</td>\n",
              "    </tr>\n",
              "    <tr>\n",
              "      <th>mean</th>\n",
              "      <td>21.598445</td>\n",
              "      <td>22.771822</td>\n",
              "      <td>2078.138838</td>\n",
              "      <td>122.215050</td>\n",
              "      <td>507.430268</td>\n",
              "      <td>1448.493520</td>\n",
              "    </tr>\n",
              "    <tr>\n",
              "      <th>std</th>\n",
              "      <td>24.764115</td>\n",
              "      <td>70.813933</td>\n",
              "      <td>20243.769186</td>\n",
              "      <td>1313.803094</td>\n",
              "      <td>4542.590314</td>\n",
              "      <td>16473.372927</td>\n",
              "    </tr>\n",
              "    <tr>\n",
              "      <th>min</th>\n",
              "      <td>-51.796300</td>\n",
              "      <td>-135.000000</td>\n",
              "      <td>0.000000</td>\n",
              "      <td>0.000000</td>\n",
              "      <td>0.000000</td>\n",
              "      <td>-6.000000</td>\n",
              "    </tr>\n",
              "    <tr>\n",
              "      <th>25%</th>\n",
              "      <td>7.844875</td>\n",
              "      <td>-20.026050</td>\n",
              "      <td>0.000000</td>\n",
              "      <td>0.000000</td>\n",
              "      <td>0.000000</td>\n",
              "      <td>0.000000</td>\n",
              "    </tr>\n",
              "    <tr>\n",
              "      <th>50%</th>\n",
              "      <td>23.692500</td>\n",
              "      <td>20.972650</td>\n",
              "      <td>4.000000</td>\n",
              "      <td>0.000000</td>\n",
              "      <td>0.000000</td>\n",
              "      <td>2.000000</td>\n",
              "    </tr>\n",
              "    <tr>\n",
              "      <th>75%</th>\n",
              "      <td>41.227200</td>\n",
              "      <td>81.812500</td>\n",
              "      <td>151.000000</td>\n",
              "      <td>2.000000</td>\n",
              "      <td>12.000000</td>\n",
              "      <td>75.000000</td>\n",
              "    </tr>\n",
              "    <tr>\n",
              "      <th>max</th>\n",
              "      <td>71.706900</td>\n",
              "      <td>178.065000</td>\n",
              "      <td>839675.000000</td>\n",
              "      <td>46583.000000</td>\n",
              "      <td>99400.000000</td>\n",
              "      <td>715726.000000</td>\n",
              "    </tr>\n",
              "  </tbody>\n",
              "</table>\n",
              "</div>"
            ],
            "text/plain": [
              "                lat          long      confirmed        deaths     recovered  \\\n",
              "count  23920.000000  23920.000000   23920.000000  23920.000000  23920.000000   \n",
              "mean      21.598445     22.771822    2078.138838    122.215050    507.430268   \n",
              "std       24.764115     70.813933   20243.769186   1313.803094   4542.590314   \n",
              "min      -51.796300   -135.000000       0.000000      0.000000      0.000000   \n",
              "25%        7.844875    -20.026050       0.000000      0.000000      0.000000   \n",
              "50%       23.692500     20.972650       4.000000      0.000000      0.000000   \n",
              "75%       41.227200     81.812500     151.000000      2.000000     12.000000   \n",
              "max       71.706900    178.065000  839675.000000  46583.000000  99400.000000   \n",
              "\n",
              "              active  \n",
              "count   23920.000000  \n",
              "mean     1448.493520  \n",
              "std     16473.372927  \n",
              "min        -6.000000  \n",
              "25%         0.000000  \n",
              "50%         2.000000  \n",
              "75%        75.000000  \n",
              "max    715726.000000  "
            ]
          },
          "metadata": {
            "tags": []
          }
        }
      ]
    },
    {
      "cell_type": "code",
      "metadata": {
        "id": "-2lMN5lykSx6",
        "colab_type": "code",
        "colab": {}
      },
      "source": [
        "# dealing with negative values in active cases (Min in active is -6), this shows that any of the confirmed or deaths or \n",
        "# recovered are having negative values \n",
        "num3 = clean_data['recovered']._get_numeric_data()\n",
        "num3[num3 < 0] = 0"
      ],
      "execution_count": 0,
      "outputs": []
    },
    {
      "cell_type": "code",
      "metadata": {
        "id": "vqcCq2pqkSx-",
        "colab_type": "code",
        "colab": {},
        "outputId": "e5abbb0c-9f85-410b-cb5e-eea27290f967"
      },
      "source": [
        "display(clean_data.info())\n",
        "display(clean_data.describe())"
      ],
      "execution_count": 0,
      "outputs": [
        {
          "output_type": "stream",
          "text": [
            "<class 'pandas.core.frame.DataFrame'>\n",
            "Int64Index: 23920 entries, 0 to 24103\n",
            "Data columns (total 9 columns):\n",
            "state        23920 non-null object\n",
            "country      23920 non-null object\n",
            "lat          23920 non-null float64\n",
            "long         23920 non-null float64\n",
            "date         23920 non-null datetime64[ns]\n",
            "confirmed    23920 non-null int64\n",
            "deaths       23920 non-null int64\n",
            "recovered    23920 non-null int64\n",
            "active       23920 non-null int64\n",
            "dtypes: datetime64[ns](1), float64(2), int64(4), object(2)\n",
            "memory usage: 1.8+ MB\n"
          ],
          "name": "stdout"
        },
        {
          "output_type": "display_data",
          "data": {
            "text/plain": [
              "None"
            ]
          },
          "metadata": {
            "tags": []
          }
        },
        {
          "output_type": "display_data",
          "data": {
            "text/html": [
              "<div>\n",
              "<style scoped>\n",
              "    .dataframe tbody tr th:only-of-type {\n",
              "        vertical-align: middle;\n",
              "    }\n",
              "\n",
              "    .dataframe tbody tr th {\n",
              "        vertical-align: top;\n",
              "    }\n",
              "\n",
              "    .dataframe thead th {\n",
              "        text-align: right;\n",
              "    }\n",
              "</style>\n",
              "<table border=\"1\" class=\"dataframe\">\n",
              "  <thead>\n",
              "    <tr style=\"text-align: right;\">\n",
              "      <th></th>\n",
              "      <th>lat</th>\n",
              "      <th>long</th>\n",
              "      <th>confirmed</th>\n",
              "      <th>deaths</th>\n",
              "      <th>recovered</th>\n",
              "      <th>active</th>\n",
              "    </tr>\n",
              "  </thead>\n",
              "  <tbody>\n",
              "    <tr>\n",
              "      <th>count</th>\n",
              "      <td>23920.000000</td>\n",
              "      <td>23920.000000</td>\n",
              "      <td>23920.000000</td>\n",
              "      <td>23920.000000</td>\n",
              "      <td>23920.000000</td>\n",
              "      <td>23920.000000</td>\n",
              "    </tr>\n",
              "    <tr>\n",
              "      <th>mean</th>\n",
              "      <td>21.598445</td>\n",
              "      <td>22.771822</td>\n",
              "      <td>2078.138838</td>\n",
              "      <td>122.215050</td>\n",
              "      <td>507.430268</td>\n",
              "      <td>1448.493520</td>\n",
              "    </tr>\n",
              "    <tr>\n",
              "      <th>std</th>\n",
              "      <td>24.764115</td>\n",
              "      <td>70.813933</td>\n",
              "      <td>20243.769186</td>\n",
              "      <td>1313.803094</td>\n",
              "      <td>4542.590314</td>\n",
              "      <td>16473.372927</td>\n",
              "    </tr>\n",
              "    <tr>\n",
              "      <th>min</th>\n",
              "      <td>-51.796300</td>\n",
              "      <td>-135.000000</td>\n",
              "      <td>0.000000</td>\n",
              "      <td>0.000000</td>\n",
              "      <td>0.000000</td>\n",
              "      <td>-6.000000</td>\n",
              "    </tr>\n",
              "    <tr>\n",
              "      <th>25%</th>\n",
              "      <td>7.844875</td>\n",
              "      <td>-20.026050</td>\n",
              "      <td>0.000000</td>\n",
              "      <td>0.000000</td>\n",
              "      <td>0.000000</td>\n",
              "      <td>0.000000</td>\n",
              "    </tr>\n",
              "    <tr>\n",
              "      <th>50%</th>\n",
              "      <td>23.692500</td>\n",
              "      <td>20.972650</td>\n",
              "      <td>4.000000</td>\n",
              "      <td>0.000000</td>\n",
              "      <td>0.000000</td>\n",
              "      <td>2.000000</td>\n",
              "    </tr>\n",
              "    <tr>\n",
              "      <th>75%</th>\n",
              "      <td>41.227200</td>\n",
              "      <td>81.812500</td>\n",
              "      <td>151.000000</td>\n",
              "      <td>2.000000</td>\n",
              "      <td>12.000000</td>\n",
              "      <td>75.000000</td>\n",
              "    </tr>\n",
              "    <tr>\n",
              "      <th>max</th>\n",
              "      <td>71.706900</td>\n",
              "      <td>178.065000</td>\n",
              "      <td>839675.000000</td>\n",
              "      <td>46583.000000</td>\n",
              "      <td>99400.000000</td>\n",
              "      <td>715726.000000</td>\n",
              "    </tr>\n",
              "  </tbody>\n",
              "</table>\n",
              "</div>"
            ],
            "text/plain": [
              "                lat          long      confirmed        deaths     recovered  \\\n",
              "count  23920.000000  23920.000000   23920.000000  23920.000000  23920.000000   \n",
              "mean      21.598445     22.771822    2078.138838    122.215050    507.430268   \n",
              "std       24.764115     70.813933   20243.769186   1313.803094   4542.590314   \n",
              "min      -51.796300   -135.000000       0.000000      0.000000      0.000000   \n",
              "25%        7.844875    -20.026050       0.000000      0.000000      0.000000   \n",
              "50%       23.692500     20.972650       4.000000      0.000000      0.000000   \n",
              "75%       41.227200     81.812500     151.000000      2.000000     12.000000   \n",
              "max       71.706900    178.065000  839675.000000  46583.000000  99400.000000   \n",
              "\n",
              "              active  \n",
              "count   23920.000000  \n",
              "mean     1448.493520  \n",
              "std     16473.372927  \n",
              "min        -6.000000  \n",
              "25%         0.000000  \n",
              "50%         2.000000  \n",
              "75%        75.000000  \n",
              "max    715726.000000  "
            ]
          },
          "metadata": {
            "tags": []
          }
        }
      ]
    },
    {
      "cell_type": "code",
      "metadata": {
        "id": "28Qzu7PmkSyC",
        "colab_type": "code",
        "colab": {}
      },
      "source": [
        "# dealing with negative values in active cases (Min in active is -6), this shows that any of the confirmed or deaths or \n",
        "# recovered are having negative values \n",
        "num4 = clean_data['active']._get_numeric_data()\n",
        "num4[num4 < 0] = 0"
      ],
      "execution_count": 0,
      "outputs": []
    },
    {
      "cell_type": "code",
      "metadata": {
        "id": "M0PbO_avkSyF",
        "colab_type": "code",
        "colab": {},
        "outputId": "0f3a5370-97a9-47fb-f4f1-216bb97060d6"
      },
      "source": [
        "display(clean_data.info())\n",
        "display(clean_data.describe())"
      ],
      "execution_count": 0,
      "outputs": [
        {
          "output_type": "stream",
          "text": [
            "<class 'pandas.core.frame.DataFrame'>\n",
            "Int64Index: 23920 entries, 0 to 24103\n",
            "Data columns (total 9 columns):\n",
            "state        23920 non-null object\n",
            "country      23920 non-null object\n",
            "lat          23920 non-null float64\n",
            "long         23920 non-null float64\n",
            "date         23920 non-null datetime64[ns]\n",
            "confirmed    23920 non-null int64\n",
            "deaths       23920 non-null int64\n",
            "recovered    23920 non-null int64\n",
            "active       23920 non-null int64\n",
            "dtypes: datetime64[ns](1), float64(2), int64(4), object(2)\n",
            "memory usage: 1.8+ MB\n"
          ],
          "name": "stdout"
        },
        {
          "output_type": "display_data",
          "data": {
            "text/plain": [
              "None"
            ]
          },
          "metadata": {
            "tags": []
          }
        },
        {
          "output_type": "display_data",
          "data": {
            "text/html": [
              "<div>\n",
              "<style scoped>\n",
              "    .dataframe tbody tr th:only-of-type {\n",
              "        vertical-align: middle;\n",
              "    }\n",
              "\n",
              "    .dataframe tbody tr th {\n",
              "        vertical-align: top;\n",
              "    }\n",
              "\n",
              "    .dataframe thead th {\n",
              "        text-align: right;\n",
              "    }\n",
              "</style>\n",
              "<table border=\"1\" class=\"dataframe\">\n",
              "  <thead>\n",
              "    <tr style=\"text-align: right;\">\n",
              "      <th></th>\n",
              "      <th>lat</th>\n",
              "      <th>long</th>\n",
              "      <th>confirmed</th>\n",
              "      <th>deaths</th>\n",
              "      <th>recovered</th>\n",
              "      <th>active</th>\n",
              "    </tr>\n",
              "  </thead>\n",
              "  <tbody>\n",
              "    <tr>\n",
              "      <th>count</th>\n",
              "      <td>23920.000000</td>\n",
              "      <td>23920.000000</td>\n",
              "      <td>23920.000000</td>\n",
              "      <td>23920.000000</td>\n",
              "      <td>23920.000000</td>\n",
              "      <td>23920.000000</td>\n",
              "    </tr>\n",
              "    <tr>\n",
              "      <th>mean</th>\n",
              "      <td>21.598445</td>\n",
              "      <td>22.771822</td>\n",
              "      <td>2078.138838</td>\n",
              "      <td>122.215050</td>\n",
              "      <td>507.430268</td>\n",
              "      <td>1448.495778</td>\n",
              "    </tr>\n",
              "    <tr>\n",
              "      <th>std</th>\n",
              "      <td>24.764115</td>\n",
              "      <td>70.813933</td>\n",
              "      <td>20243.769186</td>\n",
              "      <td>1313.803094</td>\n",
              "      <td>4542.590314</td>\n",
              "      <td>16473.372728</td>\n",
              "    </tr>\n",
              "    <tr>\n",
              "      <th>min</th>\n",
              "      <td>-51.796300</td>\n",
              "      <td>-135.000000</td>\n",
              "      <td>0.000000</td>\n",
              "      <td>0.000000</td>\n",
              "      <td>0.000000</td>\n",
              "      <td>0.000000</td>\n",
              "    </tr>\n",
              "    <tr>\n",
              "      <th>25%</th>\n",
              "      <td>7.844875</td>\n",
              "      <td>-20.026050</td>\n",
              "      <td>0.000000</td>\n",
              "      <td>0.000000</td>\n",
              "      <td>0.000000</td>\n",
              "      <td>0.000000</td>\n",
              "    </tr>\n",
              "    <tr>\n",
              "      <th>50%</th>\n",
              "      <td>23.692500</td>\n",
              "      <td>20.972650</td>\n",
              "      <td>4.000000</td>\n",
              "      <td>0.000000</td>\n",
              "      <td>0.000000</td>\n",
              "      <td>2.000000</td>\n",
              "    </tr>\n",
              "    <tr>\n",
              "      <th>75%</th>\n",
              "      <td>41.227200</td>\n",
              "      <td>81.812500</td>\n",
              "      <td>151.000000</td>\n",
              "      <td>2.000000</td>\n",
              "      <td>12.000000</td>\n",
              "      <td>75.000000</td>\n",
              "    </tr>\n",
              "    <tr>\n",
              "      <th>max</th>\n",
              "      <td>71.706900</td>\n",
              "      <td>178.065000</td>\n",
              "      <td>839675.000000</td>\n",
              "      <td>46583.000000</td>\n",
              "      <td>99400.000000</td>\n",
              "      <td>715726.000000</td>\n",
              "    </tr>\n",
              "  </tbody>\n",
              "</table>\n",
              "</div>"
            ],
            "text/plain": [
              "                lat          long      confirmed        deaths     recovered  \\\n",
              "count  23920.000000  23920.000000   23920.000000  23920.000000  23920.000000   \n",
              "mean      21.598445     22.771822    2078.138838    122.215050    507.430268   \n",
              "std       24.764115     70.813933   20243.769186   1313.803094   4542.590314   \n",
              "min      -51.796300   -135.000000       0.000000      0.000000      0.000000   \n",
              "25%        7.844875    -20.026050       0.000000      0.000000      0.000000   \n",
              "50%       23.692500     20.972650       4.000000      0.000000      0.000000   \n",
              "75%       41.227200     81.812500     151.000000      2.000000     12.000000   \n",
              "max       71.706900    178.065000  839675.000000  46583.000000  99400.000000   \n",
              "\n",
              "              active  \n",
              "count   23920.000000  \n",
              "mean     1448.495778  \n",
              "std     16473.372728  \n",
              "min         0.000000  \n",
              "25%         0.000000  \n",
              "50%         2.000000  \n",
              "75%        75.000000  \n",
              "max    715726.000000  "
            ]
          },
          "metadata": {
            "tags": []
          }
        }
      ]
    },
    {
      "cell_type": "code",
      "metadata": {
        "scrolled": false,
        "id": "apjFwTF0kSyJ",
        "colab_type": "code",
        "colab": {},
        "outputId": "7674bebc-791c-4b87-fd8f-7c3173c4aa18"
      },
      "source": [
        "clean_data.head()"
      ],
      "execution_count": 0,
      "outputs": [
        {
          "output_type": "execute_result",
          "data": {
            "text/html": [
              "<div>\n",
              "<style scoped>\n",
              "    .dataframe tbody tr th:only-of-type {\n",
              "        vertical-align: middle;\n",
              "    }\n",
              "\n",
              "    .dataframe tbody tr th {\n",
              "        vertical-align: top;\n",
              "    }\n",
              "\n",
              "    .dataframe thead th {\n",
              "        text-align: right;\n",
              "    }\n",
              "</style>\n",
              "<table border=\"1\" class=\"dataframe\">\n",
              "  <thead>\n",
              "    <tr style=\"text-align: right;\">\n",
              "      <th></th>\n",
              "      <th>state</th>\n",
              "      <th>country</th>\n",
              "      <th>lat</th>\n",
              "      <th>long</th>\n",
              "      <th>date</th>\n",
              "      <th>confirmed</th>\n",
              "      <th>deaths</th>\n",
              "      <th>recovered</th>\n",
              "      <th>active</th>\n",
              "    </tr>\n",
              "  </thead>\n",
              "  <tbody>\n",
              "    <tr>\n",
              "      <th>0</th>\n",
              "      <td></td>\n",
              "      <td>Afghanistan</td>\n",
              "      <td>33.0000</td>\n",
              "      <td>65.0000</td>\n",
              "      <td>2020-01-22</td>\n",
              "      <td>0</td>\n",
              "      <td>0</td>\n",
              "      <td>0</td>\n",
              "      <td>0</td>\n",
              "    </tr>\n",
              "    <tr>\n",
              "      <th>1</th>\n",
              "      <td></td>\n",
              "      <td>Albania</td>\n",
              "      <td>41.1533</td>\n",
              "      <td>20.1683</td>\n",
              "      <td>2020-01-22</td>\n",
              "      <td>0</td>\n",
              "      <td>0</td>\n",
              "      <td>0</td>\n",
              "      <td>0</td>\n",
              "    </tr>\n",
              "    <tr>\n",
              "      <th>2</th>\n",
              "      <td></td>\n",
              "      <td>Algeria</td>\n",
              "      <td>28.0339</td>\n",
              "      <td>1.6596</td>\n",
              "      <td>2020-01-22</td>\n",
              "      <td>0</td>\n",
              "      <td>0</td>\n",
              "      <td>0</td>\n",
              "      <td>0</td>\n",
              "    </tr>\n",
              "    <tr>\n",
              "      <th>3</th>\n",
              "      <td></td>\n",
              "      <td>Andorra</td>\n",
              "      <td>42.5063</td>\n",
              "      <td>1.5218</td>\n",
              "      <td>2020-01-22</td>\n",
              "      <td>0</td>\n",
              "      <td>0</td>\n",
              "      <td>0</td>\n",
              "      <td>0</td>\n",
              "    </tr>\n",
              "    <tr>\n",
              "      <th>4</th>\n",
              "      <td></td>\n",
              "      <td>Angola</td>\n",
              "      <td>-11.2027</td>\n",
              "      <td>17.8739</td>\n",
              "      <td>2020-01-22</td>\n",
              "      <td>0</td>\n",
              "      <td>0</td>\n",
              "      <td>0</td>\n",
              "      <td>0</td>\n",
              "    </tr>\n",
              "  </tbody>\n",
              "</table>\n",
              "</div>"
            ],
            "text/plain": [
              "  state      country      lat     long       date  confirmed  deaths  \\\n",
              "0        Afghanistan  33.0000  65.0000 2020-01-22          0       0   \n",
              "1            Albania  41.1533  20.1683 2020-01-22          0       0   \n",
              "2            Algeria  28.0339   1.6596 2020-01-22          0       0   \n",
              "3            Andorra  42.5063   1.5218 2020-01-22          0       0   \n",
              "4             Angola -11.2027  17.8739 2020-01-22          0       0   \n",
              "\n",
              "   recovered  active  \n",
              "0          0       0  \n",
              "1          0       0  \n",
              "2          0       0  \n",
              "3          0       0  \n",
              "4          0       0  "
            ]
          },
          "metadata": {
            "tags": []
          },
          "execution_count": 73
        }
      ]
    },
    {
      "cell_type": "markdown",
      "metadata": {
        "id": "HbDtxb3_kSyN",
        "colab_type": "text"
      },
      "source": [
        "#### Creating a Master Copy of the Data"
      ]
    },
    {
      "cell_type": "markdown",
      "metadata": {
        "id": "DQmrXNmbkSyO",
        "colab_type": "text"
      },
      "source": [
        "##### Data Set Name - data\n",
        "###### Columns - province,lat,long,date,confirmed,deaths,recovered.active"
      ]
    },
    {
      "cell_type": "code",
      "metadata": {
        "id": "wrjk8-GXkSyQ",
        "colab_type": "code",
        "colab": {}
      },
      "source": [
        "data = clean_data.copy()"
      ],
      "execution_count": 0,
      "outputs": []
    },
    {
      "cell_type": "markdown",
      "metadata": {
        "id": "qSvp0ZDIkSyU",
        "colab_type": "text"
      },
      "source": [
        "## EDA - Exploratory Data Analysis - The Data Story"
      ]
    },
    {
      "cell_type": "markdown",
      "metadata": {
        "id": "K91fxwWRkSyV",
        "colab_type": "text"
      },
      "source": [
        "### Exploring Infections(Confirmed Cases),Fatalities & Active - Worldwide"
      ]
    },
    {
      "cell_type": "code",
      "metadata": {
        "id": "BjgfrwkbkSyW",
        "colab_type": "code",
        "colab": {},
        "outputId": "9295c619-d75c-416a-d62b-b5c78fe193a6"
      },
      "source": [
        "data.columns.to_frame('col')"
      ],
      "execution_count": 0,
      "outputs": [
        {
          "output_type": "execute_result",
          "data": {
            "text/html": [
              "<div>\n",
              "<style scoped>\n",
              "    .dataframe tbody tr th:only-of-type {\n",
              "        vertical-align: middle;\n",
              "    }\n",
              "\n",
              "    .dataframe tbody tr th {\n",
              "        vertical-align: top;\n",
              "    }\n",
              "\n",
              "    .dataframe thead th {\n",
              "        text-align: right;\n",
              "    }\n",
              "</style>\n",
              "<table border=\"1\" class=\"dataframe\">\n",
              "  <thead>\n",
              "    <tr style=\"text-align: right;\">\n",
              "      <th></th>\n",
              "      <th>0</th>\n",
              "    </tr>\n",
              "  </thead>\n",
              "  <tbody>\n",
              "    <tr>\n",
              "      <th>state</th>\n",
              "      <td>state</td>\n",
              "    </tr>\n",
              "    <tr>\n",
              "      <th>country</th>\n",
              "      <td>country</td>\n",
              "    </tr>\n",
              "    <tr>\n",
              "      <th>lat</th>\n",
              "      <td>lat</td>\n",
              "    </tr>\n",
              "    <tr>\n",
              "      <th>long</th>\n",
              "      <td>long</td>\n",
              "    </tr>\n",
              "    <tr>\n",
              "      <th>date</th>\n",
              "      <td>date</td>\n",
              "    </tr>\n",
              "    <tr>\n",
              "      <th>confirmed</th>\n",
              "      <td>confirmed</td>\n",
              "    </tr>\n",
              "    <tr>\n",
              "      <th>deaths</th>\n",
              "      <td>deaths</td>\n",
              "    </tr>\n",
              "    <tr>\n",
              "      <th>recovered</th>\n",
              "      <td>recovered</td>\n",
              "    </tr>\n",
              "    <tr>\n",
              "      <th>active</th>\n",
              "      <td>active</td>\n",
              "    </tr>\n",
              "  </tbody>\n",
              "</table>\n",
              "</div>"
            ],
            "text/plain": [
              "                   0\n",
              "state          state\n",
              "country      country\n",
              "lat              lat\n",
              "long            long\n",
              "date            date\n",
              "confirmed  confirmed\n",
              "deaths        deaths\n",
              "recovered  recovered\n",
              "active        active"
            ]
          },
          "metadata": {
            "tags": []
          },
          "execution_count": 75
        }
      ]
    },
    {
      "cell_type": "code",
      "metadata": {
        "id": "b0Q1nIPqkSya",
        "colab_type": "code",
        "colab": {},
        "outputId": "6966f473-2c04-4f5b-e7a1-17d2feed47d3"
      },
      "source": [
        "data"
      ],
      "execution_count": 0,
      "outputs": [
        {
          "output_type": "execute_result",
          "data": {
            "text/html": [
              "<div>\n",
              "<style scoped>\n",
              "    .dataframe tbody tr th:only-of-type {\n",
              "        vertical-align: middle;\n",
              "    }\n",
              "\n",
              "    .dataframe tbody tr th {\n",
              "        vertical-align: top;\n",
              "    }\n",
              "\n",
              "    .dataframe thead th {\n",
              "        text-align: right;\n",
              "    }\n",
              "</style>\n",
              "<table border=\"1\" class=\"dataframe\">\n",
              "  <thead>\n",
              "    <tr style=\"text-align: right;\">\n",
              "      <th></th>\n",
              "      <th>state</th>\n",
              "      <th>country</th>\n",
              "      <th>lat</th>\n",
              "      <th>long</th>\n",
              "      <th>date</th>\n",
              "      <th>confirmed</th>\n",
              "      <th>deaths</th>\n",
              "      <th>recovered</th>\n",
              "      <th>active</th>\n",
              "    </tr>\n",
              "  </thead>\n",
              "  <tbody>\n",
              "    <tr>\n",
              "      <th>0</th>\n",
              "      <td></td>\n",
              "      <td>Afghanistan</td>\n",
              "      <td>33.000000</td>\n",
              "      <td>65.000000</td>\n",
              "      <td>2020-01-22</td>\n",
              "      <td>0</td>\n",
              "      <td>0</td>\n",
              "      <td>0</td>\n",
              "      <td>0</td>\n",
              "    </tr>\n",
              "    <tr>\n",
              "      <th>1</th>\n",
              "      <td></td>\n",
              "      <td>Albania</td>\n",
              "      <td>41.153300</td>\n",
              "      <td>20.168300</td>\n",
              "      <td>2020-01-22</td>\n",
              "      <td>0</td>\n",
              "      <td>0</td>\n",
              "      <td>0</td>\n",
              "      <td>0</td>\n",
              "    </tr>\n",
              "    <tr>\n",
              "      <th>2</th>\n",
              "      <td></td>\n",
              "      <td>Algeria</td>\n",
              "      <td>28.033900</td>\n",
              "      <td>1.659600</td>\n",
              "      <td>2020-01-22</td>\n",
              "      <td>0</td>\n",
              "      <td>0</td>\n",
              "      <td>0</td>\n",
              "      <td>0</td>\n",
              "    </tr>\n",
              "    <tr>\n",
              "      <th>3</th>\n",
              "      <td></td>\n",
              "      <td>Andorra</td>\n",
              "      <td>42.506300</td>\n",
              "      <td>1.521800</td>\n",
              "      <td>2020-01-22</td>\n",
              "      <td>0</td>\n",
              "      <td>0</td>\n",
              "      <td>0</td>\n",
              "      <td>0</td>\n",
              "    </tr>\n",
              "    <tr>\n",
              "      <th>4</th>\n",
              "      <td></td>\n",
              "      <td>Angola</td>\n",
              "      <td>-11.202700</td>\n",
              "      <td>17.873900</td>\n",
              "      <td>2020-01-22</td>\n",
              "      <td>0</td>\n",
              "      <td>0</td>\n",
              "      <td>0</td>\n",
              "      <td>0</td>\n",
              "    </tr>\n",
              "    <tr>\n",
              "      <th>...</th>\n",
              "      <td>...</td>\n",
              "      <td>...</td>\n",
              "      <td>...</td>\n",
              "      <td>...</td>\n",
              "      <td>...</td>\n",
              "      <td>...</td>\n",
              "      <td>...</td>\n",
              "      <td>...</td>\n",
              "      <td>...</td>\n",
              "    </tr>\n",
              "    <tr>\n",
              "      <th>24099</th>\n",
              "      <td>Saint Pierre and Miquelon</td>\n",
              "      <td>France</td>\n",
              "      <td>46.885200</td>\n",
              "      <td>-56.315900</td>\n",
              "      <td>2020-04-22</td>\n",
              "      <td>1</td>\n",
              "      <td>0</td>\n",
              "      <td>0</td>\n",
              "      <td>1</td>\n",
              "    </tr>\n",
              "    <tr>\n",
              "      <th>24100</th>\n",
              "      <td></td>\n",
              "      <td>South Sudan</td>\n",
              "      <td>6.877000</td>\n",
              "      <td>31.307000</td>\n",
              "      <td>2020-04-22</td>\n",
              "      <td>4</td>\n",
              "      <td>0</td>\n",
              "      <td>0</td>\n",
              "      <td>4</td>\n",
              "    </tr>\n",
              "    <tr>\n",
              "      <th>24101</th>\n",
              "      <td></td>\n",
              "      <td>Western Sahara</td>\n",
              "      <td>24.215500</td>\n",
              "      <td>-12.885800</td>\n",
              "      <td>2020-04-22</td>\n",
              "      <td>6</td>\n",
              "      <td>0</td>\n",
              "      <td>0</td>\n",
              "      <td>6</td>\n",
              "    </tr>\n",
              "    <tr>\n",
              "      <th>24102</th>\n",
              "      <td></td>\n",
              "      <td>Sao Tome and Principe</td>\n",
              "      <td>0.186360</td>\n",
              "      <td>6.613081</td>\n",
              "      <td>2020-04-22</td>\n",
              "      <td>4</td>\n",
              "      <td>0</td>\n",
              "      <td>0</td>\n",
              "      <td>4</td>\n",
              "    </tr>\n",
              "    <tr>\n",
              "      <th>24103</th>\n",
              "      <td></td>\n",
              "      <td>Yemen</td>\n",
              "      <td>15.552727</td>\n",
              "      <td>48.516388</td>\n",
              "      <td>2020-04-22</td>\n",
              "      <td>1</td>\n",
              "      <td>0</td>\n",
              "      <td>0</td>\n",
              "      <td>1</td>\n",
              "    </tr>\n",
              "  </tbody>\n",
              "</table>\n",
              "<p>23920 rows × 9 columns</p>\n",
              "</div>"
            ],
            "text/plain": [
              "                           state                country        lat       long  \\\n",
              "0                                           Afghanistan  33.000000  65.000000   \n",
              "1                                               Albania  41.153300  20.168300   \n",
              "2                                               Algeria  28.033900   1.659600   \n",
              "3                                               Andorra  42.506300   1.521800   \n",
              "4                                                Angola -11.202700  17.873900   \n",
              "...                          ...                    ...        ...        ...   \n",
              "24099  Saint Pierre and Miquelon                 France  46.885200 -56.315900   \n",
              "24100                                       South Sudan   6.877000  31.307000   \n",
              "24101                                    Western Sahara  24.215500 -12.885800   \n",
              "24102                             Sao Tome and Principe   0.186360   6.613081   \n",
              "24103                                             Yemen  15.552727  48.516388   \n",
              "\n",
              "            date  confirmed  deaths  recovered  active  \n",
              "0     2020-01-22          0       0          0       0  \n",
              "1     2020-01-22          0       0          0       0  \n",
              "2     2020-01-22          0       0          0       0  \n",
              "3     2020-01-22          0       0          0       0  \n",
              "4     2020-01-22          0       0          0       0  \n",
              "...          ...        ...     ...        ...     ...  \n",
              "24099 2020-04-22          1       0          0       1  \n",
              "24100 2020-04-22          4       0          0       4  \n",
              "24101 2020-04-22          6       0          0       6  \n",
              "24102 2020-04-22          4       0          0       4  \n",
              "24103 2020-04-22          1       0          0       1  \n",
              "\n",
              "[23920 rows x 9 columns]"
            ]
          },
          "metadata": {
            "tags": []
          },
          "execution_count": 76
        }
      ]
    },
    {
      "cell_type": "markdown",
      "metadata": {
        "id": "2SS3VTXykSye",
        "colab_type": "text"
      },
      "source": [
        "#### Data Set Name - data_cfn\n",
        "##### date,confirmed & deaths"
      ]
    },
    {
      "cell_type": "code",
      "metadata": {
        "id": "Zezaa53NkSyf",
        "colab_type": "code",
        "colab": {}
      },
      "source": [
        "data_cfn = data.groupby('date')[['confirmed','deaths']].sum().reset_index()"
      ],
      "execution_count": 0,
      "outputs": []
    },
    {
      "cell_type": "code",
      "metadata": {
        "id": "nUOCkvWdkSyi",
        "colab_type": "code",
        "colab": {},
        "outputId": "955c33d8-e914-4bb6-c4c7-087bb02820ff"
      },
      "source": [
        "data_cfn.sample(3)"
      ],
      "execution_count": 0,
      "outputs": [
        {
          "output_type": "execute_result",
          "data": {
            "text/html": [
              "<div>\n",
              "<style scoped>\n",
              "    .dataframe tbody tr th:only-of-type {\n",
              "        vertical-align: middle;\n",
              "    }\n",
              "\n",
              "    .dataframe tbody tr th {\n",
              "        vertical-align: top;\n",
              "    }\n",
              "\n",
              "    .dataframe thead th {\n",
              "        text-align: right;\n",
              "    }\n",
              "</style>\n",
              "<table border=\"1\" class=\"dataframe\">\n",
              "  <thead>\n",
              "    <tr style=\"text-align: right;\">\n",
              "      <th></th>\n",
              "      <th>date</th>\n",
              "      <th>confirmed</th>\n",
              "      <th>deaths</th>\n",
              "    </tr>\n",
              "  </thead>\n",
              "  <tbody>\n",
              "    <tr>\n",
              "      <th>57</th>\n",
              "      <td>2020-03-19</td>\n",
              "      <td>241858</td>\n",
              "      <td>9860</td>\n",
              "    </tr>\n",
              "    <tr>\n",
              "      <th>3</th>\n",
              "      <td>2020-01-25</td>\n",
              "      <td>1434</td>\n",
              "      <td>42</td>\n",
              "    </tr>\n",
              "    <tr>\n",
              "      <th>56</th>\n",
              "      <td>2020-03-18</td>\n",
              "      <td>214109</td>\n",
              "      <td>8726</td>\n",
              "    </tr>\n",
              "  </tbody>\n",
              "</table>\n",
              "</div>"
            ],
            "text/plain": [
              "         date  confirmed  deaths\n",
              "57 2020-03-19     241858    9860\n",
              "3  2020-01-25       1434      42\n",
              "56 2020-03-18     214109    8726"
            ]
          },
          "metadata": {
            "tags": []
          },
          "execution_count": 78
        }
      ]
    },
    {
      "cell_type": "code",
      "metadata": {
        "id": "qr_q3yexkSym",
        "colab_type": "code",
        "colab": {}
      },
      "source": [
        "data_cfn['new cases'] = data_cfn['confirmed'] - data_cfn['confirmed'].shift(1)"
      ],
      "execution_count": 0,
      "outputs": []
    },
    {
      "cell_type": "code",
      "metadata": {
        "id": "rzmGVk8ykSyq",
        "colab_type": "code",
        "colab": {},
        "outputId": "99db359f-8aa4-4404-fa5f-04359a9b2f59"
      },
      "source": [
        "data_cfn.sample(3)"
      ],
      "execution_count": 0,
      "outputs": [
        {
          "output_type": "execute_result",
          "data": {
            "text/html": [
              "<div>\n",
              "<style scoped>\n",
              "    .dataframe tbody tr th:only-of-type {\n",
              "        vertical-align: middle;\n",
              "    }\n",
              "\n",
              "    .dataframe tbody tr th {\n",
              "        vertical-align: top;\n",
              "    }\n",
              "\n",
              "    .dataframe thead th {\n",
              "        text-align: right;\n",
              "    }\n",
              "</style>\n",
              "<table border=\"1\" class=\"dataframe\">\n",
              "  <thead>\n",
              "    <tr style=\"text-align: right;\">\n",
              "      <th></th>\n",
              "      <th>date</th>\n",
              "      <th>confirmed</th>\n",
              "      <th>deaths</th>\n",
              "      <th>new cases</th>\n",
              "    </tr>\n",
              "  </thead>\n",
              "  <tbody>\n",
              "    <tr>\n",
              "      <th>33</th>\n",
              "      <td>2020-02-24</td>\n",
              "      <td>78870</td>\n",
              "      <td>2626</td>\n",
              "      <td>603.0</td>\n",
              "    </tr>\n",
              "    <tr>\n",
              "      <th>83</th>\n",
              "      <td>2020-04-14</td>\n",
              "      <td>1975477</td>\n",
              "      <td>125984</td>\n",
              "      <td>71353.0</td>\n",
              "    </tr>\n",
              "    <tr>\n",
              "      <th>12</th>\n",
              "      <td>2020-02-03</td>\n",
              "      <td>19881</td>\n",
              "      <td>426</td>\n",
              "      <td>3094.0</td>\n",
              "    </tr>\n",
              "  </tbody>\n",
              "</table>\n",
              "</div>"
            ],
            "text/plain": [
              "         date  confirmed  deaths  new cases\n",
              "33 2020-02-24      78870    2626      603.0\n",
              "83 2020-04-14    1975477  125984    71353.0\n",
              "12 2020-02-03      19881     426     3094.0"
            ]
          },
          "metadata": {
            "tags": []
          },
          "execution_count": 80
        }
      ]
    },
    {
      "cell_type": "code",
      "metadata": {
        "id": "2V4ChCw9kSyu",
        "colab_type": "code",
        "colab": {},
        "outputId": "29c77b2b-e61a-4236-bd84-997190eab14f"
      },
      "source": [
        "display(data_cfn.info())\n",
        "display(data_cfn.describe().T)"
      ],
      "execution_count": 0,
      "outputs": [
        {
          "output_type": "stream",
          "text": [
            "<class 'pandas.core.frame.DataFrame'>\n",
            "RangeIndex: 92 entries, 0 to 91\n",
            "Data columns (total 4 columns):\n",
            "date         92 non-null datetime64[ns]\n",
            "confirmed    92 non-null int64\n",
            "deaths       92 non-null int64\n",
            "new cases    91 non-null float64\n",
            "dtypes: datetime64[ns](1), float64(1), int64(2)\n",
            "memory usage: 3.0 KB\n"
          ],
          "name": "stdout"
        },
        {
          "output_type": "display_data",
          "data": {
            "text/plain": [
              "None"
            ]
          },
          "metadata": {
            "tags": []
          }
        },
        {
          "output_type": "display_data",
          "data": {
            "text/html": [
              "<div>\n",
              "<style scoped>\n",
              "    .dataframe tbody tr th:only-of-type {\n",
              "        vertical-align: middle;\n",
              "    }\n",
              "\n",
              "    .dataframe tbody tr th {\n",
              "        vertical-align: top;\n",
              "    }\n",
              "\n",
              "    .dataframe thead th {\n",
              "        text-align: right;\n",
              "    }\n",
              "</style>\n",
              "<table border=\"1\" class=\"dataframe\">\n",
              "  <thead>\n",
              "    <tr style=\"text-align: right;\">\n",
              "      <th></th>\n",
              "      <th>count</th>\n",
              "      <th>mean</th>\n",
              "      <th>std</th>\n",
              "      <th>min</th>\n",
              "      <th>25%</th>\n",
              "      <th>50%</th>\n",
              "      <th>75%</th>\n",
              "      <th>max</th>\n",
              "    </tr>\n",
              "  </thead>\n",
              "  <tbody>\n",
              "    <tr>\n",
              "      <th>confirmed</th>\n",
              "      <td>92.0</td>\n",
              "      <td>540316.097826</td>\n",
              "      <td>762204.472225</td>\n",
              "      <td>555.0</td>\n",
              "      <td>65048.5</td>\n",
              "      <td>107128.0</td>\n",
              "      <td>800451.5</td>\n",
              "      <td>2622698.0</td>\n",
              "    </tr>\n",
              "    <tr>\n",
              "      <th>deaths</th>\n",
              "      <td>92.0</td>\n",
              "      <td>31775.913043</td>\n",
              "      <td>50992.004178</td>\n",
              "      <td>17.0</td>\n",
              "      <td>1485.0</td>\n",
              "      <td>3674.0</td>\n",
              "      <td>38702.5</td>\n",
              "      <td>183014.0</td>\n",
              "    </tr>\n",
              "    <tr>\n",
              "      <th>new cases</th>\n",
              "      <td>91.0</td>\n",
              "      <td>28814.758242</td>\n",
              "      <td>34057.538522</td>\n",
              "      <td>99.0</td>\n",
              "      <td>2054.0</td>\n",
              "      <td>4749.0</td>\n",
              "      <td>68759.5</td>\n",
              "      <td>99071.0</td>\n",
              "    </tr>\n",
              "  </tbody>\n",
              "</table>\n",
              "</div>"
            ],
            "text/plain": [
              "           count           mean            std    min      25%       50%  \\\n",
              "confirmed   92.0  540316.097826  762204.472225  555.0  65048.5  107128.0   \n",
              "deaths      92.0   31775.913043   50992.004178   17.0   1485.0    3674.0   \n",
              "new cases   91.0   28814.758242   34057.538522   99.0   2054.0    4749.0   \n",
              "\n",
              "                75%        max  \n",
              "confirmed  800451.5  2622698.0  \n",
              "deaths      38702.5   183014.0  \n",
              "new cases   68759.5    99071.0  "
            ]
          },
          "metadata": {
            "tags": []
          }
        }
      ]
    },
    {
      "cell_type": "markdown",
      "metadata": {
        "id": "AxD-XjzVkSyy",
        "colab_type": "text"
      },
      "source": [
        "#### Data Set Name - data_cfn_melt\n",
        "##### date,variable(confirmed,deaths,new cases),value"
      ]
    },
    {
      "cell_type": "code",
      "metadata": {
        "scrolled": true,
        "id": "5CiIbQXIkSyz",
        "colab_type": "code",
        "colab": {},
        "outputId": "e68b1e02-d42b-4b33-ecc9-3ae12f372e73"
      },
      "source": [
        "data_cfn_melt = pd.melt(data_cfn, id_vars=['date'], value_vars=['confirmed', 'deaths', 'new cases'])\n",
        "data_cfn_melt"
      ],
      "execution_count": 0,
      "outputs": [
        {
          "output_type": "execute_result",
          "data": {
            "text/html": [
              "<div>\n",
              "<style scoped>\n",
              "    .dataframe tbody tr th:only-of-type {\n",
              "        vertical-align: middle;\n",
              "    }\n",
              "\n",
              "    .dataframe tbody tr th {\n",
              "        vertical-align: top;\n",
              "    }\n",
              "\n",
              "    .dataframe thead th {\n",
              "        text-align: right;\n",
              "    }\n",
              "</style>\n",
              "<table border=\"1\" class=\"dataframe\">\n",
              "  <thead>\n",
              "    <tr style=\"text-align: right;\">\n",
              "      <th></th>\n",
              "      <th>date</th>\n",
              "      <th>variable</th>\n",
              "      <th>value</th>\n",
              "    </tr>\n",
              "  </thead>\n",
              "  <tbody>\n",
              "    <tr>\n",
              "      <th>0</th>\n",
              "      <td>2020-01-22</td>\n",
              "      <td>confirmed</td>\n",
              "      <td>555.0</td>\n",
              "    </tr>\n",
              "    <tr>\n",
              "      <th>1</th>\n",
              "      <td>2020-01-23</td>\n",
              "      <td>confirmed</td>\n",
              "      <td>654.0</td>\n",
              "    </tr>\n",
              "    <tr>\n",
              "      <th>2</th>\n",
              "      <td>2020-01-24</td>\n",
              "      <td>confirmed</td>\n",
              "      <td>941.0</td>\n",
              "    </tr>\n",
              "    <tr>\n",
              "      <th>3</th>\n",
              "      <td>2020-01-25</td>\n",
              "      <td>confirmed</td>\n",
              "      <td>1434.0</td>\n",
              "    </tr>\n",
              "    <tr>\n",
              "      <th>4</th>\n",
              "      <td>2020-01-26</td>\n",
              "      <td>confirmed</td>\n",
              "      <td>2118.0</td>\n",
              "    </tr>\n",
              "    <tr>\n",
              "      <th>...</th>\n",
              "      <td>...</td>\n",
              "      <td>...</td>\n",
              "      <td>...</td>\n",
              "    </tr>\n",
              "    <tr>\n",
              "      <th>271</th>\n",
              "      <td>2020-04-18</td>\n",
              "      <td>new cases</td>\n",
              "      <td>77568.0</td>\n",
              "    </tr>\n",
              "    <tr>\n",
              "      <th>272</th>\n",
              "      <td>2020-04-19</td>\n",
              "      <td>new cases</td>\n",
              "      <td>83341.0</td>\n",
              "    </tr>\n",
              "    <tr>\n",
              "      <th>273</th>\n",
              "      <td>2020-04-20</td>\n",
              "      <td>new cases</td>\n",
              "      <td>71157.0</td>\n",
              "    </tr>\n",
              "    <tr>\n",
              "      <th>274</th>\n",
              "      <td>2020-04-21</td>\n",
              "      <td>new cases</td>\n",
              "      <td>77035.0</td>\n",
              "    </tr>\n",
              "    <tr>\n",
              "      <th>275</th>\n",
              "      <td>2020-04-22</td>\n",
              "      <td>new cases</td>\n",
              "      <td>74121.0</td>\n",
              "    </tr>\n",
              "  </tbody>\n",
              "</table>\n",
              "<p>276 rows × 3 columns</p>\n",
              "</div>"
            ],
            "text/plain": [
              "          date   variable    value\n",
              "0   2020-01-22  confirmed    555.0\n",
              "1   2020-01-23  confirmed    654.0\n",
              "2   2020-01-24  confirmed    941.0\n",
              "3   2020-01-25  confirmed   1434.0\n",
              "4   2020-01-26  confirmed   2118.0\n",
              "..         ...        ...      ...\n",
              "271 2020-04-18  new cases  77568.0\n",
              "272 2020-04-19  new cases  83341.0\n",
              "273 2020-04-20  new cases  71157.0\n",
              "274 2020-04-21  new cases  77035.0\n",
              "275 2020-04-22  new cases  74121.0\n",
              "\n",
              "[276 rows x 3 columns]"
            ]
          },
          "metadata": {
            "tags": []
          },
          "execution_count": 82
        }
      ]
    },
    {
      "cell_type": "markdown",
      "metadata": {
        "id": "sHEJTLiskSy3",
        "colab_type": "text"
      },
      "source": [
        "#### Line curve - Worldwide Confirmed/Fatalities & New Cases"
      ]
    },
    {
      "cell_type": "code",
      "metadata": {
        "scrolled": false,
        "id": "kQEhFwg8kSy3",
        "colab_type": "code",
        "colab": {},
        "outputId": "a5a77f10-545b-4a3e-8894-3ebd1f5aa533"
      },
      "source": [
        "fig = px.line(data_cfn_melt, x=\"date\", y=\"value\", color='variable', \n",
        "              title=f\"Worldwide Confirmed/Fatalities & New Cases as on {max_date}\")\n",
        "fig.show()"
      ],
      "execution_count": 0,
      "outputs": [
        {
          "output_type": "display_data",
          "data": {
            "application/vnd.plotly.v1+json": {
              "config": {
                "plotlyServerURL": "https://plot.ly"
              },
              "data": [
                {
                  "hovertemplate": "variable=confirmed<br>date=%{x}<br>value=%{y}<extra></extra>",
                  "legendgroup": "confirmed",
                  "line": {
                    "color": "#636efa",
                    "dash": "solid"
                  },
                  "mode": "lines",
                  "name": "confirmed",
                  "showlegend": true,
                  "type": "scatter",
                  "x": [
                    "2020-01-22T00:00:00",
                    "2020-01-23T00:00:00",
                    "2020-01-24T00:00:00",
                    "2020-01-25T00:00:00",
                    "2020-01-26T00:00:00",
                    "2020-01-27T00:00:00",
                    "2020-01-28T00:00:00",
                    "2020-01-29T00:00:00",
                    "2020-01-30T00:00:00",
                    "2020-01-31T00:00:00",
                    "2020-02-01T00:00:00",
                    "2020-02-02T00:00:00",
                    "2020-02-03T00:00:00",
                    "2020-02-04T00:00:00",
                    "2020-02-05T00:00:00",
                    "2020-02-06T00:00:00",
                    "2020-02-07T00:00:00",
                    "2020-02-08T00:00:00",
                    "2020-02-09T00:00:00",
                    "2020-02-10T00:00:00",
                    "2020-02-11T00:00:00",
                    "2020-02-12T00:00:00",
                    "2020-02-13T00:00:00",
                    "2020-02-14T00:00:00",
                    "2020-02-15T00:00:00",
                    "2020-02-16T00:00:00",
                    "2020-02-17T00:00:00",
                    "2020-02-18T00:00:00",
                    "2020-02-19T00:00:00",
                    "2020-02-20T00:00:00",
                    "2020-02-21T00:00:00",
                    "2020-02-22T00:00:00",
                    "2020-02-23T00:00:00",
                    "2020-02-24T00:00:00",
                    "2020-02-25T00:00:00",
                    "2020-02-26T00:00:00",
                    "2020-02-27T00:00:00",
                    "2020-02-28T00:00:00",
                    "2020-02-29T00:00:00",
                    "2020-03-01T00:00:00",
                    "2020-03-02T00:00:00",
                    "2020-03-03T00:00:00",
                    "2020-03-04T00:00:00",
                    "2020-03-05T00:00:00",
                    "2020-03-06T00:00:00",
                    "2020-03-07T00:00:00",
                    "2020-03-08T00:00:00",
                    "2020-03-09T00:00:00",
                    "2020-03-10T00:00:00",
                    "2020-03-11T00:00:00",
                    "2020-03-12T00:00:00",
                    "2020-03-13T00:00:00",
                    "2020-03-14T00:00:00",
                    "2020-03-15T00:00:00",
                    "2020-03-16T00:00:00",
                    "2020-03-17T00:00:00",
                    "2020-03-18T00:00:00",
                    "2020-03-19T00:00:00",
                    "2020-03-20T00:00:00",
                    "2020-03-21T00:00:00",
                    "2020-03-22T00:00:00",
                    "2020-03-23T00:00:00",
                    "2020-03-24T00:00:00",
                    "2020-03-25T00:00:00",
                    "2020-03-26T00:00:00",
                    "2020-03-27T00:00:00",
                    "2020-03-28T00:00:00",
                    "2020-03-29T00:00:00",
                    "2020-03-30T00:00:00",
                    "2020-03-31T00:00:00",
                    "2020-04-01T00:00:00",
                    "2020-04-02T00:00:00",
                    "2020-04-03T00:00:00",
                    "2020-04-04T00:00:00",
                    "2020-04-05T00:00:00",
                    "2020-04-06T00:00:00",
                    "2020-04-07T00:00:00",
                    "2020-04-08T00:00:00",
                    "2020-04-09T00:00:00",
                    "2020-04-10T00:00:00",
                    "2020-04-11T00:00:00",
                    "2020-04-12T00:00:00",
                    "2020-04-13T00:00:00",
                    "2020-04-14T00:00:00",
                    "2020-04-15T00:00:00",
                    "2020-04-16T00:00:00",
                    "2020-04-17T00:00:00",
                    "2020-04-18T00:00:00",
                    "2020-04-19T00:00:00",
                    "2020-04-20T00:00:00",
                    "2020-04-21T00:00:00",
                    "2020-04-22T00:00:00"
                  ],
                  "xaxis": "x",
                  "y": [
                    555,
                    654,
                    941,
                    1434,
                    2118,
                    2927,
                    5578,
                    6166,
                    8234,
                    9927,
                    12038,
                    16787,
                    19881,
                    23892,
                    27635,
                    30794,
                    34330,
                    37059,
                    40086,
                    42627,
                    44667,
                    46554,
                    60193,
                    66667,
                    68745,
                    70869,
                    72804,
                    74594,
                    75018,
                    75563,
                    76185,
                    77938,
                    78267,
                    78870,
                    79715,
                    80683,
                    82041,
                    83407,
                    85306,
                    87664,
                    89601,
                    92134,
                    94414,
                    97180,
                    101095,
                    105141,
                    109115,
                    112884,
                    117914,
                    125169,
                    127646,
                    144499,
                    155395,
                    166748,
                    180868,
                    196396,
                    214109,
                    241858,
                    271496,
                    303795,
                    336241,
                    377519,
                    417329,
                    466941,
                    528879,
                    592579,
                    659981,
                    719428,
                    781677,
                    856775,
                    931763,
                    1012612,
                    1094984,
                    1175143,
                    1248770,
                    1320417,
                    1395378,
                    1479090,
                    1564564,
                    1656812,
                    1734936,
                    1834007,
                    1904124,
                    1975477,
                    2055340,
                    2151723,
                    2239476,
                    2317044,
                    2400385,
                    2471542,
                    2548577,
                    2622698
                  ],
                  "yaxis": "y"
                },
                {
                  "hovertemplate": "variable=deaths<br>date=%{x}<br>value=%{y}<extra></extra>",
                  "legendgroup": "deaths",
                  "line": {
                    "color": "#EF553B",
                    "dash": "solid"
                  },
                  "mode": "lines",
                  "name": "deaths",
                  "showlegend": true,
                  "type": "scatter",
                  "x": [
                    "2020-01-22T00:00:00",
                    "2020-01-23T00:00:00",
                    "2020-01-24T00:00:00",
                    "2020-01-25T00:00:00",
                    "2020-01-26T00:00:00",
                    "2020-01-27T00:00:00",
                    "2020-01-28T00:00:00",
                    "2020-01-29T00:00:00",
                    "2020-01-30T00:00:00",
                    "2020-01-31T00:00:00",
                    "2020-02-01T00:00:00",
                    "2020-02-02T00:00:00",
                    "2020-02-03T00:00:00",
                    "2020-02-04T00:00:00",
                    "2020-02-05T00:00:00",
                    "2020-02-06T00:00:00",
                    "2020-02-07T00:00:00",
                    "2020-02-08T00:00:00",
                    "2020-02-09T00:00:00",
                    "2020-02-10T00:00:00",
                    "2020-02-11T00:00:00",
                    "2020-02-12T00:00:00",
                    "2020-02-13T00:00:00",
                    "2020-02-14T00:00:00",
                    "2020-02-15T00:00:00",
                    "2020-02-16T00:00:00",
                    "2020-02-17T00:00:00",
                    "2020-02-18T00:00:00",
                    "2020-02-19T00:00:00",
                    "2020-02-20T00:00:00",
                    "2020-02-21T00:00:00",
                    "2020-02-22T00:00:00",
                    "2020-02-23T00:00:00",
                    "2020-02-24T00:00:00",
                    "2020-02-25T00:00:00",
                    "2020-02-26T00:00:00",
                    "2020-02-27T00:00:00",
                    "2020-02-28T00:00:00",
                    "2020-02-29T00:00:00",
                    "2020-03-01T00:00:00",
                    "2020-03-02T00:00:00",
                    "2020-03-03T00:00:00",
                    "2020-03-04T00:00:00",
                    "2020-03-05T00:00:00",
                    "2020-03-06T00:00:00",
                    "2020-03-07T00:00:00",
                    "2020-03-08T00:00:00",
                    "2020-03-09T00:00:00",
                    "2020-03-10T00:00:00",
                    "2020-03-11T00:00:00",
                    "2020-03-12T00:00:00",
                    "2020-03-13T00:00:00",
                    "2020-03-14T00:00:00",
                    "2020-03-15T00:00:00",
                    "2020-03-16T00:00:00",
                    "2020-03-17T00:00:00",
                    "2020-03-18T00:00:00",
                    "2020-03-19T00:00:00",
                    "2020-03-20T00:00:00",
                    "2020-03-21T00:00:00",
                    "2020-03-22T00:00:00",
                    "2020-03-23T00:00:00",
                    "2020-03-24T00:00:00",
                    "2020-03-25T00:00:00",
                    "2020-03-26T00:00:00",
                    "2020-03-27T00:00:00",
                    "2020-03-28T00:00:00",
                    "2020-03-29T00:00:00",
                    "2020-03-30T00:00:00",
                    "2020-03-31T00:00:00",
                    "2020-04-01T00:00:00",
                    "2020-04-02T00:00:00",
                    "2020-04-03T00:00:00",
                    "2020-04-04T00:00:00",
                    "2020-04-05T00:00:00",
                    "2020-04-06T00:00:00",
                    "2020-04-07T00:00:00",
                    "2020-04-08T00:00:00",
                    "2020-04-09T00:00:00",
                    "2020-04-10T00:00:00",
                    "2020-04-11T00:00:00",
                    "2020-04-12T00:00:00",
                    "2020-04-13T00:00:00",
                    "2020-04-14T00:00:00",
                    "2020-04-15T00:00:00",
                    "2020-04-16T00:00:00",
                    "2020-04-17T00:00:00",
                    "2020-04-18T00:00:00",
                    "2020-04-19T00:00:00",
                    "2020-04-20T00:00:00",
                    "2020-04-21T00:00:00",
                    "2020-04-22T00:00:00"
                  ],
                  "xaxis": "x",
                  "y": [
                    17,
                    18,
                    26,
                    42,
                    56,
                    82,
                    131,
                    133,
                    171,
                    213,
                    259,
                    362,
                    426,
                    492,
                    564,
                    634,
                    719,
                    806,
                    906,
                    1013,
                    1113,
                    1118,
                    1371,
                    1523,
                    1666,
                    1770,
                    1868,
                    2007,
                    2122,
                    2245,
                    2249,
                    2456,
                    2466,
                    2626,
                    2705,
                    2766,
                    2810,
                    2866,
                    2935,
                    2990,
                    3079,
                    3154,
                    3248,
                    3342,
                    3454,
                    3552,
                    3796,
                    3982,
                    4256,
                    4608,
                    4713,
                    5397,
                    5812,
                    6433,
                    7119,
                    7898,
                    8726,
                    9860,
                    11292,
                    12965,
                    14642,
                    16496,
                    18614,
                    21170,
                    23959,
                    27187,
                    30641,
                    33914,
                    37571,
                    42097,
                    47171,
                    52974,
                    58778,
                    64595,
                    69362,
                    74553,
                    81925,
                    88335,
                    95509,
                    102522,
                    108499,
                    114088,
                    119481,
                    125984,
                    134178,
                    143803,
                    153823,
                    159497,
                    165031,
                    169973,
                    176570,
                    183014
                  ],
                  "yaxis": "y"
                },
                {
                  "hovertemplate": "variable=new cases<br>date=%{x}<br>value=%{y}<extra></extra>",
                  "legendgroup": "new cases",
                  "line": {
                    "color": "#00cc96",
                    "dash": "solid"
                  },
                  "mode": "lines",
                  "name": "new cases",
                  "showlegend": true,
                  "type": "scatter",
                  "x": [
                    "2020-01-22T00:00:00",
                    "2020-01-23T00:00:00",
                    "2020-01-24T00:00:00",
                    "2020-01-25T00:00:00",
                    "2020-01-26T00:00:00",
                    "2020-01-27T00:00:00",
                    "2020-01-28T00:00:00",
                    "2020-01-29T00:00:00",
                    "2020-01-30T00:00:00",
                    "2020-01-31T00:00:00",
                    "2020-02-01T00:00:00",
                    "2020-02-02T00:00:00",
                    "2020-02-03T00:00:00",
                    "2020-02-04T00:00:00",
                    "2020-02-05T00:00:00",
                    "2020-02-06T00:00:00",
                    "2020-02-07T00:00:00",
                    "2020-02-08T00:00:00",
                    "2020-02-09T00:00:00",
                    "2020-02-10T00:00:00",
                    "2020-02-11T00:00:00",
                    "2020-02-12T00:00:00",
                    "2020-02-13T00:00:00",
                    "2020-02-14T00:00:00",
                    "2020-02-15T00:00:00",
                    "2020-02-16T00:00:00",
                    "2020-02-17T00:00:00",
                    "2020-02-18T00:00:00",
                    "2020-02-19T00:00:00",
                    "2020-02-20T00:00:00",
                    "2020-02-21T00:00:00",
                    "2020-02-22T00:00:00",
                    "2020-02-23T00:00:00",
                    "2020-02-24T00:00:00",
                    "2020-02-25T00:00:00",
                    "2020-02-26T00:00:00",
                    "2020-02-27T00:00:00",
                    "2020-02-28T00:00:00",
                    "2020-02-29T00:00:00",
                    "2020-03-01T00:00:00",
                    "2020-03-02T00:00:00",
                    "2020-03-03T00:00:00",
                    "2020-03-04T00:00:00",
                    "2020-03-05T00:00:00",
                    "2020-03-06T00:00:00",
                    "2020-03-07T00:00:00",
                    "2020-03-08T00:00:00",
                    "2020-03-09T00:00:00",
                    "2020-03-10T00:00:00",
                    "2020-03-11T00:00:00",
                    "2020-03-12T00:00:00",
                    "2020-03-13T00:00:00",
                    "2020-03-14T00:00:00",
                    "2020-03-15T00:00:00",
                    "2020-03-16T00:00:00",
                    "2020-03-17T00:00:00",
                    "2020-03-18T00:00:00",
                    "2020-03-19T00:00:00",
                    "2020-03-20T00:00:00",
                    "2020-03-21T00:00:00",
                    "2020-03-22T00:00:00",
                    "2020-03-23T00:00:00",
                    "2020-03-24T00:00:00",
                    "2020-03-25T00:00:00",
                    "2020-03-26T00:00:00",
                    "2020-03-27T00:00:00",
                    "2020-03-28T00:00:00",
                    "2020-03-29T00:00:00",
                    "2020-03-30T00:00:00",
                    "2020-03-31T00:00:00",
                    "2020-04-01T00:00:00",
                    "2020-04-02T00:00:00",
                    "2020-04-03T00:00:00",
                    "2020-04-04T00:00:00",
                    "2020-04-05T00:00:00",
                    "2020-04-06T00:00:00",
                    "2020-04-07T00:00:00",
                    "2020-04-08T00:00:00",
                    "2020-04-09T00:00:00",
                    "2020-04-10T00:00:00",
                    "2020-04-11T00:00:00",
                    "2020-04-12T00:00:00",
                    "2020-04-13T00:00:00",
                    "2020-04-14T00:00:00",
                    "2020-04-15T00:00:00",
                    "2020-04-16T00:00:00",
                    "2020-04-17T00:00:00",
                    "2020-04-18T00:00:00",
                    "2020-04-19T00:00:00",
                    "2020-04-20T00:00:00",
                    "2020-04-21T00:00:00",
                    "2020-04-22T00:00:00"
                  ],
                  "xaxis": "x",
                  "y": [
                    null,
                    99,
                    287,
                    493,
                    684,
                    809,
                    2651,
                    588,
                    2068,
                    1693,
                    2111,
                    4749,
                    3094,
                    4011,
                    3743,
                    3159,
                    3536,
                    2729,
                    3027,
                    2541,
                    2040,
                    1887,
                    13639,
                    6474,
                    2078,
                    2124,
                    1935,
                    1790,
                    424,
                    545,
                    622,
                    1753,
                    329,
                    603,
                    845,
                    968,
                    1358,
                    1366,
                    1899,
                    2358,
                    1937,
                    2533,
                    2280,
                    2766,
                    3915,
                    4046,
                    3974,
                    3769,
                    5030,
                    7255,
                    2477,
                    16853,
                    10896,
                    11353,
                    14120,
                    15528,
                    17713,
                    27749,
                    29638,
                    32299,
                    32446,
                    41278,
                    39810,
                    49612,
                    61938,
                    63700,
                    67402,
                    59447,
                    62249,
                    75098,
                    74988,
                    80849,
                    82372,
                    80159,
                    73627,
                    71647,
                    74961,
                    83712,
                    85474,
                    92248,
                    78124,
                    99071,
                    70117,
                    71353,
                    79863,
                    96383,
                    87753,
                    77568,
                    83341,
                    71157,
                    77035,
                    74121
                  ],
                  "yaxis": "y"
                }
              ],
              "layout": {
                "legend": {
                  "title": {
                    "text": "variable"
                  },
                  "tracegroupgap": 0
                },
                "template": {
                  "data": {
                    "bar": [
                      {
                        "error_x": {
                          "color": "#f2f5fa"
                        },
                        "error_y": {
                          "color": "#f2f5fa"
                        },
                        "marker": {
                          "line": {
                            "color": "rgb(17,17,17)",
                            "width": 0.5
                          }
                        },
                        "type": "bar"
                      }
                    ],
                    "barpolar": [
                      {
                        "marker": {
                          "line": {
                            "color": "rgb(17,17,17)",
                            "width": 0.5
                          }
                        },
                        "type": "barpolar"
                      }
                    ],
                    "carpet": [
                      {
                        "aaxis": {
                          "endlinecolor": "#A2B1C6",
                          "gridcolor": "#506784",
                          "linecolor": "#506784",
                          "minorgridcolor": "#506784",
                          "startlinecolor": "#A2B1C6"
                        },
                        "baxis": {
                          "endlinecolor": "#A2B1C6",
                          "gridcolor": "#506784",
                          "linecolor": "#506784",
                          "minorgridcolor": "#506784",
                          "startlinecolor": "#A2B1C6"
                        },
                        "type": "carpet"
                      }
                    ],
                    "choropleth": [
                      {
                        "colorbar": {
                          "outlinewidth": 0,
                          "ticks": ""
                        },
                        "type": "choropleth"
                      }
                    ],
                    "contour": [
                      {
                        "colorbar": {
                          "outlinewidth": 0,
                          "ticks": ""
                        },
                        "colorscale": [
                          [
                            0,
                            "#0d0887"
                          ],
                          [
                            0.1111111111111111,
                            "#46039f"
                          ],
                          [
                            0.2222222222222222,
                            "#7201a8"
                          ],
                          [
                            0.3333333333333333,
                            "#9c179e"
                          ],
                          [
                            0.4444444444444444,
                            "#bd3786"
                          ],
                          [
                            0.5555555555555556,
                            "#d8576b"
                          ],
                          [
                            0.6666666666666666,
                            "#ed7953"
                          ],
                          [
                            0.7777777777777778,
                            "#fb9f3a"
                          ],
                          [
                            0.8888888888888888,
                            "#fdca26"
                          ],
                          [
                            1,
                            "#f0f921"
                          ]
                        ],
                        "type": "contour"
                      }
                    ],
                    "contourcarpet": [
                      {
                        "colorbar": {
                          "outlinewidth": 0,
                          "ticks": ""
                        },
                        "type": "contourcarpet"
                      }
                    ],
                    "heatmap": [
                      {
                        "colorbar": {
                          "outlinewidth": 0,
                          "ticks": ""
                        },
                        "colorscale": [
                          [
                            0,
                            "#0d0887"
                          ],
                          [
                            0.1111111111111111,
                            "#46039f"
                          ],
                          [
                            0.2222222222222222,
                            "#7201a8"
                          ],
                          [
                            0.3333333333333333,
                            "#9c179e"
                          ],
                          [
                            0.4444444444444444,
                            "#bd3786"
                          ],
                          [
                            0.5555555555555556,
                            "#d8576b"
                          ],
                          [
                            0.6666666666666666,
                            "#ed7953"
                          ],
                          [
                            0.7777777777777778,
                            "#fb9f3a"
                          ],
                          [
                            0.8888888888888888,
                            "#fdca26"
                          ],
                          [
                            1,
                            "#f0f921"
                          ]
                        ],
                        "type": "heatmap"
                      }
                    ],
                    "heatmapgl": [
                      {
                        "colorbar": {
                          "outlinewidth": 0,
                          "ticks": ""
                        },
                        "colorscale": [
                          [
                            0,
                            "#0d0887"
                          ],
                          [
                            0.1111111111111111,
                            "#46039f"
                          ],
                          [
                            0.2222222222222222,
                            "#7201a8"
                          ],
                          [
                            0.3333333333333333,
                            "#9c179e"
                          ],
                          [
                            0.4444444444444444,
                            "#bd3786"
                          ],
                          [
                            0.5555555555555556,
                            "#d8576b"
                          ],
                          [
                            0.6666666666666666,
                            "#ed7953"
                          ],
                          [
                            0.7777777777777778,
                            "#fb9f3a"
                          ],
                          [
                            0.8888888888888888,
                            "#fdca26"
                          ],
                          [
                            1,
                            "#f0f921"
                          ]
                        ],
                        "type": "heatmapgl"
                      }
                    ],
                    "histogram": [
                      {
                        "marker": {
                          "colorbar": {
                            "outlinewidth": 0,
                            "ticks": ""
                          }
                        },
                        "type": "histogram"
                      }
                    ],
                    "histogram2d": [
                      {
                        "colorbar": {
                          "outlinewidth": 0,
                          "ticks": ""
                        },
                        "colorscale": [
                          [
                            0,
                            "#0d0887"
                          ],
                          [
                            0.1111111111111111,
                            "#46039f"
                          ],
                          [
                            0.2222222222222222,
                            "#7201a8"
                          ],
                          [
                            0.3333333333333333,
                            "#9c179e"
                          ],
                          [
                            0.4444444444444444,
                            "#bd3786"
                          ],
                          [
                            0.5555555555555556,
                            "#d8576b"
                          ],
                          [
                            0.6666666666666666,
                            "#ed7953"
                          ],
                          [
                            0.7777777777777778,
                            "#fb9f3a"
                          ],
                          [
                            0.8888888888888888,
                            "#fdca26"
                          ],
                          [
                            1,
                            "#f0f921"
                          ]
                        ],
                        "type": "histogram2d"
                      }
                    ],
                    "histogram2dcontour": [
                      {
                        "colorbar": {
                          "outlinewidth": 0,
                          "ticks": ""
                        },
                        "colorscale": [
                          [
                            0,
                            "#0d0887"
                          ],
                          [
                            0.1111111111111111,
                            "#46039f"
                          ],
                          [
                            0.2222222222222222,
                            "#7201a8"
                          ],
                          [
                            0.3333333333333333,
                            "#9c179e"
                          ],
                          [
                            0.4444444444444444,
                            "#bd3786"
                          ],
                          [
                            0.5555555555555556,
                            "#d8576b"
                          ],
                          [
                            0.6666666666666666,
                            "#ed7953"
                          ],
                          [
                            0.7777777777777778,
                            "#fb9f3a"
                          ],
                          [
                            0.8888888888888888,
                            "#fdca26"
                          ],
                          [
                            1,
                            "#f0f921"
                          ]
                        ],
                        "type": "histogram2dcontour"
                      }
                    ],
                    "mesh3d": [
                      {
                        "colorbar": {
                          "outlinewidth": 0,
                          "ticks": ""
                        },
                        "type": "mesh3d"
                      }
                    ],
                    "parcoords": [
                      {
                        "line": {
                          "colorbar": {
                            "outlinewidth": 0,
                            "ticks": ""
                          }
                        },
                        "type": "parcoords"
                      }
                    ],
                    "pie": [
                      {
                        "automargin": true,
                        "type": "pie"
                      }
                    ],
                    "scatter": [
                      {
                        "marker": {
                          "line": {
                            "color": "#283442"
                          }
                        },
                        "type": "scatter"
                      }
                    ],
                    "scatter3d": [
                      {
                        "line": {
                          "colorbar": {
                            "outlinewidth": 0,
                            "ticks": ""
                          }
                        },
                        "marker": {
                          "colorbar": {
                            "outlinewidth": 0,
                            "ticks": ""
                          }
                        },
                        "type": "scatter3d"
                      }
                    ],
                    "scattercarpet": [
                      {
                        "marker": {
                          "colorbar": {
                            "outlinewidth": 0,
                            "ticks": ""
                          }
                        },
                        "type": "scattercarpet"
                      }
                    ],
                    "scattergeo": [
                      {
                        "marker": {
                          "colorbar": {
                            "outlinewidth": 0,
                            "ticks": ""
                          }
                        },
                        "type": "scattergeo"
                      }
                    ],
                    "scattergl": [
                      {
                        "marker": {
                          "line": {
                            "color": "#283442"
                          }
                        },
                        "type": "scattergl"
                      }
                    ],
                    "scattermapbox": [
                      {
                        "marker": {
                          "colorbar": {
                            "outlinewidth": 0,
                            "ticks": ""
                          }
                        },
                        "type": "scattermapbox"
                      }
                    ],
                    "scatterpolar": [
                      {
                        "marker": {
                          "colorbar": {
                            "outlinewidth": 0,
                            "ticks": ""
                          }
                        },
                        "type": "scatterpolar"
                      }
                    ],
                    "scatterpolargl": [
                      {
                        "marker": {
                          "colorbar": {
                            "outlinewidth": 0,
                            "ticks": ""
                          }
                        },
                        "type": "scatterpolargl"
                      }
                    ],
                    "scatterternary": [
                      {
                        "marker": {
                          "colorbar": {
                            "outlinewidth": 0,
                            "ticks": ""
                          }
                        },
                        "type": "scatterternary"
                      }
                    ],
                    "surface": [
                      {
                        "colorbar": {
                          "outlinewidth": 0,
                          "ticks": ""
                        },
                        "colorscale": [
                          [
                            0,
                            "#0d0887"
                          ],
                          [
                            0.1111111111111111,
                            "#46039f"
                          ],
                          [
                            0.2222222222222222,
                            "#7201a8"
                          ],
                          [
                            0.3333333333333333,
                            "#9c179e"
                          ],
                          [
                            0.4444444444444444,
                            "#bd3786"
                          ],
                          [
                            0.5555555555555556,
                            "#d8576b"
                          ],
                          [
                            0.6666666666666666,
                            "#ed7953"
                          ],
                          [
                            0.7777777777777778,
                            "#fb9f3a"
                          ],
                          [
                            0.8888888888888888,
                            "#fdca26"
                          ],
                          [
                            1,
                            "#f0f921"
                          ]
                        ],
                        "type": "surface"
                      }
                    ],
                    "table": [
                      {
                        "cells": {
                          "fill": {
                            "color": "#506784"
                          },
                          "line": {
                            "color": "rgb(17,17,17)"
                          }
                        },
                        "header": {
                          "fill": {
                            "color": "#2a3f5f"
                          },
                          "line": {
                            "color": "rgb(17,17,17)"
                          }
                        },
                        "type": "table"
                      }
                    ]
                  },
                  "layout": {
                    "annotationdefaults": {
                      "arrowcolor": "#f2f5fa",
                      "arrowhead": 0,
                      "arrowwidth": 1
                    },
                    "coloraxis": {
                      "colorbar": {
                        "outlinewidth": 0,
                        "ticks": ""
                      }
                    },
                    "colorscale": {
                      "diverging": [
                        [
                          0,
                          "#8e0152"
                        ],
                        [
                          0.1,
                          "#c51b7d"
                        ],
                        [
                          0.2,
                          "#de77ae"
                        ],
                        [
                          0.3,
                          "#f1b6da"
                        ],
                        [
                          0.4,
                          "#fde0ef"
                        ],
                        [
                          0.5,
                          "#f7f7f7"
                        ],
                        [
                          0.6,
                          "#e6f5d0"
                        ],
                        [
                          0.7,
                          "#b8e186"
                        ],
                        [
                          0.8,
                          "#7fbc41"
                        ],
                        [
                          0.9,
                          "#4d9221"
                        ],
                        [
                          1,
                          "#276419"
                        ]
                      ],
                      "sequential": [
                        [
                          0,
                          "#0d0887"
                        ],
                        [
                          0.1111111111111111,
                          "#46039f"
                        ],
                        [
                          0.2222222222222222,
                          "#7201a8"
                        ],
                        [
                          0.3333333333333333,
                          "#9c179e"
                        ],
                        [
                          0.4444444444444444,
                          "#bd3786"
                        ],
                        [
                          0.5555555555555556,
                          "#d8576b"
                        ],
                        [
                          0.6666666666666666,
                          "#ed7953"
                        ],
                        [
                          0.7777777777777778,
                          "#fb9f3a"
                        ],
                        [
                          0.8888888888888888,
                          "#fdca26"
                        ],
                        [
                          1,
                          "#f0f921"
                        ]
                      ],
                      "sequentialminus": [
                        [
                          0,
                          "#0d0887"
                        ],
                        [
                          0.1111111111111111,
                          "#46039f"
                        ],
                        [
                          0.2222222222222222,
                          "#7201a8"
                        ],
                        [
                          0.3333333333333333,
                          "#9c179e"
                        ],
                        [
                          0.4444444444444444,
                          "#bd3786"
                        ],
                        [
                          0.5555555555555556,
                          "#d8576b"
                        ],
                        [
                          0.6666666666666666,
                          "#ed7953"
                        ],
                        [
                          0.7777777777777778,
                          "#fb9f3a"
                        ],
                        [
                          0.8888888888888888,
                          "#fdca26"
                        ],
                        [
                          1,
                          "#f0f921"
                        ]
                      ]
                    },
                    "colorway": [
                      "#636efa",
                      "#EF553B",
                      "#00cc96",
                      "#ab63fa",
                      "#FFA15A",
                      "#19d3f3",
                      "#FF6692",
                      "#B6E880",
                      "#FF97FF",
                      "#FECB52"
                    ],
                    "font": {
                      "color": "#f2f5fa"
                    },
                    "geo": {
                      "bgcolor": "rgb(17,17,17)",
                      "lakecolor": "rgb(17,17,17)",
                      "landcolor": "rgb(17,17,17)",
                      "showlakes": true,
                      "showland": true,
                      "subunitcolor": "#506784"
                    },
                    "hoverlabel": {
                      "align": "left"
                    },
                    "hovermode": "closest",
                    "mapbox": {
                      "style": "dark"
                    },
                    "paper_bgcolor": "rgb(17,17,17)",
                    "plot_bgcolor": "rgb(17,17,17)",
                    "polar": {
                      "angularaxis": {
                        "gridcolor": "#506784",
                        "linecolor": "#506784",
                        "ticks": ""
                      },
                      "bgcolor": "rgb(17,17,17)",
                      "radialaxis": {
                        "gridcolor": "#506784",
                        "linecolor": "#506784",
                        "ticks": ""
                      }
                    },
                    "scene": {
                      "xaxis": {
                        "backgroundcolor": "rgb(17,17,17)",
                        "gridcolor": "#506784",
                        "gridwidth": 2,
                        "linecolor": "#506784",
                        "showbackground": true,
                        "ticks": "",
                        "zerolinecolor": "#C8D4E3"
                      },
                      "yaxis": {
                        "backgroundcolor": "rgb(17,17,17)",
                        "gridcolor": "#506784",
                        "gridwidth": 2,
                        "linecolor": "#506784",
                        "showbackground": true,
                        "ticks": "",
                        "zerolinecolor": "#C8D4E3"
                      },
                      "zaxis": {
                        "backgroundcolor": "rgb(17,17,17)",
                        "gridcolor": "#506784",
                        "gridwidth": 2,
                        "linecolor": "#506784",
                        "showbackground": true,
                        "ticks": "",
                        "zerolinecolor": "#C8D4E3"
                      }
                    },
                    "shapedefaults": {
                      "line": {
                        "color": "#f2f5fa"
                      }
                    },
                    "sliderdefaults": {
                      "bgcolor": "#C8D4E3",
                      "bordercolor": "rgb(17,17,17)",
                      "borderwidth": 1,
                      "tickwidth": 0
                    },
                    "ternary": {
                      "aaxis": {
                        "gridcolor": "#506784",
                        "linecolor": "#506784",
                        "ticks": ""
                      },
                      "baxis": {
                        "gridcolor": "#506784",
                        "linecolor": "#506784",
                        "ticks": ""
                      },
                      "bgcolor": "rgb(17,17,17)",
                      "caxis": {
                        "gridcolor": "#506784",
                        "linecolor": "#506784",
                        "ticks": ""
                      }
                    },
                    "title": {
                      "x": 0.05
                    },
                    "updatemenudefaults": {
                      "bgcolor": "#506784",
                      "borderwidth": 0
                    },
                    "xaxis": {
                      "automargin": true,
                      "gridcolor": "#283442",
                      "linecolor": "#506784",
                      "ticks": "",
                      "title": {
                        "standoff": 15
                      },
                      "zerolinecolor": "#283442",
                      "zerolinewidth": 2
                    },
                    "yaxis": {
                      "automargin": true,
                      "gridcolor": "#283442",
                      "linecolor": "#506784",
                      "ticks": "",
                      "title": {
                        "standoff": 15
                      },
                      "zerolinecolor": "#283442",
                      "zerolinewidth": 2
                    }
                  }
                },
                "title": {
                  "text": "Worldwide Confirmed/Fatalities & New Cases as on 2020-04-22 00:00:00"
                },
                "xaxis": {
                  "anchor": "y",
                  "domain": [
                    0,
                    1
                  ],
                  "title": {
                    "text": "date"
                  }
                },
                "yaxis": {
                  "anchor": "x",
                  "domain": [
                    0,
                    1
                  ],
                  "title": {
                    "text": "value"
                  }
                }
              }
            },
            "text/html": [
              "<div>\n",
              "        \n",
              "        \n",
              "            <div id=\"43f42cfb-bc9e-4f29-b738-740f33e6be6e\" class=\"plotly-graph-div\" style=\"height:525px; width:100%;\"></div>\n",
              "            <script type=\"text/javascript\">\n",
              "                require([\"plotly\"], function(Plotly) {\n",
              "                    window.PLOTLYENV=window.PLOTLYENV || {};\n",
              "                    \n",
              "                if (document.getElementById(\"43f42cfb-bc9e-4f29-b738-740f33e6be6e\")) {\n",
              "                    Plotly.newPlot(\n",
              "                        '43f42cfb-bc9e-4f29-b738-740f33e6be6e',\n",
              "                        [{\"hovertemplate\": \"variable=confirmed<br>date=%{x}<br>value=%{y}<extra></extra>\", \"legendgroup\": \"confirmed\", \"line\": {\"color\": \"#636efa\", \"dash\": \"solid\"}, \"mode\": \"lines\", \"name\": \"confirmed\", \"showlegend\": true, \"type\": \"scatter\", \"x\": [\"2020-01-22T00:00:00\", \"2020-01-23T00:00:00\", \"2020-01-24T00:00:00\", \"2020-01-25T00:00:00\", \"2020-01-26T00:00:00\", \"2020-01-27T00:00:00\", \"2020-01-28T00:00:00\", \"2020-01-29T00:00:00\", \"2020-01-30T00:00:00\", \"2020-01-31T00:00:00\", \"2020-02-01T00:00:00\", \"2020-02-02T00:00:00\", \"2020-02-03T00:00:00\", \"2020-02-04T00:00:00\", \"2020-02-05T00:00:00\", \"2020-02-06T00:00:00\", \"2020-02-07T00:00:00\", \"2020-02-08T00:00:00\", \"2020-02-09T00:00:00\", \"2020-02-10T00:00:00\", \"2020-02-11T00:00:00\", \"2020-02-12T00:00:00\", \"2020-02-13T00:00:00\", \"2020-02-14T00:00:00\", \"2020-02-15T00:00:00\", \"2020-02-16T00:00:00\", \"2020-02-17T00:00:00\", \"2020-02-18T00:00:00\", \"2020-02-19T00:00:00\", \"2020-02-20T00:00:00\", \"2020-02-21T00:00:00\", \"2020-02-22T00:00:00\", \"2020-02-23T00:00:00\", \"2020-02-24T00:00:00\", \"2020-02-25T00:00:00\", \"2020-02-26T00:00:00\", \"2020-02-27T00:00:00\", \"2020-02-28T00:00:00\", \"2020-02-29T00:00:00\", \"2020-03-01T00:00:00\", \"2020-03-02T00:00:00\", \"2020-03-03T00:00:00\", \"2020-03-04T00:00:00\", \"2020-03-05T00:00:00\", \"2020-03-06T00:00:00\", \"2020-03-07T00:00:00\", \"2020-03-08T00:00:00\", \"2020-03-09T00:00:00\", \"2020-03-10T00:00:00\", \"2020-03-11T00:00:00\", \"2020-03-12T00:00:00\", \"2020-03-13T00:00:00\", \"2020-03-14T00:00:00\", \"2020-03-15T00:00:00\", \"2020-03-16T00:00:00\", \"2020-03-17T00:00:00\", \"2020-03-18T00:00:00\", \"2020-03-19T00:00:00\", \"2020-03-20T00:00:00\", \"2020-03-21T00:00:00\", \"2020-03-22T00:00:00\", \"2020-03-23T00:00:00\", \"2020-03-24T00:00:00\", \"2020-03-25T00:00:00\", \"2020-03-26T00:00:00\", \"2020-03-27T00:00:00\", \"2020-03-28T00:00:00\", \"2020-03-29T00:00:00\", \"2020-03-30T00:00:00\", \"2020-03-31T00:00:00\", \"2020-04-01T00:00:00\", \"2020-04-02T00:00:00\", \"2020-04-03T00:00:00\", \"2020-04-04T00:00:00\", \"2020-04-05T00:00:00\", \"2020-04-06T00:00:00\", \"2020-04-07T00:00:00\", \"2020-04-08T00:00:00\", \"2020-04-09T00:00:00\", \"2020-04-10T00:00:00\", \"2020-04-11T00:00:00\", \"2020-04-12T00:00:00\", \"2020-04-13T00:00:00\", \"2020-04-14T00:00:00\", \"2020-04-15T00:00:00\", \"2020-04-16T00:00:00\", \"2020-04-17T00:00:00\", \"2020-04-18T00:00:00\", \"2020-04-19T00:00:00\", \"2020-04-20T00:00:00\", \"2020-04-21T00:00:00\", \"2020-04-22T00:00:00\"], \"xaxis\": \"x\", \"y\": [555.0, 654.0, 941.0, 1434.0, 2118.0, 2927.0, 5578.0, 6166.0, 8234.0, 9927.0, 12038.0, 16787.0, 19881.0, 23892.0, 27635.0, 30794.0, 34330.0, 37059.0, 40086.0, 42627.0, 44667.0, 46554.0, 60193.0, 66667.0, 68745.0, 70869.0, 72804.0, 74594.0, 75018.0, 75563.0, 76185.0, 77938.0, 78267.0, 78870.0, 79715.0, 80683.0, 82041.0, 83407.0, 85306.0, 87664.0, 89601.0, 92134.0, 94414.0, 97180.0, 101095.0, 105141.0, 109115.0, 112884.0, 117914.0, 125169.0, 127646.0, 144499.0, 155395.0, 166748.0, 180868.0, 196396.0, 214109.0, 241858.0, 271496.0, 303795.0, 336241.0, 377519.0, 417329.0, 466941.0, 528879.0, 592579.0, 659981.0, 719428.0, 781677.0, 856775.0, 931763.0, 1012612.0, 1094984.0, 1175143.0, 1248770.0, 1320417.0, 1395378.0, 1479090.0, 1564564.0, 1656812.0, 1734936.0, 1834007.0, 1904124.0, 1975477.0, 2055340.0, 2151723.0, 2239476.0, 2317044.0, 2400385.0, 2471542.0, 2548577.0, 2622698.0], \"yaxis\": \"y\"}, {\"hovertemplate\": \"variable=deaths<br>date=%{x}<br>value=%{y}<extra></extra>\", \"legendgroup\": \"deaths\", \"line\": {\"color\": \"#EF553B\", \"dash\": \"solid\"}, \"mode\": \"lines\", \"name\": \"deaths\", \"showlegend\": true, \"type\": \"scatter\", \"x\": [\"2020-01-22T00:00:00\", \"2020-01-23T00:00:00\", \"2020-01-24T00:00:00\", \"2020-01-25T00:00:00\", \"2020-01-26T00:00:00\", \"2020-01-27T00:00:00\", \"2020-01-28T00:00:00\", \"2020-01-29T00:00:00\", \"2020-01-30T00:00:00\", \"2020-01-31T00:00:00\", \"2020-02-01T00:00:00\", \"2020-02-02T00:00:00\", \"2020-02-03T00:00:00\", \"2020-02-04T00:00:00\", \"2020-02-05T00:00:00\", \"2020-02-06T00:00:00\", \"2020-02-07T00:00:00\", \"2020-02-08T00:00:00\", \"2020-02-09T00:00:00\", \"2020-02-10T00:00:00\", \"2020-02-11T00:00:00\", \"2020-02-12T00:00:00\", \"2020-02-13T00:00:00\", \"2020-02-14T00:00:00\", \"2020-02-15T00:00:00\", \"2020-02-16T00:00:00\", \"2020-02-17T00:00:00\", \"2020-02-18T00:00:00\", \"2020-02-19T00:00:00\", \"2020-02-20T00:00:00\", \"2020-02-21T00:00:00\", \"2020-02-22T00:00:00\", \"2020-02-23T00:00:00\", \"2020-02-24T00:00:00\", \"2020-02-25T00:00:00\", \"2020-02-26T00:00:00\", \"2020-02-27T00:00:00\", \"2020-02-28T00:00:00\", \"2020-02-29T00:00:00\", \"2020-03-01T00:00:00\", \"2020-03-02T00:00:00\", \"2020-03-03T00:00:00\", \"2020-03-04T00:00:00\", \"2020-03-05T00:00:00\", \"2020-03-06T00:00:00\", \"2020-03-07T00:00:00\", \"2020-03-08T00:00:00\", \"2020-03-09T00:00:00\", \"2020-03-10T00:00:00\", \"2020-03-11T00:00:00\", \"2020-03-12T00:00:00\", \"2020-03-13T00:00:00\", \"2020-03-14T00:00:00\", \"2020-03-15T00:00:00\", \"2020-03-16T00:00:00\", \"2020-03-17T00:00:00\", \"2020-03-18T00:00:00\", \"2020-03-19T00:00:00\", \"2020-03-20T00:00:00\", \"2020-03-21T00:00:00\", \"2020-03-22T00:00:00\", \"2020-03-23T00:00:00\", \"2020-03-24T00:00:00\", \"2020-03-25T00:00:00\", \"2020-03-26T00:00:00\", \"2020-03-27T00:00:00\", \"2020-03-28T00:00:00\", \"2020-03-29T00:00:00\", \"2020-03-30T00:00:00\", \"2020-03-31T00:00:00\", \"2020-04-01T00:00:00\", \"2020-04-02T00:00:00\", \"2020-04-03T00:00:00\", \"2020-04-04T00:00:00\", \"2020-04-05T00:00:00\", \"2020-04-06T00:00:00\", \"2020-04-07T00:00:00\", \"2020-04-08T00:00:00\", \"2020-04-09T00:00:00\", \"2020-04-10T00:00:00\", \"2020-04-11T00:00:00\", \"2020-04-12T00:00:00\", \"2020-04-13T00:00:00\", \"2020-04-14T00:00:00\", \"2020-04-15T00:00:00\", \"2020-04-16T00:00:00\", \"2020-04-17T00:00:00\", \"2020-04-18T00:00:00\", \"2020-04-19T00:00:00\", \"2020-04-20T00:00:00\", \"2020-04-21T00:00:00\", \"2020-04-22T00:00:00\"], \"xaxis\": \"x\", \"y\": [17.0, 18.0, 26.0, 42.0, 56.0, 82.0, 131.0, 133.0, 171.0, 213.0, 259.0, 362.0, 426.0, 492.0, 564.0, 634.0, 719.0, 806.0, 906.0, 1013.0, 1113.0, 1118.0, 1371.0, 1523.0, 1666.0, 1770.0, 1868.0, 2007.0, 2122.0, 2245.0, 2249.0, 2456.0, 2466.0, 2626.0, 2705.0, 2766.0, 2810.0, 2866.0, 2935.0, 2990.0, 3079.0, 3154.0, 3248.0, 3342.0, 3454.0, 3552.0, 3796.0, 3982.0, 4256.0, 4608.0, 4713.0, 5397.0, 5812.0, 6433.0, 7119.0, 7898.0, 8726.0, 9860.0, 11292.0, 12965.0, 14642.0, 16496.0, 18614.0, 21170.0, 23959.0, 27187.0, 30641.0, 33914.0, 37571.0, 42097.0, 47171.0, 52974.0, 58778.0, 64595.0, 69362.0, 74553.0, 81925.0, 88335.0, 95509.0, 102522.0, 108499.0, 114088.0, 119481.0, 125984.0, 134178.0, 143803.0, 153823.0, 159497.0, 165031.0, 169973.0, 176570.0, 183014.0], \"yaxis\": \"y\"}, {\"hovertemplate\": \"variable=new cases<br>date=%{x}<br>value=%{y}<extra></extra>\", \"legendgroup\": \"new cases\", \"line\": {\"color\": \"#00cc96\", \"dash\": \"solid\"}, \"mode\": \"lines\", \"name\": \"new cases\", \"showlegend\": true, \"type\": \"scatter\", \"x\": [\"2020-01-22T00:00:00\", \"2020-01-23T00:00:00\", \"2020-01-24T00:00:00\", \"2020-01-25T00:00:00\", \"2020-01-26T00:00:00\", \"2020-01-27T00:00:00\", \"2020-01-28T00:00:00\", \"2020-01-29T00:00:00\", \"2020-01-30T00:00:00\", \"2020-01-31T00:00:00\", \"2020-02-01T00:00:00\", \"2020-02-02T00:00:00\", \"2020-02-03T00:00:00\", \"2020-02-04T00:00:00\", \"2020-02-05T00:00:00\", \"2020-02-06T00:00:00\", \"2020-02-07T00:00:00\", \"2020-02-08T00:00:00\", \"2020-02-09T00:00:00\", \"2020-02-10T00:00:00\", \"2020-02-11T00:00:00\", \"2020-02-12T00:00:00\", \"2020-02-13T00:00:00\", \"2020-02-14T00:00:00\", \"2020-02-15T00:00:00\", \"2020-02-16T00:00:00\", \"2020-02-17T00:00:00\", \"2020-02-18T00:00:00\", \"2020-02-19T00:00:00\", \"2020-02-20T00:00:00\", \"2020-02-21T00:00:00\", \"2020-02-22T00:00:00\", \"2020-02-23T00:00:00\", \"2020-02-24T00:00:00\", \"2020-02-25T00:00:00\", \"2020-02-26T00:00:00\", \"2020-02-27T00:00:00\", \"2020-02-28T00:00:00\", \"2020-02-29T00:00:00\", \"2020-03-01T00:00:00\", \"2020-03-02T00:00:00\", \"2020-03-03T00:00:00\", \"2020-03-04T00:00:00\", \"2020-03-05T00:00:00\", \"2020-03-06T00:00:00\", \"2020-03-07T00:00:00\", \"2020-03-08T00:00:00\", \"2020-03-09T00:00:00\", \"2020-03-10T00:00:00\", \"2020-03-11T00:00:00\", \"2020-03-12T00:00:00\", \"2020-03-13T00:00:00\", \"2020-03-14T00:00:00\", \"2020-03-15T00:00:00\", \"2020-03-16T00:00:00\", \"2020-03-17T00:00:00\", \"2020-03-18T00:00:00\", \"2020-03-19T00:00:00\", \"2020-03-20T00:00:00\", \"2020-03-21T00:00:00\", \"2020-03-22T00:00:00\", \"2020-03-23T00:00:00\", \"2020-03-24T00:00:00\", \"2020-03-25T00:00:00\", \"2020-03-26T00:00:00\", \"2020-03-27T00:00:00\", \"2020-03-28T00:00:00\", \"2020-03-29T00:00:00\", \"2020-03-30T00:00:00\", \"2020-03-31T00:00:00\", \"2020-04-01T00:00:00\", \"2020-04-02T00:00:00\", \"2020-04-03T00:00:00\", \"2020-04-04T00:00:00\", \"2020-04-05T00:00:00\", \"2020-04-06T00:00:00\", \"2020-04-07T00:00:00\", \"2020-04-08T00:00:00\", \"2020-04-09T00:00:00\", \"2020-04-10T00:00:00\", \"2020-04-11T00:00:00\", \"2020-04-12T00:00:00\", \"2020-04-13T00:00:00\", \"2020-04-14T00:00:00\", \"2020-04-15T00:00:00\", \"2020-04-16T00:00:00\", \"2020-04-17T00:00:00\", \"2020-04-18T00:00:00\", \"2020-04-19T00:00:00\", \"2020-04-20T00:00:00\", \"2020-04-21T00:00:00\", \"2020-04-22T00:00:00\"], \"xaxis\": \"x\", \"y\": [null, 99.0, 287.0, 493.0, 684.0, 809.0, 2651.0, 588.0, 2068.0, 1693.0, 2111.0, 4749.0, 3094.0, 4011.0, 3743.0, 3159.0, 3536.0, 2729.0, 3027.0, 2541.0, 2040.0, 1887.0, 13639.0, 6474.0, 2078.0, 2124.0, 1935.0, 1790.0, 424.0, 545.0, 622.0, 1753.0, 329.0, 603.0, 845.0, 968.0, 1358.0, 1366.0, 1899.0, 2358.0, 1937.0, 2533.0, 2280.0, 2766.0, 3915.0, 4046.0, 3974.0, 3769.0, 5030.0, 7255.0, 2477.0, 16853.0, 10896.0, 11353.0, 14120.0, 15528.0, 17713.0, 27749.0, 29638.0, 32299.0, 32446.0, 41278.0, 39810.0, 49612.0, 61938.0, 63700.0, 67402.0, 59447.0, 62249.0, 75098.0, 74988.0, 80849.0, 82372.0, 80159.0, 73627.0, 71647.0, 74961.0, 83712.0, 85474.0, 92248.0, 78124.0, 99071.0, 70117.0, 71353.0, 79863.0, 96383.0, 87753.0, 77568.0, 83341.0, 71157.0, 77035.0, 74121.0], \"yaxis\": \"y\"}],\n",
              "                        {\"legend\": {\"title\": {\"text\": \"variable\"}, \"tracegroupgap\": 0}, \"template\": {\"data\": {\"bar\": [{\"error_x\": {\"color\": \"#f2f5fa\"}, \"error_y\": {\"color\": \"#f2f5fa\"}, \"marker\": {\"line\": {\"color\": \"rgb(17,17,17)\", \"width\": 0.5}}, \"type\": \"bar\"}], \"barpolar\": [{\"marker\": {\"line\": {\"color\": \"rgb(17,17,17)\", \"width\": 0.5}}, \"type\": \"barpolar\"}], \"carpet\": [{\"aaxis\": {\"endlinecolor\": \"#A2B1C6\", \"gridcolor\": \"#506784\", \"linecolor\": \"#506784\", \"minorgridcolor\": \"#506784\", \"startlinecolor\": \"#A2B1C6\"}, \"baxis\": {\"endlinecolor\": \"#A2B1C6\", \"gridcolor\": \"#506784\", \"linecolor\": \"#506784\", \"minorgridcolor\": \"#506784\", \"startlinecolor\": \"#A2B1C6\"}, \"type\": \"carpet\"}], \"choropleth\": [{\"colorbar\": {\"outlinewidth\": 0, \"ticks\": \"\"}, \"type\": \"choropleth\"}], \"contour\": [{\"colorbar\": {\"outlinewidth\": 0, \"ticks\": \"\"}, \"colorscale\": [[0.0, \"#0d0887\"], [0.1111111111111111, \"#46039f\"], [0.2222222222222222, \"#7201a8\"], [0.3333333333333333, \"#9c179e\"], [0.4444444444444444, \"#bd3786\"], [0.5555555555555556, \"#d8576b\"], [0.6666666666666666, \"#ed7953\"], [0.7777777777777778, \"#fb9f3a\"], [0.8888888888888888, \"#fdca26\"], [1.0, \"#f0f921\"]], \"type\": \"contour\"}], \"contourcarpet\": [{\"colorbar\": {\"outlinewidth\": 0, \"ticks\": \"\"}, \"type\": \"contourcarpet\"}], \"heatmap\": [{\"colorbar\": {\"outlinewidth\": 0, \"ticks\": \"\"}, \"colorscale\": [[0.0, \"#0d0887\"], [0.1111111111111111, \"#46039f\"], [0.2222222222222222, \"#7201a8\"], [0.3333333333333333, \"#9c179e\"], [0.4444444444444444, \"#bd3786\"], [0.5555555555555556, \"#d8576b\"], [0.6666666666666666, \"#ed7953\"], [0.7777777777777778, \"#fb9f3a\"], [0.8888888888888888, \"#fdca26\"], [1.0, \"#f0f921\"]], \"type\": \"heatmap\"}], \"heatmapgl\": [{\"colorbar\": {\"outlinewidth\": 0, \"ticks\": \"\"}, \"colorscale\": [[0.0, \"#0d0887\"], [0.1111111111111111, \"#46039f\"], [0.2222222222222222, \"#7201a8\"], [0.3333333333333333, \"#9c179e\"], [0.4444444444444444, \"#bd3786\"], [0.5555555555555556, \"#d8576b\"], [0.6666666666666666, \"#ed7953\"], [0.7777777777777778, \"#fb9f3a\"], [0.8888888888888888, \"#fdca26\"], [1.0, \"#f0f921\"]], \"type\": \"heatmapgl\"}], \"histogram\": [{\"marker\": {\"colorbar\": {\"outlinewidth\": 0, \"ticks\": \"\"}}, \"type\": \"histogram\"}], \"histogram2d\": [{\"colorbar\": {\"outlinewidth\": 0, \"ticks\": \"\"}, \"colorscale\": [[0.0, \"#0d0887\"], [0.1111111111111111, \"#46039f\"], [0.2222222222222222, \"#7201a8\"], [0.3333333333333333, \"#9c179e\"], [0.4444444444444444, \"#bd3786\"], [0.5555555555555556, \"#d8576b\"], [0.6666666666666666, \"#ed7953\"], [0.7777777777777778, \"#fb9f3a\"], [0.8888888888888888, \"#fdca26\"], [1.0, \"#f0f921\"]], \"type\": \"histogram2d\"}], \"histogram2dcontour\": [{\"colorbar\": {\"outlinewidth\": 0, \"ticks\": \"\"}, \"colorscale\": [[0.0, \"#0d0887\"], [0.1111111111111111, \"#46039f\"], [0.2222222222222222, \"#7201a8\"], [0.3333333333333333, \"#9c179e\"], [0.4444444444444444, \"#bd3786\"], [0.5555555555555556, \"#d8576b\"], [0.6666666666666666, \"#ed7953\"], [0.7777777777777778, \"#fb9f3a\"], [0.8888888888888888, \"#fdca26\"], [1.0, \"#f0f921\"]], \"type\": \"histogram2dcontour\"}], \"mesh3d\": [{\"colorbar\": {\"outlinewidth\": 0, \"ticks\": \"\"}, \"type\": \"mesh3d\"}], \"parcoords\": [{\"line\": {\"colorbar\": {\"outlinewidth\": 0, \"ticks\": \"\"}}, \"type\": \"parcoords\"}], \"pie\": [{\"automargin\": true, \"type\": \"pie\"}], \"scatter\": [{\"marker\": {\"line\": {\"color\": \"#283442\"}}, \"type\": \"scatter\"}], \"scatter3d\": [{\"line\": {\"colorbar\": {\"outlinewidth\": 0, \"ticks\": \"\"}}, \"marker\": {\"colorbar\": {\"outlinewidth\": 0, \"ticks\": \"\"}}, \"type\": \"scatter3d\"}], \"scattercarpet\": [{\"marker\": {\"colorbar\": {\"outlinewidth\": 0, \"ticks\": \"\"}}, \"type\": \"scattercarpet\"}], \"scattergeo\": [{\"marker\": {\"colorbar\": {\"outlinewidth\": 0, \"ticks\": \"\"}}, \"type\": \"scattergeo\"}], \"scattergl\": [{\"marker\": {\"line\": {\"color\": \"#283442\"}}, \"type\": \"scattergl\"}], \"scattermapbox\": [{\"marker\": {\"colorbar\": {\"outlinewidth\": 0, \"ticks\": \"\"}}, \"type\": \"scattermapbox\"}], \"scatterpolar\": [{\"marker\": {\"colorbar\": {\"outlinewidth\": 0, \"ticks\": \"\"}}, \"type\": \"scatterpolar\"}], \"scatterpolargl\": [{\"marker\": {\"colorbar\": {\"outlinewidth\": 0, \"ticks\": \"\"}}, \"type\": \"scatterpolargl\"}], \"scatterternary\": [{\"marker\": {\"colorbar\": {\"outlinewidth\": 0, \"ticks\": \"\"}}, \"type\": \"scatterternary\"}], \"surface\": [{\"colorbar\": {\"outlinewidth\": 0, \"ticks\": \"\"}, \"colorscale\": [[0.0, \"#0d0887\"], [0.1111111111111111, \"#46039f\"], [0.2222222222222222, \"#7201a8\"], [0.3333333333333333, \"#9c179e\"], [0.4444444444444444, \"#bd3786\"], [0.5555555555555556, \"#d8576b\"], [0.6666666666666666, \"#ed7953\"], [0.7777777777777778, \"#fb9f3a\"], [0.8888888888888888, \"#fdca26\"], [1.0, \"#f0f921\"]], \"type\": \"surface\"}], \"table\": [{\"cells\": {\"fill\": {\"color\": \"#506784\"}, \"line\": {\"color\": \"rgb(17,17,17)\"}}, \"header\": {\"fill\": {\"color\": \"#2a3f5f\"}, \"line\": {\"color\": \"rgb(17,17,17)\"}}, \"type\": \"table\"}]}, \"layout\": {\"annotationdefaults\": {\"arrowcolor\": \"#f2f5fa\", \"arrowhead\": 0, \"arrowwidth\": 1}, \"coloraxis\": {\"colorbar\": {\"outlinewidth\": 0, \"ticks\": \"\"}}, \"colorscale\": {\"diverging\": [[0, \"#8e0152\"], [0.1, \"#c51b7d\"], [0.2, \"#de77ae\"], [0.3, \"#f1b6da\"], [0.4, \"#fde0ef\"], [0.5, \"#f7f7f7\"], [0.6, \"#e6f5d0\"], [0.7, \"#b8e186\"], [0.8, \"#7fbc41\"], [0.9, \"#4d9221\"], [1, \"#276419\"]], \"sequential\": [[0.0, \"#0d0887\"], [0.1111111111111111, \"#46039f\"], [0.2222222222222222, \"#7201a8\"], [0.3333333333333333, \"#9c179e\"], [0.4444444444444444, \"#bd3786\"], [0.5555555555555556, \"#d8576b\"], [0.6666666666666666, \"#ed7953\"], [0.7777777777777778, \"#fb9f3a\"], [0.8888888888888888, \"#fdca26\"], [1.0, \"#f0f921\"]], \"sequentialminus\": [[0.0, \"#0d0887\"], [0.1111111111111111, \"#46039f\"], [0.2222222222222222, \"#7201a8\"], [0.3333333333333333, \"#9c179e\"], [0.4444444444444444, \"#bd3786\"], [0.5555555555555556, \"#d8576b\"], [0.6666666666666666, \"#ed7953\"], [0.7777777777777778, \"#fb9f3a\"], [0.8888888888888888, \"#fdca26\"], [1.0, \"#f0f921\"]]}, \"colorway\": [\"#636efa\", \"#EF553B\", \"#00cc96\", \"#ab63fa\", \"#FFA15A\", \"#19d3f3\", \"#FF6692\", \"#B6E880\", \"#FF97FF\", \"#FECB52\"], \"font\": {\"color\": \"#f2f5fa\"}, \"geo\": {\"bgcolor\": \"rgb(17,17,17)\", \"lakecolor\": \"rgb(17,17,17)\", \"landcolor\": \"rgb(17,17,17)\", \"showlakes\": true, \"showland\": true, \"subunitcolor\": \"#506784\"}, \"hoverlabel\": {\"align\": \"left\"}, \"hovermode\": \"closest\", \"mapbox\": {\"style\": \"dark\"}, \"paper_bgcolor\": \"rgb(17,17,17)\", \"plot_bgcolor\": \"rgb(17,17,17)\", \"polar\": {\"angularaxis\": {\"gridcolor\": \"#506784\", \"linecolor\": \"#506784\", \"ticks\": \"\"}, \"bgcolor\": \"rgb(17,17,17)\", \"radialaxis\": {\"gridcolor\": \"#506784\", \"linecolor\": \"#506784\", \"ticks\": \"\"}}, \"scene\": {\"xaxis\": {\"backgroundcolor\": \"rgb(17,17,17)\", \"gridcolor\": \"#506784\", \"gridwidth\": 2, \"linecolor\": \"#506784\", \"showbackground\": true, \"ticks\": \"\", \"zerolinecolor\": \"#C8D4E3\"}, \"yaxis\": {\"backgroundcolor\": \"rgb(17,17,17)\", \"gridcolor\": \"#506784\", \"gridwidth\": 2, \"linecolor\": \"#506784\", \"showbackground\": true, \"ticks\": \"\", \"zerolinecolor\": \"#C8D4E3\"}, \"zaxis\": {\"backgroundcolor\": \"rgb(17,17,17)\", \"gridcolor\": \"#506784\", \"gridwidth\": 2, \"linecolor\": \"#506784\", \"showbackground\": true, \"ticks\": \"\", \"zerolinecolor\": \"#C8D4E3\"}}, \"shapedefaults\": {\"line\": {\"color\": \"#f2f5fa\"}}, \"sliderdefaults\": {\"bgcolor\": \"#C8D4E3\", \"bordercolor\": \"rgb(17,17,17)\", \"borderwidth\": 1, \"tickwidth\": 0}, \"ternary\": {\"aaxis\": {\"gridcolor\": \"#506784\", \"linecolor\": \"#506784\", \"ticks\": \"\"}, \"baxis\": {\"gridcolor\": \"#506784\", \"linecolor\": \"#506784\", \"ticks\": \"\"}, \"bgcolor\": \"rgb(17,17,17)\", \"caxis\": {\"gridcolor\": \"#506784\", \"linecolor\": \"#506784\", \"ticks\": \"\"}}, \"title\": {\"x\": 0.05}, \"updatemenudefaults\": {\"bgcolor\": \"#506784\", \"borderwidth\": 0}, \"xaxis\": {\"automargin\": true, \"gridcolor\": \"#283442\", \"linecolor\": \"#506784\", \"ticks\": \"\", \"title\": {\"standoff\": 15}, \"zerolinecolor\": \"#283442\", \"zerolinewidth\": 2}, \"yaxis\": {\"automargin\": true, \"gridcolor\": \"#283442\", \"linecolor\": \"#506784\", \"ticks\": \"\", \"title\": {\"standoff\": 15}, \"zerolinecolor\": \"#283442\", \"zerolinewidth\": 2}}}, \"title\": {\"text\": \"Worldwide Confirmed/Fatalities & New Cases as on 2020-04-22 00:00:00\"}, \"xaxis\": {\"anchor\": \"y\", \"domain\": [0.0, 1.0], \"title\": {\"text\": \"date\"}}, \"yaxis\": {\"anchor\": \"x\", \"domain\": [0.0, 1.0], \"title\": {\"text\": \"value\"}}},\n",
              "                        {\"responsive\": true}\n",
              "                    ).then(function(){\n",
              "                            \n",
              "var gd = document.getElementById('43f42cfb-bc9e-4f29-b738-740f33e6be6e');\n",
              "var x = new MutationObserver(function (mutations, observer) {{\n",
              "        var display = window.getComputedStyle(gd).display;\n",
              "        if (!display || display === 'none') {{\n",
              "            console.log([gd, 'removed!']);\n",
              "            Plotly.purge(gd);\n",
              "            observer.disconnect();\n",
              "        }}\n",
              "}});\n",
              "\n",
              "// Listen for the removal of the full notebook cells\n",
              "var notebookContainer = gd.closest('#notebook-container');\n",
              "if (notebookContainer) {{\n",
              "    x.observe(notebookContainer, {childList: true});\n",
              "}}\n",
              "\n",
              "// Listen for the clearing of the current output cell\n",
              "var outputEl = gd.closest('.output');\n",
              "if (outputEl) {{\n",
              "    x.observe(outputEl, {childList: true});\n",
              "}}\n",
              "\n",
              "                        })\n",
              "                };\n",
              "                });\n",
              "            </script>\n",
              "        </div>"
            ]
          },
          "metadata": {
            "tags": []
          }
        }
      ]
    },
    {
      "cell_type": "markdown",
      "metadata": {
        "id": "-Pb55RjekSy7",
        "colab_type": "text"
      },
      "source": [
        "***Inference***\n",
        "\n",
        "When we see the confirmed cases in the above curve, it looks like exponential growth curve. The confirmed cases are  increasing very rapidly.\n",
        "\n",
        "Confirmed cases reached 247K people, and 169K fatalities reportes as on today.\n",
        "\n",
        "Also the god news is that the registered new cases are seeing downtrend especially from Apr 19th."
      ]
    },
    {
      "cell_type": "markdown",
      "metadata": {
        "id": "uhxfOCTfkSy8",
        "colab_type": "text"
      },
      "source": [
        "#### Line curve - Worldwide Confirmed/Fatalities & New Cases(log Scale)"
      ]
    },
    {
      "cell_type": "code",
      "metadata": {
        "id": "166OUxEukSy9",
        "colab_type": "code",
        "colab": {},
        "outputId": "51c93103-c6b5-4c9d-ea2f-38d87ed3dd4c"
      },
      "source": [
        "fig = px.line(data_cfn_melt, x=\"date\", y=\"value\", color='variable', \n",
        "              title=f\"Worldwide Confirmed/Fatalities & New Cases as on {max_date} on Log Scale\",log_y=True)\n",
        "fig.show()"
      ],
      "execution_count": 0,
      "outputs": [
        {
          "output_type": "display_data",
          "data": {
            "application/vnd.plotly.v1+json": {
              "config": {
                "plotlyServerURL": "https://plot.ly"
              },
              "data": [
                {
                  "hovertemplate": "variable=confirmed<br>date=%{x}<br>value=%{y}<extra></extra>",
                  "legendgroup": "confirmed",
                  "line": {
                    "color": "#636efa",
                    "dash": "solid"
                  },
                  "mode": "lines",
                  "name": "confirmed",
                  "showlegend": true,
                  "type": "scatter",
                  "x": [
                    "2020-01-22T00:00:00",
                    "2020-01-23T00:00:00",
                    "2020-01-24T00:00:00",
                    "2020-01-25T00:00:00",
                    "2020-01-26T00:00:00",
                    "2020-01-27T00:00:00",
                    "2020-01-28T00:00:00",
                    "2020-01-29T00:00:00",
                    "2020-01-30T00:00:00",
                    "2020-01-31T00:00:00",
                    "2020-02-01T00:00:00",
                    "2020-02-02T00:00:00",
                    "2020-02-03T00:00:00",
                    "2020-02-04T00:00:00",
                    "2020-02-05T00:00:00",
                    "2020-02-06T00:00:00",
                    "2020-02-07T00:00:00",
                    "2020-02-08T00:00:00",
                    "2020-02-09T00:00:00",
                    "2020-02-10T00:00:00",
                    "2020-02-11T00:00:00",
                    "2020-02-12T00:00:00",
                    "2020-02-13T00:00:00",
                    "2020-02-14T00:00:00",
                    "2020-02-15T00:00:00",
                    "2020-02-16T00:00:00",
                    "2020-02-17T00:00:00",
                    "2020-02-18T00:00:00",
                    "2020-02-19T00:00:00",
                    "2020-02-20T00:00:00",
                    "2020-02-21T00:00:00",
                    "2020-02-22T00:00:00",
                    "2020-02-23T00:00:00",
                    "2020-02-24T00:00:00",
                    "2020-02-25T00:00:00",
                    "2020-02-26T00:00:00",
                    "2020-02-27T00:00:00",
                    "2020-02-28T00:00:00",
                    "2020-02-29T00:00:00",
                    "2020-03-01T00:00:00",
                    "2020-03-02T00:00:00",
                    "2020-03-03T00:00:00",
                    "2020-03-04T00:00:00",
                    "2020-03-05T00:00:00",
                    "2020-03-06T00:00:00",
                    "2020-03-07T00:00:00",
                    "2020-03-08T00:00:00",
                    "2020-03-09T00:00:00",
                    "2020-03-10T00:00:00",
                    "2020-03-11T00:00:00",
                    "2020-03-12T00:00:00",
                    "2020-03-13T00:00:00",
                    "2020-03-14T00:00:00",
                    "2020-03-15T00:00:00",
                    "2020-03-16T00:00:00",
                    "2020-03-17T00:00:00",
                    "2020-03-18T00:00:00",
                    "2020-03-19T00:00:00",
                    "2020-03-20T00:00:00",
                    "2020-03-21T00:00:00",
                    "2020-03-22T00:00:00",
                    "2020-03-23T00:00:00",
                    "2020-03-24T00:00:00",
                    "2020-03-25T00:00:00",
                    "2020-03-26T00:00:00",
                    "2020-03-27T00:00:00",
                    "2020-03-28T00:00:00",
                    "2020-03-29T00:00:00",
                    "2020-03-30T00:00:00",
                    "2020-03-31T00:00:00",
                    "2020-04-01T00:00:00",
                    "2020-04-02T00:00:00",
                    "2020-04-03T00:00:00",
                    "2020-04-04T00:00:00",
                    "2020-04-05T00:00:00",
                    "2020-04-06T00:00:00",
                    "2020-04-07T00:00:00",
                    "2020-04-08T00:00:00",
                    "2020-04-09T00:00:00",
                    "2020-04-10T00:00:00",
                    "2020-04-11T00:00:00",
                    "2020-04-12T00:00:00",
                    "2020-04-13T00:00:00",
                    "2020-04-14T00:00:00",
                    "2020-04-15T00:00:00",
                    "2020-04-16T00:00:00",
                    "2020-04-17T00:00:00",
                    "2020-04-18T00:00:00",
                    "2020-04-19T00:00:00",
                    "2020-04-20T00:00:00",
                    "2020-04-21T00:00:00",
                    "2020-04-22T00:00:00"
                  ],
                  "xaxis": "x",
                  "y": [
                    555,
                    654,
                    941,
                    1434,
                    2118,
                    2927,
                    5578,
                    6166,
                    8234,
                    9927,
                    12038,
                    16787,
                    19881,
                    23892,
                    27635,
                    30794,
                    34330,
                    37059,
                    40086,
                    42627,
                    44667,
                    46554,
                    60193,
                    66667,
                    68745,
                    70869,
                    72804,
                    74594,
                    75018,
                    75563,
                    76185,
                    77938,
                    78267,
                    78870,
                    79715,
                    80683,
                    82041,
                    83407,
                    85306,
                    87664,
                    89601,
                    92134,
                    94414,
                    97180,
                    101095,
                    105141,
                    109115,
                    112884,
                    117914,
                    125169,
                    127646,
                    144499,
                    155395,
                    166748,
                    180868,
                    196396,
                    214109,
                    241858,
                    271496,
                    303795,
                    336241,
                    377519,
                    417329,
                    466941,
                    528879,
                    592579,
                    659981,
                    719428,
                    781677,
                    856775,
                    931763,
                    1012612,
                    1094984,
                    1175143,
                    1248770,
                    1320417,
                    1395378,
                    1479090,
                    1564564,
                    1656812,
                    1734936,
                    1834007,
                    1904124,
                    1975477,
                    2055340,
                    2151723,
                    2239476,
                    2317044,
                    2400385,
                    2471542,
                    2548577,
                    2622698
                  ],
                  "yaxis": "y"
                },
                {
                  "hovertemplate": "variable=deaths<br>date=%{x}<br>value=%{y}<extra></extra>",
                  "legendgroup": "deaths",
                  "line": {
                    "color": "#EF553B",
                    "dash": "solid"
                  },
                  "mode": "lines",
                  "name": "deaths",
                  "showlegend": true,
                  "type": "scatter",
                  "x": [
                    "2020-01-22T00:00:00",
                    "2020-01-23T00:00:00",
                    "2020-01-24T00:00:00",
                    "2020-01-25T00:00:00",
                    "2020-01-26T00:00:00",
                    "2020-01-27T00:00:00",
                    "2020-01-28T00:00:00",
                    "2020-01-29T00:00:00",
                    "2020-01-30T00:00:00",
                    "2020-01-31T00:00:00",
                    "2020-02-01T00:00:00",
                    "2020-02-02T00:00:00",
                    "2020-02-03T00:00:00",
                    "2020-02-04T00:00:00",
                    "2020-02-05T00:00:00",
                    "2020-02-06T00:00:00",
                    "2020-02-07T00:00:00",
                    "2020-02-08T00:00:00",
                    "2020-02-09T00:00:00",
                    "2020-02-10T00:00:00",
                    "2020-02-11T00:00:00",
                    "2020-02-12T00:00:00",
                    "2020-02-13T00:00:00",
                    "2020-02-14T00:00:00",
                    "2020-02-15T00:00:00",
                    "2020-02-16T00:00:00",
                    "2020-02-17T00:00:00",
                    "2020-02-18T00:00:00",
                    "2020-02-19T00:00:00",
                    "2020-02-20T00:00:00",
                    "2020-02-21T00:00:00",
                    "2020-02-22T00:00:00",
                    "2020-02-23T00:00:00",
                    "2020-02-24T00:00:00",
                    "2020-02-25T00:00:00",
                    "2020-02-26T00:00:00",
                    "2020-02-27T00:00:00",
                    "2020-02-28T00:00:00",
                    "2020-02-29T00:00:00",
                    "2020-03-01T00:00:00",
                    "2020-03-02T00:00:00",
                    "2020-03-03T00:00:00",
                    "2020-03-04T00:00:00",
                    "2020-03-05T00:00:00",
                    "2020-03-06T00:00:00",
                    "2020-03-07T00:00:00",
                    "2020-03-08T00:00:00",
                    "2020-03-09T00:00:00",
                    "2020-03-10T00:00:00",
                    "2020-03-11T00:00:00",
                    "2020-03-12T00:00:00",
                    "2020-03-13T00:00:00",
                    "2020-03-14T00:00:00",
                    "2020-03-15T00:00:00",
                    "2020-03-16T00:00:00",
                    "2020-03-17T00:00:00",
                    "2020-03-18T00:00:00",
                    "2020-03-19T00:00:00",
                    "2020-03-20T00:00:00",
                    "2020-03-21T00:00:00",
                    "2020-03-22T00:00:00",
                    "2020-03-23T00:00:00",
                    "2020-03-24T00:00:00",
                    "2020-03-25T00:00:00",
                    "2020-03-26T00:00:00",
                    "2020-03-27T00:00:00",
                    "2020-03-28T00:00:00",
                    "2020-03-29T00:00:00",
                    "2020-03-30T00:00:00",
                    "2020-03-31T00:00:00",
                    "2020-04-01T00:00:00",
                    "2020-04-02T00:00:00",
                    "2020-04-03T00:00:00",
                    "2020-04-04T00:00:00",
                    "2020-04-05T00:00:00",
                    "2020-04-06T00:00:00",
                    "2020-04-07T00:00:00",
                    "2020-04-08T00:00:00",
                    "2020-04-09T00:00:00",
                    "2020-04-10T00:00:00",
                    "2020-04-11T00:00:00",
                    "2020-04-12T00:00:00",
                    "2020-04-13T00:00:00",
                    "2020-04-14T00:00:00",
                    "2020-04-15T00:00:00",
                    "2020-04-16T00:00:00",
                    "2020-04-17T00:00:00",
                    "2020-04-18T00:00:00",
                    "2020-04-19T00:00:00",
                    "2020-04-20T00:00:00",
                    "2020-04-21T00:00:00",
                    "2020-04-22T00:00:00"
                  ],
                  "xaxis": "x",
                  "y": [
                    17,
                    18,
                    26,
                    42,
                    56,
                    82,
                    131,
                    133,
                    171,
                    213,
                    259,
                    362,
                    426,
                    492,
                    564,
                    634,
                    719,
                    806,
                    906,
                    1013,
                    1113,
                    1118,
                    1371,
                    1523,
                    1666,
                    1770,
                    1868,
                    2007,
                    2122,
                    2245,
                    2249,
                    2456,
                    2466,
                    2626,
                    2705,
                    2766,
                    2810,
                    2866,
                    2935,
                    2990,
                    3079,
                    3154,
                    3248,
                    3342,
                    3454,
                    3552,
                    3796,
                    3982,
                    4256,
                    4608,
                    4713,
                    5397,
                    5812,
                    6433,
                    7119,
                    7898,
                    8726,
                    9860,
                    11292,
                    12965,
                    14642,
                    16496,
                    18614,
                    21170,
                    23959,
                    27187,
                    30641,
                    33914,
                    37571,
                    42097,
                    47171,
                    52974,
                    58778,
                    64595,
                    69362,
                    74553,
                    81925,
                    88335,
                    95509,
                    102522,
                    108499,
                    114088,
                    119481,
                    125984,
                    134178,
                    143803,
                    153823,
                    159497,
                    165031,
                    169973,
                    176570,
                    183014
                  ],
                  "yaxis": "y"
                },
                {
                  "hovertemplate": "variable=new cases<br>date=%{x}<br>value=%{y}<extra></extra>",
                  "legendgroup": "new cases",
                  "line": {
                    "color": "#00cc96",
                    "dash": "solid"
                  },
                  "mode": "lines",
                  "name": "new cases",
                  "showlegend": true,
                  "type": "scatter",
                  "x": [
                    "2020-01-22T00:00:00",
                    "2020-01-23T00:00:00",
                    "2020-01-24T00:00:00",
                    "2020-01-25T00:00:00",
                    "2020-01-26T00:00:00",
                    "2020-01-27T00:00:00",
                    "2020-01-28T00:00:00",
                    "2020-01-29T00:00:00",
                    "2020-01-30T00:00:00",
                    "2020-01-31T00:00:00",
                    "2020-02-01T00:00:00",
                    "2020-02-02T00:00:00",
                    "2020-02-03T00:00:00",
                    "2020-02-04T00:00:00",
                    "2020-02-05T00:00:00",
                    "2020-02-06T00:00:00",
                    "2020-02-07T00:00:00",
                    "2020-02-08T00:00:00",
                    "2020-02-09T00:00:00",
                    "2020-02-10T00:00:00",
                    "2020-02-11T00:00:00",
                    "2020-02-12T00:00:00",
                    "2020-02-13T00:00:00",
                    "2020-02-14T00:00:00",
                    "2020-02-15T00:00:00",
                    "2020-02-16T00:00:00",
                    "2020-02-17T00:00:00",
                    "2020-02-18T00:00:00",
                    "2020-02-19T00:00:00",
                    "2020-02-20T00:00:00",
                    "2020-02-21T00:00:00",
                    "2020-02-22T00:00:00",
                    "2020-02-23T00:00:00",
                    "2020-02-24T00:00:00",
                    "2020-02-25T00:00:00",
                    "2020-02-26T00:00:00",
                    "2020-02-27T00:00:00",
                    "2020-02-28T00:00:00",
                    "2020-02-29T00:00:00",
                    "2020-03-01T00:00:00",
                    "2020-03-02T00:00:00",
                    "2020-03-03T00:00:00",
                    "2020-03-04T00:00:00",
                    "2020-03-05T00:00:00",
                    "2020-03-06T00:00:00",
                    "2020-03-07T00:00:00",
                    "2020-03-08T00:00:00",
                    "2020-03-09T00:00:00",
                    "2020-03-10T00:00:00",
                    "2020-03-11T00:00:00",
                    "2020-03-12T00:00:00",
                    "2020-03-13T00:00:00",
                    "2020-03-14T00:00:00",
                    "2020-03-15T00:00:00",
                    "2020-03-16T00:00:00",
                    "2020-03-17T00:00:00",
                    "2020-03-18T00:00:00",
                    "2020-03-19T00:00:00",
                    "2020-03-20T00:00:00",
                    "2020-03-21T00:00:00",
                    "2020-03-22T00:00:00",
                    "2020-03-23T00:00:00",
                    "2020-03-24T00:00:00",
                    "2020-03-25T00:00:00",
                    "2020-03-26T00:00:00",
                    "2020-03-27T00:00:00",
                    "2020-03-28T00:00:00",
                    "2020-03-29T00:00:00",
                    "2020-03-30T00:00:00",
                    "2020-03-31T00:00:00",
                    "2020-04-01T00:00:00",
                    "2020-04-02T00:00:00",
                    "2020-04-03T00:00:00",
                    "2020-04-04T00:00:00",
                    "2020-04-05T00:00:00",
                    "2020-04-06T00:00:00",
                    "2020-04-07T00:00:00",
                    "2020-04-08T00:00:00",
                    "2020-04-09T00:00:00",
                    "2020-04-10T00:00:00",
                    "2020-04-11T00:00:00",
                    "2020-04-12T00:00:00",
                    "2020-04-13T00:00:00",
                    "2020-04-14T00:00:00",
                    "2020-04-15T00:00:00",
                    "2020-04-16T00:00:00",
                    "2020-04-17T00:00:00",
                    "2020-04-18T00:00:00",
                    "2020-04-19T00:00:00",
                    "2020-04-20T00:00:00",
                    "2020-04-21T00:00:00",
                    "2020-04-22T00:00:00"
                  ],
                  "xaxis": "x",
                  "y": [
                    null,
                    99,
                    287,
                    493,
                    684,
                    809,
                    2651,
                    588,
                    2068,
                    1693,
                    2111,
                    4749,
                    3094,
                    4011,
                    3743,
                    3159,
                    3536,
                    2729,
                    3027,
                    2541,
                    2040,
                    1887,
                    13639,
                    6474,
                    2078,
                    2124,
                    1935,
                    1790,
                    424,
                    545,
                    622,
                    1753,
                    329,
                    603,
                    845,
                    968,
                    1358,
                    1366,
                    1899,
                    2358,
                    1937,
                    2533,
                    2280,
                    2766,
                    3915,
                    4046,
                    3974,
                    3769,
                    5030,
                    7255,
                    2477,
                    16853,
                    10896,
                    11353,
                    14120,
                    15528,
                    17713,
                    27749,
                    29638,
                    32299,
                    32446,
                    41278,
                    39810,
                    49612,
                    61938,
                    63700,
                    67402,
                    59447,
                    62249,
                    75098,
                    74988,
                    80849,
                    82372,
                    80159,
                    73627,
                    71647,
                    74961,
                    83712,
                    85474,
                    92248,
                    78124,
                    99071,
                    70117,
                    71353,
                    79863,
                    96383,
                    87753,
                    77568,
                    83341,
                    71157,
                    77035,
                    74121
                  ],
                  "yaxis": "y"
                }
              ],
              "layout": {
                "legend": {
                  "title": {
                    "text": "variable"
                  },
                  "tracegroupgap": 0
                },
                "template": {
                  "data": {
                    "bar": [
                      {
                        "error_x": {
                          "color": "#f2f5fa"
                        },
                        "error_y": {
                          "color": "#f2f5fa"
                        },
                        "marker": {
                          "line": {
                            "color": "rgb(17,17,17)",
                            "width": 0.5
                          }
                        },
                        "type": "bar"
                      }
                    ],
                    "barpolar": [
                      {
                        "marker": {
                          "line": {
                            "color": "rgb(17,17,17)",
                            "width": 0.5
                          }
                        },
                        "type": "barpolar"
                      }
                    ],
                    "carpet": [
                      {
                        "aaxis": {
                          "endlinecolor": "#A2B1C6",
                          "gridcolor": "#506784",
                          "linecolor": "#506784",
                          "minorgridcolor": "#506784",
                          "startlinecolor": "#A2B1C6"
                        },
                        "baxis": {
                          "endlinecolor": "#A2B1C6",
                          "gridcolor": "#506784",
                          "linecolor": "#506784",
                          "minorgridcolor": "#506784",
                          "startlinecolor": "#A2B1C6"
                        },
                        "type": "carpet"
                      }
                    ],
                    "choropleth": [
                      {
                        "colorbar": {
                          "outlinewidth": 0,
                          "ticks": ""
                        },
                        "type": "choropleth"
                      }
                    ],
                    "contour": [
                      {
                        "colorbar": {
                          "outlinewidth": 0,
                          "ticks": ""
                        },
                        "colorscale": [
                          [
                            0,
                            "#0d0887"
                          ],
                          [
                            0.1111111111111111,
                            "#46039f"
                          ],
                          [
                            0.2222222222222222,
                            "#7201a8"
                          ],
                          [
                            0.3333333333333333,
                            "#9c179e"
                          ],
                          [
                            0.4444444444444444,
                            "#bd3786"
                          ],
                          [
                            0.5555555555555556,
                            "#d8576b"
                          ],
                          [
                            0.6666666666666666,
                            "#ed7953"
                          ],
                          [
                            0.7777777777777778,
                            "#fb9f3a"
                          ],
                          [
                            0.8888888888888888,
                            "#fdca26"
                          ],
                          [
                            1,
                            "#f0f921"
                          ]
                        ],
                        "type": "contour"
                      }
                    ],
                    "contourcarpet": [
                      {
                        "colorbar": {
                          "outlinewidth": 0,
                          "ticks": ""
                        },
                        "type": "contourcarpet"
                      }
                    ],
                    "heatmap": [
                      {
                        "colorbar": {
                          "outlinewidth": 0,
                          "ticks": ""
                        },
                        "colorscale": [
                          [
                            0,
                            "#0d0887"
                          ],
                          [
                            0.1111111111111111,
                            "#46039f"
                          ],
                          [
                            0.2222222222222222,
                            "#7201a8"
                          ],
                          [
                            0.3333333333333333,
                            "#9c179e"
                          ],
                          [
                            0.4444444444444444,
                            "#bd3786"
                          ],
                          [
                            0.5555555555555556,
                            "#d8576b"
                          ],
                          [
                            0.6666666666666666,
                            "#ed7953"
                          ],
                          [
                            0.7777777777777778,
                            "#fb9f3a"
                          ],
                          [
                            0.8888888888888888,
                            "#fdca26"
                          ],
                          [
                            1,
                            "#f0f921"
                          ]
                        ],
                        "type": "heatmap"
                      }
                    ],
                    "heatmapgl": [
                      {
                        "colorbar": {
                          "outlinewidth": 0,
                          "ticks": ""
                        },
                        "colorscale": [
                          [
                            0,
                            "#0d0887"
                          ],
                          [
                            0.1111111111111111,
                            "#46039f"
                          ],
                          [
                            0.2222222222222222,
                            "#7201a8"
                          ],
                          [
                            0.3333333333333333,
                            "#9c179e"
                          ],
                          [
                            0.4444444444444444,
                            "#bd3786"
                          ],
                          [
                            0.5555555555555556,
                            "#d8576b"
                          ],
                          [
                            0.6666666666666666,
                            "#ed7953"
                          ],
                          [
                            0.7777777777777778,
                            "#fb9f3a"
                          ],
                          [
                            0.8888888888888888,
                            "#fdca26"
                          ],
                          [
                            1,
                            "#f0f921"
                          ]
                        ],
                        "type": "heatmapgl"
                      }
                    ],
                    "histogram": [
                      {
                        "marker": {
                          "colorbar": {
                            "outlinewidth": 0,
                            "ticks": ""
                          }
                        },
                        "type": "histogram"
                      }
                    ],
                    "histogram2d": [
                      {
                        "colorbar": {
                          "outlinewidth": 0,
                          "ticks": ""
                        },
                        "colorscale": [
                          [
                            0,
                            "#0d0887"
                          ],
                          [
                            0.1111111111111111,
                            "#46039f"
                          ],
                          [
                            0.2222222222222222,
                            "#7201a8"
                          ],
                          [
                            0.3333333333333333,
                            "#9c179e"
                          ],
                          [
                            0.4444444444444444,
                            "#bd3786"
                          ],
                          [
                            0.5555555555555556,
                            "#d8576b"
                          ],
                          [
                            0.6666666666666666,
                            "#ed7953"
                          ],
                          [
                            0.7777777777777778,
                            "#fb9f3a"
                          ],
                          [
                            0.8888888888888888,
                            "#fdca26"
                          ],
                          [
                            1,
                            "#f0f921"
                          ]
                        ],
                        "type": "histogram2d"
                      }
                    ],
                    "histogram2dcontour": [
                      {
                        "colorbar": {
                          "outlinewidth": 0,
                          "ticks": ""
                        },
                        "colorscale": [
                          [
                            0,
                            "#0d0887"
                          ],
                          [
                            0.1111111111111111,
                            "#46039f"
                          ],
                          [
                            0.2222222222222222,
                            "#7201a8"
                          ],
                          [
                            0.3333333333333333,
                            "#9c179e"
                          ],
                          [
                            0.4444444444444444,
                            "#bd3786"
                          ],
                          [
                            0.5555555555555556,
                            "#d8576b"
                          ],
                          [
                            0.6666666666666666,
                            "#ed7953"
                          ],
                          [
                            0.7777777777777778,
                            "#fb9f3a"
                          ],
                          [
                            0.8888888888888888,
                            "#fdca26"
                          ],
                          [
                            1,
                            "#f0f921"
                          ]
                        ],
                        "type": "histogram2dcontour"
                      }
                    ],
                    "mesh3d": [
                      {
                        "colorbar": {
                          "outlinewidth": 0,
                          "ticks": ""
                        },
                        "type": "mesh3d"
                      }
                    ],
                    "parcoords": [
                      {
                        "line": {
                          "colorbar": {
                            "outlinewidth": 0,
                            "ticks": ""
                          }
                        },
                        "type": "parcoords"
                      }
                    ],
                    "pie": [
                      {
                        "automargin": true,
                        "type": "pie"
                      }
                    ],
                    "scatter": [
                      {
                        "marker": {
                          "line": {
                            "color": "#283442"
                          }
                        },
                        "type": "scatter"
                      }
                    ],
                    "scatter3d": [
                      {
                        "line": {
                          "colorbar": {
                            "outlinewidth": 0,
                            "ticks": ""
                          }
                        },
                        "marker": {
                          "colorbar": {
                            "outlinewidth": 0,
                            "ticks": ""
                          }
                        },
                        "type": "scatter3d"
                      }
                    ],
                    "scattercarpet": [
                      {
                        "marker": {
                          "colorbar": {
                            "outlinewidth": 0,
                            "ticks": ""
                          }
                        },
                        "type": "scattercarpet"
                      }
                    ],
                    "scattergeo": [
                      {
                        "marker": {
                          "colorbar": {
                            "outlinewidth": 0,
                            "ticks": ""
                          }
                        },
                        "type": "scattergeo"
                      }
                    ],
                    "scattergl": [
                      {
                        "marker": {
                          "line": {
                            "color": "#283442"
                          }
                        },
                        "type": "scattergl"
                      }
                    ],
                    "scattermapbox": [
                      {
                        "marker": {
                          "colorbar": {
                            "outlinewidth": 0,
                            "ticks": ""
                          }
                        },
                        "type": "scattermapbox"
                      }
                    ],
                    "scatterpolar": [
                      {
                        "marker": {
                          "colorbar": {
                            "outlinewidth": 0,
                            "ticks": ""
                          }
                        },
                        "type": "scatterpolar"
                      }
                    ],
                    "scatterpolargl": [
                      {
                        "marker": {
                          "colorbar": {
                            "outlinewidth": 0,
                            "ticks": ""
                          }
                        },
                        "type": "scatterpolargl"
                      }
                    ],
                    "scatterternary": [
                      {
                        "marker": {
                          "colorbar": {
                            "outlinewidth": 0,
                            "ticks": ""
                          }
                        },
                        "type": "scatterternary"
                      }
                    ],
                    "surface": [
                      {
                        "colorbar": {
                          "outlinewidth": 0,
                          "ticks": ""
                        },
                        "colorscale": [
                          [
                            0,
                            "#0d0887"
                          ],
                          [
                            0.1111111111111111,
                            "#46039f"
                          ],
                          [
                            0.2222222222222222,
                            "#7201a8"
                          ],
                          [
                            0.3333333333333333,
                            "#9c179e"
                          ],
                          [
                            0.4444444444444444,
                            "#bd3786"
                          ],
                          [
                            0.5555555555555556,
                            "#d8576b"
                          ],
                          [
                            0.6666666666666666,
                            "#ed7953"
                          ],
                          [
                            0.7777777777777778,
                            "#fb9f3a"
                          ],
                          [
                            0.8888888888888888,
                            "#fdca26"
                          ],
                          [
                            1,
                            "#f0f921"
                          ]
                        ],
                        "type": "surface"
                      }
                    ],
                    "table": [
                      {
                        "cells": {
                          "fill": {
                            "color": "#506784"
                          },
                          "line": {
                            "color": "rgb(17,17,17)"
                          }
                        },
                        "header": {
                          "fill": {
                            "color": "#2a3f5f"
                          },
                          "line": {
                            "color": "rgb(17,17,17)"
                          }
                        },
                        "type": "table"
                      }
                    ]
                  },
                  "layout": {
                    "annotationdefaults": {
                      "arrowcolor": "#f2f5fa",
                      "arrowhead": 0,
                      "arrowwidth": 1
                    },
                    "coloraxis": {
                      "colorbar": {
                        "outlinewidth": 0,
                        "ticks": ""
                      }
                    },
                    "colorscale": {
                      "diverging": [
                        [
                          0,
                          "#8e0152"
                        ],
                        [
                          0.1,
                          "#c51b7d"
                        ],
                        [
                          0.2,
                          "#de77ae"
                        ],
                        [
                          0.3,
                          "#f1b6da"
                        ],
                        [
                          0.4,
                          "#fde0ef"
                        ],
                        [
                          0.5,
                          "#f7f7f7"
                        ],
                        [
                          0.6,
                          "#e6f5d0"
                        ],
                        [
                          0.7,
                          "#b8e186"
                        ],
                        [
                          0.8,
                          "#7fbc41"
                        ],
                        [
                          0.9,
                          "#4d9221"
                        ],
                        [
                          1,
                          "#276419"
                        ]
                      ],
                      "sequential": [
                        [
                          0,
                          "#0d0887"
                        ],
                        [
                          0.1111111111111111,
                          "#46039f"
                        ],
                        [
                          0.2222222222222222,
                          "#7201a8"
                        ],
                        [
                          0.3333333333333333,
                          "#9c179e"
                        ],
                        [
                          0.4444444444444444,
                          "#bd3786"
                        ],
                        [
                          0.5555555555555556,
                          "#d8576b"
                        ],
                        [
                          0.6666666666666666,
                          "#ed7953"
                        ],
                        [
                          0.7777777777777778,
                          "#fb9f3a"
                        ],
                        [
                          0.8888888888888888,
                          "#fdca26"
                        ],
                        [
                          1,
                          "#f0f921"
                        ]
                      ],
                      "sequentialminus": [
                        [
                          0,
                          "#0d0887"
                        ],
                        [
                          0.1111111111111111,
                          "#46039f"
                        ],
                        [
                          0.2222222222222222,
                          "#7201a8"
                        ],
                        [
                          0.3333333333333333,
                          "#9c179e"
                        ],
                        [
                          0.4444444444444444,
                          "#bd3786"
                        ],
                        [
                          0.5555555555555556,
                          "#d8576b"
                        ],
                        [
                          0.6666666666666666,
                          "#ed7953"
                        ],
                        [
                          0.7777777777777778,
                          "#fb9f3a"
                        ],
                        [
                          0.8888888888888888,
                          "#fdca26"
                        ],
                        [
                          1,
                          "#f0f921"
                        ]
                      ]
                    },
                    "colorway": [
                      "#636efa",
                      "#EF553B",
                      "#00cc96",
                      "#ab63fa",
                      "#FFA15A",
                      "#19d3f3",
                      "#FF6692",
                      "#B6E880",
                      "#FF97FF",
                      "#FECB52"
                    ],
                    "font": {
                      "color": "#f2f5fa"
                    },
                    "geo": {
                      "bgcolor": "rgb(17,17,17)",
                      "lakecolor": "rgb(17,17,17)",
                      "landcolor": "rgb(17,17,17)",
                      "showlakes": true,
                      "showland": true,
                      "subunitcolor": "#506784"
                    },
                    "hoverlabel": {
                      "align": "left"
                    },
                    "hovermode": "closest",
                    "mapbox": {
                      "style": "dark"
                    },
                    "paper_bgcolor": "rgb(17,17,17)",
                    "plot_bgcolor": "rgb(17,17,17)",
                    "polar": {
                      "angularaxis": {
                        "gridcolor": "#506784",
                        "linecolor": "#506784",
                        "ticks": ""
                      },
                      "bgcolor": "rgb(17,17,17)",
                      "radialaxis": {
                        "gridcolor": "#506784",
                        "linecolor": "#506784",
                        "ticks": ""
                      }
                    },
                    "scene": {
                      "xaxis": {
                        "backgroundcolor": "rgb(17,17,17)",
                        "gridcolor": "#506784",
                        "gridwidth": 2,
                        "linecolor": "#506784",
                        "showbackground": true,
                        "ticks": "",
                        "zerolinecolor": "#C8D4E3"
                      },
                      "yaxis": {
                        "backgroundcolor": "rgb(17,17,17)",
                        "gridcolor": "#506784",
                        "gridwidth": 2,
                        "linecolor": "#506784",
                        "showbackground": true,
                        "ticks": "",
                        "zerolinecolor": "#C8D4E3"
                      },
                      "zaxis": {
                        "backgroundcolor": "rgb(17,17,17)",
                        "gridcolor": "#506784",
                        "gridwidth": 2,
                        "linecolor": "#506784",
                        "showbackground": true,
                        "ticks": "",
                        "zerolinecolor": "#C8D4E3"
                      }
                    },
                    "shapedefaults": {
                      "line": {
                        "color": "#f2f5fa"
                      }
                    },
                    "sliderdefaults": {
                      "bgcolor": "#C8D4E3",
                      "bordercolor": "rgb(17,17,17)",
                      "borderwidth": 1,
                      "tickwidth": 0
                    },
                    "ternary": {
                      "aaxis": {
                        "gridcolor": "#506784",
                        "linecolor": "#506784",
                        "ticks": ""
                      },
                      "baxis": {
                        "gridcolor": "#506784",
                        "linecolor": "#506784",
                        "ticks": ""
                      },
                      "bgcolor": "rgb(17,17,17)",
                      "caxis": {
                        "gridcolor": "#506784",
                        "linecolor": "#506784",
                        "ticks": ""
                      }
                    },
                    "title": {
                      "x": 0.05
                    },
                    "updatemenudefaults": {
                      "bgcolor": "#506784",
                      "borderwidth": 0
                    },
                    "xaxis": {
                      "automargin": true,
                      "gridcolor": "#283442",
                      "linecolor": "#506784",
                      "ticks": "",
                      "title": {
                        "standoff": 15
                      },
                      "zerolinecolor": "#283442",
                      "zerolinewidth": 2
                    },
                    "yaxis": {
                      "automargin": true,
                      "gridcolor": "#283442",
                      "linecolor": "#506784",
                      "ticks": "",
                      "title": {
                        "standoff": 15
                      },
                      "zerolinecolor": "#283442",
                      "zerolinewidth": 2
                    }
                  }
                },
                "title": {
                  "text": "Worldwide Confirmed/Fatalities & New Cases as on 2020-04-22 00:00:00 on Log Scale"
                },
                "xaxis": {
                  "anchor": "y",
                  "domain": [
                    0,
                    1
                  ],
                  "title": {
                    "text": "date"
                  }
                },
                "yaxis": {
                  "anchor": "x",
                  "domain": [
                    0,
                    1
                  ],
                  "title": {
                    "text": "value"
                  },
                  "type": "log"
                }
              }
            },
            "text/html": [
              "<div>\n",
              "        \n",
              "        \n",
              "            <div id=\"71cd26e4-5bd3-4f53-8511-36cac7585b3b\" class=\"plotly-graph-div\" style=\"height:525px; width:100%;\"></div>\n",
              "            <script type=\"text/javascript\">\n",
              "                require([\"plotly\"], function(Plotly) {\n",
              "                    window.PLOTLYENV=window.PLOTLYENV || {};\n",
              "                    \n",
              "                if (document.getElementById(\"71cd26e4-5bd3-4f53-8511-36cac7585b3b\")) {\n",
              "                    Plotly.newPlot(\n",
              "                        '71cd26e4-5bd3-4f53-8511-36cac7585b3b',\n",
              "                        [{\"hovertemplate\": \"variable=confirmed<br>date=%{x}<br>value=%{y}<extra></extra>\", \"legendgroup\": \"confirmed\", \"line\": {\"color\": \"#636efa\", \"dash\": \"solid\"}, \"mode\": \"lines\", \"name\": \"confirmed\", \"showlegend\": true, \"type\": \"scatter\", \"x\": [\"2020-01-22T00:00:00\", \"2020-01-23T00:00:00\", \"2020-01-24T00:00:00\", \"2020-01-25T00:00:00\", \"2020-01-26T00:00:00\", \"2020-01-27T00:00:00\", \"2020-01-28T00:00:00\", \"2020-01-29T00:00:00\", \"2020-01-30T00:00:00\", \"2020-01-31T00:00:00\", \"2020-02-01T00:00:00\", \"2020-02-02T00:00:00\", \"2020-02-03T00:00:00\", \"2020-02-04T00:00:00\", \"2020-02-05T00:00:00\", \"2020-02-06T00:00:00\", \"2020-02-07T00:00:00\", \"2020-02-08T00:00:00\", \"2020-02-09T00:00:00\", \"2020-02-10T00:00:00\", \"2020-02-11T00:00:00\", \"2020-02-12T00:00:00\", \"2020-02-13T00:00:00\", \"2020-02-14T00:00:00\", \"2020-02-15T00:00:00\", \"2020-02-16T00:00:00\", \"2020-02-17T00:00:00\", \"2020-02-18T00:00:00\", \"2020-02-19T00:00:00\", \"2020-02-20T00:00:00\", \"2020-02-21T00:00:00\", \"2020-02-22T00:00:00\", \"2020-02-23T00:00:00\", \"2020-02-24T00:00:00\", \"2020-02-25T00:00:00\", \"2020-02-26T00:00:00\", \"2020-02-27T00:00:00\", \"2020-02-28T00:00:00\", \"2020-02-29T00:00:00\", \"2020-03-01T00:00:00\", \"2020-03-02T00:00:00\", \"2020-03-03T00:00:00\", \"2020-03-04T00:00:00\", \"2020-03-05T00:00:00\", \"2020-03-06T00:00:00\", \"2020-03-07T00:00:00\", \"2020-03-08T00:00:00\", \"2020-03-09T00:00:00\", \"2020-03-10T00:00:00\", \"2020-03-11T00:00:00\", \"2020-03-12T00:00:00\", \"2020-03-13T00:00:00\", \"2020-03-14T00:00:00\", \"2020-03-15T00:00:00\", \"2020-03-16T00:00:00\", \"2020-03-17T00:00:00\", \"2020-03-18T00:00:00\", \"2020-03-19T00:00:00\", \"2020-03-20T00:00:00\", \"2020-03-21T00:00:00\", \"2020-03-22T00:00:00\", \"2020-03-23T00:00:00\", \"2020-03-24T00:00:00\", \"2020-03-25T00:00:00\", \"2020-03-26T00:00:00\", \"2020-03-27T00:00:00\", \"2020-03-28T00:00:00\", \"2020-03-29T00:00:00\", \"2020-03-30T00:00:00\", \"2020-03-31T00:00:00\", \"2020-04-01T00:00:00\", \"2020-04-02T00:00:00\", \"2020-04-03T00:00:00\", \"2020-04-04T00:00:00\", \"2020-04-05T00:00:00\", \"2020-04-06T00:00:00\", \"2020-04-07T00:00:00\", \"2020-04-08T00:00:00\", \"2020-04-09T00:00:00\", \"2020-04-10T00:00:00\", \"2020-04-11T00:00:00\", \"2020-04-12T00:00:00\", \"2020-04-13T00:00:00\", \"2020-04-14T00:00:00\", \"2020-04-15T00:00:00\", \"2020-04-16T00:00:00\", \"2020-04-17T00:00:00\", \"2020-04-18T00:00:00\", \"2020-04-19T00:00:00\", \"2020-04-20T00:00:00\", \"2020-04-21T00:00:00\", \"2020-04-22T00:00:00\"], \"xaxis\": \"x\", \"y\": [555.0, 654.0, 941.0, 1434.0, 2118.0, 2927.0, 5578.0, 6166.0, 8234.0, 9927.0, 12038.0, 16787.0, 19881.0, 23892.0, 27635.0, 30794.0, 34330.0, 37059.0, 40086.0, 42627.0, 44667.0, 46554.0, 60193.0, 66667.0, 68745.0, 70869.0, 72804.0, 74594.0, 75018.0, 75563.0, 76185.0, 77938.0, 78267.0, 78870.0, 79715.0, 80683.0, 82041.0, 83407.0, 85306.0, 87664.0, 89601.0, 92134.0, 94414.0, 97180.0, 101095.0, 105141.0, 109115.0, 112884.0, 117914.0, 125169.0, 127646.0, 144499.0, 155395.0, 166748.0, 180868.0, 196396.0, 214109.0, 241858.0, 271496.0, 303795.0, 336241.0, 377519.0, 417329.0, 466941.0, 528879.0, 592579.0, 659981.0, 719428.0, 781677.0, 856775.0, 931763.0, 1012612.0, 1094984.0, 1175143.0, 1248770.0, 1320417.0, 1395378.0, 1479090.0, 1564564.0, 1656812.0, 1734936.0, 1834007.0, 1904124.0, 1975477.0, 2055340.0, 2151723.0, 2239476.0, 2317044.0, 2400385.0, 2471542.0, 2548577.0, 2622698.0], \"yaxis\": \"y\"}, {\"hovertemplate\": \"variable=deaths<br>date=%{x}<br>value=%{y}<extra></extra>\", \"legendgroup\": \"deaths\", \"line\": {\"color\": \"#EF553B\", \"dash\": \"solid\"}, \"mode\": \"lines\", \"name\": \"deaths\", \"showlegend\": true, \"type\": \"scatter\", \"x\": [\"2020-01-22T00:00:00\", \"2020-01-23T00:00:00\", \"2020-01-24T00:00:00\", \"2020-01-25T00:00:00\", \"2020-01-26T00:00:00\", \"2020-01-27T00:00:00\", \"2020-01-28T00:00:00\", \"2020-01-29T00:00:00\", \"2020-01-30T00:00:00\", \"2020-01-31T00:00:00\", \"2020-02-01T00:00:00\", \"2020-02-02T00:00:00\", \"2020-02-03T00:00:00\", \"2020-02-04T00:00:00\", \"2020-02-05T00:00:00\", \"2020-02-06T00:00:00\", \"2020-02-07T00:00:00\", \"2020-02-08T00:00:00\", \"2020-02-09T00:00:00\", \"2020-02-10T00:00:00\", \"2020-02-11T00:00:00\", \"2020-02-12T00:00:00\", \"2020-02-13T00:00:00\", \"2020-02-14T00:00:00\", \"2020-02-15T00:00:00\", \"2020-02-16T00:00:00\", \"2020-02-17T00:00:00\", \"2020-02-18T00:00:00\", \"2020-02-19T00:00:00\", \"2020-02-20T00:00:00\", \"2020-02-21T00:00:00\", \"2020-02-22T00:00:00\", \"2020-02-23T00:00:00\", \"2020-02-24T00:00:00\", \"2020-02-25T00:00:00\", \"2020-02-26T00:00:00\", \"2020-02-27T00:00:00\", \"2020-02-28T00:00:00\", \"2020-02-29T00:00:00\", \"2020-03-01T00:00:00\", \"2020-03-02T00:00:00\", \"2020-03-03T00:00:00\", \"2020-03-04T00:00:00\", \"2020-03-05T00:00:00\", \"2020-03-06T00:00:00\", \"2020-03-07T00:00:00\", \"2020-03-08T00:00:00\", \"2020-03-09T00:00:00\", \"2020-03-10T00:00:00\", \"2020-03-11T00:00:00\", \"2020-03-12T00:00:00\", \"2020-03-13T00:00:00\", \"2020-03-14T00:00:00\", \"2020-03-15T00:00:00\", \"2020-03-16T00:00:00\", \"2020-03-17T00:00:00\", \"2020-03-18T00:00:00\", \"2020-03-19T00:00:00\", \"2020-03-20T00:00:00\", \"2020-03-21T00:00:00\", \"2020-03-22T00:00:00\", \"2020-03-23T00:00:00\", \"2020-03-24T00:00:00\", \"2020-03-25T00:00:00\", \"2020-03-26T00:00:00\", \"2020-03-27T00:00:00\", \"2020-03-28T00:00:00\", \"2020-03-29T00:00:00\", \"2020-03-30T00:00:00\", \"2020-03-31T00:00:00\", \"2020-04-01T00:00:00\", \"2020-04-02T00:00:00\", \"2020-04-03T00:00:00\", \"2020-04-04T00:00:00\", \"2020-04-05T00:00:00\", \"2020-04-06T00:00:00\", \"2020-04-07T00:00:00\", \"2020-04-08T00:00:00\", \"2020-04-09T00:00:00\", \"2020-04-10T00:00:00\", \"2020-04-11T00:00:00\", \"2020-04-12T00:00:00\", \"2020-04-13T00:00:00\", \"2020-04-14T00:00:00\", \"2020-04-15T00:00:00\", \"2020-04-16T00:00:00\", \"2020-04-17T00:00:00\", \"2020-04-18T00:00:00\", \"2020-04-19T00:00:00\", \"2020-04-20T00:00:00\", \"2020-04-21T00:00:00\", \"2020-04-22T00:00:00\"], \"xaxis\": \"x\", \"y\": [17.0, 18.0, 26.0, 42.0, 56.0, 82.0, 131.0, 133.0, 171.0, 213.0, 259.0, 362.0, 426.0, 492.0, 564.0, 634.0, 719.0, 806.0, 906.0, 1013.0, 1113.0, 1118.0, 1371.0, 1523.0, 1666.0, 1770.0, 1868.0, 2007.0, 2122.0, 2245.0, 2249.0, 2456.0, 2466.0, 2626.0, 2705.0, 2766.0, 2810.0, 2866.0, 2935.0, 2990.0, 3079.0, 3154.0, 3248.0, 3342.0, 3454.0, 3552.0, 3796.0, 3982.0, 4256.0, 4608.0, 4713.0, 5397.0, 5812.0, 6433.0, 7119.0, 7898.0, 8726.0, 9860.0, 11292.0, 12965.0, 14642.0, 16496.0, 18614.0, 21170.0, 23959.0, 27187.0, 30641.0, 33914.0, 37571.0, 42097.0, 47171.0, 52974.0, 58778.0, 64595.0, 69362.0, 74553.0, 81925.0, 88335.0, 95509.0, 102522.0, 108499.0, 114088.0, 119481.0, 125984.0, 134178.0, 143803.0, 153823.0, 159497.0, 165031.0, 169973.0, 176570.0, 183014.0], \"yaxis\": \"y\"}, {\"hovertemplate\": \"variable=new cases<br>date=%{x}<br>value=%{y}<extra></extra>\", \"legendgroup\": \"new cases\", \"line\": {\"color\": \"#00cc96\", \"dash\": \"solid\"}, \"mode\": \"lines\", \"name\": \"new cases\", \"showlegend\": true, \"type\": \"scatter\", \"x\": [\"2020-01-22T00:00:00\", \"2020-01-23T00:00:00\", \"2020-01-24T00:00:00\", \"2020-01-25T00:00:00\", \"2020-01-26T00:00:00\", \"2020-01-27T00:00:00\", \"2020-01-28T00:00:00\", \"2020-01-29T00:00:00\", \"2020-01-30T00:00:00\", \"2020-01-31T00:00:00\", \"2020-02-01T00:00:00\", \"2020-02-02T00:00:00\", \"2020-02-03T00:00:00\", \"2020-02-04T00:00:00\", \"2020-02-05T00:00:00\", \"2020-02-06T00:00:00\", \"2020-02-07T00:00:00\", \"2020-02-08T00:00:00\", \"2020-02-09T00:00:00\", \"2020-02-10T00:00:00\", \"2020-02-11T00:00:00\", \"2020-02-12T00:00:00\", \"2020-02-13T00:00:00\", \"2020-02-14T00:00:00\", \"2020-02-15T00:00:00\", \"2020-02-16T00:00:00\", \"2020-02-17T00:00:00\", \"2020-02-18T00:00:00\", \"2020-02-19T00:00:00\", \"2020-02-20T00:00:00\", \"2020-02-21T00:00:00\", \"2020-02-22T00:00:00\", \"2020-02-23T00:00:00\", \"2020-02-24T00:00:00\", \"2020-02-25T00:00:00\", \"2020-02-26T00:00:00\", \"2020-02-27T00:00:00\", \"2020-02-28T00:00:00\", \"2020-02-29T00:00:00\", \"2020-03-01T00:00:00\", \"2020-03-02T00:00:00\", \"2020-03-03T00:00:00\", \"2020-03-04T00:00:00\", \"2020-03-05T00:00:00\", \"2020-03-06T00:00:00\", \"2020-03-07T00:00:00\", \"2020-03-08T00:00:00\", \"2020-03-09T00:00:00\", \"2020-03-10T00:00:00\", \"2020-03-11T00:00:00\", \"2020-03-12T00:00:00\", \"2020-03-13T00:00:00\", \"2020-03-14T00:00:00\", \"2020-03-15T00:00:00\", \"2020-03-16T00:00:00\", \"2020-03-17T00:00:00\", \"2020-03-18T00:00:00\", \"2020-03-19T00:00:00\", \"2020-03-20T00:00:00\", \"2020-03-21T00:00:00\", \"2020-03-22T00:00:00\", \"2020-03-23T00:00:00\", \"2020-03-24T00:00:00\", \"2020-03-25T00:00:00\", \"2020-03-26T00:00:00\", \"2020-03-27T00:00:00\", \"2020-03-28T00:00:00\", \"2020-03-29T00:00:00\", \"2020-03-30T00:00:00\", \"2020-03-31T00:00:00\", \"2020-04-01T00:00:00\", \"2020-04-02T00:00:00\", \"2020-04-03T00:00:00\", \"2020-04-04T00:00:00\", \"2020-04-05T00:00:00\", \"2020-04-06T00:00:00\", \"2020-04-07T00:00:00\", \"2020-04-08T00:00:00\", \"2020-04-09T00:00:00\", \"2020-04-10T00:00:00\", \"2020-04-11T00:00:00\", \"2020-04-12T00:00:00\", \"2020-04-13T00:00:00\", \"2020-04-14T00:00:00\", \"2020-04-15T00:00:00\", \"2020-04-16T00:00:00\", \"2020-04-17T00:00:00\", \"2020-04-18T00:00:00\", \"2020-04-19T00:00:00\", \"2020-04-20T00:00:00\", \"2020-04-21T00:00:00\", \"2020-04-22T00:00:00\"], \"xaxis\": \"x\", \"y\": [null, 99.0, 287.0, 493.0, 684.0, 809.0, 2651.0, 588.0, 2068.0, 1693.0, 2111.0, 4749.0, 3094.0, 4011.0, 3743.0, 3159.0, 3536.0, 2729.0, 3027.0, 2541.0, 2040.0, 1887.0, 13639.0, 6474.0, 2078.0, 2124.0, 1935.0, 1790.0, 424.0, 545.0, 622.0, 1753.0, 329.0, 603.0, 845.0, 968.0, 1358.0, 1366.0, 1899.0, 2358.0, 1937.0, 2533.0, 2280.0, 2766.0, 3915.0, 4046.0, 3974.0, 3769.0, 5030.0, 7255.0, 2477.0, 16853.0, 10896.0, 11353.0, 14120.0, 15528.0, 17713.0, 27749.0, 29638.0, 32299.0, 32446.0, 41278.0, 39810.0, 49612.0, 61938.0, 63700.0, 67402.0, 59447.0, 62249.0, 75098.0, 74988.0, 80849.0, 82372.0, 80159.0, 73627.0, 71647.0, 74961.0, 83712.0, 85474.0, 92248.0, 78124.0, 99071.0, 70117.0, 71353.0, 79863.0, 96383.0, 87753.0, 77568.0, 83341.0, 71157.0, 77035.0, 74121.0], \"yaxis\": \"y\"}],\n",
              "                        {\"legend\": {\"title\": {\"text\": \"variable\"}, \"tracegroupgap\": 0}, \"template\": {\"data\": {\"bar\": [{\"error_x\": {\"color\": \"#f2f5fa\"}, \"error_y\": {\"color\": \"#f2f5fa\"}, \"marker\": {\"line\": {\"color\": \"rgb(17,17,17)\", \"width\": 0.5}}, \"type\": \"bar\"}], \"barpolar\": [{\"marker\": {\"line\": {\"color\": \"rgb(17,17,17)\", \"width\": 0.5}}, \"type\": \"barpolar\"}], \"carpet\": [{\"aaxis\": {\"endlinecolor\": \"#A2B1C6\", \"gridcolor\": \"#506784\", \"linecolor\": \"#506784\", \"minorgridcolor\": \"#506784\", \"startlinecolor\": \"#A2B1C6\"}, \"baxis\": {\"endlinecolor\": \"#A2B1C6\", \"gridcolor\": \"#506784\", \"linecolor\": \"#506784\", \"minorgridcolor\": \"#506784\", \"startlinecolor\": \"#A2B1C6\"}, \"type\": \"carpet\"}], \"choropleth\": [{\"colorbar\": {\"outlinewidth\": 0, \"ticks\": \"\"}, \"type\": \"choropleth\"}], \"contour\": [{\"colorbar\": {\"outlinewidth\": 0, \"ticks\": \"\"}, \"colorscale\": [[0.0, \"#0d0887\"], [0.1111111111111111, \"#46039f\"], [0.2222222222222222, \"#7201a8\"], [0.3333333333333333, \"#9c179e\"], [0.4444444444444444, \"#bd3786\"], [0.5555555555555556, \"#d8576b\"], [0.6666666666666666, \"#ed7953\"], [0.7777777777777778, \"#fb9f3a\"], [0.8888888888888888, \"#fdca26\"], [1.0, \"#f0f921\"]], \"type\": \"contour\"}], \"contourcarpet\": [{\"colorbar\": {\"outlinewidth\": 0, \"ticks\": \"\"}, \"type\": \"contourcarpet\"}], \"heatmap\": [{\"colorbar\": {\"outlinewidth\": 0, \"ticks\": \"\"}, \"colorscale\": [[0.0, \"#0d0887\"], [0.1111111111111111, \"#46039f\"], [0.2222222222222222, \"#7201a8\"], [0.3333333333333333, \"#9c179e\"], [0.4444444444444444, \"#bd3786\"], [0.5555555555555556, \"#d8576b\"], [0.6666666666666666, \"#ed7953\"], [0.7777777777777778, \"#fb9f3a\"], [0.8888888888888888, \"#fdca26\"], [1.0, \"#f0f921\"]], \"type\": \"heatmap\"}], \"heatmapgl\": [{\"colorbar\": {\"outlinewidth\": 0, \"ticks\": \"\"}, \"colorscale\": [[0.0, \"#0d0887\"], [0.1111111111111111, \"#46039f\"], [0.2222222222222222, \"#7201a8\"], [0.3333333333333333, \"#9c179e\"], [0.4444444444444444, \"#bd3786\"], [0.5555555555555556, \"#d8576b\"], [0.6666666666666666, \"#ed7953\"], [0.7777777777777778, \"#fb9f3a\"], [0.8888888888888888, \"#fdca26\"], [1.0, \"#f0f921\"]], \"type\": \"heatmapgl\"}], \"histogram\": [{\"marker\": {\"colorbar\": {\"outlinewidth\": 0, \"ticks\": \"\"}}, \"type\": \"histogram\"}], \"histogram2d\": [{\"colorbar\": {\"outlinewidth\": 0, \"ticks\": \"\"}, \"colorscale\": [[0.0, \"#0d0887\"], [0.1111111111111111, \"#46039f\"], [0.2222222222222222, \"#7201a8\"], [0.3333333333333333, \"#9c179e\"], [0.4444444444444444, \"#bd3786\"], [0.5555555555555556, \"#d8576b\"], [0.6666666666666666, \"#ed7953\"], [0.7777777777777778, \"#fb9f3a\"], [0.8888888888888888, \"#fdca26\"], [1.0, \"#f0f921\"]], \"type\": \"histogram2d\"}], \"histogram2dcontour\": [{\"colorbar\": {\"outlinewidth\": 0, \"ticks\": \"\"}, \"colorscale\": [[0.0, \"#0d0887\"], [0.1111111111111111, \"#46039f\"], [0.2222222222222222, \"#7201a8\"], [0.3333333333333333, \"#9c179e\"], [0.4444444444444444, \"#bd3786\"], [0.5555555555555556, \"#d8576b\"], [0.6666666666666666, \"#ed7953\"], [0.7777777777777778, \"#fb9f3a\"], [0.8888888888888888, \"#fdca26\"], [1.0, \"#f0f921\"]], \"type\": \"histogram2dcontour\"}], \"mesh3d\": [{\"colorbar\": {\"outlinewidth\": 0, \"ticks\": \"\"}, \"type\": \"mesh3d\"}], \"parcoords\": [{\"line\": {\"colorbar\": {\"outlinewidth\": 0, \"ticks\": \"\"}}, \"type\": \"parcoords\"}], \"pie\": [{\"automargin\": true, \"type\": \"pie\"}], \"scatter\": [{\"marker\": {\"line\": {\"color\": \"#283442\"}}, \"type\": \"scatter\"}], \"scatter3d\": [{\"line\": {\"colorbar\": {\"outlinewidth\": 0, \"ticks\": \"\"}}, \"marker\": {\"colorbar\": {\"outlinewidth\": 0, \"ticks\": \"\"}}, \"type\": \"scatter3d\"}], \"scattercarpet\": [{\"marker\": {\"colorbar\": {\"outlinewidth\": 0, \"ticks\": \"\"}}, \"type\": \"scattercarpet\"}], \"scattergeo\": [{\"marker\": {\"colorbar\": {\"outlinewidth\": 0, \"ticks\": \"\"}}, \"type\": \"scattergeo\"}], \"scattergl\": [{\"marker\": {\"line\": {\"color\": \"#283442\"}}, \"type\": \"scattergl\"}], \"scattermapbox\": [{\"marker\": {\"colorbar\": {\"outlinewidth\": 0, \"ticks\": \"\"}}, \"type\": \"scattermapbox\"}], \"scatterpolar\": [{\"marker\": {\"colorbar\": {\"outlinewidth\": 0, \"ticks\": \"\"}}, \"type\": \"scatterpolar\"}], \"scatterpolargl\": [{\"marker\": {\"colorbar\": {\"outlinewidth\": 0, \"ticks\": \"\"}}, \"type\": \"scatterpolargl\"}], \"scatterternary\": [{\"marker\": {\"colorbar\": {\"outlinewidth\": 0, \"ticks\": \"\"}}, \"type\": \"scatterternary\"}], \"surface\": [{\"colorbar\": {\"outlinewidth\": 0, \"ticks\": \"\"}, \"colorscale\": [[0.0, \"#0d0887\"], [0.1111111111111111, \"#46039f\"], [0.2222222222222222, \"#7201a8\"], [0.3333333333333333, \"#9c179e\"], [0.4444444444444444, \"#bd3786\"], [0.5555555555555556, \"#d8576b\"], [0.6666666666666666, \"#ed7953\"], [0.7777777777777778, \"#fb9f3a\"], [0.8888888888888888, \"#fdca26\"], [1.0, \"#f0f921\"]], \"type\": \"surface\"}], \"table\": [{\"cells\": {\"fill\": {\"color\": \"#506784\"}, \"line\": {\"color\": \"rgb(17,17,17)\"}}, \"header\": {\"fill\": {\"color\": \"#2a3f5f\"}, \"line\": {\"color\": \"rgb(17,17,17)\"}}, \"type\": \"table\"}]}, \"layout\": {\"annotationdefaults\": {\"arrowcolor\": \"#f2f5fa\", \"arrowhead\": 0, \"arrowwidth\": 1}, \"coloraxis\": {\"colorbar\": {\"outlinewidth\": 0, \"ticks\": \"\"}}, \"colorscale\": {\"diverging\": [[0, \"#8e0152\"], [0.1, \"#c51b7d\"], [0.2, \"#de77ae\"], [0.3, \"#f1b6da\"], [0.4, \"#fde0ef\"], [0.5, \"#f7f7f7\"], [0.6, \"#e6f5d0\"], [0.7, \"#b8e186\"], [0.8, \"#7fbc41\"], [0.9, \"#4d9221\"], [1, \"#276419\"]], \"sequential\": [[0.0, \"#0d0887\"], [0.1111111111111111, \"#46039f\"], [0.2222222222222222, \"#7201a8\"], [0.3333333333333333, \"#9c179e\"], [0.4444444444444444, \"#bd3786\"], [0.5555555555555556, \"#d8576b\"], [0.6666666666666666, \"#ed7953\"], [0.7777777777777778, \"#fb9f3a\"], [0.8888888888888888, \"#fdca26\"], [1.0, \"#f0f921\"]], \"sequentialminus\": [[0.0, \"#0d0887\"], [0.1111111111111111, \"#46039f\"], [0.2222222222222222, \"#7201a8\"], [0.3333333333333333, \"#9c179e\"], [0.4444444444444444, \"#bd3786\"], [0.5555555555555556, \"#d8576b\"], [0.6666666666666666, \"#ed7953\"], [0.7777777777777778, \"#fb9f3a\"], [0.8888888888888888, \"#fdca26\"], [1.0, \"#f0f921\"]]}, \"colorway\": [\"#636efa\", \"#EF553B\", \"#00cc96\", \"#ab63fa\", \"#FFA15A\", \"#19d3f3\", \"#FF6692\", \"#B6E880\", \"#FF97FF\", \"#FECB52\"], \"font\": {\"color\": \"#f2f5fa\"}, \"geo\": {\"bgcolor\": \"rgb(17,17,17)\", \"lakecolor\": \"rgb(17,17,17)\", \"landcolor\": \"rgb(17,17,17)\", \"showlakes\": true, \"showland\": true, \"subunitcolor\": \"#506784\"}, \"hoverlabel\": {\"align\": \"left\"}, \"hovermode\": \"closest\", \"mapbox\": {\"style\": \"dark\"}, \"paper_bgcolor\": \"rgb(17,17,17)\", \"plot_bgcolor\": \"rgb(17,17,17)\", \"polar\": {\"angularaxis\": {\"gridcolor\": \"#506784\", \"linecolor\": \"#506784\", \"ticks\": \"\"}, \"bgcolor\": \"rgb(17,17,17)\", \"radialaxis\": {\"gridcolor\": \"#506784\", \"linecolor\": \"#506784\", \"ticks\": \"\"}}, \"scene\": {\"xaxis\": {\"backgroundcolor\": \"rgb(17,17,17)\", \"gridcolor\": \"#506784\", \"gridwidth\": 2, \"linecolor\": \"#506784\", \"showbackground\": true, \"ticks\": \"\", \"zerolinecolor\": \"#C8D4E3\"}, \"yaxis\": {\"backgroundcolor\": \"rgb(17,17,17)\", \"gridcolor\": \"#506784\", \"gridwidth\": 2, \"linecolor\": \"#506784\", \"showbackground\": true, \"ticks\": \"\", \"zerolinecolor\": \"#C8D4E3\"}, \"zaxis\": {\"backgroundcolor\": \"rgb(17,17,17)\", \"gridcolor\": \"#506784\", \"gridwidth\": 2, \"linecolor\": \"#506784\", \"showbackground\": true, \"ticks\": \"\", \"zerolinecolor\": \"#C8D4E3\"}}, \"shapedefaults\": {\"line\": {\"color\": \"#f2f5fa\"}}, \"sliderdefaults\": {\"bgcolor\": \"#C8D4E3\", \"bordercolor\": \"rgb(17,17,17)\", \"borderwidth\": 1, \"tickwidth\": 0}, \"ternary\": {\"aaxis\": {\"gridcolor\": \"#506784\", \"linecolor\": \"#506784\", \"ticks\": \"\"}, \"baxis\": {\"gridcolor\": \"#506784\", \"linecolor\": \"#506784\", \"ticks\": \"\"}, \"bgcolor\": \"rgb(17,17,17)\", \"caxis\": {\"gridcolor\": \"#506784\", \"linecolor\": \"#506784\", \"ticks\": \"\"}}, \"title\": {\"x\": 0.05}, \"updatemenudefaults\": {\"bgcolor\": \"#506784\", \"borderwidth\": 0}, \"xaxis\": {\"automargin\": true, \"gridcolor\": \"#283442\", \"linecolor\": \"#506784\", \"ticks\": \"\", \"title\": {\"standoff\": 15}, \"zerolinecolor\": \"#283442\", \"zerolinewidth\": 2}, \"yaxis\": {\"automargin\": true, \"gridcolor\": \"#283442\", \"linecolor\": \"#506784\", \"ticks\": \"\", \"title\": {\"standoff\": 15}, \"zerolinecolor\": \"#283442\", \"zerolinewidth\": 2}}}, \"title\": {\"text\": \"Worldwide Confirmed/Fatalities & New Cases as on 2020-04-22 00:00:00 on Log Scale\"}, \"xaxis\": {\"anchor\": \"y\", \"domain\": [0.0, 1.0], \"title\": {\"text\": \"date\"}}, \"yaxis\": {\"anchor\": \"x\", \"domain\": [0.0, 1.0], \"title\": {\"text\": \"value\"}, \"type\": \"log\"}},\n",
              "                        {\"responsive\": true}\n",
              "                    ).then(function(){\n",
              "                            \n",
              "var gd = document.getElementById('71cd26e4-5bd3-4f53-8511-36cac7585b3b');\n",
              "var x = new MutationObserver(function (mutations, observer) {{\n",
              "        var display = window.getComputedStyle(gd).display;\n",
              "        if (!display || display === 'none') {{\n",
              "            console.log([gd, 'removed!']);\n",
              "            Plotly.purge(gd);\n",
              "            observer.disconnect();\n",
              "        }}\n",
              "}});\n",
              "\n",
              "// Listen for the removal of the full notebook cells\n",
              "var notebookContainer = gd.closest('#notebook-container');\n",
              "if (notebookContainer) {{\n",
              "    x.observe(notebookContainer, {childList: true});\n",
              "}}\n",
              "\n",
              "// Listen for the clearing of the current output cell\n",
              "var outputEl = gd.closest('.output');\n",
              "if (outputEl) {{\n",
              "    x.observe(outputEl, {childList: true});\n",
              "}}\n",
              "\n",
              "                        })\n",
              "                };\n",
              "                });\n",
              "            </script>\n",
              "        </div>"
            ]
          },
          "metadata": {
            "tags": []
          }
        }
      ]
    },
    {
      "cell_type": "markdown",
      "metadata": {
        "id": "NQXCcQHjkSzB",
        "colab_type": "text"
      },
      "source": [
        "***Inference***\n",
        "\n",
        "It looks like fatalities curve is just shifted the confirmed curve to below in log-scale, which means mortality rate is almost constant.\n",
        "\n",
        "Is it true? Let's see mortality rate in detail."
      ]
    },
    {
      "cell_type": "markdown",
      "metadata": {
        "id": "xOza-2qCkSzB",
        "colab_type": "text"
      },
      "source": [
        "#### line Curve - Mortality Rate\n",
        "Here, i am calling the death rate as mortality rate against the confirmed cases and later w shall calculate the Fatlity rate considering the population of each country."
      ]
    },
    {
      "cell_type": "code",
      "metadata": {
        "id": "QgJl5R5wkSzC",
        "colab_type": "code",
        "colab": {}
      },
      "source": [
        "data_cfn['mortality'] = data_cfn['deaths'] / data_cfn['confirmed']"
      ],
      "execution_count": 0,
      "outputs": []
    },
    {
      "cell_type": "code",
      "metadata": {
        "id": "pzjGH9bCkSzJ",
        "colab_type": "code",
        "colab": {},
        "outputId": "b58900d9-fcb7-48c5-d2e6-a357b7c151b1"
      },
      "source": [
        "fig = px.line(data_cfn, x=\"date\", y=\"mortality\", \n",
        "              title=f\"Worldwide Mortality Rate as on {max_date}\")\n",
        "fig.show()"
      ],
      "execution_count": 0,
      "outputs": [
        {
          "output_type": "display_data",
          "data": {
            "application/vnd.plotly.v1+json": {
              "config": {
                "plotlyServerURL": "https://plot.ly"
              },
              "data": [
                {
                  "hovertemplate": "date=%{x}<br>mortality=%{y}<extra></extra>",
                  "legendgroup": "",
                  "line": {
                    "color": "#636efa",
                    "dash": "solid"
                  },
                  "mode": "lines",
                  "name": "",
                  "showlegend": false,
                  "type": "scatter",
                  "x": [
                    "2020-01-22T00:00:00",
                    "2020-01-23T00:00:00",
                    "2020-01-24T00:00:00",
                    "2020-01-25T00:00:00",
                    "2020-01-26T00:00:00",
                    "2020-01-27T00:00:00",
                    "2020-01-28T00:00:00",
                    "2020-01-29T00:00:00",
                    "2020-01-30T00:00:00",
                    "2020-01-31T00:00:00",
                    "2020-02-01T00:00:00",
                    "2020-02-02T00:00:00",
                    "2020-02-03T00:00:00",
                    "2020-02-04T00:00:00",
                    "2020-02-05T00:00:00",
                    "2020-02-06T00:00:00",
                    "2020-02-07T00:00:00",
                    "2020-02-08T00:00:00",
                    "2020-02-09T00:00:00",
                    "2020-02-10T00:00:00",
                    "2020-02-11T00:00:00",
                    "2020-02-12T00:00:00",
                    "2020-02-13T00:00:00",
                    "2020-02-14T00:00:00",
                    "2020-02-15T00:00:00",
                    "2020-02-16T00:00:00",
                    "2020-02-17T00:00:00",
                    "2020-02-18T00:00:00",
                    "2020-02-19T00:00:00",
                    "2020-02-20T00:00:00",
                    "2020-02-21T00:00:00",
                    "2020-02-22T00:00:00",
                    "2020-02-23T00:00:00",
                    "2020-02-24T00:00:00",
                    "2020-02-25T00:00:00",
                    "2020-02-26T00:00:00",
                    "2020-02-27T00:00:00",
                    "2020-02-28T00:00:00",
                    "2020-02-29T00:00:00",
                    "2020-03-01T00:00:00",
                    "2020-03-02T00:00:00",
                    "2020-03-03T00:00:00",
                    "2020-03-04T00:00:00",
                    "2020-03-05T00:00:00",
                    "2020-03-06T00:00:00",
                    "2020-03-07T00:00:00",
                    "2020-03-08T00:00:00",
                    "2020-03-09T00:00:00",
                    "2020-03-10T00:00:00",
                    "2020-03-11T00:00:00",
                    "2020-03-12T00:00:00",
                    "2020-03-13T00:00:00",
                    "2020-03-14T00:00:00",
                    "2020-03-15T00:00:00",
                    "2020-03-16T00:00:00",
                    "2020-03-17T00:00:00",
                    "2020-03-18T00:00:00",
                    "2020-03-19T00:00:00",
                    "2020-03-20T00:00:00",
                    "2020-03-21T00:00:00",
                    "2020-03-22T00:00:00",
                    "2020-03-23T00:00:00",
                    "2020-03-24T00:00:00",
                    "2020-03-25T00:00:00",
                    "2020-03-26T00:00:00",
                    "2020-03-27T00:00:00",
                    "2020-03-28T00:00:00",
                    "2020-03-29T00:00:00",
                    "2020-03-30T00:00:00",
                    "2020-03-31T00:00:00",
                    "2020-04-01T00:00:00",
                    "2020-04-02T00:00:00",
                    "2020-04-03T00:00:00",
                    "2020-04-04T00:00:00",
                    "2020-04-05T00:00:00",
                    "2020-04-06T00:00:00",
                    "2020-04-07T00:00:00",
                    "2020-04-08T00:00:00",
                    "2020-04-09T00:00:00",
                    "2020-04-10T00:00:00",
                    "2020-04-11T00:00:00",
                    "2020-04-12T00:00:00",
                    "2020-04-13T00:00:00",
                    "2020-04-14T00:00:00",
                    "2020-04-15T00:00:00",
                    "2020-04-16T00:00:00",
                    "2020-04-17T00:00:00",
                    "2020-04-18T00:00:00",
                    "2020-04-19T00:00:00",
                    "2020-04-20T00:00:00",
                    "2020-04-21T00:00:00",
                    "2020-04-22T00:00:00"
                  ],
                  "xaxis": "x",
                  "y": [
                    0.03063063063063063,
                    0.027522935779816515,
                    0.02763018065887354,
                    0.029288702928870293,
                    0.02644003777148253,
                    0.02801503245644004,
                    0.023485120114736465,
                    0.021569899448589037,
                    0.020767549186300704,
                    0.021456633423995165,
                    0.021515201860774213,
                    0.021564305712753917,
                    0.02142749358684171,
                    0.02059266700150678,
                    0.020408901755020806,
                    0.020588426316814963,
                    0.020943780949606756,
                    0.021749102782050243,
                    0.022601406975003742,
                    0.02376428085485725,
                    0.024917724494593323,
                    0.02401512222365425,
                    0.022776734836276645,
                    0.022844885775571123,
                    0.024234489781074987,
                    0.02497565931507429,
                    0.025657930882918522,
                    0.02690564924792879,
                    0.0282865445626383,
                    0.029710307954951498,
                    0.02952024676773643,
                    0.03151222766814647,
                    0.031507531910000386,
                    0.033295296056802336,
                    0.03393338769365866,
                    0.034282314737924965,
                    0.03425116709937714,
                    0.0343616243240975,
                    0.03440555177830399,
                    0.03410750136886293,
                    0.034363455765002625,
                    0.0342327479540669,
                    0.03440167771728769,
                    0.03438979213830006,
                    0.03416588357485533,
                    0.03378320540987816,
                    0.03478898409934473,
                    0.035275149711207966,
                    0.03609410248146955,
                    0.03681422716487309,
                    0.03692242608464033,
                    0.03734973944456363,
                    0.03740146079346182,
                    0.03857917336339866,
                    0.03936019638631488,
                    0.04021466832318377,
                    0.04075494257597766,
                    0.04076772320948656,
                    0.04159177299113062,
                    0.042676805082374626,
                    0.04354614696006733,
                    0.04369581398552126,
                    0.04460269954879723,
                    0.045337633662496976,
                    0.04530147727552049,
                    0.04587911485219692,
                    0.04642709411331538,
                    0.047140228070077894,
                    0.04806460980686396,
                    0.04913425345043915,
                    0.05062553460482977,
                    0.052314213143830016,
                    0.05367932316819241,
                    0.05496777838952366,
                    0.0555442555474587,
                    0.05646170868748282,
                    0.058711689592354184,
                    0.05972253209743829,
                    0.0610451218358597,
                    0.061879078616040924,
                    0.0625377535540216,
                    0.06220695995162505,
                    0.06274853948587382,
                    0.06377396446529117,
                    0.06528262963791878,
                    0.06683155777950972,
                    0.06868705000634077,
                    0.0688364139826434,
                    0.0687518877180119,
                    0.06877204595349785,
                    0.06928179921579768,
                    0.06978081349816105
                  ],
                  "yaxis": "y"
                }
              ],
              "layout": {
                "legend": {
                  "tracegroupgap": 0
                },
                "template": {
                  "data": {
                    "bar": [
                      {
                        "error_x": {
                          "color": "#f2f5fa"
                        },
                        "error_y": {
                          "color": "#f2f5fa"
                        },
                        "marker": {
                          "line": {
                            "color": "rgb(17,17,17)",
                            "width": 0.5
                          }
                        },
                        "type": "bar"
                      }
                    ],
                    "barpolar": [
                      {
                        "marker": {
                          "line": {
                            "color": "rgb(17,17,17)",
                            "width": 0.5
                          }
                        },
                        "type": "barpolar"
                      }
                    ],
                    "carpet": [
                      {
                        "aaxis": {
                          "endlinecolor": "#A2B1C6",
                          "gridcolor": "#506784",
                          "linecolor": "#506784",
                          "minorgridcolor": "#506784",
                          "startlinecolor": "#A2B1C6"
                        },
                        "baxis": {
                          "endlinecolor": "#A2B1C6",
                          "gridcolor": "#506784",
                          "linecolor": "#506784",
                          "minorgridcolor": "#506784",
                          "startlinecolor": "#A2B1C6"
                        },
                        "type": "carpet"
                      }
                    ],
                    "choropleth": [
                      {
                        "colorbar": {
                          "outlinewidth": 0,
                          "ticks": ""
                        },
                        "type": "choropleth"
                      }
                    ],
                    "contour": [
                      {
                        "colorbar": {
                          "outlinewidth": 0,
                          "ticks": ""
                        },
                        "colorscale": [
                          [
                            0,
                            "#0d0887"
                          ],
                          [
                            0.1111111111111111,
                            "#46039f"
                          ],
                          [
                            0.2222222222222222,
                            "#7201a8"
                          ],
                          [
                            0.3333333333333333,
                            "#9c179e"
                          ],
                          [
                            0.4444444444444444,
                            "#bd3786"
                          ],
                          [
                            0.5555555555555556,
                            "#d8576b"
                          ],
                          [
                            0.6666666666666666,
                            "#ed7953"
                          ],
                          [
                            0.7777777777777778,
                            "#fb9f3a"
                          ],
                          [
                            0.8888888888888888,
                            "#fdca26"
                          ],
                          [
                            1,
                            "#f0f921"
                          ]
                        ],
                        "type": "contour"
                      }
                    ],
                    "contourcarpet": [
                      {
                        "colorbar": {
                          "outlinewidth": 0,
                          "ticks": ""
                        },
                        "type": "contourcarpet"
                      }
                    ],
                    "heatmap": [
                      {
                        "colorbar": {
                          "outlinewidth": 0,
                          "ticks": ""
                        },
                        "colorscale": [
                          [
                            0,
                            "#0d0887"
                          ],
                          [
                            0.1111111111111111,
                            "#46039f"
                          ],
                          [
                            0.2222222222222222,
                            "#7201a8"
                          ],
                          [
                            0.3333333333333333,
                            "#9c179e"
                          ],
                          [
                            0.4444444444444444,
                            "#bd3786"
                          ],
                          [
                            0.5555555555555556,
                            "#d8576b"
                          ],
                          [
                            0.6666666666666666,
                            "#ed7953"
                          ],
                          [
                            0.7777777777777778,
                            "#fb9f3a"
                          ],
                          [
                            0.8888888888888888,
                            "#fdca26"
                          ],
                          [
                            1,
                            "#f0f921"
                          ]
                        ],
                        "type": "heatmap"
                      }
                    ],
                    "heatmapgl": [
                      {
                        "colorbar": {
                          "outlinewidth": 0,
                          "ticks": ""
                        },
                        "colorscale": [
                          [
                            0,
                            "#0d0887"
                          ],
                          [
                            0.1111111111111111,
                            "#46039f"
                          ],
                          [
                            0.2222222222222222,
                            "#7201a8"
                          ],
                          [
                            0.3333333333333333,
                            "#9c179e"
                          ],
                          [
                            0.4444444444444444,
                            "#bd3786"
                          ],
                          [
                            0.5555555555555556,
                            "#d8576b"
                          ],
                          [
                            0.6666666666666666,
                            "#ed7953"
                          ],
                          [
                            0.7777777777777778,
                            "#fb9f3a"
                          ],
                          [
                            0.8888888888888888,
                            "#fdca26"
                          ],
                          [
                            1,
                            "#f0f921"
                          ]
                        ],
                        "type": "heatmapgl"
                      }
                    ],
                    "histogram": [
                      {
                        "marker": {
                          "colorbar": {
                            "outlinewidth": 0,
                            "ticks": ""
                          }
                        },
                        "type": "histogram"
                      }
                    ],
                    "histogram2d": [
                      {
                        "colorbar": {
                          "outlinewidth": 0,
                          "ticks": ""
                        },
                        "colorscale": [
                          [
                            0,
                            "#0d0887"
                          ],
                          [
                            0.1111111111111111,
                            "#46039f"
                          ],
                          [
                            0.2222222222222222,
                            "#7201a8"
                          ],
                          [
                            0.3333333333333333,
                            "#9c179e"
                          ],
                          [
                            0.4444444444444444,
                            "#bd3786"
                          ],
                          [
                            0.5555555555555556,
                            "#d8576b"
                          ],
                          [
                            0.6666666666666666,
                            "#ed7953"
                          ],
                          [
                            0.7777777777777778,
                            "#fb9f3a"
                          ],
                          [
                            0.8888888888888888,
                            "#fdca26"
                          ],
                          [
                            1,
                            "#f0f921"
                          ]
                        ],
                        "type": "histogram2d"
                      }
                    ],
                    "histogram2dcontour": [
                      {
                        "colorbar": {
                          "outlinewidth": 0,
                          "ticks": ""
                        },
                        "colorscale": [
                          [
                            0,
                            "#0d0887"
                          ],
                          [
                            0.1111111111111111,
                            "#46039f"
                          ],
                          [
                            0.2222222222222222,
                            "#7201a8"
                          ],
                          [
                            0.3333333333333333,
                            "#9c179e"
                          ],
                          [
                            0.4444444444444444,
                            "#bd3786"
                          ],
                          [
                            0.5555555555555556,
                            "#d8576b"
                          ],
                          [
                            0.6666666666666666,
                            "#ed7953"
                          ],
                          [
                            0.7777777777777778,
                            "#fb9f3a"
                          ],
                          [
                            0.8888888888888888,
                            "#fdca26"
                          ],
                          [
                            1,
                            "#f0f921"
                          ]
                        ],
                        "type": "histogram2dcontour"
                      }
                    ],
                    "mesh3d": [
                      {
                        "colorbar": {
                          "outlinewidth": 0,
                          "ticks": ""
                        },
                        "type": "mesh3d"
                      }
                    ],
                    "parcoords": [
                      {
                        "line": {
                          "colorbar": {
                            "outlinewidth": 0,
                            "ticks": ""
                          }
                        },
                        "type": "parcoords"
                      }
                    ],
                    "pie": [
                      {
                        "automargin": true,
                        "type": "pie"
                      }
                    ],
                    "scatter": [
                      {
                        "marker": {
                          "line": {
                            "color": "#283442"
                          }
                        },
                        "type": "scatter"
                      }
                    ],
                    "scatter3d": [
                      {
                        "line": {
                          "colorbar": {
                            "outlinewidth": 0,
                            "ticks": ""
                          }
                        },
                        "marker": {
                          "colorbar": {
                            "outlinewidth": 0,
                            "ticks": ""
                          }
                        },
                        "type": "scatter3d"
                      }
                    ],
                    "scattercarpet": [
                      {
                        "marker": {
                          "colorbar": {
                            "outlinewidth": 0,
                            "ticks": ""
                          }
                        },
                        "type": "scattercarpet"
                      }
                    ],
                    "scattergeo": [
                      {
                        "marker": {
                          "colorbar": {
                            "outlinewidth": 0,
                            "ticks": ""
                          }
                        },
                        "type": "scattergeo"
                      }
                    ],
                    "scattergl": [
                      {
                        "marker": {
                          "line": {
                            "color": "#283442"
                          }
                        },
                        "type": "scattergl"
                      }
                    ],
                    "scattermapbox": [
                      {
                        "marker": {
                          "colorbar": {
                            "outlinewidth": 0,
                            "ticks": ""
                          }
                        },
                        "type": "scattermapbox"
                      }
                    ],
                    "scatterpolar": [
                      {
                        "marker": {
                          "colorbar": {
                            "outlinewidth": 0,
                            "ticks": ""
                          }
                        },
                        "type": "scatterpolar"
                      }
                    ],
                    "scatterpolargl": [
                      {
                        "marker": {
                          "colorbar": {
                            "outlinewidth": 0,
                            "ticks": ""
                          }
                        },
                        "type": "scatterpolargl"
                      }
                    ],
                    "scatterternary": [
                      {
                        "marker": {
                          "colorbar": {
                            "outlinewidth": 0,
                            "ticks": ""
                          }
                        },
                        "type": "scatterternary"
                      }
                    ],
                    "surface": [
                      {
                        "colorbar": {
                          "outlinewidth": 0,
                          "ticks": ""
                        },
                        "colorscale": [
                          [
                            0,
                            "#0d0887"
                          ],
                          [
                            0.1111111111111111,
                            "#46039f"
                          ],
                          [
                            0.2222222222222222,
                            "#7201a8"
                          ],
                          [
                            0.3333333333333333,
                            "#9c179e"
                          ],
                          [
                            0.4444444444444444,
                            "#bd3786"
                          ],
                          [
                            0.5555555555555556,
                            "#d8576b"
                          ],
                          [
                            0.6666666666666666,
                            "#ed7953"
                          ],
                          [
                            0.7777777777777778,
                            "#fb9f3a"
                          ],
                          [
                            0.8888888888888888,
                            "#fdca26"
                          ],
                          [
                            1,
                            "#f0f921"
                          ]
                        ],
                        "type": "surface"
                      }
                    ],
                    "table": [
                      {
                        "cells": {
                          "fill": {
                            "color": "#506784"
                          },
                          "line": {
                            "color": "rgb(17,17,17)"
                          }
                        },
                        "header": {
                          "fill": {
                            "color": "#2a3f5f"
                          },
                          "line": {
                            "color": "rgb(17,17,17)"
                          }
                        },
                        "type": "table"
                      }
                    ]
                  },
                  "layout": {
                    "annotationdefaults": {
                      "arrowcolor": "#f2f5fa",
                      "arrowhead": 0,
                      "arrowwidth": 1
                    },
                    "coloraxis": {
                      "colorbar": {
                        "outlinewidth": 0,
                        "ticks": ""
                      }
                    },
                    "colorscale": {
                      "diverging": [
                        [
                          0,
                          "#8e0152"
                        ],
                        [
                          0.1,
                          "#c51b7d"
                        ],
                        [
                          0.2,
                          "#de77ae"
                        ],
                        [
                          0.3,
                          "#f1b6da"
                        ],
                        [
                          0.4,
                          "#fde0ef"
                        ],
                        [
                          0.5,
                          "#f7f7f7"
                        ],
                        [
                          0.6,
                          "#e6f5d0"
                        ],
                        [
                          0.7,
                          "#b8e186"
                        ],
                        [
                          0.8,
                          "#7fbc41"
                        ],
                        [
                          0.9,
                          "#4d9221"
                        ],
                        [
                          1,
                          "#276419"
                        ]
                      ],
                      "sequential": [
                        [
                          0,
                          "#0d0887"
                        ],
                        [
                          0.1111111111111111,
                          "#46039f"
                        ],
                        [
                          0.2222222222222222,
                          "#7201a8"
                        ],
                        [
                          0.3333333333333333,
                          "#9c179e"
                        ],
                        [
                          0.4444444444444444,
                          "#bd3786"
                        ],
                        [
                          0.5555555555555556,
                          "#d8576b"
                        ],
                        [
                          0.6666666666666666,
                          "#ed7953"
                        ],
                        [
                          0.7777777777777778,
                          "#fb9f3a"
                        ],
                        [
                          0.8888888888888888,
                          "#fdca26"
                        ],
                        [
                          1,
                          "#f0f921"
                        ]
                      ],
                      "sequentialminus": [
                        [
                          0,
                          "#0d0887"
                        ],
                        [
                          0.1111111111111111,
                          "#46039f"
                        ],
                        [
                          0.2222222222222222,
                          "#7201a8"
                        ],
                        [
                          0.3333333333333333,
                          "#9c179e"
                        ],
                        [
                          0.4444444444444444,
                          "#bd3786"
                        ],
                        [
                          0.5555555555555556,
                          "#d8576b"
                        ],
                        [
                          0.6666666666666666,
                          "#ed7953"
                        ],
                        [
                          0.7777777777777778,
                          "#fb9f3a"
                        ],
                        [
                          0.8888888888888888,
                          "#fdca26"
                        ],
                        [
                          1,
                          "#f0f921"
                        ]
                      ]
                    },
                    "colorway": [
                      "#636efa",
                      "#EF553B",
                      "#00cc96",
                      "#ab63fa",
                      "#FFA15A",
                      "#19d3f3",
                      "#FF6692",
                      "#B6E880",
                      "#FF97FF",
                      "#FECB52"
                    ],
                    "font": {
                      "color": "#f2f5fa"
                    },
                    "geo": {
                      "bgcolor": "rgb(17,17,17)",
                      "lakecolor": "rgb(17,17,17)",
                      "landcolor": "rgb(17,17,17)",
                      "showlakes": true,
                      "showland": true,
                      "subunitcolor": "#506784"
                    },
                    "hoverlabel": {
                      "align": "left"
                    },
                    "hovermode": "closest",
                    "mapbox": {
                      "style": "dark"
                    },
                    "paper_bgcolor": "rgb(17,17,17)",
                    "plot_bgcolor": "rgb(17,17,17)",
                    "polar": {
                      "angularaxis": {
                        "gridcolor": "#506784",
                        "linecolor": "#506784",
                        "ticks": ""
                      },
                      "bgcolor": "rgb(17,17,17)",
                      "radialaxis": {
                        "gridcolor": "#506784",
                        "linecolor": "#506784",
                        "ticks": ""
                      }
                    },
                    "scene": {
                      "xaxis": {
                        "backgroundcolor": "rgb(17,17,17)",
                        "gridcolor": "#506784",
                        "gridwidth": 2,
                        "linecolor": "#506784",
                        "showbackground": true,
                        "ticks": "",
                        "zerolinecolor": "#C8D4E3"
                      },
                      "yaxis": {
                        "backgroundcolor": "rgb(17,17,17)",
                        "gridcolor": "#506784",
                        "gridwidth": 2,
                        "linecolor": "#506784",
                        "showbackground": true,
                        "ticks": "",
                        "zerolinecolor": "#C8D4E3"
                      },
                      "zaxis": {
                        "backgroundcolor": "rgb(17,17,17)",
                        "gridcolor": "#506784",
                        "gridwidth": 2,
                        "linecolor": "#506784",
                        "showbackground": true,
                        "ticks": "",
                        "zerolinecolor": "#C8D4E3"
                      }
                    },
                    "shapedefaults": {
                      "line": {
                        "color": "#f2f5fa"
                      }
                    },
                    "sliderdefaults": {
                      "bgcolor": "#C8D4E3",
                      "bordercolor": "rgb(17,17,17)",
                      "borderwidth": 1,
                      "tickwidth": 0
                    },
                    "ternary": {
                      "aaxis": {
                        "gridcolor": "#506784",
                        "linecolor": "#506784",
                        "ticks": ""
                      },
                      "baxis": {
                        "gridcolor": "#506784",
                        "linecolor": "#506784",
                        "ticks": ""
                      },
                      "bgcolor": "rgb(17,17,17)",
                      "caxis": {
                        "gridcolor": "#506784",
                        "linecolor": "#506784",
                        "ticks": ""
                      }
                    },
                    "title": {
                      "x": 0.05
                    },
                    "updatemenudefaults": {
                      "bgcolor": "#506784",
                      "borderwidth": 0
                    },
                    "xaxis": {
                      "automargin": true,
                      "gridcolor": "#283442",
                      "linecolor": "#506784",
                      "ticks": "",
                      "title": {
                        "standoff": 15
                      },
                      "zerolinecolor": "#283442",
                      "zerolinewidth": 2
                    },
                    "yaxis": {
                      "automargin": true,
                      "gridcolor": "#283442",
                      "linecolor": "#506784",
                      "ticks": "",
                      "title": {
                        "standoff": 15
                      },
                      "zerolinecolor": "#283442",
                      "zerolinewidth": 2
                    }
                  }
                },
                "title": {
                  "text": "Worldwide Mortality Rate as on 2020-04-22 00:00:00"
                },
                "xaxis": {
                  "anchor": "y",
                  "domain": [
                    0,
                    1
                  ],
                  "title": {
                    "text": "date"
                  }
                },
                "yaxis": {
                  "anchor": "x",
                  "domain": [
                    0,
                    1
                  ],
                  "title": {
                    "text": "mortality"
                  }
                }
              }
            },
            "text/html": [
              "<div>\n",
              "        \n",
              "        \n",
              "            <div id=\"f7a8d413-501f-47da-bc07-79210cd19b3f\" class=\"plotly-graph-div\" style=\"height:525px; width:100%;\"></div>\n",
              "            <script type=\"text/javascript\">\n",
              "                require([\"plotly\"], function(Plotly) {\n",
              "                    window.PLOTLYENV=window.PLOTLYENV || {};\n",
              "                    \n",
              "                if (document.getElementById(\"f7a8d413-501f-47da-bc07-79210cd19b3f\")) {\n",
              "                    Plotly.newPlot(\n",
              "                        'f7a8d413-501f-47da-bc07-79210cd19b3f',\n",
              "                        [{\"hovertemplate\": \"date=%{x}<br>mortality=%{y}<extra></extra>\", \"legendgroup\": \"\", \"line\": {\"color\": \"#636efa\", \"dash\": \"solid\"}, \"mode\": \"lines\", \"name\": \"\", \"showlegend\": false, \"type\": \"scatter\", \"x\": [\"2020-01-22T00:00:00\", \"2020-01-23T00:00:00\", \"2020-01-24T00:00:00\", \"2020-01-25T00:00:00\", \"2020-01-26T00:00:00\", \"2020-01-27T00:00:00\", \"2020-01-28T00:00:00\", \"2020-01-29T00:00:00\", \"2020-01-30T00:00:00\", \"2020-01-31T00:00:00\", \"2020-02-01T00:00:00\", \"2020-02-02T00:00:00\", \"2020-02-03T00:00:00\", \"2020-02-04T00:00:00\", \"2020-02-05T00:00:00\", \"2020-02-06T00:00:00\", \"2020-02-07T00:00:00\", \"2020-02-08T00:00:00\", \"2020-02-09T00:00:00\", \"2020-02-10T00:00:00\", \"2020-02-11T00:00:00\", \"2020-02-12T00:00:00\", \"2020-02-13T00:00:00\", \"2020-02-14T00:00:00\", \"2020-02-15T00:00:00\", \"2020-02-16T00:00:00\", \"2020-02-17T00:00:00\", \"2020-02-18T00:00:00\", \"2020-02-19T00:00:00\", \"2020-02-20T00:00:00\", \"2020-02-21T00:00:00\", \"2020-02-22T00:00:00\", \"2020-02-23T00:00:00\", \"2020-02-24T00:00:00\", \"2020-02-25T00:00:00\", \"2020-02-26T00:00:00\", \"2020-02-27T00:00:00\", \"2020-02-28T00:00:00\", \"2020-02-29T00:00:00\", \"2020-03-01T00:00:00\", \"2020-03-02T00:00:00\", \"2020-03-03T00:00:00\", \"2020-03-04T00:00:00\", \"2020-03-05T00:00:00\", \"2020-03-06T00:00:00\", \"2020-03-07T00:00:00\", \"2020-03-08T00:00:00\", \"2020-03-09T00:00:00\", \"2020-03-10T00:00:00\", \"2020-03-11T00:00:00\", \"2020-03-12T00:00:00\", \"2020-03-13T00:00:00\", \"2020-03-14T00:00:00\", \"2020-03-15T00:00:00\", \"2020-03-16T00:00:00\", \"2020-03-17T00:00:00\", \"2020-03-18T00:00:00\", \"2020-03-19T00:00:00\", \"2020-03-20T00:00:00\", \"2020-03-21T00:00:00\", \"2020-03-22T00:00:00\", \"2020-03-23T00:00:00\", \"2020-03-24T00:00:00\", \"2020-03-25T00:00:00\", \"2020-03-26T00:00:00\", \"2020-03-27T00:00:00\", \"2020-03-28T00:00:00\", \"2020-03-29T00:00:00\", \"2020-03-30T00:00:00\", \"2020-03-31T00:00:00\", \"2020-04-01T00:00:00\", \"2020-04-02T00:00:00\", \"2020-04-03T00:00:00\", \"2020-04-04T00:00:00\", \"2020-04-05T00:00:00\", \"2020-04-06T00:00:00\", \"2020-04-07T00:00:00\", \"2020-04-08T00:00:00\", \"2020-04-09T00:00:00\", \"2020-04-10T00:00:00\", \"2020-04-11T00:00:00\", \"2020-04-12T00:00:00\", \"2020-04-13T00:00:00\", \"2020-04-14T00:00:00\", \"2020-04-15T00:00:00\", \"2020-04-16T00:00:00\", \"2020-04-17T00:00:00\", \"2020-04-18T00:00:00\", \"2020-04-19T00:00:00\", \"2020-04-20T00:00:00\", \"2020-04-21T00:00:00\", \"2020-04-22T00:00:00\"], \"xaxis\": \"x\", \"y\": [0.03063063063063063, 0.027522935779816515, 0.02763018065887354, 0.029288702928870293, 0.02644003777148253, 0.02801503245644004, 0.023485120114736465, 0.021569899448589037, 0.020767549186300704, 0.021456633423995165, 0.021515201860774213, 0.021564305712753917, 0.02142749358684171, 0.02059266700150678, 0.020408901755020806, 0.020588426316814963, 0.020943780949606756, 0.021749102782050243, 0.022601406975003742, 0.02376428085485725, 0.024917724494593323, 0.02401512222365425, 0.022776734836276645, 0.022844885775571123, 0.024234489781074987, 0.02497565931507429, 0.025657930882918522, 0.02690564924792879, 0.0282865445626383, 0.029710307954951498, 0.02952024676773643, 0.03151222766814647, 0.031507531910000386, 0.033295296056802336, 0.03393338769365866, 0.034282314737924965, 0.03425116709937714, 0.0343616243240975, 0.03440555177830399, 0.03410750136886293, 0.034363455765002625, 0.0342327479540669, 0.03440167771728769, 0.03438979213830006, 0.03416588357485533, 0.03378320540987816, 0.03478898409934473, 0.035275149711207966, 0.03609410248146955, 0.03681422716487309, 0.03692242608464033, 0.03734973944456363, 0.03740146079346182, 0.03857917336339866, 0.03936019638631488, 0.04021466832318377, 0.04075494257597766, 0.04076772320948656, 0.04159177299113062, 0.042676805082374626, 0.04354614696006733, 0.04369581398552126, 0.04460269954879723, 0.045337633662496976, 0.04530147727552049, 0.04587911485219692, 0.04642709411331538, 0.047140228070077894, 0.04806460980686396, 0.04913425345043915, 0.05062553460482977, 0.052314213143830016, 0.05367932316819241, 0.05496777838952366, 0.0555442555474587, 0.05646170868748282, 0.058711689592354184, 0.05972253209743829, 0.0610451218358597, 0.061879078616040924, 0.0625377535540216, 0.06220695995162505, 0.06274853948587382, 0.06377396446529117, 0.06528262963791878, 0.06683155777950972, 0.06868705000634077, 0.0688364139826434, 0.0687518877180119, 0.06877204595349785, 0.06928179921579768, 0.06978081349816105], \"yaxis\": \"y\"}],\n",
              "                        {\"legend\": {\"tracegroupgap\": 0}, \"template\": {\"data\": {\"bar\": [{\"error_x\": {\"color\": \"#f2f5fa\"}, \"error_y\": {\"color\": \"#f2f5fa\"}, \"marker\": {\"line\": {\"color\": \"rgb(17,17,17)\", \"width\": 0.5}}, \"type\": \"bar\"}], \"barpolar\": [{\"marker\": {\"line\": {\"color\": \"rgb(17,17,17)\", \"width\": 0.5}}, \"type\": \"barpolar\"}], \"carpet\": [{\"aaxis\": {\"endlinecolor\": \"#A2B1C6\", \"gridcolor\": \"#506784\", \"linecolor\": \"#506784\", \"minorgridcolor\": \"#506784\", \"startlinecolor\": \"#A2B1C6\"}, \"baxis\": {\"endlinecolor\": \"#A2B1C6\", \"gridcolor\": \"#506784\", \"linecolor\": \"#506784\", \"minorgridcolor\": \"#506784\", \"startlinecolor\": \"#A2B1C6\"}, \"type\": \"carpet\"}], \"choropleth\": [{\"colorbar\": {\"outlinewidth\": 0, \"ticks\": \"\"}, \"type\": \"choropleth\"}], \"contour\": [{\"colorbar\": {\"outlinewidth\": 0, \"ticks\": \"\"}, \"colorscale\": [[0.0, \"#0d0887\"], [0.1111111111111111, \"#46039f\"], [0.2222222222222222, \"#7201a8\"], [0.3333333333333333, \"#9c179e\"], [0.4444444444444444, \"#bd3786\"], [0.5555555555555556, \"#d8576b\"], [0.6666666666666666, \"#ed7953\"], [0.7777777777777778, \"#fb9f3a\"], [0.8888888888888888, \"#fdca26\"], [1.0, \"#f0f921\"]], \"type\": \"contour\"}], \"contourcarpet\": [{\"colorbar\": {\"outlinewidth\": 0, \"ticks\": \"\"}, \"type\": \"contourcarpet\"}], \"heatmap\": [{\"colorbar\": {\"outlinewidth\": 0, \"ticks\": \"\"}, \"colorscale\": [[0.0, \"#0d0887\"], [0.1111111111111111, \"#46039f\"], [0.2222222222222222, \"#7201a8\"], [0.3333333333333333, \"#9c179e\"], [0.4444444444444444, \"#bd3786\"], [0.5555555555555556, \"#d8576b\"], [0.6666666666666666, \"#ed7953\"], [0.7777777777777778, \"#fb9f3a\"], [0.8888888888888888, \"#fdca26\"], [1.0, \"#f0f921\"]], \"type\": \"heatmap\"}], \"heatmapgl\": [{\"colorbar\": {\"outlinewidth\": 0, \"ticks\": \"\"}, \"colorscale\": [[0.0, \"#0d0887\"], [0.1111111111111111, \"#46039f\"], [0.2222222222222222, \"#7201a8\"], [0.3333333333333333, \"#9c179e\"], [0.4444444444444444, \"#bd3786\"], [0.5555555555555556, \"#d8576b\"], [0.6666666666666666, \"#ed7953\"], [0.7777777777777778, \"#fb9f3a\"], [0.8888888888888888, \"#fdca26\"], [1.0, \"#f0f921\"]], \"type\": \"heatmapgl\"}], \"histogram\": [{\"marker\": {\"colorbar\": {\"outlinewidth\": 0, \"ticks\": \"\"}}, \"type\": \"histogram\"}], \"histogram2d\": [{\"colorbar\": {\"outlinewidth\": 0, \"ticks\": \"\"}, \"colorscale\": [[0.0, \"#0d0887\"], [0.1111111111111111, \"#46039f\"], [0.2222222222222222, \"#7201a8\"], [0.3333333333333333, \"#9c179e\"], [0.4444444444444444, \"#bd3786\"], [0.5555555555555556, \"#d8576b\"], [0.6666666666666666, \"#ed7953\"], [0.7777777777777778, \"#fb9f3a\"], [0.8888888888888888, \"#fdca26\"], [1.0, \"#f0f921\"]], \"type\": \"histogram2d\"}], \"histogram2dcontour\": [{\"colorbar\": {\"outlinewidth\": 0, \"ticks\": \"\"}, \"colorscale\": [[0.0, \"#0d0887\"], [0.1111111111111111, \"#46039f\"], [0.2222222222222222, \"#7201a8\"], [0.3333333333333333, \"#9c179e\"], [0.4444444444444444, \"#bd3786\"], [0.5555555555555556, \"#d8576b\"], [0.6666666666666666, \"#ed7953\"], [0.7777777777777778, \"#fb9f3a\"], [0.8888888888888888, \"#fdca26\"], [1.0, \"#f0f921\"]], \"type\": \"histogram2dcontour\"}], \"mesh3d\": [{\"colorbar\": {\"outlinewidth\": 0, \"ticks\": \"\"}, \"type\": \"mesh3d\"}], \"parcoords\": [{\"line\": {\"colorbar\": {\"outlinewidth\": 0, \"ticks\": \"\"}}, \"type\": \"parcoords\"}], \"pie\": [{\"automargin\": true, \"type\": \"pie\"}], \"scatter\": [{\"marker\": {\"line\": {\"color\": \"#283442\"}}, \"type\": \"scatter\"}], \"scatter3d\": [{\"line\": {\"colorbar\": {\"outlinewidth\": 0, \"ticks\": \"\"}}, \"marker\": {\"colorbar\": {\"outlinewidth\": 0, \"ticks\": \"\"}}, \"type\": \"scatter3d\"}], \"scattercarpet\": [{\"marker\": {\"colorbar\": {\"outlinewidth\": 0, \"ticks\": \"\"}}, \"type\": \"scattercarpet\"}], \"scattergeo\": [{\"marker\": {\"colorbar\": {\"outlinewidth\": 0, \"ticks\": \"\"}}, \"type\": \"scattergeo\"}], \"scattergl\": [{\"marker\": {\"line\": {\"color\": \"#283442\"}}, \"type\": \"scattergl\"}], \"scattermapbox\": [{\"marker\": {\"colorbar\": {\"outlinewidth\": 0, \"ticks\": \"\"}}, \"type\": \"scattermapbox\"}], \"scatterpolar\": [{\"marker\": {\"colorbar\": {\"outlinewidth\": 0, \"ticks\": \"\"}}, \"type\": \"scatterpolar\"}], \"scatterpolargl\": [{\"marker\": {\"colorbar\": {\"outlinewidth\": 0, \"ticks\": \"\"}}, \"type\": \"scatterpolargl\"}], \"scatterternary\": [{\"marker\": {\"colorbar\": {\"outlinewidth\": 0, \"ticks\": \"\"}}, \"type\": \"scatterternary\"}], \"surface\": [{\"colorbar\": {\"outlinewidth\": 0, \"ticks\": \"\"}, \"colorscale\": [[0.0, \"#0d0887\"], [0.1111111111111111, \"#46039f\"], [0.2222222222222222, \"#7201a8\"], [0.3333333333333333, \"#9c179e\"], [0.4444444444444444, \"#bd3786\"], [0.5555555555555556, \"#d8576b\"], [0.6666666666666666, \"#ed7953\"], [0.7777777777777778, \"#fb9f3a\"], [0.8888888888888888, \"#fdca26\"], [1.0, \"#f0f921\"]], \"type\": \"surface\"}], \"table\": [{\"cells\": {\"fill\": {\"color\": \"#506784\"}, \"line\": {\"color\": \"rgb(17,17,17)\"}}, \"header\": {\"fill\": {\"color\": \"#2a3f5f\"}, \"line\": {\"color\": \"rgb(17,17,17)\"}}, \"type\": \"table\"}]}, \"layout\": {\"annotationdefaults\": {\"arrowcolor\": \"#f2f5fa\", \"arrowhead\": 0, \"arrowwidth\": 1}, \"coloraxis\": {\"colorbar\": {\"outlinewidth\": 0, \"ticks\": \"\"}}, \"colorscale\": {\"diverging\": [[0, \"#8e0152\"], [0.1, \"#c51b7d\"], [0.2, \"#de77ae\"], [0.3, \"#f1b6da\"], [0.4, \"#fde0ef\"], [0.5, \"#f7f7f7\"], [0.6, \"#e6f5d0\"], [0.7, \"#b8e186\"], [0.8, \"#7fbc41\"], [0.9, \"#4d9221\"], [1, \"#276419\"]], \"sequential\": [[0.0, \"#0d0887\"], [0.1111111111111111, \"#46039f\"], [0.2222222222222222, \"#7201a8\"], [0.3333333333333333, \"#9c179e\"], [0.4444444444444444, \"#bd3786\"], [0.5555555555555556, \"#d8576b\"], [0.6666666666666666, \"#ed7953\"], [0.7777777777777778, \"#fb9f3a\"], [0.8888888888888888, \"#fdca26\"], [1.0, \"#f0f921\"]], \"sequentialminus\": [[0.0, \"#0d0887\"], [0.1111111111111111, \"#46039f\"], [0.2222222222222222, \"#7201a8\"], [0.3333333333333333, \"#9c179e\"], [0.4444444444444444, \"#bd3786\"], [0.5555555555555556, \"#d8576b\"], [0.6666666666666666, \"#ed7953\"], [0.7777777777777778, \"#fb9f3a\"], [0.8888888888888888, \"#fdca26\"], [1.0, \"#f0f921\"]]}, \"colorway\": [\"#636efa\", \"#EF553B\", \"#00cc96\", \"#ab63fa\", \"#FFA15A\", \"#19d3f3\", \"#FF6692\", \"#B6E880\", \"#FF97FF\", \"#FECB52\"], \"font\": {\"color\": \"#f2f5fa\"}, \"geo\": {\"bgcolor\": \"rgb(17,17,17)\", \"lakecolor\": \"rgb(17,17,17)\", \"landcolor\": \"rgb(17,17,17)\", \"showlakes\": true, \"showland\": true, \"subunitcolor\": \"#506784\"}, \"hoverlabel\": {\"align\": \"left\"}, \"hovermode\": \"closest\", \"mapbox\": {\"style\": \"dark\"}, \"paper_bgcolor\": \"rgb(17,17,17)\", \"plot_bgcolor\": \"rgb(17,17,17)\", \"polar\": {\"angularaxis\": {\"gridcolor\": \"#506784\", \"linecolor\": \"#506784\", \"ticks\": \"\"}, \"bgcolor\": \"rgb(17,17,17)\", \"radialaxis\": {\"gridcolor\": \"#506784\", \"linecolor\": \"#506784\", \"ticks\": \"\"}}, \"scene\": {\"xaxis\": {\"backgroundcolor\": \"rgb(17,17,17)\", \"gridcolor\": \"#506784\", \"gridwidth\": 2, \"linecolor\": \"#506784\", \"showbackground\": true, \"ticks\": \"\", \"zerolinecolor\": \"#C8D4E3\"}, \"yaxis\": {\"backgroundcolor\": \"rgb(17,17,17)\", \"gridcolor\": \"#506784\", \"gridwidth\": 2, \"linecolor\": \"#506784\", \"showbackground\": true, \"ticks\": \"\", \"zerolinecolor\": \"#C8D4E3\"}, \"zaxis\": {\"backgroundcolor\": \"rgb(17,17,17)\", \"gridcolor\": \"#506784\", \"gridwidth\": 2, \"linecolor\": \"#506784\", \"showbackground\": true, \"ticks\": \"\", \"zerolinecolor\": \"#C8D4E3\"}}, \"shapedefaults\": {\"line\": {\"color\": \"#f2f5fa\"}}, \"sliderdefaults\": {\"bgcolor\": \"#C8D4E3\", \"bordercolor\": \"rgb(17,17,17)\", \"borderwidth\": 1, \"tickwidth\": 0}, \"ternary\": {\"aaxis\": {\"gridcolor\": \"#506784\", \"linecolor\": \"#506784\", \"ticks\": \"\"}, \"baxis\": {\"gridcolor\": \"#506784\", \"linecolor\": \"#506784\", \"ticks\": \"\"}, \"bgcolor\": \"rgb(17,17,17)\", \"caxis\": {\"gridcolor\": \"#506784\", \"linecolor\": \"#506784\", \"ticks\": \"\"}}, \"title\": {\"x\": 0.05}, \"updatemenudefaults\": {\"bgcolor\": \"#506784\", \"borderwidth\": 0}, \"xaxis\": {\"automargin\": true, \"gridcolor\": \"#283442\", \"linecolor\": \"#506784\", \"ticks\": \"\", \"title\": {\"standoff\": 15}, \"zerolinecolor\": \"#283442\", \"zerolinewidth\": 2}, \"yaxis\": {\"automargin\": true, \"gridcolor\": \"#283442\", \"linecolor\": \"#506784\", \"ticks\": \"\", \"title\": {\"standoff\": 15}, \"zerolinecolor\": \"#283442\", \"zerolinewidth\": 2}}}, \"title\": {\"text\": \"Worldwide Mortality Rate as on 2020-04-22 00:00:00\"}, \"xaxis\": {\"anchor\": \"y\", \"domain\": [0.0, 1.0], \"title\": {\"text\": \"date\"}}, \"yaxis\": {\"anchor\": \"x\", \"domain\": [0.0, 1.0], \"title\": {\"text\": \"mortality\"}}},\n",
              "                        {\"responsive\": true}\n",
              "                    ).then(function(){\n",
              "                            \n",
              "var gd = document.getElementById('f7a8d413-501f-47da-bc07-79210cd19b3f');\n",
              "var x = new MutationObserver(function (mutations, observer) {{\n",
              "        var display = window.getComputedStyle(gd).display;\n",
              "        if (!display || display === 'none') {{\n",
              "            console.log([gd, 'removed!']);\n",
              "            Plotly.purge(gd);\n",
              "            observer.disconnect();\n",
              "        }}\n",
              "}});\n",
              "\n",
              "// Listen for the removal of the full notebook cells\n",
              "var notebookContainer = gd.closest('#notebook-container');\n",
              "if (notebookContainer) {{\n",
              "    x.observe(notebookContainer, {childList: true});\n",
              "}}\n",
              "\n",
              "// Listen for the clearing of the current output cell\n",
              "var outputEl = gd.closest('.output');\n",
              "if (outputEl) {{\n",
              "    x.observe(outputEl, {childList: true});\n",
              "}}\n",
              "\n",
              "                        })\n",
              "                };\n",
              "                });\n",
              "            </script>\n",
              "        </div>"
            ]
          },
          "metadata": {
            "tags": []
          }
        }
      ]
    },
    {
      "cell_type": "markdown",
      "metadata": {
        "id": "S7TS1dqqkSzN",
        "colab_type": "text"
      },
      "source": [
        "***Inference***\n",
        "\n",
        "We see that mortality rate has kept almost 3% till Mar 16th, however it is slightly increasing gradually to go over 6% by April 10th.\n",
        "\n",
        "Why? I will show you later that Europe & US has more seriously infected by Coronavirus recently, and mortality rate is high in these regions."
      ]
    },
    {
      "cell_type": "code",
      "metadata": {
        "id": "WDy7siigkSzO",
        "colab_type": "code",
        "colab": {},
        "outputId": "47c0a51e-a344-44ac-d74e-314373a2ea00"
      },
      "source": [
        "data_cfn"
      ],
      "execution_count": 0,
      "outputs": [
        {
          "output_type": "execute_result",
          "data": {
            "text/html": [
              "<div>\n",
              "<style scoped>\n",
              "    .dataframe tbody tr th:only-of-type {\n",
              "        vertical-align: middle;\n",
              "    }\n",
              "\n",
              "    .dataframe tbody tr th {\n",
              "        vertical-align: top;\n",
              "    }\n",
              "\n",
              "    .dataframe thead th {\n",
              "        text-align: right;\n",
              "    }\n",
              "</style>\n",
              "<table border=\"1\" class=\"dataframe\">\n",
              "  <thead>\n",
              "    <tr style=\"text-align: right;\">\n",
              "      <th></th>\n",
              "      <th>date</th>\n",
              "      <th>confirmed</th>\n",
              "      <th>deaths</th>\n",
              "      <th>new cases</th>\n",
              "      <th>mortality</th>\n",
              "    </tr>\n",
              "  </thead>\n",
              "  <tbody>\n",
              "    <tr>\n",
              "      <th>0</th>\n",
              "      <td>2020-01-22</td>\n",
              "      <td>555</td>\n",
              "      <td>17</td>\n",
              "      <td>NaN</td>\n",
              "      <td>0.030631</td>\n",
              "    </tr>\n",
              "    <tr>\n",
              "      <th>1</th>\n",
              "      <td>2020-01-23</td>\n",
              "      <td>654</td>\n",
              "      <td>18</td>\n",
              "      <td>99.0</td>\n",
              "      <td>0.027523</td>\n",
              "    </tr>\n",
              "    <tr>\n",
              "      <th>2</th>\n",
              "      <td>2020-01-24</td>\n",
              "      <td>941</td>\n",
              "      <td>26</td>\n",
              "      <td>287.0</td>\n",
              "      <td>0.027630</td>\n",
              "    </tr>\n",
              "    <tr>\n",
              "      <th>3</th>\n",
              "      <td>2020-01-25</td>\n",
              "      <td>1434</td>\n",
              "      <td>42</td>\n",
              "      <td>493.0</td>\n",
              "      <td>0.029289</td>\n",
              "    </tr>\n",
              "    <tr>\n",
              "      <th>4</th>\n",
              "      <td>2020-01-26</td>\n",
              "      <td>2118</td>\n",
              "      <td>56</td>\n",
              "      <td>684.0</td>\n",
              "      <td>0.026440</td>\n",
              "    </tr>\n",
              "    <tr>\n",
              "      <th>...</th>\n",
              "      <td>...</td>\n",
              "      <td>...</td>\n",
              "      <td>...</td>\n",
              "      <td>...</td>\n",
              "      <td>...</td>\n",
              "    </tr>\n",
              "    <tr>\n",
              "      <th>87</th>\n",
              "      <td>2020-04-18</td>\n",
              "      <td>2317044</td>\n",
              "      <td>159497</td>\n",
              "      <td>77568.0</td>\n",
              "      <td>0.068836</td>\n",
              "    </tr>\n",
              "    <tr>\n",
              "      <th>88</th>\n",
              "      <td>2020-04-19</td>\n",
              "      <td>2400385</td>\n",
              "      <td>165031</td>\n",
              "      <td>83341.0</td>\n",
              "      <td>0.068752</td>\n",
              "    </tr>\n",
              "    <tr>\n",
              "      <th>89</th>\n",
              "      <td>2020-04-20</td>\n",
              "      <td>2471542</td>\n",
              "      <td>169973</td>\n",
              "      <td>71157.0</td>\n",
              "      <td>0.068772</td>\n",
              "    </tr>\n",
              "    <tr>\n",
              "      <th>90</th>\n",
              "      <td>2020-04-21</td>\n",
              "      <td>2548577</td>\n",
              "      <td>176570</td>\n",
              "      <td>77035.0</td>\n",
              "      <td>0.069282</td>\n",
              "    </tr>\n",
              "    <tr>\n",
              "      <th>91</th>\n",
              "      <td>2020-04-22</td>\n",
              "      <td>2622698</td>\n",
              "      <td>183014</td>\n",
              "      <td>74121.0</td>\n",
              "      <td>0.069781</td>\n",
              "    </tr>\n",
              "  </tbody>\n",
              "</table>\n",
              "<p>92 rows × 5 columns</p>\n",
              "</div>"
            ],
            "text/plain": [
              "         date  confirmed  deaths  new cases  mortality\n",
              "0  2020-01-22        555      17        NaN   0.030631\n",
              "1  2020-01-23        654      18       99.0   0.027523\n",
              "2  2020-01-24        941      26      287.0   0.027630\n",
              "3  2020-01-25       1434      42      493.0   0.029289\n",
              "4  2020-01-26       2118      56      684.0   0.026440\n",
              "..        ...        ...     ...        ...        ...\n",
              "87 2020-04-18    2317044  159497    77568.0   0.068836\n",
              "88 2020-04-19    2400385  165031    83341.0   0.068752\n",
              "89 2020-04-20    2471542  169973    71157.0   0.068772\n",
              "90 2020-04-21    2548577  176570    77035.0   0.069282\n",
              "91 2020-04-22    2622698  183014    74121.0   0.069781\n",
              "\n",
              "[92 rows x 5 columns]"
            ]
          },
          "metadata": {
            "tags": []
          },
          "execution_count": 87
        }
      ]
    },
    {
      "cell_type": "code",
      "metadata": {
        "id": "-z_6_uJjkSzR",
        "colab_type": "code",
        "colab": {},
        "outputId": "99f24cfc-438b-49a9-cff5-f6a3a7faadb5"
      },
      "source": [
        "display(data_cfn.info())\n",
        "display(data_cfn.describe().T)"
      ],
      "execution_count": 0,
      "outputs": [
        {
          "output_type": "stream",
          "text": [
            "<class 'pandas.core.frame.DataFrame'>\n",
            "RangeIndex: 92 entries, 0 to 91\n",
            "Data columns (total 5 columns):\n",
            "date         92 non-null datetime64[ns]\n",
            "confirmed    92 non-null int64\n",
            "deaths       92 non-null int64\n",
            "new cases    91 non-null float64\n",
            "mortality    92 non-null float64\n",
            "dtypes: datetime64[ns](1), float64(2), int64(2)\n",
            "memory usage: 3.7 KB\n"
          ],
          "name": "stdout"
        },
        {
          "output_type": "display_data",
          "data": {
            "text/plain": [
              "None"
            ]
          },
          "metadata": {
            "tags": []
          }
        },
        {
          "output_type": "display_data",
          "data": {
            "text/html": [
              "<div>\n",
              "<style scoped>\n",
              "    .dataframe tbody tr th:only-of-type {\n",
              "        vertical-align: middle;\n",
              "    }\n",
              "\n",
              "    .dataframe tbody tr th {\n",
              "        vertical-align: top;\n",
              "    }\n",
              "\n",
              "    .dataframe thead th {\n",
              "        text-align: right;\n",
              "    }\n",
              "</style>\n",
              "<table border=\"1\" class=\"dataframe\">\n",
              "  <thead>\n",
              "    <tr style=\"text-align: right;\">\n",
              "      <th></th>\n",
              "      <th>count</th>\n",
              "      <th>mean</th>\n",
              "      <th>std</th>\n",
              "      <th>min</th>\n",
              "      <th>25%</th>\n",
              "      <th>50%</th>\n",
              "      <th>75%</th>\n",
              "      <th>max</th>\n",
              "    </tr>\n",
              "  </thead>\n",
              "  <tbody>\n",
              "    <tr>\n",
              "      <th>confirmed</th>\n",
              "      <td>92.0</td>\n",
              "      <td>540316.097826</td>\n",
              "      <td>762204.472225</td>\n",
              "      <td>555.000000</td>\n",
              "      <td>65048.500000</td>\n",
              "      <td>107128.000000</td>\n",
              "      <td>800451.500000</td>\n",
              "      <td>2.622698e+06</td>\n",
              "    </tr>\n",
              "    <tr>\n",
              "      <th>deaths</th>\n",
              "      <td>92.0</td>\n",
              "      <td>31775.913043</td>\n",
              "      <td>50992.004178</td>\n",
              "      <td>17.000000</td>\n",
              "      <td>1485.000000</td>\n",
              "      <td>3674.000000</td>\n",
              "      <td>38702.500000</td>\n",
              "      <td>1.830140e+05</td>\n",
              "    </tr>\n",
              "    <tr>\n",
              "      <th>new cases</th>\n",
              "      <td>91.0</td>\n",
              "      <td>28814.758242</td>\n",
              "      <td>34057.538522</td>\n",
              "      <td>99.000000</td>\n",
              "      <td>2054.000000</td>\n",
              "      <td>4749.000000</td>\n",
              "      <td>68759.500000</td>\n",
              "      <td>9.907100e+04</td>\n",
              "    </tr>\n",
              "    <tr>\n",
              "      <th>mortality</th>\n",
              "      <td>92.0</td>\n",
              "      <td>0.039380</td>\n",
              "      <td>0.014921</td>\n",
              "      <td>0.020409</td>\n",
              "      <td>0.027369</td>\n",
              "      <td>0.034597</td>\n",
              "      <td>0.048332</td>\n",
              "      <td>6.978081e-02</td>\n",
              "    </tr>\n",
              "  </tbody>\n",
              "</table>\n",
              "</div>"
            ],
            "text/plain": [
              "           count           mean            std         min           25%  \\\n",
              "confirmed   92.0  540316.097826  762204.472225  555.000000  65048.500000   \n",
              "deaths      92.0   31775.913043   50992.004178   17.000000   1485.000000   \n",
              "new cases   91.0   28814.758242   34057.538522   99.000000   2054.000000   \n",
              "mortality   92.0       0.039380       0.014921    0.020409      0.027369   \n",
              "\n",
              "                     50%            75%           max  \n",
              "confirmed  107128.000000  800451.500000  2.622698e+06  \n",
              "deaths       3674.000000   38702.500000  1.830140e+05  \n",
              "new cases    4749.000000   68759.500000  9.907100e+04  \n",
              "mortality       0.034597       0.048332  6.978081e-02  "
            ]
          },
          "metadata": {
            "tags": []
          }
        }
      ]
    },
    {
      "cell_type": "code",
      "metadata": {
        "id": "wAWWmAmCkSzV",
        "colab_type": "code",
        "colab": {},
        "outputId": "a9d03979-cc54-4d4a-ba75-6b87e0ff480a"
      },
      "source": [
        "data"
      ],
      "execution_count": 0,
      "outputs": [
        {
          "output_type": "execute_result",
          "data": {
            "text/html": [
              "<div>\n",
              "<style scoped>\n",
              "    .dataframe tbody tr th:only-of-type {\n",
              "        vertical-align: middle;\n",
              "    }\n",
              "\n",
              "    .dataframe tbody tr th {\n",
              "        vertical-align: top;\n",
              "    }\n",
              "\n",
              "    .dataframe thead th {\n",
              "        text-align: right;\n",
              "    }\n",
              "</style>\n",
              "<table border=\"1\" class=\"dataframe\">\n",
              "  <thead>\n",
              "    <tr style=\"text-align: right;\">\n",
              "      <th></th>\n",
              "      <th>state</th>\n",
              "      <th>country</th>\n",
              "      <th>lat</th>\n",
              "      <th>long</th>\n",
              "      <th>date</th>\n",
              "      <th>confirmed</th>\n",
              "      <th>deaths</th>\n",
              "      <th>recovered</th>\n",
              "      <th>active</th>\n",
              "    </tr>\n",
              "  </thead>\n",
              "  <tbody>\n",
              "    <tr>\n",
              "      <th>0</th>\n",
              "      <td></td>\n",
              "      <td>Afghanistan</td>\n",
              "      <td>33.000000</td>\n",
              "      <td>65.000000</td>\n",
              "      <td>2020-01-22</td>\n",
              "      <td>0</td>\n",
              "      <td>0</td>\n",
              "      <td>0</td>\n",
              "      <td>0</td>\n",
              "    </tr>\n",
              "    <tr>\n",
              "      <th>1</th>\n",
              "      <td></td>\n",
              "      <td>Albania</td>\n",
              "      <td>41.153300</td>\n",
              "      <td>20.168300</td>\n",
              "      <td>2020-01-22</td>\n",
              "      <td>0</td>\n",
              "      <td>0</td>\n",
              "      <td>0</td>\n",
              "      <td>0</td>\n",
              "    </tr>\n",
              "    <tr>\n",
              "      <th>2</th>\n",
              "      <td></td>\n",
              "      <td>Algeria</td>\n",
              "      <td>28.033900</td>\n",
              "      <td>1.659600</td>\n",
              "      <td>2020-01-22</td>\n",
              "      <td>0</td>\n",
              "      <td>0</td>\n",
              "      <td>0</td>\n",
              "      <td>0</td>\n",
              "    </tr>\n",
              "    <tr>\n",
              "      <th>3</th>\n",
              "      <td></td>\n",
              "      <td>Andorra</td>\n",
              "      <td>42.506300</td>\n",
              "      <td>1.521800</td>\n",
              "      <td>2020-01-22</td>\n",
              "      <td>0</td>\n",
              "      <td>0</td>\n",
              "      <td>0</td>\n",
              "      <td>0</td>\n",
              "    </tr>\n",
              "    <tr>\n",
              "      <th>4</th>\n",
              "      <td></td>\n",
              "      <td>Angola</td>\n",
              "      <td>-11.202700</td>\n",
              "      <td>17.873900</td>\n",
              "      <td>2020-01-22</td>\n",
              "      <td>0</td>\n",
              "      <td>0</td>\n",
              "      <td>0</td>\n",
              "      <td>0</td>\n",
              "    </tr>\n",
              "    <tr>\n",
              "      <th>...</th>\n",
              "      <td>...</td>\n",
              "      <td>...</td>\n",
              "      <td>...</td>\n",
              "      <td>...</td>\n",
              "      <td>...</td>\n",
              "      <td>...</td>\n",
              "      <td>...</td>\n",
              "      <td>...</td>\n",
              "      <td>...</td>\n",
              "    </tr>\n",
              "    <tr>\n",
              "      <th>24099</th>\n",
              "      <td>Saint Pierre and Miquelon</td>\n",
              "      <td>France</td>\n",
              "      <td>46.885200</td>\n",
              "      <td>-56.315900</td>\n",
              "      <td>2020-04-22</td>\n",
              "      <td>1</td>\n",
              "      <td>0</td>\n",
              "      <td>0</td>\n",
              "      <td>1</td>\n",
              "    </tr>\n",
              "    <tr>\n",
              "      <th>24100</th>\n",
              "      <td></td>\n",
              "      <td>South Sudan</td>\n",
              "      <td>6.877000</td>\n",
              "      <td>31.307000</td>\n",
              "      <td>2020-04-22</td>\n",
              "      <td>4</td>\n",
              "      <td>0</td>\n",
              "      <td>0</td>\n",
              "      <td>4</td>\n",
              "    </tr>\n",
              "    <tr>\n",
              "      <th>24101</th>\n",
              "      <td></td>\n",
              "      <td>Western Sahara</td>\n",
              "      <td>24.215500</td>\n",
              "      <td>-12.885800</td>\n",
              "      <td>2020-04-22</td>\n",
              "      <td>6</td>\n",
              "      <td>0</td>\n",
              "      <td>0</td>\n",
              "      <td>6</td>\n",
              "    </tr>\n",
              "    <tr>\n",
              "      <th>24102</th>\n",
              "      <td></td>\n",
              "      <td>Sao Tome and Principe</td>\n",
              "      <td>0.186360</td>\n",
              "      <td>6.613081</td>\n",
              "      <td>2020-04-22</td>\n",
              "      <td>4</td>\n",
              "      <td>0</td>\n",
              "      <td>0</td>\n",
              "      <td>4</td>\n",
              "    </tr>\n",
              "    <tr>\n",
              "      <th>24103</th>\n",
              "      <td></td>\n",
              "      <td>Yemen</td>\n",
              "      <td>15.552727</td>\n",
              "      <td>48.516388</td>\n",
              "      <td>2020-04-22</td>\n",
              "      <td>1</td>\n",
              "      <td>0</td>\n",
              "      <td>0</td>\n",
              "      <td>1</td>\n",
              "    </tr>\n",
              "  </tbody>\n",
              "</table>\n",
              "<p>23920 rows × 9 columns</p>\n",
              "</div>"
            ],
            "text/plain": [
              "                           state                country        lat       long  \\\n",
              "0                                           Afghanistan  33.000000  65.000000   \n",
              "1                                               Albania  41.153300  20.168300   \n",
              "2                                               Algeria  28.033900   1.659600   \n",
              "3                                               Andorra  42.506300   1.521800   \n",
              "4                                                Angola -11.202700  17.873900   \n",
              "...                          ...                    ...        ...        ...   \n",
              "24099  Saint Pierre and Miquelon                 France  46.885200 -56.315900   \n",
              "24100                                       South Sudan   6.877000  31.307000   \n",
              "24101                                    Western Sahara  24.215500 -12.885800   \n",
              "24102                             Sao Tome and Principe   0.186360   6.613081   \n",
              "24103                                             Yemen  15.552727  48.516388   \n",
              "\n",
              "            date  confirmed  deaths  recovered  active  \n",
              "0     2020-01-22          0       0          0       0  \n",
              "1     2020-01-22          0       0          0       0  \n",
              "2     2020-01-22          0       0          0       0  \n",
              "3     2020-01-22          0       0          0       0  \n",
              "4     2020-01-22          0       0          0       0  \n",
              "...          ...        ...     ...        ...     ...  \n",
              "24099 2020-04-22          1       0          0       1  \n",
              "24100 2020-04-22          4       0          0       4  \n",
              "24101 2020-04-22          6       0          0       6  \n",
              "24102 2020-04-22          4       0          0       4  \n",
              "24103 2020-04-22          1       0          0       1  \n",
              "\n",
              "[23920 rows x 9 columns]"
            ]
          },
          "metadata": {
            "tags": []
          },
          "execution_count": 89
        }
      ]
    },
    {
      "cell_type": "markdown",
      "metadata": {
        "id": "z11rIRxRkSzY",
        "colab_type": "text"
      },
      "source": [
        "### Data Group - Date & Country\n",
        "#### Data Set Name - data_dc_grp\n",
        "##### date,country,confirmed,deaths,recovered,active"
      ]
    },
    {
      "cell_type": "code",
      "metadata": {
        "id": "FH-M0bZUkSzZ",
        "colab_type": "code",
        "colab": {}
      },
      "source": [
        "data_dc_grp = data.groupby(['date', 'country'])['confirmed', 'deaths', 'recovered', 'active'].sum().reset_index()"
      ],
      "execution_count": 0,
      "outputs": []
    },
    {
      "cell_type": "code",
      "metadata": {
        "scrolled": false,
        "id": "fYiJMQickSzd",
        "colab_type": "code",
        "colab": {},
        "outputId": "a540d240-7fbf-4664-d00b-852661f607c8"
      },
      "source": [
        "display(data_dc_grp.shape)\n",
        "display(data_dc_grp.info())\n",
        "display(data_dc_grp.head())\n",
        "display(data_dc_grp.describe())"
      ],
      "execution_count": 0,
      "outputs": [
        {
          "output_type": "display_data",
          "data": {
            "text/plain": [
              "(16928, 6)"
            ]
          },
          "metadata": {
            "tags": []
          }
        },
        {
          "output_type": "stream",
          "text": [
            "<class 'pandas.core.frame.DataFrame'>\n",
            "RangeIndex: 16928 entries, 0 to 16927\n",
            "Data columns (total 6 columns):\n",
            "date         16928 non-null datetime64[ns]\n",
            "country      16928 non-null object\n",
            "confirmed    16928 non-null int64\n",
            "deaths       16928 non-null int64\n",
            "recovered    16928 non-null int64\n",
            "active       16928 non-null int64\n",
            "dtypes: datetime64[ns](1), int64(4), object(1)\n",
            "memory usage: 793.6+ KB\n"
          ],
          "name": "stdout"
        },
        {
          "output_type": "display_data",
          "data": {
            "text/plain": [
              "None"
            ]
          },
          "metadata": {
            "tags": []
          }
        },
        {
          "output_type": "display_data",
          "data": {
            "text/html": [
              "<div>\n",
              "<style scoped>\n",
              "    .dataframe tbody tr th:only-of-type {\n",
              "        vertical-align: middle;\n",
              "    }\n",
              "\n",
              "    .dataframe tbody tr th {\n",
              "        vertical-align: top;\n",
              "    }\n",
              "\n",
              "    .dataframe thead th {\n",
              "        text-align: right;\n",
              "    }\n",
              "</style>\n",
              "<table border=\"1\" class=\"dataframe\">\n",
              "  <thead>\n",
              "    <tr style=\"text-align: right;\">\n",
              "      <th></th>\n",
              "      <th>date</th>\n",
              "      <th>country</th>\n",
              "      <th>confirmed</th>\n",
              "      <th>deaths</th>\n",
              "      <th>recovered</th>\n",
              "      <th>active</th>\n",
              "    </tr>\n",
              "  </thead>\n",
              "  <tbody>\n",
              "    <tr>\n",
              "      <th>0</th>\n",
              "      <td>2020-01-22</td>\n",
              "      <td>Afghanistan</td>\n",
              "      <td>0</td>\n",
              "      <td>0</td>\n",
              "      <td>0</td>\n",
              "      <td>0</td>\n",
              "    </tr>\n",
              "    <tr>\n",
              "      <th>1</th>\n",
              "      <td>2020-01-22</td>\n",
              "      <td>Albania</td>\n",
              "      <td>0</td>\n",
              "      <td>0</td>\n",
              "      <td>0</td>\n",
              "      <td>0</td>\n",
              "    </tr>\n",
              "    <tr>\n",
              "      <th>2</th>\n",
              "      <td>2020-01-22</td>\n",
              "      <td>Algeria</td>\n",
              "      <td>0</td>\n",
              "      <td>0</td>\n",
              "      <td>0</td>\n",
              "      <td>0</td>\n",
              "    </tr>\n",
              "    <tr>\n",
              "      <th>3</th>\n",
              "      <td>2020-01-22</td>\n",
              "      <td>Andorra</td>\n",
              "      <td>0</td>\n",
              "      <td>0</td>\n",
              "      <td>0</td>\n",
              "      <td>0</td>\n",
              "    </tr>\n",
              "    <tr>\n",
              "      <th>4</th>\n",
              "      <td>2020-01-22</td>\n",
              "      <td>Angola</td>\n",
              "      <td>0</td>\n",
              "      <td>0</td>\n",
              "      <td>0</td>\n",
              "      <td>0</td>\n",
              "    </tr>\n",
              "  </tbody>\n",
              "</table>\n",
              "</div>"
            ],
            "text/plain": [
              "        date      country  confirmed  deaths  recovered  active\n",
              "0 2020-01-22  Afghanistan          0       0          0       0\n",
              "1 2020-01-22      Albania          0       0          0       0\n",
              "2 2020-01-22      Algeria          0       0          0       0\n",
              "3 2020-01-22      Andorra          0       0          0       0\n",
              "4 2020-01-22       Angola          0       0          0       0"
            ]
          },
          "metadata": {
            "tags": []
          }
        },
        {
          "output_type": "display_data",
          "data": {
            "text/html": [
              "<div>\n",
              "<style scoped>\n",
              "    .dataframe tbody tr th:only-of-type {\n",
              "        vertical-align: middle;\n",
              "    }\n",
              "\n",
              "    .dataframe tbody tr th {\n",
              "        vertical-align: top;\n",
              "    }\n",
              "\n",
              "    .dataframe thead th {\n",
              "        text-align: right;\n",
              "    }\n",
              "</style>\n",
              "<table border=\"1\" class=\"dataframe\">\n",
              "  <thead>\n",
              "    <tr style=\"text-align: right;\">\n",
              "      <th></th>\n",
              "      <th>confirmed</th>\n",
              "      <th>deaths</th>\n",
              "      <th>recovered</th>\n",
              "      <th>active</th>\n",
              "    </tr>\n",
              "  </thead>\n",
              "  <tbody>\n",
              "    <tr>\n",
              "      <th>count</th>\n",
              "      <td>16928.000000</td>\n",
              "      <td>16928.000000</td>\n",
              "      <td>16928.000000</td>\n",
              "      <td>16928.000000</td>\n",
              "    </tr>\n",
              "    <tr>\n",
              "      <th>mean</th>\n",
              "      <td>2936.500532</td>\n",
              "      <td>172.695180</td>\n",
              "      <td>717.021030</td>\n",
              "      <td>2046.787512</td>\n",
              "    </tr>\n",
              "    <tr>\n",
              "      <th>std</th>\n",
              "      <td>24216.370672</td>\n",
              "      <td>1560.662372</td>\n",
              "      <td>5785.437801</td>\n",
              "      <td>19601.520324</td>\n",
              "    </tr>\n",
              "    <tr>\n",
              "      <th>min</th>\n",
              "      <td>0.000000</td>\n",
              "      <td>0.000000</td>\n",
              "      <td>0.000000</td>\n",
              "      <td>0.000000</td>\n",
              "    </tr>\n",
              "    <tr>\n",
              "      <th>25%</th>\n",
              "      <td>0.000000</td>\n",
              "      <td>0.000000</td>\n",
              "      <td>0.000000</td>\n",
              "      <td>0.000000</td>\n",
              "    </tr>\n",
              "    <tr>\n",
              "      <th>50%</th>\n",
              "      <td>1.000000</td>\n",
              "      <td>0.000000</td>\n",
              "      <td>0.000000</td>\n",
              "      <td>1.000000</td>\n",
              "    </tr>\n",
              "    <tr>\n",
              "      <th>75%</th>\n",
              "      <td>110.000000</td>\n",
              "      <td>1.000000</td>\n",
              "      <td>6.000000</td>\n",
              "      <td>88.000000</td>\n",
              "    </tr>\n",
              "    <tr>\n",
              "      <th>max</th>\n",
              "      <td>839675.000000</td>\n",
              "      <td>46583.000000</td>\n",
              "      <td>99400.000000</td>\n",
              "      <td>715726.000000</td>\n",
              "    </tr>\n",
              "  </tbody>\n",
              "</table>\n",
              "</div>"
            ],
            "text/plain": [
              "           confirmed        deaths     recovered         active\n",
              "count   16928.000000  16928.000000  16928.000000   16928.000000\n",
              "mean     2936.500532    172.695180    717.021030    2046.787512\n",
              "std     24216.370672   1560.662372   5785.437801   19601.520324\n",
              "min         0.000000      0.000000      0.000000       0.000000\n",
              "25%         0.000000      0.000000      0.000000       0.000000\n",
              "50%         1.000000      0.000000      0.000000       1.000000\n",
              "75%       110.000000      1.000000      6.000000      88.000000\n",
              "max    839675.000000  46583.000000  99400.000000  715726.000000"
            ]
          },
          "metadata": {
            "tags": []
          }
        }
      ]
    },
    {
      "cell_type": "code",
      "metadata": {
        "id": "DxA_2j9FkSzi",
        "colab_type": "code",
        "colab": {},
        "outputId": "397ebac5-9a69-45f0-88cf-84d5d4dac205"
      },
      "source": [
        "data_dc_grp"
      ],
      "execution_count": 0,
      "outputs": [
        {
          "output_type": "execute_result",
          "data": {
            "text/html": [
              "<div>\n",
              "<style scoped>\n",
              "    .dataframe tbody tr th:only-of-type {\n",
              "        vertical-align: middle;\n",
              "    }\n",
              "\n",
              "    .dataframe tbody tr th {\n",
              "        vertical-align: top;\n",
              "    }\n",
              "\n",
              "    .dataframe thead th {\n",
              "        text-align: right;\n",
              "    }\n",
              "</style>\n",
              "<table border=\"1\" class=\"dataframe\">\n",
              "  <thead>\n",
              "    <tr style=\"text-align: right;\">\n",
              "      <th></th>\n",
              "      <th>date</th>\n",
              "      <th>country</th>\n",
              "      <th>confirmed</th>\n",
              "      <th>deaths</th>\n",
              "      <th>recovered</th>\n",
              "      <th>active</th>\n",
              "    </tr>\n",
              "  </thead>\n",
              "  <tbody>\n",
              "    <tr>\n",
              "      <th>0</th>\n",
              "      <td>2020-01-22</td>\n",
              "      <td>Afghanistan</td>\n",
              "      <td>0</td>\n",
              "      <td>0</td>\n",
              "      <td>0</td>\n",
              "      <td>0</td>\n",
              "    </tr>\n",
              "    <tr>\n",
              "      <th>1</th>\n",
              "      <td>2020-01-22</td>\n",
              "      <td>Albania</td>\n",
              "      <td>0</td>\n",
              "      <td>0</td>\n",
              "      <td>0</td>\n",
              "      <td>0</td>\n",
              "    </tr>\n",
              "    <tr>\n",
              "      <th>2</th>\n",
              "      <td>2020-01-22</td>\n",
              "      <td>Algeria</td>\n",
              "      <td>0</td>\n",
              "      <td>0</td>\n",
              "      <td>0</td>\n",
              "      <td>0</td>\n",
              "    </tr>\n",
              "    <tr>\n",
              "      <th>3</th>\n",
              "      <td>2020-01-22</td>\n",
              "      <td>Andorra</td>\n",
              "      <td>0</td>\n",
              "      <td>0</td>\n",
              "      <td>0</td>\n",
              "      <td>0</td>\n",
              "    </tr>\n",
              "    <tr>\n",
              "      <th>4</th>\n",
              "      <td>2020-01-22</td>\n",
              "      <td>Angola</td>\n",
              "      <td>0</td>\n",
              "      <td>0</td>\n",
              "      <td>0</td>\n",
              "      <td>0</td>\n",
              "    </tr>\n",
              "    <tr>\n",
              "      <th>...</th>\n",
              "      <td>...</td>\n",
              "      <td>...</td>\n",
              "      <td>...</td>\n",
              "      <td>...</td>\n",
              "      <td>...</td>\n",
              "      <td>...</td>\n",
              "    </tr>\n",
              "    <tr>\n",
              "      <th>16923</th>\n",
              "      <td>2020-04-22</td>\n",
              "      <td>West Bank and Gaza</td>\n",
              "      <td>474</td>\n",
              "      <td>4</td>\n",
              "      <td>71</td>\n",
              "      <td>399</td>\n",
              "    </tr>\n",
              "    <tr>\n",
              "      <th>16924</th>\n",
              "      <td>2020-04-22</td>\n",
              "      <td>Western Sahara</td>\n",
              "      <td>6</td>\n",
              "      <td>0</td>\n",
              "      <td>0</td>\n",
              "      <td>6</td>\n",
              "    </tr>\n",
              "    <tr>\n",
              "      <th>16925</th>\n",
              "      <td>2020-04-22</td>\n",
              "      <td>Yemen</td>\n",
              "      <td>1</td>\n",
              "      <td>0</td>\n",
              "      <td>0</td>\n",
              "      <td>1</td>\n",
              "    </tr>\n",
              "    <tr>\n",
              "      <th>16926</th>\n",
              "      <td>2020-04-22</td>\n",
              "      <td>Zambia</td>\n",
              "      <td>74</td>\n",
              "      <td>3</td>\n",
              "      <td>35</td>\n",
              "      <td>36</td>\n",
              "    </tr>\n",
              "    <tr>\n",
              "      <th>16927</th>\n",
              "      <td>2020-04-22</td>\n",
              "      <td>Zimbabwe</td>\n",
              "      <td>28</td>\n",
              "      <td>4</td>\n",
              "      <td>2</td>\n",
              "      <td>22</td>\n",
              "    </tr>\n",
              "  </tbody>\n",
              "</table>\n",
              "<p>16928 rows × 6 columns</p>\n",
              "</div>"
            ],
            "text/plain": [
              "            date             country  confirmed  deaths  recovered  active\n",
              "0     2020-01-22         Afghanistan          0       0          0       0\n",
              "1     2020-01-22             Albania          0       0          0       0\n",
              "2     2020-01-22             Algeria          0       0          0       0\n",
              "3     2020-01-22             Andorra          0       0          0       0\n",
              "4     2020-01-22              Angola          0       0          0       0\n",
              "...          ...                 ...        ...     ...        ...     ...\n",
              "16923 2020-04-22  West Bank and Gaza        474       4         71     399\n",
              "16924 2020-04-22      Western Sahara          6       0          0       6\n",
              "16925 2020-04-22               Yemen          1       0          0       1\n",
              "16926 2020-04-22              Zambia         74       3         35      36\n",
              "16927 2020-04-22            Zimbabwe         28       4          2      22\n",
              "\n",
              "[16928 rows x 6 columns]"
            ]
          },
          "metadata": {
            "tags": []
          },
          "execution_count": 92
        }
      ]
    },
    {
      "cell_type": "markdown",
      "metadata": {
        "id": "KGTVwVMekSzm",
        "colab_type": "text"
      },
      "source": [
        "### Data Group - Country Totals\n",
        "#### Data Set Name - data_countries_tot\n",
        "##### columns - country, confirmed, deaths,recovered,active"
      ]
    },
    {
      "cell_type": "code",
      "metadata": {
        "id": "akzcxQHTkSzn",
        "colab_type": "code",
        "colab": {}
      },
      "source": [
        "last_date = data['date'].max()\n",
        "data_countries_tot = data[data['date']==last_date]"
      ],
      "execution_count": 0,
      "outputs": []
    },
    {
      "cell_type": "code",
      "metadata": {
        "id": "NWTQqoHfkSzq",
        "colab_type": "code",
        "colab": {}
      },
      "source": [
        "data_countries_tot=data_countries_tot.groupby('country',as_index=False)['confirmed','deaths','recovered','active'].sum()"
      ],
      "execution_count": 0,
      "outputs": []
    },
    {
      "cell_type": "code",
      "metadata": {
        "scrolled": true,
        "id": "kYq6Uu1RkSzv",
        "colab_type": "code",
        "colab": {},
        "outputId": "bbbf44ce-a2c9-4f12-c63b-dc616d4849a3"
      },
      "source": [
        "display(data_countries_tot.shape)\n",
        "display(data_countries_tot.info())\n",
        "display(data_countries_tot.head())\n",
        "display(data_countries_tot.describe())"
      ],
      "execution_count": 0,
      "outputs": [
        {
          "output_type": "display_data",
          "data": {
            "text/plain": [
              "(184, 5)"
            ]
          },
          "metadata": {
            "tags": []
          }
        },
        {
          "output_type": "stream",
          "text": [
            "<class 'pandas.core.frame.DataFrame'>\n",
            "Int64Index: 184 entries, 0 to 183\n",
            "Data columns (total 5 columns):\n",
            "country      184 non-null object\n",
            "confirmed    184 non-null int64\n",
            "deaths       184 non-null int64\n",
            "recovered    184 non-null int64\n",
            "active       184 non-null int64\n",
            "dtypes: int64(4), object(1)\n",
            "memory usage: 8.6+ KB\n"
          ],
          "name": "stdout"
        },
        {
          "output_type": "display_data",
          "data": {
            "text/plain": [
              "None"
            ]
          },
          "metadata": {
            "tags": []
          }
        },
        {
          "output_type": "display_data",
          "data": {
            "text/html": [
              "<div>\n",
              "<style scoped>\n",
              "    .dataframe tbody tr th:only-of-type {\n",
              "        vertical-align: middle;\n",
              "    }\n",
              "\n",
              "    .dataframe tbody tr th {\n",
              "        vertical-align: top;\n",
              "    }\n",
              "\n",
              "    .dataframe thead th {\n",
              "        text-align: right;\n",
              "    }\n",
              "</style>\n",
              "<table border=\"1\" class=\"dataframe\">\n",
              "  <thead>\n",
              "    <tr style=\"text-align: right;\">\n",
              "      <th></th>\n",
              "      <th>country</th>\n",
              "      <th>confirmed</th>\n",
              "      <th>deaths</th>\n",
              "      <th>recovered</th>\n",
              "      <th>active</th>\n",
              "    </tr>\n",
              "  </thead>\n",
              "  <tbody>\n",
              "    <tr>\n",
              "      <th>0</th>\n",
              "      <td>Afghanistan</td>\n",
              "      <td>1176</td>\n",
              "      <td>40</td>\n",
              "      <td>166</td>\n",
              "      <td>970</td>\n",
              "    </tr>\n",
              "    <tr>\n",
              "      <th>1</th>\n",
              "      <td>Albania</td>\n",
              "      <td>634</td>\n",
              "      <td>27</td>\n",
              "      <td>356</td>\n",
              "      <td>251</td>\n",
              "    </tr>\n",
              "    <tr>\n",
              "      <th>2</th>\n",
              "      <td>Algeria</td>\n",
              "      <td>2910</td>\n",
              "      <td>402</td>\n",
              "      <td>1204</td>\n",
              "      <td>1304</td>\n",
              "    </tr>\n",
              "    <tr>\n",
              "      <th>3</th>\n",
              "      <td>Andorra</td>\n",
              "      <td>723</td>\n",
              "      <td>37</td>\n",
              "      <td>309</td>\n",
              "      <td>377</td>\n",
              "    </tr>\n",
              "    <tr>\n",
              "      <th>4</th>\n",
              "      <td>Angola</td>\n",
              "      <td>25</td>\n",
              "      <td>2</td>\n",
              "      <td>6</td>\n",
              "      <td>17</td>\n",
              "    </tr>\n",
              "  </tbody>\n",
              "</table>\n",
              "</div>"
            ],
            "text/plain": [
              "       country  confirmed  deaths  recovered  active\n",
              "0  Afghanistan       1176      40        166     970\n",
              "1      Albania        634      27        356     251\n",
              "2      Algeria       2910     402       1204    1304\n",
              "3      Andorra        723      37        309     377\n",
              "4       Angola         25       2          6      17"
            ]
          },
          "metadata": {
            "tags": []
          }
        },
        {
          "output_type": "display_data",
          "data": {
            "text/html": [
              "<div>\n",
              "<style scoped>\n",
              "    .dataframe tbody tr th:only-of-type {\n",
              "        vertical-align: middle;\n",
              "    }\n",
              "\n",
              "    .dataframe tbody tr th {\n",
              "        vertical-align: top;\n",
              "    }\n",
              "\n",
              "    .dataframe thead th {\n",
              "        text-align: right;\n",
              "    }\n",
              "</style>\n",
              "<table border=\"1\" class=\"dataframe\">\n",
              "  <thead>\n",
              "    <tr style=\"text-align: right;\">\n",
              "      <th></th>\n",
              "      <th>confirmed</th>\n",
              "      <th>deaths</th>\n",
              "      <th>recovered</th>\n",
              "      <th>active</th>\n",
              "    </tr>\n",
              "  </thead>\n",
              "  <tbody>\n",
              "    <tr>\n",
              "      <th>count</th>\n",
              "      <td>184.000000</td>\n",
              "      <td>184.000000</td>\n",
              "      <td>184.000000</td>\n",
              "      <td>184.000000</td>\n",
              "    </tr>\n",
              "    <tr>\n",
              "      <th>mean</th>\n",
              "      <td>14253.793478</td>\n",
              "      <td>994.641304</td>\n",
              "      <td>3748.565217</td>\n",
              "      <td>9510.586957</td>\n",
              "    </tr>\n",
              "    <tr>\n",
              "      <th>std</th>\n",
              "      <td>68198.083864</td>\n",
              "      <td>4698.212265</td>\n",
              "      <td>14211.040466</td>\n",
              "      <td>55177.322530</td>\n",
              "    </tr>\n",
              "    <tr>\n",
              "      <th>min</th>\n",
              "      <td>1.000000</td>\n",
              "      <td>0.000000</td>\n",
              "      <td>0.000000</td>\n",
              "      <td>0.000000</td>\n",
              "    </tr>\n",
              "    <tr>\n",
              "      <th>25%</th>\n",
              "      <td>73.750000</td>\n",
              "      <td>2.000000</td>\n",
              "      <td>10.000000</td>\n",
              "      <td>44.750000</td>\n",
              "    </tr>\n",
              "    <tr>\n",
              "      <th>50%</th>\n",
              "      <td>648.000000</td>\n",
              "      <td>12.000000</td>\n",
              "      <td>148.500000</td>\n",
              "      <td>401.500000</td>\n",
              "    </tr>\n",
              "    <tr>\n",
              "      <th>75%</th>\n",
              "      <td>4472.250000</td>\n",
              "      <td>122.000000</td>\n",
              "      <td>869.250000</td>\n",
              "      <td>2602.000000</td>\n",
              "    </tr>\n",
              "    <tr>\n",
              "      <th>max</th>\n",
              "      <td>839675.000000</td>\n",
              "      <td>46583.000000</td>\n",
              "      <td>99400.000000</td>\n",
              "      <td>715726.000000</td>\n",
              "    </tr>\n",
              "  </tbody>\n",
              "</table>\n",
              "</div>"
            ],
            "text/plain": [
              "           confirmed        deaths     recovered         active\n",
              "count     184.000000    184.000000    184.000000     184.000000\n",
              "mean    14253.793478    994.641304   3748.565217    9510.586957\n",
              "std     68198.083864   4698.212265  14211.040466   55177.322530\n",
              "min         1.000000      0.000000      0.000000       0.000000\n",
              "25%        73.750000      2.000000     10.000000      44.750000\n",
              "50%       648.000000     12.000000    148.500000     401.500000\n",
              "75%      4472.250000    122.000000    869.250000    2602.000000\n",
              "max    839675.000000  46583.000000  99400.000000  715726.000000"
            ]
          },
          "metadata": {
            "tags": []
          }
        }
      ]
    },
    {
      "cell_type": "markdown",
      "metadata": {
        "id": "4i2g6aWZkSzz",
        "colab_type": "text"
      },
      "source": [
        "#### Data Set Name - data_countries_30 - 30 Most effected countries\n",
        "##### columns - country,confirmed,deaths,recovered,active"
      ]
    },
    {
      "cell_type": "code",
      "metadata": {
        "id": "V-_daM_okSz0",
        "colab_type": "code",
        "colab": {}
      },
      "source": [
        "\n",
        "\n",
        "data_countries_tot_30 = data_countries_tot.nlargest(30,'confirmed').reset_index(drop=True)"
      ],
      "execution_count": 0,
      "outputs": []
    },
    {
      "cell_type": "code",
      "metadata": {
        "scrolled": false,
        "id": "XwRyApbdkSz3",
        "colab_type": "code",
        "colab": {},
        "outputId": "2c29c758-1d9f-42d0-98c4-7eaf7b5f08b2"
      },
      "source": [
        "print(f\" 30 Most effected countries as on {max_date}\")\n",
        "data_countries_tot_30.style.background_gradient(cmap='Reds')"
      ],
      "execution_count": 0,
      "outputs": [
        {
          "output_type": "stream",
          "text": [
            " 30 Most effected countries as on 2020-04-22 00:00:00\n"
          ],
          "name": "stdout"
        },
        {
          "output_type": "execute_result",
          "data": {
            "text/html": [
              "<style  type=\"text/css\" >\n",
              "    #T_bdb10f2c_8575_11ea_8137_00c2c662704frow0_col1 {\n",
              "            background-color:  #67000d;\n",
              "            color:  #f1f1f1;\n",
              "        }    #T_bdb10f2c_8575_11ea_8137_00c2c662704frow0_col2 {\n",
              "            background-color:  #67000d;\n",
              "            color:  #f1f1f1;\n",
              "        }    #T_bdb10f2c_8575_11ea_8137_00c2c662704frow0_col3 {\n",
              "            background-color:  #c2161b;\n",
              "            color:  #f1f1f1;\n",
              "        }    #T_bdb10f2c_8575_11ea_8137_00c2c662704frow0_col4 {\n",
              "            background-color:  #67000d;\n",
              "            color:  #f1f1f1;\n",
              "        }    #T_bdb10f2c_8575_11ea_8137_00c2c662704frow1_col1 {\n",
              "            background-color:  #fcbea5;\n",
              "            color:  #000000;\n",
              "        }    #T_bdb10f2c_8575_11ea_8137_00c2c662704frow1_col2 {\n",
              "            background-color:  #fb7555;\n",
              "            color:  #000000;\n",
              "        }    #T_bdb10f2c_8575_11ea_8137_00c2c662704frow1_col3 {\n",
              "            background-color:  #a81016;\n",
              "            color:  #f1f1f1;\n",
              "        }    #T_bdb10f2c_8575_11ea_8137_00c2c662704frow1_col4 {\n",
              "            background-color:  #fedccd;\n",
              "            color:  #000000;\n",
              "        }    #T_bdb10f2c_8575_11ea_8137_00c2c662704frow2_col1 {\n",
              "            background-color:  #fdc6b0;\n",
              "            color:  #000000;\n",
              "        }    #T_bdb10f2c_8575_11ea_8137_00c2c662704frow2_col2 {\n",
              "            background-color:  #f75c41;\n",
              "            color:  #000000;\n",
              "        }    #T_bdb10f2c_8575_11ea_8137_00c2c662704frow2_col3 {\n",
              "            background-color:  #f6583e;\n",
              "            color:  #000000;\n",
              "        }    #T_bdb10f2c_8575_11ea_8137_00c2c662704frow2_col4 {\n",
              "            background-color:  #fedaca;\n",
              "            color:  #000000;\n",
              "        }    #T_bdb10f2c_8575_11ea_8137_00c2c662704frow3_col1 {\n",
              "            background-color:  #fdd1be;\n",
              "            color:  #000000;\n",
              "        }    #T_bdb10f2c_8575_11ea_8137_00c2c662704frow3_col2 {\n",
              "            background-color:  #fb7757;\n",
              "            color:  #000000;\n",
              "        }    #T_bdb10f2c_8575_11ea_8137_00c2c662704frow3_col3 {\n",
              "            background-color:  #fc8565;\n",
              "            color:  #000000;\n",
              "        }    #T_bdb10f2c_8575_11ea_8137_00c2c662704frow3_col4 {\n",
              "            background-color:  #fedfd0;\n",
              "            color:  #000000;\n",
              "        }    #T_bdb10f2c_8575_11ea_8137_00c2c662704frow4_col1 {\n",
              "            background-color:  #fdd3c1;\n",
              "            color:  #000000;\n",
              "        }    #T_bdb10f2c_8575_11ea_8137_00c2c662704frow4_col2 {\n",
              "            background-color:  #fee3d6;\n",
              "            color:  #000000;\n",
              "        }    #T_bdb10f2c_8575_11ea_8137_00c2c662704frow4_col3 {\n",
              "            background-color:  #67000d;\n",
              "            color:  #f1f1f1;\n",
              "        }    #T_bdb10f2c_8575_11ea_8137_00c2c662704frow4_col4 {\n",
              "            background-color:  #ffebe2;\n",
              "            color:  #000000;\n",
              "        }    #T_bdb10f2c_8575_11ea_8137_00c2c662704frow5_col1 {\n",
              "            background-color:  #fed9c9;\n",
              "            color:  #000000;\n",
              "        }    #T_bdb10f2c_8575_11ea_8137_00c2c662704frow5_col2 {\n",
              "            background-color:  #fc8e6e;\n",
              "            color:  #000000;\n",
              "        }    #T_bdb10f2c_8575_11ea_8137_00c2c662704frow5_col3 {\n",
              "            background-color:  #fff4ef;\n",
              "            color:  #000000;\n",
              "        }    #T_bdb10f2c_8575_11ea_8137_00c2c662704frow5_col4 {\n",
              "            background-color:  #fdd7c6;\n",
              "            color:  #000000;\n",
              "        }    #T_bdb10f2c_8575_11ea_8137_00c2c662704frow6_col1 {\n",
              "            background-color:  #fee3d7;\n",
              "            color:  #000000;\n",
              "        }    #T_bdb10f2c_8575_11ea_8137_00c2c662704frow6_col2 {\n",
              "            background-color:  #ffede5;\n",
              "            color:  #000000;\n",
              "        }    #T_bdb10f2c_8575_11ea_8137_00c2c662704frow6_col3 {\n",
              "            background-color:  #fdd4c2;\n",
              "            color:  #000000;\n",
              "        }    #T_bdb10f2c_8575_11ea_8137_00c2c662704frow6_col4 {\n",
              "            background-color:  #fee3d7;\n",
              "            color:  #000000;\n",
              "        }    #T_bdb10f2c_8575_11ea_8137_00c2c662704frow7_col1 {\n",
              "            background-color:  #fee6da;\n",
              "            color:  #000000;\n",
              "        }    #T_bdb10f2c_8575_11ea_8137_00c2c662704frow7_col2 {\n",
              "            background-color:  #fee2d5;\n",
              "            color:  #000000;\n",
              "        }    #T_bdb10f2c_8575_11ea_8137_00c2c662704frow7_col3 {\n",
              "            background-color:  #ec382b;\n",
              "            color:  #f1f1f1;\n",
              "        }    #T_bdb10f2c_8575_11ea_8137_00c2c662704frow7_col4 {\n",
              "            background-color:  #fff2eb;\n",
              "            color:  #000000;\n",
              "        }    #T_bdb10f2c_8575_11ea_8137_00c2c662704frow8_col1 {\n",
              "            background-color:  #fee7db;\n",
              "            color:  #000000;\n",
              "        }    #T_bdb10f2c_8575_11ea_8137_00c2c662704frow8_col2 {\n",
              "            background-color:  #fee5d8;\n",
              "            color:  #000000;\n",
              "        }    #T_bdb10f2c_8575_11ea_8137_00c2c662704frow8_col3 {\n",
              "            background-color:  #c8171c;\n",
              "            color:  #f1f1f1;\n",
              "        }    #T_bdb10f2c_8575_11ea_8137_00c2c662704frow8_col4 {\n",
              "            background-color:  #fff5f0;\n",
              "            color:  #000000;\n",
              "        }    #T_bdb10f2c_8575_11ea_8137_00c2c662704frow9_col1 {\n",
              "            background-color:  #ffece3;\n",
              "            color:  #000000;\n",
              "        }    #T_bdb10f2c_8575_11ea_8137_00c2c662704frow9_col2 {\n",
              "            background-color:  #fff4ee;\n",
              "            color:  #000000;\n",
              "        }    #T_bdb10f2c_8575_11ea_8137_00c2c662704frow9_col3 {\n",
              "            background-color:  #ffeee6;\n",
              "            color:  #000000;\n",
              "        }    #T_bdb10f2c_8575_11ea_8137_00c2c662704frow9_col4 {\n",
              "            background-color:  #fee9df;\n",
              "            color:  #000000;\n",
              "        }    #T_bdb10f2c_8575_11ea_8137_00c2c662704frow10_col1 {\n",
              "            background-color:  #ffeee6;\n",
              "            color:  #000000;\n",
              "        }    #T_bdb10f2c_8575_11ea_8137_00c2c662704frow10_col2 {\n",
              "            background-color:  #ffebe2;\n",
              "            color:  #000000;\n",
              "        }    #T_bdb10f2c_8575_11ea_8137_00c2c662704frow10_col3 {\n",
              "            background-color:  #fcb99f;\n",
              "            color:  #000000;\n",
              "        }    #T_bdb10f2c_8575_11ea_8137_00c2c662704frow10_col4 {\n",
              "            background-color:  #fff2eb;\n",
              "            color:  #000000;\n",
              "        }    #T_bdb10f2c_8575_11ea_8137_00c2c662704frow11_col1 {\n",
              "            background-color:  #ffefe8;\n",
              "            color:  #000000;\n",
              "        }    #T_bdb10f2c_8575_11ea_8137_00c2c662704frow11_col2 {\n",
              "            background-color:  #fedecf;\n",
              "            color:  #000000;\n",
              "        }    #T_bdb10f2c_8575_11ea_8137_00c2c662704frow11_col3 {\n",
              "            background-color:  #fee5d9;\n",
              "            color:  #000000;\n",
              "        }    #T_bdb10f2c_8575_11ea_8137_00c2c662704frow11_col4 {\n",
              "            background-color:  #fff0e8;\n",
              "            color:  #000000;\n",
              "        }    #T_bdb10f2c_8575_11ea_8137_00c2c662704frow12_col1 {\n",
              "            background-color:  #ffefe8;\n",
              "            color:  #000000;\n",
              "        }    #T_bdb10f2c_8575_11ea_8137_00c2c662704frow12_col2 {\n",
              "            background-color:  #ffeee6;\n",
              "            color:  #000000;\n",
              "        }    #T_bdb10f2c_8575_11ea_8137_00c2c662704frow12_col3 {\n",
              "            background-color:  #fff5f0;\n",
              "            color:  #000000;\n",
              "        }    #T_bdb10f2c_8575_11ea_8137_00c2c662704frow12_col4 {\n",
              "            background-color:  #ffece4;\n",
              "            color:  #000000;\n",
              "        }    #T_bdb10f2c_8575_11ea_8137_00c2c662704frow13_col1 {\n",
              "            background-color:  #fff0e9;\n",
              "            color:  #000000;\n",
              "        }    #T_bdb10f2c_8575_11ea_8137_00c2c662704frow13_col2 {\n",
              "            background-color:  #fee7db;\n",
              "            color:  #000000;\n",
              "        }    #T_bdb10f2c_8575_11ea_8137_00c2c662704frow13_col3 {\n",
              "            background-color:  #fff5f0;\n",
              "            color:  #000000;\n",
              "        }    #T_bdb10f2c_8575_11ea_8137_00c2c662704frow13_col4 {\n",
              "            background-color:  #ffeee7;\n",
              "            color:  #000000;\n",
              "        }    #T_bdb10f2c_8575_11ea_8137_00c2c662704frow14_col1 {\n",
              "            background-color:  #fff2eb;\n",
              "            color:  #000000;\n",
              "        }    #T_bdb10f2c_8575_11ea_8137_00c2c662704frow14_col2 {\n",
              "            background-color:  #fff0e8;\n",
              "            color:  #000000;\n",
              "        }    #T_bdb10f2c_8575_11ea_8137_00c2c662704frow14_col3 {\n",
              "            background-color:  #fdcab5;\n",
              "            color:  #000000;\n",
              "        }    #T_bdb10f2c_8575_11ea_8137_00c2c662704frow14_col4 {\n",
              "            background-color:  #fff4ef;\n",
              "            color:  #000000;\n",
              "        }    #T_bdb10f2c_8575_11ea_8137_00c2c662704frow15_col1 {\n",
              "            background-color:  #fff3ed;\n",
              "            color:  #000000;\n",
              "        }    #T_bdb10f2c_8575_11ea_8137_00c2c662704frow15_col2 {\n",
              "            background-color:  #fff2ec;\n",
              "            color:  #000000;\n",
              "        }    #T_bdb10f2c_8575_11ea_8137_00c2c662704frow15_col3 {\n",
              "            background-color:  #fff4ee;\n",
              "            color:  #000000;\n",
              "        }    #T_bdb10f2c_8575_11ea_8137_00c2c662704frow15_col4 {\n",
              "            background-color:  #fff1ea;\n",
              "            color:  #000000;\n",
              "        }    #T_bdb10f2c_8575_11ea_8137_00c2c662704frow16_col1 {\n",
              "            background-color:  #fff3ed;\n",
              "            color:  #000000;\n",
              "        }    #T_bdb10f2c_8575_11ea_8137_00c2c662704frow16_col2 {\n",
              "            background-color:  #fff3ed;\n",
              "            color:  #000000;\n",
              "        }    #T_bdb10f2c_8575_11ea_8137_00c2c662704frow16_col3 {\n",
              "            background-color:  #ffeee6;\n",
              "            color:  #000000;\n",
              "        }    #T_bdb10f2c_8575_11ea_8137_00c2c662704frow16_col4 {\n",
              "            background-color:  #fff2eb;\n",
              "            color:  #000000;\n",
              "        }    #T_bdb10f2c_8575_11ea_8137_00c2c662704frow17_col1 {\n",
              "            background-color:  #fff4ee;\n",
              "            color:  #000000;\n",
              "        }    #T_bdb10f2c_8575_11ea_8137_00c2c662704frow17_col2 {\n",
              "            background-color:  #fff4ee;\n",
              "            color:  #000000;\n",
              "        }    #T_bdb10f2c_8575_11ea_8137_00c2c662704frow17_col3 {\n",
              "            background-color:  #fee9df;\n",
              "            color:  #000000;\n",
              "        }    #T_bdb10f2c_8575_11ea_8137_00c2c662704frow17_col4 {\n",
              "            background-color:  #fff3ed;\n",
              "            color:  #000000;\n",
              "        }    #T_bdb10f2c_8575_11ea_8137_00c2c662704frow18_col1 {\n",
              "            background-color:  #fff4ee;\n",
              "            color:  #000000;\n",
              "        }    #T_bdb10f2c_8575_11ea_8137_00c2c662704frow18_col2 {\n",
              "            background-color:  #fff2ec;\n",
              "            color:  #000000;\n",
              "        }    #T_bdb10f2c_8575_11ea_8137_00c2c662704frow18_col3 {\n",
              "            background-color:  #fee6da;\n",
              "            color:  #000000;\n",
              "        }    #T_bdb10f2c_8575_11ea_8137_00c2c662704frow18_col4 {\n",
              "            background-color:  #fff4ef;\n",
              "            color:  #000000;\n",
              "        }    #T_bdb10f2c_8575_11ea_8137_00c2c662704frow19_col1 {\n",
              "            background-color:  #fff4ef;\n",
              "            color:  #000000;\n",
              "        }    #T_bdb10f2c_8575_11ea_8137_00c2c662704frow19_col2 {\n",
              "            background-color:  #ffeee7;\n",
              "            color:  #000000;\n",
              "        }    #T_bdb10f2c_8575_11ea_8137_00c2c662704frow19_col3 {\n",
              "            background-color:  #fff4ef;\n",
              "            color:  #000000;\n",
              "        }    #T_bdb10f2c_8575_11ea_8137_00c2c662704frow19_col4 {\n",
              "            background-color:  #fff2ec;\n",
              "            color:  #000000;\n",
              "        }    #T_bdb10f2c_8575_11ea_8137_00c2c662704frow20_col1 {\n",
              "            background-color:  #fff4ef;\n",
              "            color:  #000000;\n",
              "        }    #T_bdb10f2c_8575_11ea_8137_00c2c662704frow20_col2 {\n",
              "            background-color:  #fff4ee;\n",
              "            color:  #000000;\n",
              "        }    #T_bdb10f2c_8575_11ea_8137_00c2c662704frow20_col3 {\n",
              "            background-color:  #fee2d5;\n",
              "            color:  #000000;\n",
              "        }    #T_bdb10f2c_8575_11ea_8137_00c2c662704frow20_col4 {\n",
              "            background-color:  #fff5f0;\n",
              "            color:  #000000;\n",
              "        }    #T_bdb10f2c_8575_11ea_8137_00c2c662704frow21_col1 {\n",
              "            background-color:  #fff4ef;\n",
              "            color:  #000000;\n",
              "        }    #T_bdb10f2c_8575_11ea_8137_00c2c662704frow21_col2 {\n",
              "            background-color:  #fff5f0;\n",
              "            color:  #000000;\n",
              "        }    #T_bdb10f2c_8575_11ea_8137_00c2c662704frow21_col3 {\n",
              "            background-color:  #ffece4;\n",
              "            color:  #000000;\n",
              "        }    #T_bdb10f2c_8575_11ea_8137_00c2c662704frow21_col4 {\n",
              "            background-color:  #fff4ee;\n",
              "            color:  #000000;\n",
              "        }    #T_bdb10f2c_8575_11ea_8137_00c2c662704frow22_col1 {\n",
              "            background-color:  #fff5f0;\n",
              "            color:  #000000;\n",
              "        }    #T_bdb10f2c_8575_11ea_8137_00c2c662704frow22_col2 {\n",
              "            background-color:  #fff5f0;\n",
              "            color:  #000000;\n",
              "        }    #T_bdb10f2c_8575_11ea_8137_00c2c662704frow22_col3 {\n",
              "            background-color:  #fff2ec;\n",
              "            color:  #000000;\n",
              "        }    #T_bdb10f2c_8575_11ea_8137_00c2c662704frow22_col4 {\n",
              "            background-color:  #fff3ed;\n",
              "            color:  #000000;\n",
              "        }    #T_bdb10f2c_8575_11ea_8137_00c2c662704frow23_col1 {\n",
              "            background-color:  #fff5f0;\n",
              "            color:  #000000;\n",
              "        }    #T_bdb10f2c_8575_11ea_8137_00c2c662704frow23_col2 {\n",
              "            background-color:  #fff4ef;\n",
              "            color:  #000000;\n",
              "        }    #T_bdb10f2c_8575_11ea_8137_00c2c662704frow23_col3 {\n",
              "            background-color:  #fff3ed;\n",
              "            color:  #000000;\n",
              "        }    #T_bdb10f2c_8575_11ea_8137_00c2c662704frow23_col4 {\n",
              "            background-color:  #fff4ee;\n",
              "            color:  #000000;\n",
              "        }    #T_bdb10f2c_8575_11ea_8137_00c2c662704frow24_col1 {\n",
              "            background-color:  #fff5f0;\n",
              "            color:  #000000;\n",
              "        }    #T_bdb10f2c_8575_11ea_8137_00c2c662704frow24_col2 {\n",
              "            background-color:  #fff5f0;\n",
              "            color:  #000000;\n",
              "        }    #T_bdb10f2c_8575_11ea_8137_00c2c662704frow24_col3 {\n",
              "            background-color:  #ffece4;\n",
              "            color:  #000000;\n",
              "        }    #T_bdb10f2c_8575_11ea_8137_00c2c662704frow24_col4 {\n",
              "            background-color:  #fff4ef;\n",
              "            color:  #000000;\n",
              "        }    #T_bdb10f2c_8575_11ea_8137_00c2c662704frow25_col1 {\n",
              "            background-color:  #fff5f0;\n",
              "            color:  #000000;\n",
              "        }    #T_bdb10f2c_8575_11ea_8137_00c2c662704frow25_col2 {\n",
              "            background-color:  #fff4ee;\n",
              "            color:  #000000;\n",
              "        }    #T_bdb10f2c_8575_11ea_8137_00c2c662704frow25_col3 {\n",
              "            background-color:  #fff3ed;\n",
              "            color:  #000000;\n",
              "        }    #T_bdb10f2c_8575_11ea_8137_00c2c662704frow25_col4 {\n",
              "            background-color:  #fff4ee;\n",
              "            color:  #000000;\n",
              "        }    #T_bdb10f2c_8575_11ea_8137_00c2c662704frow26_col1 {\n",
              "            background-color:  #fff5f0;\n",
              "            color:  #000000;\n",
              "        }    #T_bdb10f2c_8575_11ea_8137_00c2c662704frow26_col2 {\n",
              "            background-color:  #fff4ef;\n",
              "            color:  #000000;\n",
              "        }    #T_bdb10f2c_8575_11ea_8137_00c2c662704frow26_col3 {\n",
              "            background-color:  #fee7dc;\n",
              "            color:  #000000;\n",
              "        }    #T_bdb10f2c_8575_11ea_8137_00c2c662704frow26_col4 {\n",
              "            background-color:  #fff5f0;\n",
              "            color:  #000000;\n",
              "        }    #T_bdb10f2c_8575_11ea_8137_00c2c662704frow27_col1 {\n",
              "            background-color:  #fff5f0;\n",
              "            color:  #000000;\n",
              "        }    #T_bdb10f2c_8575_11ea_8137_00c2c662704frow27_col2 {\n",
              "            background-color:  #fff4ee;\n",
              "            color:  #000000;\n",
              "        }    #T_bdb10f2c_8575_11ea_8137_00c2c662704frow27_col3 {\n",
              "            background-color:  #fff3ed;\n",
              "            color:  #000000;\n",
              "        }    #T_bdb10f2c_8575_11ea_8137_00c2c662704frow27_col4 {\n",
              "            background-color:  #fff4ee;\n",
              "            color:  #000000;\n",
              "        }    #T_bdb10f2c_8575_11ea_8137_00c2c662704frow28_col1 {\n",
              "            background-color:  #fff5f0;\n",
              "            color:  #000000;\n",
              "        }    #T_bdb10f2c_8575_11ea_8137_00c2c662704frow28_col2 {\n",
              "            background-color:  #fff5f0;\n",
              "            color:  #000000;\n",
              "        }    #T_bdb10f2c_8575_11ea_8137_00c2c662704frow28_col3 {\n",
              "            background-color:  #fff4ee;\n",
              "            color:  #000000;\n",
              "        }    #T_bdb10f2c_8575_11ea_8137_00c2c662704frow28_col4 {\n",
              "            background-color:  #fff4ee;\n",
              "            color:  #000000;\n",
              "        }    #T_bdb10f2c_8575_11ea_8137_00c2c662704frow29_col1 {\n",
              "            background-color:  #fff5f0;\n",
              "            color:  #000000;\n",
              "        }    #T_bdb10f2c_8575_11ea_8137_00c2c662704frow29_col2 {\n",
              "            background-color:  #fff4ef;\n",
              "            color:  #000000;\n",
              "        }    #T_bdb10f2c_8575_11ea_8137_00c2c662704frow29_col3 {\n",
              "            background-color:  #fff2eb;\n",
              "            color:  #000000;\n",
              "        }    #T_bdb10f2c_8575_11ea_8137_00c2c662704frow29_col4 {\n",
              "            background-color:  #fff4ef;\n",
              "            color:  #000000;\n",
              "        }</style><table id=\"T_bdb10f2c_8575_11ea_8137_00c2c662704f\" ><thead>    <tr>        <th class=\"blank level0\" ></th>        <th class=\"col_heading level0 col0\" >country</th>        <th class=\"col_heading level0 col1\" >confirmed</th>        <th class=\"col_heading level0 col2\" >deaths</th>        <th class=\"col_heading level0 col3\" >recovered</th>        <th class=\"col_heading level0 col4\" >active</th>    </tr></thead><tbody>\n",
              "                <tr>\n",
              "                        <th id=\"T_bdb10f2c_8575_11ea_8137_00c2c662704flevel0_row0\" class=\"row_heading level0 row0\" >0</th>\n",
              "                        <td id=\"T_bdb10f2c_8575_11ea_8137_00c2c662704frow0_col0\" class=\"data row0 col0\" >US</td>\n",
              "                        <td id=\"T_bdb10f2c_8575_11ea_8137_00c2c662704frow0_col1\" class=\"data row0 col1\" >839675</td>\n",
              "                        <td id=\"T_bdb10f2c_8575_11ea_8137_00c2c662704frow0_col2\" class=\"data row0 col2\" >46583</td>\n",
              "                        <td id=\"T_bdb10f2c_8575_11ea_8137_00c2c662704frow0_col3\" class=\"data row0 col3\" >77366</td>\n",
              "                        <td id=\"T_bdb10f2c_8575_11ea_8137_00c2c662704frow0_col4\" class=\"data row0 col4\" >715726</td>\n",
              "            </tr>\n",
              "            <tr>\n",
              "                        <th id=\"T_bdb10f2c_8575_11ea_8137_00c2c662704flevel0_row1\" class=\"row_heading level0 row1\" >1</th>\n",
              "                        <td id=\"T_bdb10f2c_8575_11ea_8137_00c2c662704frow1_col0\" class=\"data row1 col0\" >Spain</td>\n",
              "                        <td id=\"T_bdb10f2c_8575_11ea_8137_00c2c662704frow1_col1\" class=\"data row1 col1\" >208389</td>\n",
              "                        <td id=\"T_bdb10f2c_8575_11ea_8137_00c2c662704frow1_col2\" class=\"data row1 col2\" >21717</td>\n",
              "                        <td id=\"T_bdb10f2c_8575_11ea_8137_00c2c662704frow1_col3\" class=\"data row1 col3\" >85915</td>\n",
              "                        <td id=\"T_bdb10f2c_8575_11ea_8137_00c2c662704frow1_col4\" class=\"data row1 col4\" >100757</td>\n",
              "            </tr>\n",
              "            <tr>\n",
              "                        <th id=\"T_bdb10f2c_8575_11ea_8137_00c2c662704flevel0_row2\" class=\"row_heading level0 row2\" >2</th>\n",
              "                        <td id=\"T_bdb10f2c_8575_11ea_8137_00c2c662704frow2_col0\" class=\"data row2 col0\" >Italy</td>\n",
              "                        <td id=\"T_bdb10f2c_8575_11ea_8137_00c2c662704frow2_col1\" class=\"data row2 col1\" >187327</td>\n",
              "                        <td id=\"T_bdb10f2c_8575_11ea_8137_00c2c662704frow2_col2\" class=\"data row2 col2\" >25085</td>\n",
              "                        <td id=\"T_bdb10f2c_8575_11ea_8137_00c2c662704frow2_col3\" class=\"data row2 col3\" >54543</td>\n",
              "                        <td id=\"T_bdb10f2c_8575_11ea_8137_00c2c662704frow2_col4\" class=\"data row2 col4\" >107699</td>\n",
              "            </tr>\n",
              "            <tr>\n",
              "                        <th id=\"T_bdb10f2c_8575_11ea_8137_00c2c662704flevel0_row3\" class=\"row_heading level0 row3\" >3</th>\n",
              "                        <td id=\"T_bdb10f2c_8575_11ea_8137_00c2c662704frow3_col0\" class=\"data row3 col0\" >France</td>\n",
              "                        <td id=\"T_bdb10f2c_8575_11ea_8137_00c2c662704frow3_col1\" class=\"data row3 col1\" >157125</td>\n",
              "                        <td id=\"T_bdb10f2c_8575_11ea_8137_00c2c662704frow3_col2\" class=\"data row3 col2\" >21373</td>\n",
              "                        <td id=\"T_bdb10f2c_8575_11ea_8137_00c2c662704frow3_col3\" class=\"data row3 col3\" >41326</td>\n",
              "                        <td id=\"T_bdb10f2c_8575_11ea_8137_00c2c662704frow3_col4\" class=\"data row3 col4\" >94426</td>\n",
              "            </tr>\n",
              "            <tr>\n",
              "                        <th id=\"T_bdb10f2c_8575_11ea_8137_00c2c662704flevel0_row4\" class=\"row_heading level0 row4\" >4</th>\n",
              "                        <td id=\"T_bdb10f2c_8575_11ea_8137_00c2c662704frow4_col0\" class=\"data row4 col0\" >Germany</td>\n",
              "                        <td id=\"T_bdb10f2c_8575_11ea_8137_00c2c662704frow4_col1\" class=\"data row4 col1\" >150648</td>\n",
              "                        <td id=\"T_bdb10f2c_8575_11ea_8137_00c2c662704frow4_col2\" class=\"data row4 col2\" >5279</td>\n",
              "                        <td id=\"T_bdb10f2c_8575_11ea_8137_00c2c662704frow4_col3\" class=\"data row4 col3\" >99400</td>\n",
              "                        <td id=\"T_bdb10f2c_8575_11ea_8137_00c2c662704frow4_col4\" class=\"data row4 col4\" >45969</td>\n",
              "            </tr>\n",
              "            <tr>\n",
              "                        <th id=\"T_bdb10f2c_8575_11ea_8137_00c2c662704flevel0_row5\" class=\"row_heading level0 row5\" >5</th>\n",
              "                        <td id=\"T_bdb10f2c_8575_11ea_8137_00c2c662704frow5_col0\" class=\"data row5 col0\" >United Kingdom</td>\n",
              "                        <td id=\"T_bdb10f2c_8575_11ea_8137_00c2c662704frow5_col1\" class=\"data row5 col1\" >134638</td>\n",
              "                        <td id=\"T_bdb10f2c_8575_11ea_8137_00c2c662704frow5_col2\" class=\"data row5 col2\" >18151</td>\n",
              "                        <td id=\"T_bdb10f2c_8575_11ea_8137_00c2c662704frow5_col3\" class=\"data row5 col3\" >679</td>\n",
              "                        <td id=\"T_bdb10f2c_8575_11ea_8137_00c2c662704frow5_col4\" class=\"data row5 col4\" >115808</td>\n",
              "            </tr>\n",
              "            <tr>\n",
              "                        <th id=\"T_bdb10f2c_8575_11ea_8137_00c2c662704flevel0_row6\" class=\"row_heading level0 row6\" >6</th>\n",
              "                        <td id=\"T_bdb10f2c_8575_11ea_8137_00c2c662704frow6_col0\" class=\"data row6 col0\" >Turkey</td>\n",
              "                        <td id=\"T_bdb10f2c_8575_11ea_8137_00c2c662704frow6_col1\" class=\"data row6 col1\" >98674</td>\n",
              "                        <td id=\"T_bdb10f2c_8575_11ea_8137_00c2c662704frow6_col2\" class=\"data row6 col2\" >2376</td>\n",
              "                        <td id=\"T_bdb10f2c_8575_11ea_8137_00c2c662704frow6_col3\" class=\"data row6 col3\" >16477</td>\n",
              "                        <td id=\"T_bdb10f2c_8575_11ea_8137_00c2c662704frow6_col4\" class=\"data row6 col4\" >79821</td>\n",
              "            </tr>\n",
              "            <tr>\n",
              "                        <th id=\"T_bdb10f2c_8575_11ea_8137_00c2c662704flevel0_row7\" class=\"row_heading level0 row7\" >7</th>\n",
              "                        <td id=\"T_bdb10f2c_8575_11ea_8137_00c2c662704frow7_col0\" class=\"data row7 col0\" >Iran</td>\n",
              "                        <td id=\"T_bdb10f2c_8575_11ea_8137_00c2c662704frow7_col1\" class=\"data row7 col1\" >85996</td>\n",
              "                        <td id=\"T_bdb10f2c_8575_11ea_8137_00c2c662704frow7_col2\" class=\"data row7 col2\" >5391</td>\n",
              "                        <td id=\"T_bdb10f2c_8575_11ea_8137_00c2c662704frow7_col3\" class=\"data row7 col3\" >63113</td>\n",
              "                        <td id=\"T_bdb10f2c_8575_11ea_8137_00c2c662704frow7_col4\" class=\"data row7 col4\" >17492</td>\n",
              "            </tr>\n",
              "            <tr>\n",
              "                        <th id=\"T_bdb10f2c_8575_11ea_8137_00c2c662704flevel0_row8\" class=\"row_heading level0 row8\" >8</th>\n",
              "                        <td id=\"T_bdb10f2c_8575_11ea_8137_00c2c662704frow8_col0\" class=\"data row8 col0\" >China</td>\n",
              "                        <td id=\"T_bdb10f2c_8575_11ea_8137_00c2c662704frow8_col1\" class=\"data row8 col1\" >83868</td>\n",
              "                        <td id=\"T_bdb10f2c_8575_11ea_8137_00c2c662704frow8_col2\" class=\"data row8 col2\" >4636</td>\n",
              "                        <td id=\"T_bdb10f2c_8575_11ea_8137_00c2c662704frow8_col3\" class=\"data row8 col3\" >75416</td>\n",
              "                        <td id=\"T_bdb10f2c_8575_11ea_8137_00c2c662704frow8_col4\" class=\"data row8 col4\" >3816</td>\n",
              "            </tr>\n",
              "            <tr>\n",
              "                        <th id=\"T_bdb10f2c_8575_11ea_8137_00c2c662704flevel0_row9\" class=\"row_heading level0 row9\" >9</th>\n",
              "                        <td id=\"T_bdb10f2c_8575_11ea_8137_00c2c662704frow9_col0\" class=\"data row9 col0\" >Russia</td>\n",
              "                        <td id=\"T_bdb10f2c_8575_11ea_8137_00c2c662704frow9_col1\" class=\"data row9 col1\" >57999</td>\n",
              "                        <td id=\"T_bdb10f2c_8575_11ea_8137_00c2c662704frow9_col2\" class=\"data row9 col2\" >513</td>\n",
              "                        <td id=\"T_bdb10f2c_8575_11ea_8137_00c2c662704frow9_col3\" class=\"data row9 col3\" >4420</td>\n",
              "                        <td id=\"T_bdb10f2c_8575_11ea_8137_00c2c662704frow9_col4\" class=\"data row9 col4\" >53066</td>\n",
              "            </tr>\n",
              "            <tr>\n",
              "                        <th id=\"T_bdb10f2c_8575_11ea_8137_00c2c662704flevel0_row10\" class=\"row_heading level0 row10\" >10</th>\n",
              "                        <td id=\"T_bdb10f2c_8575_11ea_8137_00c2c662704frow10_col0\" class=\"data row10 col0\" >Brazil</td>\n",
              "                        <td id=\"T_bdb10f2c_8575_11ea_8137_00c2c662704frow10_col1\" class=\"data row10 col1\" >45757</td>\n",
              "                        <td id=\"T_bdb10f2c_8575_11ea_8137_00c2c662704frow10_col2\" class=\"data row10 col2\" >2906</td>\n",
              "                        <td id=\"T_bdb10f2c_8575_11ea_8137_00c2c662704frow10_col3\" class=\"data row10 col3\" >25318</td>\n",
              "                        <td id=\"T_bdb10f2c_8575_11ea_8137_00c2c662704frow10_col4\" class=\"data row10 col4\" >17533</td>\n",
              "            </tr>\n",
              "            <tr>\n",
              "                        <th id=\"T_bdb10f2c_8575_11ea_8137_00c2c662704flevel0_row11\" class=\"row_heading level0 row11\" >11</th>\n",
              "                        <td id=\"T_bdb10f2c_8575_11ea_8137_00c2c662704frow11_col0\" class=\"data row11 col0\" >Belgium</td>\n",
              "                        <td id=\"T_bdb10f2c_8575_11ea_8137_00c2c662704frow11_col1\" class=\"data row11 col1\" >41889</td>\n",
              "                        <td id=\"T_bdb10f2c_8575_11ea_8137_00c2c662704frow11_col2\" class=\"data row11 col2\" >6262</td>\n",
              "                        <td id=\"T_bdb10f2c_8575_11ea_8137_00c2c662704frow11_col3\" class=\"data row11 col3\" >9433</td>\n",
              "                        <td id=\"T_bdb10f2c_8575_11ea_8137_00c2c662704frow11_col4\" class=\"data row11 col4\" >26194</td>\n",
              "            </tr>\n",
              "            <tr>\n",
              "                        <th id=\"T_bdb10f2c_8575_11ea_8137_00c2c662704flevel0_row12\" class=\"row_heading level0 row12\" >12</th>\n",
              "                        <td id=\"T_bdb10f2c_8575_11ea_8137_00c2c662704frow12_col0\" class=\"data row12 col0\" >Canada</td>\n",
              "                        <td id=\"T_bdb10f2c_8575_11ea_8137_00c2c662704frow12_col1\" class=\"data row12 col1\" >41650</td>\n",
              "                        <td id=\"T_bdb10f2c_8575_11ea_8137_00c2c662704frow12_col2\" class=\"data row12 col2\" >2077</td>\n",
              "                        <td id=\"T_bdb10f2c_8575_11ea_8137_00c2c662704frow12_col3\" class=\"data row12 col3\" >0</td>\n",
              "                        <td id=\"T_bdb10f2c_8575_11ea_8137_00c2c662704frow12_col4\" class=\"data row12 col4\" >39573</td>\n",
              "            </tr>\n",
              "            <tr>\n",
              "                        <th id=\"T_bdb10f2c_8575_11ea_8137_00c2c662704flevel0_row13\" class=\"row_heading level0 row13\" >13</th>\n",
              "                        <td id=\"T_bdb10f2c_8575_11ea_8137_00c2c662704frow13_col0\" class=\"data row13 col0\" >Netherlands</td>\n",
              "                        <td id=\"T_bdb10f2c_8575_11ea_8137_00c2c662704frow13_col1\" class=\"data row13 col1\" >35027</td>\n",
              "                        <td id=\"T_bdb10f2c_8575_11ea_8137_00c2c662704frow13_col2\" class=\"data row13 col2\" >4068</td>\n",
              "                        <td id=\"T_bdb10f2c_8575_11ea_8137_00c2c662704frow13_col3\" class=\"data row13 col3\" >101</td>\n",
              "                        <td id=\"T_bdb10f2c_8575_11ea_8137_00c2c662704frow13_col4\" class=\"data row13 col4\" >30858</td>\n",
              "            </tr>\n",
              "            <tr>\n",
              "                        <th id=\"T_bdb10f2c_8575_11ea_8137_00c2c662704flevel0_row14\" class=\"row_heading level0 row14\" >14</th>\n",
              "                        <td id=\"T_bdb10f2c_8575_11ea_8137_00c2c662704frow14_col0\" class=\"data row14 col0\" >Switzerland</td>\n",
              "                        <td id=\"T_bdb10f2c_8575_11ea_8137_00c2c662704frow14_col1\" class=\"data row14 col1\" >28268</td>\n",
              "                        <td id=\"T_bdb10f2c_8575_11ea_8137_00c2c662704frow14_col2\" class=\"data row14 col2\" >1509</td>\n",
              "                        <td id=\"T_bdb10f2c_8575_11ea_8137_00c2c662704frow14_col3\" class=\"data row14 col3\" >19900</td>\n",
              "                        <td id=\"T_bdb10f2c_8575_11ea_8137_00c2c662704frow14_col4\" class=\"data row14 col4\" >6859</td>\n",
              "            </tr>\n",
              "            <tr>\n",
              "                        <th id=\"T_bdb10f2c_8575_11ea_8137_00c2c662704flevel0_row15\" class=\"row_heading level0 row15\" >15</th>\n",
              "                        <td id=\"T_bdb10f2c_8575_11ea_8137_00c2c662704frow15_col0\" class=\"data row15 col0\" >Portugal</td>\n",
              "                        <td id=\"T_bdb10f2c_8575_11ea_8137_00c2c662704frow15_col1\" class=\"data row15 col1\" >21982</td>\n",
              "                        <td id=\"T_bdb10f2c_8575_11ea_8137_00c2c662704frow15_col2\" class=\"data row15 col2\" >785</td>\n",
              "                        <td id=\"T_bdb10f2c_8575_11ea_8137_00c2c662704frow15_col3\" class=\"data row15 col3\" >1143</td>\n",
              "                        <td id=\"T_bdb10f2c_8575_11ea_8137_00c2c662704frow15_col4\" class=\"data row15 col4\" >20054</td>\n",
              "            </tr>\n",
              "            <tr>\n",
              "                        <th id=\"T_bdb10f2c_8575_11ea_8137_00c2c662704flevel0_row16\" class=\"row_heading level0 row16\" >16</th>\n",
              "                        <td id=\"T_bdb10f2c_8575_11ea_8137_00c2c662704frow16_col0\" class=\"data row16 col0\" >India</td>\n",
              "                        <td id=\"T_bdb10f2c_8575_11ea_8137_00c2c662704frow16_col1\" class=\"data row16 col1\" >21370</td>\n",
              "                        <td id=\"T_bdb10f2c_8575_11ea_8137_00c2c662704frow16_col2\" class=\"data row16 col2\" >681</td>\n",
              "                        <td id=\"T_bdb10f2c_8575_11ea_8137_00c2c662704frow16_col3\" class=\"data row16 col3\" >4370</td>\n",
              "                        <td id=\"T_bdb10f2c_8575_11ea_8137_00c2c662704frow16_col4\" class=\"data row16 col4\" >16319</td>\n",
              "            </tr>\n",
              "            <tr>\n",
              "                        <th id=\"T_bdb10f2c_8575_11ea_8137_00c2c662704flevel0_row17\" class=\"row_heading level0 row17\" >17</th>\n",
              "                        <td id=\"T_bdb10f2c_8575_11ea_8137_00c2c662704frow17_col0\" class=\"data row17 col0\" >Peru</td>\n",
              "                        <td id=\"T_bdb10f2c_8575_11ea_8137_00c2c662704frow17_col1\" class=\"data row17 col1\" >19250</td>\n",
              "                        <td id=\"T_bdb10f2c_8575_11ea_8137_00c2c662704frow17_col2\" class=\"data row17 col2\" >530</td>\n",
              "                        <td id=\"T_bdb10f2c_8575_11ea_8137_00c2c662704frow17_col3\" class=\"data row17 col3\" >7027</td>\n",
              "                        <td id=\"T_bdb10f2c_8575_11ea_8137_00c2c662704frow17_col4\" class=\"data row17 col4\" >11693</td>\n",
              "            </tr>\n",
              "            <tr>\n",
              "                        <th id=\"T_bdb10f2c_8575_11ea_8137_00c2c662704flevel0_row18\" class=\"row_heading level0 row18\" >18</th>\n",
              "                        <td id=\"T_bdb10f2c_8575_11ea_8137_00c2c662704frow18_col0\" class=\"data row18 col0\" >Ireland</td>\n",
              "                        <td id=\"T_bdb10f2c_8575_11ea_8137_00c2c662704frow18_col1\" class=\"data row18 col1\" >16671</td>\n",
              "                        <td id=\"T_bdb10f2c_8575_11ea_8137_00c2c662704frow18_col2\" class=\"data row18 col2\" >769</td>\n",
              "                        <td id=\"T_bdb10f2c_8575_11ea_8137_00c2c662704frow18_col3\" class=\"data row18 col3\" >9233</td>\n",
              "                        <td id=\"T_bdb10f2c_8575_11ea_8137_00c2c662704frow18_col4\" class=\"data row18 col4\" >6669</td>\n",
              "            </tr>\n",
              "            <tr>\n",
              "                        <th id=\"T_bdb10f2c_8575_11ea_8137_00c2c662704flevel0_row19\" class=\"row_heading level0 row19\" >19</th>\n",
              "                        <td id=\"T_bdb10f2c_8575_11ea_8137_00c2c662704frow19_col0\" class=\"data row19 col0\" >Sweden</td>\n",
              "                        <td id=\"T_bdb10f2c_8575_11ea_8137_00c2c662704frow19_col1\" class=\"data row19 col1\" >16004</td>\n",
              "                        <td id=\"T_bdb10f2c_8575_11ea_8137_00c2c662704frow19_col2\" class=\"data row19 col2\" >1937</td>\n",
              "                        <td id=\"T_bdb10f2c_8575_11ea_8137_00c2c662704frow19_col3\" class=\"data row19 col3\" >550</td>\n",
              "                        <td id=\"T_bdb10f2c_8575_11ea_8137_00c2c662704frow19_col4\" class=\"data row19 col4\" >13517</td>\n",
              "            </tr>\n",
              "            <tr>\n",
              "                        <th id=\"T_bdb10f2c_8575_11ea_8137_00c2c662704flevel0_row20\" class=\"row_heading level0 row20\" >20</th>\n",
              "                        <td id=\"T_bdb10f2c_8575_11ea_8137_00c2c662704frow20_col0\" class=\"data row20 col0\" >Austria</td>\n",
              "                        <td id=\"T_bdb10f2c_8575_11ea_8137_00c2c662704frow20_col1\" class=\"data row20 col1\" >14925</td>\n",
              "                        <td id=\"T_bdb10f2c_8575_11ea_8137_00c2c662704frow20_col2\" class=\"data row20 col2\" >510</td>\n",
              "                        <td id=\"T_bdb10f2c_8575_11ea_8137_00c2c662704frow20_col3\" class=\"data row20 col3\" >11328</td>\n",
              "                        <td id=\"T_bdb10f2c_8575_11ea_8137_00c2c662704frow20_col4\" class=\"data row20 col4\" >3087</td>\n",
              "            </tr>\n",
              "            <tr>\n",
              "                        <th id=\"T_bdb10f2c_8575_11ea_8137_00c2c662704flevel0_row21\" class=\"row_heading level0 row21\" >21</th>\n",
              "                        <td id=\"T_bdb10f2c_8575_11ea_8137_00c2c662704frow21_col0\" class=\"data row21 col0\" >Israel</td>\n",
              "                        <td id=\"T_bdb10f2c_8575_11ea_8137_00c2c662704frow21_col1\" class=\"data row21 col1\" >14498</td>\n",
              "                        <td id=\"T_bdb10f2c_8575_11ea_8137_00c2c662704frow21_col2\" class=\"data row21 col2\" >189</td>\n",
              "                        <td id=\"T_bdb10f2c_8575_11ea_8137_00c2c662704frow21_col3\" class=\"data row21 col3\" >5215</td>\n",
              "                        <td id=\"T_bdb10f2c_8575_11ea_8137_00c2c662704frow21_col4\" class=\"data row21 col4\" >9094</td>\n",
              "            </tr>\n",
              "            <tr>\n",
              "                        <th id=\"T_bdb10f2c_8575_11ea_8137_00c2c662704flevel0_row22\" class=\"row_heading level0 row22\" >22</th>\n",
              "                        <td id=\"T_bdb10f2c_8575_11ea_8137_00c2c662704frow22_col0\" class=\"data row22 col0\" >Saudi Arabia</td>\n",
              "                        <td id=\"T_bdb10f2c_8575_11ea_8137_00c2c662704frow22_col1\" class=\"data row22 col1\" >12772</td>\n",
              "                        <td id=\"T_bdb10f2c_8575_11ea_8137_00c2c662704frow22_col2\" class=\"data row22 col2\" >114</td>\n",
              "                        <td id=\"T_bdb10f2c_8575_11ea_8137_00c2c662704frow22_col3\" class=\"data row22 col3\" >1812</td>\n",
              "                        <td id=\"T_bdb10f2c_8575_11ea_8137_00c2c662704frow22_col4\" class=\"data row22 col4\" >10846</td>\n",
              "            </tr>\n",
              "            <tr>\n",
              "                        <th id=\"T_bdb10f2c_8575_11ea_8137_00c2c662704flevel0_row23\" class=\"row_heading level0 row23\" >23</th>\n",
              "                        <td id=\"T_bdb10f2c_8575_11ea_8137_00c2c662704frow23_col0\" class=\"data row23 col0\" >Japan</td>\n",
              "                        <td id=\"T_bdb10f2c_8575_11ea_8137_00c2c662704frow23_col1\" class=\"data row23 col1\" >11512</td>\n",
              "                        <td id=\"T_bdb10f2c_8575_11ea_8137_00c2c662704frow23_col2\" class=\"data row23 col2\" >281</td>\n",
              "                        <td id=\"T_bdb10f2c_8575_11ea_8137_00c2c662704frow23_col3\" class=\"data row23 col3\" >1356</td>\n",
              "                        <td id=\"T_bdb10f2c_8575_11ea_8137_00c2c662704frow23_col4\" class=\"data row23 col4\" >9875</td>\n",
              "            </tr>\n",
              "            <tr>\n",
              "                        <th id=\"T_bdb10f2c_8575_11ea_8137_00c2c662704flevel0_row24\" class=\"row_heading level0 row24\" >24</th>\n",
              "                        <td id=\"T_bdb10f2c_8575_11ea_8137_00c2c662704frow24_col0\" class=\"data row24 col0\" >Chile</td>\n",
              "                        <td id=\"T_bdb10f2c_8575_11ea_8137_00c2c662704frow24_col1\" class=\"data row24 col1\" >11296</td>\n",
              "                        <td id=\"T_bdb10f2c_8575_11ea_8137_00c2c662704frow24_col2\" class=\"data row24 col2\" >160</td>\n",
              "                        <td id=\"T_bdb10f2c_8575_11ea_8137_00c2c662704frow24_col3\" class=\"data row24 col3\" >5386</td>\n",
              "                        <td id=\"T_bdb10f2c_8575_11ea_8137_00c2c662704frow24_col4\" class=\"data row24 col4\" >5750</td>\n",
              "            </tr>\n",
              "            <tr>\n",
              "                        <th id=\"T_bdb10f2c_8575_11ea_8137_00c2c662704flevel0_row25\" class=\"row_heading level0 row25\" >25</th>\n",
              "                        <td id=\"T_bdb10f2c_8575_11ea_8137_00c2c662704frow25_col0\" class=\"data row25 col0\" >Ecuador</td>\n",
              "                        <td id=\"T_bdb10f2c_8575_11ea_8137_00c2c662704frow25_col1\" class=\"data row25 col1\" >10850</td>\n",
              "                        <td id=\"T_bdb10f2c_8575_11ea_8137_00c2c662704frow25_col2\" class=\"data row25 col2\" >537</td>\n",
              "                        <td id=\"T_bdb10f2c_8575_11ea_8137_00c2c662704frow25_col3\" class=\"data row25 col3\" >1262</td>\n",
              "                        <td id=\"T_bdb10f2c_8575_11ea_8137_00c2c662704frow25_col4\" class=\"data row25 col4\" >9051</td>\n",
              "            </tr>\n",
              "            <tr>\n",
              "                        <th id=\"T_bdb10f2c_8575_11ea_8137_00c2c662704flevel0_row26\" class=\"row_heading level0 row26\" >26</th>\n",
              "                        <td id=\"T_bdb10f2c_8575_11ea_8137_00c2c662704frow26_col0\" class=\"data row26 col0\" >South Korea</td>\n",
              "                        <td id=\"T_bdb10f2c_8575_11ea_8137_00c2c662704frow26_col1\" class=\"data row26 col1\" >10694</td>\n",
              "                        <td id=\"T_bdb10f2c_8575_11ea_8137_00c2c662704frow26_col2\" class=\"data row26 col2\" >238</td>\n",
              "                        <td id=\"T_bdb10f2c_8575_11ea_8137_00c2c662704frow26_col3\" class=\"data row26 col3\" >8277</td>\n",
              "                        <td id=\"T_bdb10f2c_8575_11ea_8137_00c2c662704frow26_col4\" class=\"data row26 col4\" >2179</td>\n",
              "            </tr>\n",
              "            <tr>\n",
              "                        <th id=\"T_bdb10f2c_8575_11ea_8137_00c2c662704flevel0_row27\" class=\"row_heading level0 row27\" >27</th>\n",
              "                        <td id=\"T_bdb10f2c_8575_11ea_8137_00c2c662704frow27_col0\" class=\"data row27 col0\" >Poland</td>\n",
              "                        <td id=\"T_bdb10f2c_8575_11ea_8137_00c2c662704frow27_col1\" class=\"data row27 col1\" >10169</td>\n",
              "                        <td id=\"T_bdb10f2c_8575_11ea_8137_00c2c662704frow27_col2\" class=\"data row27 col2\" >426</td>\n",
              "                        <td id=\"T_bdb10f2c_8575_11ea_8137_00c2c662704frow27_col3\" class=\"data row27 col3\" >1513</td>\n",
              "                        <td id=\"T_bdb10f2c_8575_11ea_8137_00c2c662704frow27_col4\" class=\"data row27 col4\" >8230</td>\n",
              "            </tr>\n",
              "            <tr>\n",
              "                        <th id=\"T_bdb10f2c_8575_11ea_8137_00c2c662704flevel0_row28\" class=\"row_heading level0 row28\" >28</th>\n",
              "                        <td id=\"T_bdb10f2c_8575_11ea_8137_00c2c662704frow28_col0\" class=\"data row28 col0\" >Singapore</td>\n",
              "                        <td id=\"T_bdb10f2c_8575_11ea_8137_00c2c662704frow28_col1\" class=\"data row28 col1\" >10141</td>\n",
              "                        <td id=\"T_bdb10f2c_8575_11ea_8137_00c2c662704frow28_col2\" class=\"data row28 col2\" >12</td>\n",
              "                        <td id=\"T_bdb10f2c_8575_11ea_8137_00c2c662704frow28_col3\" class=\"data row28 col3\" >896</td>\n",
              "                        <td id=\"T_bdb10f2c_8575_11ea_8137_00c2c662704frow28_col4\" class=\"data row28 col4\" >9233</td>\n",
              "            </tr>\n",
              "            <tr>\n",
              "                        <th id=\"T_bdb10f2c_8575_11ea_8137_00c2c662704flevel0_row29\" class=\"row_heading level0 row29\" >29</th>\n",
              "                        <td id=\"T_bdb10f2c_8575_11ea_8137_00c2c662704frow29_col0\" class=\"data row29 col0\" >Pakistan</td>\n",
              "                        <td id=\"T_bdb10f2c_8575_11ea_8137_00c2c662704frow29_col1\" class=\"data row29 col1\" >10076</td>\n",
              "                        <td id=\"T_bdb10f2c_8575_11ea_8137_00c2c662704frow29_col2\" class=\"data row29 col2\" >212</td>\n",
              "                        <td id=\"T_bdb10f2c_8575_11ea_8137_00c2c662704frow29_col3\" class=\"data row29 col3\" >2156</td>\n",
              "                        <td id=\"T_bdb10f2c_8575_11ea_8137_00c2c662704frow29_col4\" class=\"data row29 col4\" >7708</td>\n",
              "            </tr>\n",
              "    </tbody></table>"
            ],
            "text/plain": [
              "<pandas.io.formats.style.Styler at 0x207bbdc21c8>"
            ]
          },
          "metadata": {
            "tags": []
          },
          "execution_count": 97
        }
      ]
    },
    {
      "cell_type": "markdown",
      "metadata": {
        "id": "U5fCpN7fkSz6",
        "colab_type": "text"
      },
      "source": [
        "### Worlwide  Totals"
      ]
    },
    {
      "cell_type": "markdown",
      "metadata": {
        "id": "24AhDG3jkSz7",
        "colab_type": "text"
      },
      "source": [
        "#### Data Set Name - data_world_table\n",
        "##### columns - description,total"
      ]
    },
    {
      "cell_type": "code",
      "metadata": {
        "id": "wPUvhW4NkSz7",
        "colab_type": "code",
        "colab": {}
      },
      "source": [
        "# Calculating Total Confirmed cases \n",
        "data_countries_tot_cnf = data_countries_tot['confirmed'].sum()\n",
        "data_countries_tot_dea = data_countries_tot['deaths'].sum()\n",
        "data_countries_tot_rec = data_countries_tot['recovered'].sum()\n",
        "data_countries_tot_act = data_countries_tot['confirmed'].sum()"
      ],
      "execution_count": 0,
      "outputs": []
    },
    {
      "cell_type": "code",
      "metadata": {
        "cell_style": "center",
        "id": "fPbv8HL4kSz_",
        "colab_type": "code",
        "colab": {},
        "outputId": "3328283b-fef4-41b8-dff7-6dc145471210"
      },
      "source": [
        "# intialise data of lists. \n",
        "world_table = {'description':['Total Confirmed Cases', 'Total Deaths', 'Total Recovered', 'Total Active'], \n",
        "        'total':[data_countries_tot_cnf, data_countries_tot_dea, data_countries_tot_rec, data_countries_tot_act]} \n",
        "  \n",
        "# Create DataFrame \n",
        "data_world_table = pd.DataFrame(world_table) \n",
        "  \n",
        "# Print the output.\n",
        "print(f\"World Wide Data as on {max_date}\")\n",
        "data_world_table"
      ],
      "execution_count": 0,
      "outputs": [
        {
          "output_type": "stream",
          "text": [
            "World Wide Data as on 2020-04-22 00:00:00\n"
          ],
          "name": "stdout"
        },
        {
          "output_type": "execute_result",
          "data": {
            "text/html": [
              "<div>\n",
              "<style scoped>\n",
              "    .dataframe tbody tr th:only-of-type {\n",
              "        vertical-align: middle;\n",
              "    }\n",
              "\n",
              "    .dataframe tbody tr th {\n",
              "        vertical-align: top;\n",
              "    }\n",
              "\n",
              "    .dataframe thead th {\n",
              "        text-align: right;\n",
              "    }\n",
              "</style>\n",
              "<table border=\"1\" class=\"dataframe\">\n",
              "  <thead>\n",
              "    <tr style=\"text-align: right;\">\n",
              "      <th></th>\n",
              "      <th>description</th>\n",
              "      <th>total</th>\n",
              "    </tr>\n",
              "  </thead>\n",
              "  <tbody>\n",
              "    <tr>\n",
              "      <th>0</th>\n",
              "      <td>Total Confirmed Cases</td>\n",
              "      <td>2622698</td>\n",
              "    </tr>\n",
              "    <tr>\n",
              "      <th>1</th>\n",
              "      <td>Total Deaths</td>\n",
              "      <td>183014</td>\n",
              "    </tr>\n",
              "    <tr>\n",
              "      <th>2</th>\n",
              "      <td>Total Recovered</td>\n",
              "      <td>689736</td>\n",
              "    </tr>\n",
              "    <tr>\n",
              "      <th>3</th>\n",
              "      <td>Total Active</td>\n",
              "      <td>2622698</td>\n",
              "    </tr>\n",
              "  </tbody>\n",
              "</table>\n",
              "</div>"
            ],
            "text/plain": [
              "             description    total\n",
              "0  Total Confirmed Cases  2622698\n",
              "1           Total Deaths   183014\n",
              "2        Total Recovered   689736\n",
              "3           Total Active  2622698"
            ]
          },
          "metadata": {
            "tags": []
          },
          "execution_count": 99
        }
      ]
    },
    {
      "cell_type": "markdown",
      "metadata": {
        "id": "dhZ4A16tkS0F",
        "colab_type": "text"
      },
      "source": [
        "#### World wide cases and fatalities - Bar Chart"
      ]
    },
    {
      "cell_type": "code",
      "metadata": {
        "scrolled": false,
        "id": "-bxBFQrZkS0F",
        "colab_type": "code",
        "colab": {},
        "outputId": "9b5ae3b6-948c-4dc5-ad8a-e3baae4caa42"
      },
      "source": [
        "fig = go.Figure(data=[\n",
        "    go.Bar(name='confirmed', x=data_cfn['date'], y=data_cfn['confirmed']),\n",
        "    go.Bar(name='deaths', x=data_cfn['date'], y=data_cfn['deaths'])\n",
        "])\n",
        "# Change the bar mode\n",
        "fig.update_layout(barmode='overlay', title=f'Worldwide Cases and fatalaties as on {max_date}')\n",
        "fig.show()"
      ],
      "execution_count": 0,
      "outputs": [
        {
          "output_type": "display_data",
          "data": {
            "application/vnd.plotly.v1+json": {
              "config": {
                "plotlyServerURL": "https://plot.ly"
              },
              "data": [
                {
                  "name": "confirmed",
                  "type": "bar",
                  "x": [
                    "2020-01-22T00:00:00",
                    "2020-01-23T00:00:00",
                    "2020-01-24T00:00:00",
                    "2020-01-25T00:00:00",
                    "2020-01-26T00:00:00",
                    "2020-01-27T00:00:00",
                    "2020-01-28T00:00:00",
                    "2020-01-29T00:00:00",
                    "2020-01-30T00:00:00",
                    "2020-01-31T00:00:00",
                    "2020-02-01T00:00:00",
                    "2020-02-02T00:00:00",
                    "2020-02-03T00:00:00",
                    "2020-02-04T00:00:00",
                    "2020-02-05T00:00:00",
                    "2020-02-06T00:00:00",
                    "2020-02-07T00:00:00",
                    "2020-02-08T00:00:00",
                    "2020-02-09T00:00:00",
                    "2020-02-10T00:00:00",
                    "2020-02-11T00:00:00",
                    "2020-02-12T00:00:00",
                    "2020-02-13T00:00:00",
                    "2020-02-14T00:00:00",
                    "2020-02-15T00:00:00",
                    "2020-02-16T00:00:00",
                    "2020-02-17T00:00:00",
                    "2020-02-18T00:00:00",
                    "2020-02-19T00:00:00",
                    "2020-02-20T00:00:00",
                    "2020-02-21T00:00:00",
                    "2020-02-22T00:00:00",
                    "2020-02-23T00:00:00",
                    "2020-02-24T00:00:00",
                    "2020-02-25T00:00:00",
                    "2020-02-26T00:00:00",
                    "2020-02-27T00:00:00",
                    "2020-02-28T00:00:00",
                    "2020-02-29T00:00:00",
                    "2020-03-01T00:00:00",
                    "2020-03-02T00:00:00",
                    "2020-03-03T00:00:00",
                    "2020-03-04T00:00:00",
                    "2020-03-05T00:00:00",
                    "2020-03-06T00:00:00",
                    "2020-03-07T00:00:00",
                    "2020-03-08T00:00:00",
                    "2020-03-09T00:00:00",
                    "2020-03-10T00:00:00",
                    "2020-03-11T00:00:00",
                    "2020-03-12T00:00:00",
                    "2020-03-13T00:00:00",
                    "2020-03-14T00:00:00",
                    "2020-03-15T00:00:00",
                    "2020-03-16T00:00:00",
                    "2020-03-17T00:00:00",
                    "2020-03-18T00:00:00",
                    "2020-03-19T00:00:00",
                    "2020-03-20T00:00:00",
                    "2020-03-21T00:00:00",
                    "2020-03-22T00:00:00",
                    "2020-03-23T00:00:00",
                    "2020-03-24T00:00:00",
                    "2020-03-25T00:00:00",
                    "2020-03-26T00:00:00",
                    "2020-03-27T00:00:00",
                    "2020-03-28T00:00:00",
                    "2020-03-29T00:00:00",
                    "2020-03-30T00:00:00",
                    "2020-03-31T00:00:00",
                    "2020-04-01T00:00:00",
                    "2020-04-02T00:00:00",
                    "2020-04-03T00:00:00",
                    "2020-04-04T00:00:00",
                    "2020-04-05T00:00:00",
                    "2020-04-06T00:00:00",
                    "2020-04-07T00:00:00",
                    "2020-04-08T00:00:00",
                    "2020-04-09T00:00:00",
                    "2020-04-10T00:00:00",
                    "2020-04-11T00:00:00",
                    "2020-04-12T00:00:00",
                    "2020-04-13T00:00:00",
                    "2020-04-14T00:00:00",
                    "2020-04-15T00:00:00",
                    "2020-04-16T00:00:00",
                    "2020-04-17T00:00:00",
                    "2020-04-18T00:00:00",
                    "2020-04-19T00:00:00",
                    "2020-04-20T00:00:00",
                    "2020-04-21T00:00:00",
                    "2020-04-22T00:00:00"
                  ],
                  "y": [
                    555,
                    654,
                    941,
                    1434,
                    2118,
                    2927,
                    5578,
                    6166,
                    8234,
                    9927,
                    12038,
                    16787,
                    19881,
                    23892,
                    27635,
                    30794,
                    34330,
                    37059,
                    40086,
                    42627,
                    44667,
                    46554,
                    60193,
                    66667,
                    68745,
                    70869,
                    72804,
                    74594,
                    75018,
                    75563,
                    76185,
                    77938,
                    78267,
                    78870,
                    79715,
                    80683,
                    82041,
                    83407,
                    85306,
                    87664,
                    89601,
                    92134,
                    94414,
                    97180,
                    101095,
                    105141,
                    109115,
                    112884,
                    117914,
                    125169,
                    127646,
                    144499,
                    155395,
                    166748,
                    180868,
                    196396,
                    214109,
                    241858,
                    271496,
                    303795,
                    336241,
                    377519,
                    417329,
                    466941,
                    528879,
                    592579,
                    659981,
                    719428,
                    781677,
                    856775,
                    931763,
                    1012612,
                    1094984,
                    1175143,
                    1248770,
                    1320417,
                    1395378,
                    1479090,
                    1564564,
                    1656812,
                    1734936,
                    1834007,
                    1904124,
                    1975477,
                    2055340,
                    2151723,
                    2239476,
                    2317044,
                    2400385,
                    2471542,
                    2548577,
                    2622698
                  ]
                },
                {
                  "name": "deaths",
                  "type": "bar",
                  "x": [
                    "2020-01-22T00:00:00",
                    "2020-01-23T00:00:00",
                    "2020-01-24T00:00:00",
                    "2020-01-25T00:00:00",
                    "2020-01-26T00:00:00",
                    "2020-01-27T00:00:00",
                    "2020-01-28T00:00:00",
                    "2020-01-29T00:00:00",
                    "2020-01-30T00:00:00",
                    "2020-01-31T00:00:00",
                    "2020-02-01T00:00:00",
                    "2020-02-02T00:00:00",
                    "2020-02-03T00:00:00",
                    "2020-02-04T00:00:00",
                    "2020-02-05T00:00:00",
                    "2020-02-06T00:00:00",
                    "2020-02-07T00:00:00",
                    "2020-02-08T00:00:00",
                    "2020-02-09T00:00:00",
                    "2020-02-10T00:00:00",
                    "2020-02-11T00:00:00",
                    "2020-02-12T00:00:00",
                    "2020-02-13T00:00:00",
                    "2020-02-14T00:00:00",
                    "2020-02-15T00:00:00",
                    "2020-02-16T00:00:00",
                    "2020-02-17T00:00:00",
                    "2020-02-18T00:00:00",
                    "2020-02-19T00:00:00",
                    "2020-02-20T00:00:00",
                    "2020-02-21T00:00:00",
                    "2020-02-22T00:00:00",
                    "2020-02-23T00:00:00",
                    "2020-02-24T00:00:00",
                    "2020-02-25T00:00:00",
                    "2020-02-26T00:00:00",
                    "2020-02-27T00:00:00",
                    "2020-02-28T00:00:00",
                    "2020-02-29T00:00:00",
                    "2020-03-01T00:00:00",
                    "2020-03-02T00:00:00",
                    "2020-03-03T00:00:00",
                    "2020-03-04T00:00:00",
                    "2020-03-05T00:00:00",
                    "2020-03-06T00:00:00",
                    "2020-03-07T00:00:00",
                    "2020-03-08T00:00:00",
                    "2020-03-09T00:00:00",
                    "2020-03-10T00:00:00",
                    "2020-03-11T00:00:00",
                    "2020-03-12T00:00:00",
                    "2020-03-13T00:00:00",
                    "2020-03-14T00:00:00",
                    "2020-03-15T00:00:00",
                    "2020-03-16T00:00:00",
                    "2020-03-17T00:00:00",
                    "2020-03-18T00:00:00",
                    "2020-03-19T00:00:00",
                    "2020-03-20T00:00:00",
                    "2020-03-21T00:00:00",
                    "2020-03-22T00:00:00",
                    "2020-03-23T00:00:00",
                    "2020-03-24T00:00:00",
                    "2020-03-25T00:00:00",
                    "2020-03-26T00:00:00",
                    "2020-03-27T00:00:00",
                    "2020-03-28T00:00:00",
                    "2020-03-29T00:00:00",
                    "2020-03-30T00:00:00",
                    "2020-03-31T00:00:00",
                    "2020-04-01T00:00:00",
                    "2020-04-02T00:00:00",
                    "2020-04-03T00:00:00",
                    "2020-04-04T00:00:00",
                    "2020-04-05T00:00:00",
                    "2020-04-06T00:00:00",
                    "2020-04-07T00:00:00",
                    "2020-04-08T00:00:00",
                    "2020-04-09T00:00:00",
                    "2020-04-10T00:00:00",
                    "2020-04-11T00:00:00",
                    "2020-04-12T00:00:00",
                    "2020-04-13T00:00:00",
                    "2020-04-14T00:00:00",
                    "2020-04-15T00:00:00",
                    "2020-04-16T00:00:00",
                    "2020-04-17T00:00:00",
                    "2020-04-18T00:00:00",
                    "2020-04-19T00:00:00",
                    "2020-04-20T00:00:00",
                    "2020-04-21T00:00:00",
                    "2020-04-22T00:00:00"
                  ],
                  "y": [
                    17,
                    18,
                    26,
                    42,
                    56,
                    82,
                    131,
                    133,
                    171,
                    213,
                    259,
                    362,
                    426,
                    492,
                    564,
                    634,
                    719,
                    806,
                    906,
                    1013,
                    1113,
                    1118,
                    1371,
                    1523,
                    1666,
                    1770,
                    1868,
                    2007,
                    2122,
                    2245,
                    2249,
                    2456,
                    2466,
                    2626,
                    2705,
                    2766,
                    2810,
                    2866,
                    2935,
                    2990,
                    3079,
                    3154,
                    3248,
                    3342,
                    3454,
                    3552,
                    3796,
                    3982,
                    4256,
                    4608,
                    4713,
                    5397,
                    5812,
                    6433,
                    7119,
                    7898,
                    8726,
                    9860,
                    11292,
                    12965,
                    14642,
                    16496,
                    18614,
                    21170,
                    23959,
                    27187,
                    30641,
                    33914,
                    37571,
                    42097,
                    47171,
                    52974,
                    58778,
                    64595,
                    69362,
                    74553,
                    81925,
                    88335,
                    95509,
                    102522,
                    108499,
                    114088,
                    119481,
                    125984,
                    134178,
                    143803,
                    153823,
                    159497,
                    165031,
                    169973,
                    176570,
                    183014
                  ]
                }
              ],
              "layout": {
                "barmode": "overlay",
                "template": {
                  "data": {
                    "bar": [
                      {
                        "error_x": {
                          "color": "#f2f5fa"
                        },
                        "error_y": {
                          "color": "#f2f5fa"
                        },
                        "marker": {
                          "line": {
                            "color": "rgb(17,17,17)",
                            "width": 0.5
                          }
                        },
                        "type": "bar"
                      }
                    ],
                    "barpolar": [
                      {
                        "marker": {
                          "line": {
                            "color": "rgb(17,17,17)",
                            "width": 0.5
                          }
                        },
                        "type": "barpolar"
                      }
                    ],
                    "carpet": [
                      {
                        "aaxis": {
                          "endlinecolor": "#A2B1C6",
                          "gridcolor": "#506784",
                          "linecolor": "#506784",
                          "minorgridcolor": "#506784",
                          "startlinecolor": "#A2B1C6"
                        },
                        "baxis": {
                          "endlinecolor": "#A2B1C6",
                          "gridcolor": "#506784",
                          "linecolor": "#506784",
                          "minorgridcolor": "#506784",
                          "startlinecolor": "#A2B1C6"
                        },
                        "type": "carpet"
                      }
                    ],
                    "choropleth": [
                      {
                        "colorbar": {
                          "outlinewidth": 0,
                          "ticks": ""
                        },
                        "type": "choropleth"
                      }
                    ],
                    "contour": [
                      {
                        "colorbar": {
                          "outlinewidth": 0,
                          "ticks": ""
                        },
                        "colorscale": [
                          [
                            0,
                            "#0d0887"
                          ],
                          [
                            0.1111111111111111,
                            "#46039f"
                          ],
                          [
                            0.2222222222222222,
                            "#7201a8"
                          ],
                          [
                            0.3333333333333333,
                            "#9c179e"
                          ],
                          [
                            0.4444444444444444,
                            "#bd3786"
                          ],
                          [
                            0.5555555555555556,
                            "#d8576b"
                          ],
                          [
                            0.6666666666666666,
                            "#ed7953"
                          ],
                          [
                            0.7777777777777778,
                            "#fb9f3a"
                          ],
                          [
                            0.8888888888888888,
                            "#fdca26"
                          ],
                          [
                            1,
                            "#f0f921"
                          ]
                        ],
                        "type": "contour"
                      }
                    ],
                    "contourcarpet": [
                      {
                        "colorbar": {
                          "outlinewidth": 0,
                          "ticks": ""
                        },
                        "type": "contourcarpet"
                      }
                    ],
                    "heatmap": [
                      {
                        "colorbar": {
                          "outlinewidth": 0,
                          "ticks": ""
                        },
                        "colorscale": [
                          [
                            0,
                            "#0d0887"
                          ],
                          [
                            0.1111111111111111,
                            "#46039f"
                          ],
                          [
                            0.2222222222222222,
                            "#7201a8"
                          ],
                          [
                            0.3333333333333333,
                            "#9c179e"
                          ],
                          [
                            0.4444444444444444,
                            "#bd3786"
                          ],
                          [
                            0.5555555555555556,
                            "#d8576b"
                          ],
                          [
                            0.6666666666666666,
                            "#ed7953"
                          ],
                          [
                            0.7777777777777778,
                            "#fb9f3a"
                          ],
                          [
                            0.8888888888888888,
                            "#fdca26"
                          ],
                          [
                            1,
                            "#f0f921"
                          ]
                        ],
                        "type": "heatmap"
                      }
                    ],
                    "heatmapgl": [
                      {
                        "colorbar": {
                          "outlinewidth": 0,
                          "ticks": ""
                        },
                        "colorscale": [
                          [
                            0,
                            "#0d0887"
                          ],
                          [
                            0.1111111111111111,
                            "#46039f"
                          ],
                          [
                            0.2222222222222222,
                            "#7201a8"
                          ],
                          [
                            0.3333333333333333,
                            "#9c179e"
                          ],
                          [
                            0.4444444444444444,
                            "#bd3786"
                          ],
                          [
                            0.5555555555555556,
                            "#d8576b"
                          ],
                          [
                            0.6666666666666666,
                            "#ed7953"
                          ],
                          [
                            0.7777777777777778,
                            "#fb9f3a"
                          ],
                          [
                            0.8888888888888888,
                            "#fdca26"
                          ],
                          [
                            1,
                            "#f0f921"
                          ]
                        ],
                        "type": "heatmapgl"
                      }
                    ],
                    "histogram": [
                      {
                        "marker": {
                          "colorbar": {
                            "outlinewidth": 0,
                            "ticks": ""
                          }
                        },
                        "type": "histogram"
                      }
                    ],
                    "histogram2d": [
                      {
                        "colorbar": {
                          "outlinewidth": 0,
                          "ticks": ""
                        },
                        "colorscale": [
                          [
                            0,
                            "#0d0887"
                          ],
                          [
                            0.1111111111111111,
                            "#46039f"
                          ],
                          [
                            0.2222222222222222,
                            "#7201a8"
                          ],
                          [
                            0.3333333333333333,
                            "#9c179e"
                          ],
                          [
                            0.4444444444444444,
                            "#bd3786"
                          ],
                          [
                            0.5555555555555556,
                            "#d8576b"
                          ],
                          [
                            0.6666666666666666,
                            "#ed7953"
                          ],
                          [
                            0.7777777777777778,
                            "#fb9f3a"
                          ],
                          [
                            0.8888888888888888,
                            "#fdca26"
                          ],
                          [
                            1,
                            "#f0f921"
                          ]
                        ],
                        "type": "histogram2d"
                      }
                    ],
                    "histogram2dcontour": [
                      {
                        "colorbar": {
                          "outlinewidth": 0,
                          "ticks": ""
                        },
                        "colorscale": [
                          [
                            0,
                            "#0d0887"
                          ],
                          [
                            0.1111111111111111,
                            "#46039f"
                          ],
                          [
                            0.2222222222222222,
                            "#7201a8"
                          ],
                          [
                            0.3333333333333333,
                            "#9c179e"
                          ],
                          [
                            0.4444444444444444,
                            "#bd3786"
                          ],
                          [
                            0.5555555555555556,
                            "#d8576b"
                          ],
                          [
                            0.6666666666666666,
                            "#ed7953"
                          ],
                          [
                            0.7777777777777778,
                            "#fb9f3a"
                          ],
                          [
                            0.8888888888888888,
                            "#fdca26"
                          ],
                          [
                            1,
                            "#f0f921"
                          ]
                        ],
                        "type": "histogram2dcontour"
                      }
                    ],
                    "mesh3d": [
                      {
                        "colorbar": {
                          "outlinewidth": 0,
                          "ticks": ""
                        },
                        "type": "mesh3d"
                      }
                    ],
                    "parcoords": [
                      {
                        "line": {
                          "colorbar": {
                            "outlinewidth": 0,
                            "ticks": ""
                          }
                        },
                        "type": "parcoords"
                      }
                    ],
                    "pie": [
                      {
                        "automargin": true,
                        "type": "pie"
                      }
                    ],
                    "scatter": [
                      {
                        "marker": {
                          "line": {
                            "color": "#283442"
                          }
                        },
                        "type": "scatter"
                      }
                    ],
                    "scatter3d": [
                      {
                        "line": {
                          "colorbar": {
                            "outlinewidth": 0,
                            "ticks": ""
                          }
                        },
                        "marker": {
                          "colorbar": {
                            "outlinewidth": 0,
                            "ticks": ""
                          }
                        },
                        "type": "scatter3d"
                      }
                    ],
                    "scattercarpet": [
                      {
                        "marker": {
                          "colorbar": {
                            "outlinewidth": 0,
                            "ticks": ""
                          }
                        },
                        "type": "scattercarpet"
                      }
                    ],
                    "scattergeo": [
                      {
                        "marker": {
                          "colorbar": {
                            "outlinewidth": 0,
                            "ticks": ""
                          }
                        },
                        "type": "scattergeo"
                      }
                    ],
                    "scattergl": [
                      {
                        "marker": {
                          "line": {
                            "color": "#283442"
                          }
                        },
                        "type": "scattergl"
                      }
                    ],
                    "scattermapbox": [
                      {
                        "marker": {
                          "colorbar": {
                            "outlinewidth": 0,
                            "ticks": ""
                          }
                        },
                        "type": "scattermapbox"
                      }
                    ],
                    "scatterpolar": [
                      {
                        "marker": {
                          "colorbar": {
                            "outlinewidth": 0,
                            "ticks": ""
                          }
                        },
                        "type": "scatterpolar"
                      }
                    ],
                    "scatterpolargl": [
                      {
                        "marker": {
                          "colorbar": {
                            "outlinewidth": 0,
                            "ticks": ""
                          }
                        },
                        "type": "scatterpolargl"
                      }
                    ],
                    "scatterternary": [
                      {
                        "marker": {
                          "colorbar": {
                            "outlinewidth": 0,
                            "ticks": ""
                          }
                        },
                        "type": "scatterternary"
                      }
                    ],
                    "surface": [
                      {
                        "colorbar": {
                          "outlinewidth": 0,
                          "ticks": ""
                        },
                        "colorscale": [
                          [
                            0,
                            "#0d0887"
                          ],
                          [
                            0.1111111111111111,
                            "#46039f"
                          ],
                          [
                            0.2222222222222222,
                            "#7201a8"
                          ],
                          [
                            0.3333333333333333,
                            "#9c179e"
                          ],
                          [
                            0.4444444444444444,
                            "#bd3786"
                          ],
                          [
                            0.5555555555555556,
                            "#d8576b"
                          ],
                          [
                            0.6666666666666666,
                            "#ed7953"
                          ],
                          [
                            0.7777777777777778,
                            "#fb9f3a"
                          ],
                          [
                            0.8888888888888888,
                            "#fdca26"
                          ],
                          [
                            1,
                            "#f0f921"
                          ]
                        ],
                        "type": "surface"
                      }
                    ],
                    "table": [
                      {
                        "cells": {
                          "fill": {
                            "color": "#506784"
                          },
                          "line": {
                            "color": "rgb(17,17,17)"
                          }
                        },
                        "header": {
                          "fill": {
                            "color": "#2a3f5f"
                          },
                          "line": {
                            "color": "rgb(17,17,17)"
                          }
                        },
                        "type": "table"
                      }
                    ]
                  },
                  "layout": {
                    "annotationdefaults": {
                      "arrowcolor": "#f2f5fa",
                      "arrowhead": 0,
                      "arrowwidth": 1
                    },
                    "coloraxis": {
                      "colorbar": {
                        "outlinewidth": 0,
                        "ticks": ""
                      }
                    },
                    "colorscale": {
                      "diverging": [
                        [
                          0,
                          "#8e0152"
                        ],
                        [
                          0.1,
                          "#c51b7d"
                        ],
                        [
                          0.2,
                          "#de77ae"
                        ],
                        [
                          0.3,
                          "#f1b6da"
                        ],
                        [
                          0.4,
                          "#fde0ef"
                        ],
                        [
                          0.5,
                          "#f7f7f7"
                        ],
                        [
                          0.6,
                          "#e6f5d0"
                        ],
                        [
                          0.7,
                          "#b8e186"
                        ],
                        [
                          0.8,
                          "#7fbc41"
                        ],
                        [
                          0.9,
                          "#4d9221"
                        ],
                        [
                          1,
                          "#276419"
                        ]
                      ],
                      "sequential": [
                        [
                          0,
                          "#0d0887"
                        ],
                        [
                          0.1111111111111111,
                          "#46039f"
                        ],
                        [
                          0.2222222222222222,
                          "#7201a8"
                        ],
                        [
                          0.3333333333333333,
                          "#9c179e"
                        ],
                        [
                          0.4444444444444444,
                          "#bd3786"
                        ],
                        [
                          0.5555555555555556,
                          "#d8576b"
                        ],
                        [
                          0.6666666666666666,
                          "#ed7953"
                        ],
                        [
                          0.7777777777777778,
                          "#fb9f3a"
                        ],
                        [
                          0.8888888888888888,
                          "#fdca26"
                        ],
                        [
                          1,
                          "#f0f921"
                        ]
                      ],
                      "sequentialminus": [
                        [
                          0,
                          "#0d0887"
                        ],
                        [
                          0.1111111111111111,
                          "#46039f"
                        ],
                        [
                          0.2222222222222222,
                          "#7201a8"
                        ],
                        [
                          0.3333333333333333,
                          "#9c179e"
                        ],
                        [
                          0.4444444444444444,
                          "#bd3786"
                        ],
                        [
                          0.5555555555555556,
                          "#d8576b"
                        ],
                        [
                          0.6666666666666666,
                          "#ed7953"
                        ],
                        [
                          0.7777777777777778,
                          "#fb9f3a"
                        ],
                        [
                          0.8888888888888888,
                          "#fdca26"
                        ],
                        [
                          1,
                          "#f0f921"
                        ]
                      ]
                    },
                    "colorway": [
                      "#636efa",
                      "#EF553B",
                      "#00cc96",
                      "#ab63fa",
                      "#FFA15A",
                      "#19d3f3",
                      "#FF6692",
                      "#B6E880",
                      "#FF97FF",
                      "#FECB52"
                    ],
                    "font": {
                      "color": "#f2f5fa"
                    },
                    "geo": {
                      "bgcolor": "rgb(17,17,17)",
                      "lakecolor": "rgb(17,17,17)",
                      "landcolor": "rgb(17,17,17)",
                      "showlakes": true,
                      "showland": true,
                      "subunitcolor": "#506784"
                    },
                    "hoverlabel": {
                      "align": "left"
                    },
                    "hovermode": "closest",
                    "mapbox": {
                      "style": "dark"
                    },
                    "paper_bgcolor": "rgb(17,17,17)",
                    "plot_bgcolor": "rgb(17,17,17)",
                    "polar": {
                      "angularaxis": {
                        "gridcolor": "#506784",
                        "linecolor": "#506784",
                        "ticks": ""
                      },
                      "bgcolor": "rgb(17,17,17)",
                      "radialaxis": {
                        "gridcolor": "#506784",
                        "linecolor": "#506784",
                        "ticks": ""
                      }
                    },
                    "scene": {
                      "xaxis": {
                        "backgroundcolor": "rgb(17,17,17)",
                        "gridcolor": "#506784",
                        "gridwidth": 2,
                        "linecolor": "#506784",
                        "showbackground": true,
                        "ticks": "",
                        "zerolinecolor": "#C8D4E3"
                      },
                      "yaxis": {
                        "backgroundcolor": "rgb(17,17,17)",
                        "gridcolor": "#506784",
                        "gridwidth": 2,
                        "linecolor": "#506784",
                        "showbackground": true,
                        "ticks": "",
                        "zerolinecolor": "#C8D4E3"
                      },
                      "zaxis": {
                        "backgroundcolor": "rgb(17,17,17)",
                        "gridcolor": "#506784",
                        "gridwidth": 2,
                        "linecolor": "#506784",
                        "showbackground": true,
                        "ticks": "",
                        "zerolinecolor": "#C8D4E3"
                      }
                    },
                    "shapedefaults": {
                      "line": {
                        "color": "#f2f5fa"
                      }
                    },
                    "sliderdefaults": {
                      "bgcolor": "#C8D4E3",
                      "bordercolor": "rgb(17,17,17)",
                      "borderwidth": 1,
                      "tickwidth": 0
                    },
                    "ternary": {
                      "aaxis": {
                        "gridcolor": "#506784",
                        "linecolor": "#506784",
                        "ticks": ""
                      },
                      "baxis": {
                        "gridcolor": "#506784",
                        "linecolor": "#506784",
                        "ticks": ""
                      },
                      "bgcolor": "rgb(17,17,17)",
                      "caxis": {
                        "gridcolor": "#506784",
                        "linecolor": "#506784",
                        "ticks": ""
                      }
                    },
                    "title": {
                      "x": 0.05
                    },
                    "updatemenudefaults": {
                      "bgcolor": "#506784",
                      "borderwidth": 0
                    },
                    "xaxis": {
                      "automargin": true,
                      "gridcolor": "#283442",
                      "linecolor": "#506784",
                      "ticks": "",
                      "title": {
                        "standoff": 15
                      },
                      "zerolinecolor": "#283442",
                      "zerolinewidth": 2
                    },
                    "yaxis": {
                      "automargin": true,
                      "gridcolor": "#283442",
                      "linecolor": "#506784",
                      "ticks": "",
                      "title": {
                        "standoff": 15
                      },
                      "zerolinecolor": "#283442",
                      "zerolinewidth": 2
                    }
                  }
                },
                "title": {
                  "text": "Worldwide Cases and fatalaties as on 2020-04-22 00:00:00"
                }
              }
            },
            "text/html": [
              "<div>\n",
              "        \n",
              "        \n",
              "            <div id=\"6c0b344f-ba64-4933-88a8-2eba32326f95\" class=\"plotly-graph-div\" style=\"height:525px; width:100%;\"></div>\n",
              "            <script type=\"text/javascript\">\n",
              "                require([\"plotly\"], function(Plotly) {\n",
              "                    window.PLOTLYENV=window.PLOTLYENV || {};\n",
              "                    \n",
              "                if (document.getElementById(\"6c0b344f-ba64-4933-88a8-2eba32326f95\")) {\n",
              "                    Plotly.newPlot(\n",
              "                        '6c0b344f-ba64-4933-88a8-2eba32326f95',\n",
              "                        [{\"name\": \"confirmed\", \"type\": \"bar\", \"x\": [\"2020-01-22T00:00:00\", \"2020-01-23T00:00:00\", \"2020-01-24T00:00:00\", \"2020-01-25T00:00:00\", \"2020-01-26T00:00:00\", \"2020-01-27T00:00:00\", \"2020-01-28T00:00:00\", \"2020-01-29T00:00:00\", \"2020-01-30T00:00:00\", \"2020-01-31T00:00:00\", \"2020-02-01T00:00:00\", \"2020-02-02T00:00:00\", \"2020-02-03T00:00:00\", \"2020-02-04T00:00:00\", \"2020-02-05T00:00:00\", \"2020-02-06T00:00:00\", \"2020-02-07T00:00:00\", \"2020-02-08T00:00:00\", \"2020-02-09T00:00:00\", \"2020-02-10T00:00:00\", \"2020-02-11T00:00:00\", \"2020-02-12T00:00:00\", \"2020-02-13T00:00:00\", \"2020-02-14T00:00:00\", \"2020-02-15T00:00:00\", \"2020-02-16T00:00:00\", \"2020-02-17T00:00:00\", \"2020-02-18T00:00:00\", \"2020-02-19T00:00:00\", \"2020-02-20T00:00:00\", \"2020-02-21T00:00:00\", \"2020-02-22T00:00:00\", \"2020-02-23T00:00:00\", \"2020-02-24T00:00:00\", \"2020-02-25T00:00:00\", \"2020-02-26T00:00:00\", \"2020-02-27T00:00:00\", \"2020-02-28T00:00:00\", \"2020-02-29T00:00:00\", \"2020-03-01T00:00:00\", \"2020-03-02T00:00:00\", \"2020-03-03T00:00:00\", \"2020-03-04T00:00:00\", \"2020-03-05T00:00:00\", \"2020-03-06T00:00:00\", \"2020-03-07T00:00:00\", \"2020-03-08T00:00:00\", \"2020-03-09T00:00:00\", \"2020-03-10T00:00:00\", \"2020-03-11T00:00:00\", \"2020-03-12T00:00:00\", \"2020-03-13T00:00:00\", \"2020-03-14T00:00:00\", \"2020-03-15T00:00:00\", \"2020-03-16T00:00:00\", \"2020-03-17T00:00:00\", \"2020-03-18T00:00:00\", \"2020-03-19T00:00:00\", \"2020-03-20T00:00:00\", \"2020-03-21T00:00:00\", \"2020-03-22T00:00:00\", \"2020-03-23T00:00:00\", \"2020-03-24T00:00:00\", \"2020-03-25T00:00:00\", \"2020-03-26T00:00:00\", \"2020-03-27T00:00:00\", \"2020-03-28T00:00:00\", \"2020-03-29T00:00:00\", \"2020-03-30T00:00:00\", \"2020-03-31T00:00:00\", \"2020-04-01T00:00:00\", \"2020-04-02T00:00:00\", \"2020-04-03T00:00:00\", \"2020-04-04T00:00:00\", \"2020-04-05T00:00:00\", \"2020-04-06T00:00:00\", \"2020-04-07T00:00:00\", \"2020-04-08T00:00:00\", \"2020-04-09T00:00:00\", \"2020-04-10T00:00:00\", \"2020-04-11T00:00:00\", \"2020-04-12T00:00:00\", \"2020-04-13T00:00:00\", \"2020-04-14T00:00:00\", \"2020-04-15T00:00:00\", \"2020-04-16T00:00:00\", \"2020-04-17T00:00:00\", \"2020-04-18T00:00:00\", \"2020-04-19T00:00:00\", \"2020-04-20T00:00:00\", \"2020-04-21T00:00:00\", \"2020-04-22T00:00:00\"], \"y\": [555, 654, 941, 1434, 2118, 2927, 5578, 6166, 8234, 9927, 12038, 16787, 19881, 23892, 27635, 30794, 34330, 37059, 40086, 42627, 44667, 46554, 60193, 66667, 68745, 70869, 72804, 74594, 75018, 75563, 76185, 77938, 78267, 78870, 79715, 80683, 82041, 83407, 85306, 87664, 89601, 92134, 94414, 97180, 101095, 105141, 109115, 112884, 117914, 125169, 127646, 144499, 155395, 166748, 180868, 196396, 214109, 241858, 271496, 303795, 336241, 377519, 417329, 466941, 528879, 592579, 659981, 719428, 781677, 856775, 931763, 1012612, 1094984, 1175143, 1248770, 1320417, 1395378, 1479090, 1564564, 1656812, 1734936, 1834007, 1904124, 1975477, 2055340, 2151723, 2239476, 2317044, 2400385, 2471542, 2548577, 2622698]}, {\"name\": \"deaths\", \"type\": \"bar\", \"x\": [\"2020-01-22T00:00:00\", \"2020-01-23T00:00:00\", \"2020-01-24T00:00:00\", \"2020-01-25T00:00:00\", \"2020-01-26T00:00:00\", \"2020-01-27T00:00:00\", \"2020-01-28T00:00:00\", \"2020-01-29T00:00:00\", \"2020-01-30T00:00:00\", \"2020-01-31T00:00:00\", \"2020-02-01T00:00:00\", \"2020-02-02T00:00:00\", \"2020-02-03T00:00:00\", \"2020-02-04T00:00:00\", \"2020-02-05T00:00:00\", \"2020-02-06T00:00:00\", \"2020-02-07T00:00:00\", \"2020-02-08T00:00:00\", \"2020-02-09T00:00:00\", \"2020-02-10T00:00:00\", \"2020-02-11T00:00:00\", \"2020-02-12T00:00:00\", \"2020-02-13T00:00:00\", \"2020-02-14T00:00:00\", \"2020-02-15T00:00:00\", \"2020-02-16T00:00:00\", \"2020-02-17T00:00:00\", \"2020-02-18T00:00:00\", \"2020-02-19T00:00:00\", \"2020-02-20T00:00:00\", \"2020-02-21T00:00:00\", \"2020-02-22T00:00:00\", \"2020-02-23T00:00:00\", \"2020-02-24T00:00:00\", \"2020-02-25T00:00:00\", \"2020-02-26T00:00:00\", \"2020-02-27T00:00:00\", \"2020-02-28T00:00:00\", \"2020-02-29T00:00:00\", \"2020-03-01T00:00:00\", \"2020-03-02T00:00:00\", \"2020-03-03T00:00:00\", \"2020-03-04T00:00:00\", \"2020-03-05T00:00:00\", \"2020-03-06T00:00:00\", \"2020-03-07T00:00:00\", \"2020-03-08T00:00:00\", \"2020-03-09T00:00:00\", \"2020-03-10T00:00:00\", \"2020-03-11T00:00:00\", \"2020-03-12T00:00:00\", \"2020-03-13T00:00:00\", \"2020-03-14T00:00:00\", \"2020-03-15T00:00:00\", \"2020-03-16T00:00:00\", \"2020-03-17T00:00:00\", \"2020-03-18T00:00:00\", \"2020-03-19T00:00:00\", \"2020-03-20T00:00:00\", \"2020-03-21T00:00:00\", \"2020-03-22T00:00:00\", \"2020-03-23T00:00:00\", \"2020-03-24T00:00:00\", \"2020-03-25T00:00:00\", \"2020-03-26T00:00:00\", \"2020-03-27T00:00:00\", \"2020-03-28T00:00:00\", \"2020-03-29T00:00:00\", \"2020-03-30T00:00:00\", \"2020-03-31T00:00:00\", \"2020-04-01T00:00:00\", \"2020-04-02T00:00:00\", \"2020-04-03T00:00:00\", \"2020-04-04T00:00:00\", \"2020-04-05T00:00:00\", \"2020-04-06T00:00:00\", \"2020-04-07T00:00:00\", \"2020-04-08T00:00:00\", \"2020-04-09T00:00:00\", \"2020-04-10T00:00:00\", \"2020-04-11T00:00:00\", \"2020-04-12T00:00:00\", \"2020-04-13T00:00:00\", \"2020-04-14T00:00:00\", \"2020-04-15T00:00:00\", \"2020-04-16T00:00:00\", \"2020-04-17T00:00:00\", \"2020-04-18T00:00:00\", \"2020-04-19T00:00:00\", \"2020-04-20T00:00:00\", \"2020-04-21T00:00:00\", \"2020-04-22T00:00:00\"], \"y\": [17, 18, 26, 42, 56, 82, 131, 133, 171, 213, 259, 362, 426, 492, 564, 634, 719, 806, 906, 1013, 1113, 1118, 1371, 1523, 1666, 1770, 1868, 2007, 2122, 2245, 2249, 2456, 2466, 2626, 2705, 2766, 2810, 2866, 2935, 2990, 3079, 3154, 3248, 3342, 3454, 3552, 3796, 3982, 4256, 4608, 4713, 5397, 5812, 6433, 7119, 7898, 8726, 9860, 11292, 12965, 14642, 16496, 18614, 21170, 23959, 27187, 30641, 33914, 37571, 42097, 47171, 52974, 58778, 64595, 69362, 74553, 81925, 88335, 95509, 102522, 108499, 114088, 119481, 125984, 134178, 143803, 153823, 159497, 165031, 169973, 176570, 183014]}],\n",
              "                        {\"barmode\": \"overlay\", \"template\": {\"data\": {\"bar\": [{\"error_x\": {\"color\": \"#f2f5fa\"}, \"error_y\": {\"color\": \"#f2f5fa\"}, \"marker\": {\"line\": {\"color\": \"rgb(17,17,17)\", \"width\": 0.5}}, \"type\": \"bar\"}], \"barpolar\": [{\"marker\": {\"line\": {\"color\": \"rgb(17,17,17)\", \"width\": 0.5}}, \"type\": \"barpolar\"}], \"carpet\": [{\"aaxis\": {\"endlinecolor\": \"#A2B1C6\", \"gridcolor\": \"#506784\", \"linecolor\": \"#506784\", \"minorgridcolor\": \"#506784\", \"startlinecolor\": \"#A2B1C6\"}, \"baxis\": {\"endlinecolor\": \"#A2B1C6\", \"gridcolor\": \"#506784\", \"linecolor\": \"#506784\", \"minorgridcolor\": \"#506784\", \"startlinecolor\": \"#A2B1C6\"}, \"type\": \"carpet\"}], \"choropleth\": [{\"colorbar\": {\"outlinewidth\": 0, \"ticks\": \"\"}, \"type\": \"choropleth\"}], \"contour\": [{\"colorbar\": {\"outlinewidth\": 0, \"ticks\": \"\"}, \"colorscale\": [[0.0, \"#0d0887\"], [0.1111111111111111, \"#46039f\"], [0.2222222222222222, \"#7201a8\"], [0.3333333333333333, \"#9c179e\"], [0.4444444444444444, \"#bd3786\"], [0.5555555555555556, \"#d8576b\"], [0.6666666666666666, \"#ed7953\"], [0.7777777777777778, \"#fb9f3a\"], [0.8888888888888888, \"#fdca26\"], [1.0, \"#f0f921\"]], \"type\": \"contour\"}], \"contourcarpet\": [{\"colorbar\": {\"outlinewidth\": 0, \"ticks\": \"\"}, \"type\": \"contourcarpet\"}], \"heatmap\": [{\"colorbar\": {\"outlinewidth\": 0, \"ticks\": \"\"}, \"colorscale\": [[0.0, \"#0d0887\"], [0.1111111111111111, \"#46039f\"], [0.2222222222222222, \"#7201a8\"], [0.3333333333333333, \"#9c179e\"], [0.4444444444444444, \"#bd3786\"], [0.5555555555555556, \"#d8576b\"], [0.6666666666666666, \"#ed7953\"], [0.7777777777777778, \"#fb9f3a\"], [0.8888888888888888, \"#fdca26\"], [1.0, \"#f0f921\"]], \"type\": \"heatmap\"}], \"heatmapgl\": [{\"colorbar\": {\"outlinewidth\": 0, \"ticks\": \"\"}, \"colorscale\": [[0.0, \"#0d0887\"], [0.1111111111111111, \"#46039f\"], [0.2222222222222222, \"#7201a8\"], [0.3333333333333333, \"#9c179e\"], [0.4444444444444444, \"#bd3786\"], [0.5555555555555556, \"#d8576b\"], [0.6666666666666666, \"#ed7953\"], [0.7777777777777778, \"#fb9f3a\"], [0.8888888888888888, \"#fdca26\"], [1.0, \"#f0f921\"]], \"type\": \"heatmapgl\"}], \"histogram\": [{\"marker\": {\"colorbar\": {\"outlinewidth\": 0, \"ticks\": \"\"}}, \"type\": \"histogram\"}], \"histogram2d\": [{\"colorbar\": {\"outlinewidth\": 0, \"ticks\": \"\"}, \"colorscale\": [[0.0, \"#0d0887\"], [0.1111111111111111, \"#46039f\"], [0.2222222222222222, \"#7201a8\"], [0.3333333333333333, \"#9c179e\"], [0.4444444444444444, \"#bd3786\"], [0.5555555555555556, \"#d8576b\"], [0.6666666666666666, \"#ed7953\"], [0.7777777777777778, \"#fb9f3a\"], [0.8888888888888888, \"#fdca26\"], [1.0, \"#f0f921\"]], \"type\": \"histogram2d\"}], \"histogram2dcontour\": [{\"colorbar\": {\"outlinewidth\": 0, \"ticks\": \"\"}, \"colorscale\": [[0.0, \"#0d0887\"], [0.1111111111111111, \"#46039f\"], [0.2222222222222222, \"#7201a8\"], [0.3333333333333333, \"#9c179e\"], [0.4444444444444444, \"#bd3786\"], [0.5555555555555556, \"#d8576b\"], [0.6666666666666666, \"#ed7953\"], [0.7777777777777778, \"#fb9f3a\"], [0.8888888888888888, \"#fdca26\"], [1.0, \"#f0f921\"]], \"type\": \"histogram2dcontour\"}], \"mesh3d\": [{\"colorbar\": {\"outlinewidth\": 0, \"ticks\": \"\"}, \"type\": \"mesh3d\"}], \"parcoords\": [{\"line\": {\"colorbar\": {\"outlinewidth\": 0, \"ticks\": \"\"}}, \"type\": \"parcoords\"}], \"pie\": [{\"automargin\": true, \"type\": \"pie\"}], \"scatter\": [{\"marker\": {\"line\": {\"color\": \"#283442\"}}, \"type\": \"scatter\"}], \"scatter3d\": [{\"line\": {\"colorbar\": {\"outlinewidth\": 0, \"ticks\": \"\"}}, \"marker\": {\"colorbar\": {\"outlinewidth\": 0, \"ticks\": \"\"}}, \"type\": \"scatter3d\"}], \"scattercarpet\": [{\"marker\": {\"colorbar\": {\"outlinewidth\": 0, \"ticks\": \"\"}}, \"type\": \"scattercarpet\"}], \"scattergeo\": [{\"marker\": {\"colorbar\": {\"outlinewidth\": 0, \"ticks\": \"\"}}, \"type\": \"scattergeo\"}], \"scattergl\": [{\"marker\": {\"line\": {\"color\": \"#283442\"}}, \"type\": \"scattergl\"}], \"scattermapbox\": [{\"marker\": {\"colorbar\": {\"outlinewidth\": 0, \"ticks\": \"\"}}, \"type\": \"scattermapbox\"}], \"scatterpolar\": [{\"marker\": {\"colorbar\": {\"outlinewidth\": 0, \"ticks\": \"\"}}, \"type\": \"scatterpolar\"}], \"scatterpolargl\": [{\"marker\": {\"colorbar\": {\"outlinewidth\": 0, \"ticks\": \"\"}}, \"type\": \"scatterpolargl\"}], \"scatterternary\": [{\"marker\": {\"colorbar\": {\"outlinewidth\": 0, \"ticks\": \"\"}}, \"type\": \"scatterternary\"}], \"surface\": [{\"colorbar\": {\"outlinewidth\": 0, \"ticks\": \"\"}, \"colorscale\": [[0.0, \"#0d0887\"], [0.1111111111111111, \"#46039f\"], [0.2222222222222222, \"#7201a8\"], [0.3333333333333333, \"#9c179e\"], [0.4444444444444444, \"#bd3786\"], [0.5555555555555556, \"#d8576b\"], [0.6666666666666666, \"#ed7953\"], [0.7777777777777778, \"#fb9f3a\"], [0.8888888888888888, \"#fdca26\"], [1.0, \"#f0f921\"]], \"type\": \"surface\"}], \"table\": [{\"cells\": {\"fill\": {\"color\": \"#506784\"}, \"line\": {\"color\": \"rgb(17,17,17)\"}}, \"header\": {\"fill\": {\"color\": \"#2a3f5f\"}, \"line\": {\"color\": \"rgb(17,17,17)\"}}, \"type\": \"table\"}]}, \"layout\": {\"annotationdefaults\": {\"arrowcolor\": \"#f2f5fa\", \"arrowhead\": 0, \"arrowwidth\": 1}, \"coloraxis\": {\"colorbar\": {\"outlinewidth\": 0, \"ticks\": \"\"}}, \"colorscale\": {\"diverging\": [[0, \"#8e0152\"], [0.1, \"#c51b7d\"], [0.2, \"#de77ae\"], [0.3, \"#f1b6da\"], [0.4, \"#fde0ef\"], [0.5, \"#f7f7f7\"], [0.6, \"#e6f5d0\"], [0.7, \"#b8e186\"], [0.8, \"#7fbc41\"], [0.9, \"#4d9221\"], [1, \"#276419\"]], \"sequential\": [[0.0, \"#0d0887\"], [0.1111111111111111, \"#46039f\"], [0.2222222222222222, \"#7201a8\"], [0.3333333333333333, \"#9c179e\"], [0.4444444444444444, \"#bd3786\"], [0.5555555555555556, \"#d8576b\"], [0.6666666666666666, \"#ed7953\"], [0.7777777777777778, \"#fb9f3a\"], [0.8888888888888888, \"#fdca26\"], [1.0, \"#f0f921\"]], \"sequentialminus\": [[0.0, \"#0d0887\"], [0.1111111111111111, \"#46039f\"], [0.2222222222222222, \"#7201a8\"], [0.3333333333333333, \"#9c179e\"], [0.4444444444444444, \"#bd3786\"], [0.5555555555555556, \"#d8576b\"], [0.6666666666666666, \"#ed7953\"], [0.7777777777777778, \"#fb9f3a\"], [0.8888888888888888, \"#fdca26\"], [1.0, \"#f0f921\"]]}, \"colorway\": [\"#636efa\", \"#EF553B\", \"#00cc96\", \"#ab63fa\", \"#FFA15A\", \"#19d3f3\", \"#FF6692\", \"#B6E880\", \"#FF97FF\", \"#FECB52\"], \"font\": {\"color\": \"#f2f5fa\"}, \"geo\": {\"bgcolor\": \"rgb(17,17,17)\", \"lakecolor\": \"rgb(17,17,17)\", \"landcolor\": \"rgb(17,17,17)\", \"showlakes\": true, \"showland\": true, \"subunitcolor\": \"#506784\"}, \"hoverlabel\": {\"align\": \"left\"}, \"hovermode\": \"closest\", \"mapbox\": {\"style\": \"dark\"}, \"paper_bgcolor\": \"rgb(17,17,17)\", \"plot_bgcolor\": \"rgb(17,17,17)\", \"polar\": {\"angularaxis\": {\"gridcolor\": \"#506784\", \"linecolor\": \"#506784\", \"ticks\": \"\"}, \"bgcolor\": \"rgb(17,17,17)\", \"radialaxis\": {\"gridcolor\": \"#506784\", \"linecolor\": \"#506784\", \"ticks\": \"\"}}, \"scene\": {\"xaxis\": {\"backgroundcolor\": \"rgb(17,17,17)\", \"gridcolor\": \"#506784\", \"gridwidth\": 2, \"linecolor\": \"#506784\", \"showbackground\": true, \"ticks\": \"\", \"zerolinecolor\": \"#C8D4E3\"}, \"yaxis\": {\"backgroundcolor\": \"rgb(17,17,17)\", \"gridcolor\": \"#506784\", \"gridwidth\": 2, \"linecolor\": \"#506784\", \"showbackground\": true, \"ticks\": \"\", \"zerolinecolor\": \"#C8D4E3\"}, \"zaxis\": {\"backgroundcolor\": \"rgb(17,17,17)\", \"gridcolor\": \"#506784\", \"gridwidth\": 2, \"linecolor\": \"#506784\", \"showbackground\": true, \"ticks\": \"\", \"zerolinecolor\": \"#C8D4E3\"}}, \"shapedefaults\": {\"line\": {\"color\": \"#f2f5fa\"}}, \"sliderdefaults\": {\"bgcolor\": \"#C8D4E3\", \"bordercolor\": \"rgb(17,17,17)\", \"borderwidth\": 1, \"tickwidth\": 0}, \"ternary\": {\"aaxis\": {\"gridcolor\": \"#506784\", \"linecolor\": \"#506784\", \"ticks\": \"\"}, \"baxis\": {\"gridcolor\": \"#506784\", \"linecolor\": \"#506784\", \"ticks\": \"\"}, \"bgcolor\": \"rgb(17,17,17)\", \"caxis\": {\"gridcolor\": \"#506784\", \"linecolor\": \"#506784\", \"ticks\": \"\"}}, \"title\": {\"x\": 0.05}, \"updatemenudefaults\": {\"bgcolor\": \"#506784\", \"borderwidth\": 0}, \"xaxis\": {\"automargin\": true, \"gridcolor\": \"#283442\", \"linecolor\": \"#506784\", \"ticks\": \"\", \"title\": {\"standoff\": 15}, \"zerolinecolor\": \"#283442\", \"zerolinewidth\": 2}, \"yaxis\": {\"automargin\": true, \"gridcolor\": \"#283442\", \"linecolor\": \"#506784\", \"ticks\": \"\", \"title\": {\"standoff\": 15}, \"zerolinecolor\": \"#283442\", \"zerolinewidth\": 2}}}, \"title\": {\"text\": \"Worldwide Cases and fatalaties as on 2020-04-22 00:00:00\"}},\n",
              "                        {\"responsive\": true}\n",
              "                    ).then(function(){\n",
              "                            \n",
              "var gd = document.getElementById('6c0b344f-ba64-4933-88a8-2eba32326f95');\n",
              "var x = new MutationObserver(function (mutations, observer) {{\n",
              "        var display = window.getComputedStyle(gd).display;\n",
              "        if (!display || display === 'none') {{\n",
              "            console.log([gd, 'removed!']);\n",
              "            Plotly.purge(gd);\n",
              "            observer.disconnect();\n",
              "        }}\n",
              "}});\n",
              "\n",
              "// Listen for the removal of the full notebook cells\n",
              "var notebookContainer = gd.closest('#notebook-container');\n",
              "if (notebookContainer) {{\n",
              "    x.observe(notebookContainer, {childList: true});\n",
              "}}\n",
              "\n",
              "// Listen for the clearing of the current output cell\n",
              "var outputEl = gd.closest('.output');\n",
              "if (outputEl) {{\n",
              "    x.observe(outputEl, {childList: true});\n",
              "}}\n",
              "\n",
              "                        })\n",
              "                };\n",
              "                });\n",
              "            </script>\n",
              "        </div>"
            ]
          },
          "metadata": {
            "tags": []
          }
        }
      ]
    },
    {
      "cell_type": "markdown",
      "metadata": {
        "id": "JRXLXXgokS0J",
        "colab_type": "text"
      },
      "source": [
        "#### World wide cases,fatalities & New Cases - sliding Area Chart"
      ]
    },
    {
      "cell_type": "code",
      "metadata": {
        "id": "4fLSHrOSkS0J",
        "colab_type": "code",
        "colab": {},
        "outputId": "b0e55835-998f-46c7-8ae0-57fdbc35c3d0"
      },
      "source": [
        "fig = px.area(data_cfn_melt, x=\"date\", y=\"value\", color='variable', height=600,\n",
        "             title=f'Worldwide Cases and fatalaties as on {max_date}', color_discrete_sequence = [act,blu, dth])\n",
        "fig.update_layout(xaxis_rangeslider_visible=True)\n",
        "\n",
        "fig.show()"
      ],
      "execution_count": 0,
      "outputs": [
        {
          "output_type": "display_data",
          "data": {
            "application/vnd.plotly.v1+json": {
              "config": {
                "plotlyServerURL": "https://plot.ly"
              },
              "data": [
                {
                  "hovertemplate": "variable=confirmed<br>date=%{x}<br>value=%{y}<extra></extra>",
                  "legendgroup": "confirmed",
                  "line": {
                    "color": "#fe9801"
                  },
                  "mode": "lines",
                  "name": "confirmed",
                  "orientation": "v",
                  "showlegend": true,
                  "stackgroup": "1",
                  "type": "scatter",
                  "x": [
                    "2020-01-22T00:00:00",
                    "2020-01-23T00:00:00",
                    "2020-01-24T00:00:00",
                    "2020-01-25T00:00:00",
                    "2020-01-26T00:00:00",
                    "2020-01-27T00:00:00",
                    "2020-01-28T00:00:00",
                    "2020-01-29T00:00:00",
                    "2020-01-30T00:00:00",
                    "2020-01-31T00:00:00",
                    "2020-02-01T00:00:00",
                    "2020-02-02T00:00:00",
                    "2020-02-03T00:00:00",
                    "2020-02-04T00:00:00",
                    "2020-02-05T00:00:00",
                    "2020-02-06T00:00:00",
                    "2020-02-07T00:00:00",
                    "2020-02-08T00:00:00",
                    "2020-02-09T00:00:00",
                    "2020-02-10T00:00:00",
                    "2020-02-11T00:00:00",
                    "2020-02-12T00:00:00",
                    "2020-02-13T00:00:00",
                    "2020-02-14T00:00:00",
                    "2020-02-15T00:00:00",
                    "2020-02-16T00:00:00",
                    "2020-02-17T00:00:00",
                    "2020-02-18T00:00:00",
                    "2020-02-19T00:00:00",
                    "2020-02-20T00:00:00",
                    "2020-02-21T00:00:00",
                    "2020-02-22T00:00:00",
                    "2020-02-23T00:00:00",
                    "2020-02-24T00:00:00",
                    "2020-02-25T00:00:00",
                    "2020-02-26T00:00:00",
                    "2020-02-27T00:00:00",
                    "2020-02-28T00:00:00",
                    "2020-02-29T00:00:00",
                    "2020-03-01T00:00:00",
                    "2020-03-02T00:00:00",
                    "2020-03-03T00:00:00",
                    "2020-03-04T00:00:00",
                    "2020-03-05T00:00:00",
                    "2020-03-06T00:00:00",
                    "2020-03-07T00:00:00",
                    "2020-03-08T00:00:00",
                    "2020-03-09T00:00:00",
                    "2020-03-10T00:00:00",
                    "2020-03-11T00:00:00",
                    "2020-03-12T00:00:00",
                    "2020-03-13T00:00:00",
                    "2020-03-14T00:00:00",
                    "2020-03-15T00:00:00",
                    "2020-03-16T00:00:00",
                    "2020-03-17T00:00:00",
                    "2020-03-18T00:00:00",
                    "2020-03-19T00:00:00",
                    "2020-03-20T00:00:00",
                    "2020-03-21T00:00:00",
                    "2020-03-22T00:00:00",
                    "2020-03-23T00:00:00",
                    "2020-03-24T00:00:00",
                    "2020-03-25T00:00:00",
                    "2020-03-26T00:00:00",
                    "2020-03-27T00:00:00",
                    "2020-03-28T00:00:00",
                    "2020-03-29T00:00:00",
                    "2020-03-30T00:00:00",
                    "2020-03-31T00:00:00",
                    "2020-04-01T00:00:00",
                    "2020-04-02T00:00:00",
                    "2020-04-03T00:00:00",
                    "2020-04-04T00:00:00",
                    "2020-04-05T00:00:00",
                    "2020-04-06T00:00:00",
                    "2020-04-07T00:00:00",
                    "2020-04-08T00:00:00",
                    "2020-04-09T00:00:00",
                    "2020-04-10T00:00:00",
                    "2020-04-11T00:00:00",
                    "2020-04-12T00:00:00",
                    "2020-04-13T00:00:00",
                    "2020-04-14T00:00:00",
                    "2020-04-15T00:00:00",
                    "2020-04-16T00:00:00",
                    "2020-04-17T00:00:00",
                    "2020-04-18T00:00:00",
                    "2020-04-19T00:00:00",
                    "2020-04-20T00:00:00",
                    "2020-04-21T00:00:00",
                    "2020-04-22T00:00:00"
                  ],
                  "xaxis": "x",
                  "y": [
                    555,
                    654,
                    941,
                    1434,
                    2118,
                    2927,
                    5578,
                    6166,
                    8234,
                    9927,
                    12038,
                    16787,
                    19881,
                    23892,
                    27635,
                    30794,
                    34330,
                    37059,
                    40086,
                    42627,
                    44667,
                    46554,
                    60193,
                    66667,
                    68745,
                    70869,
                    72804,
                    74594,
                    75018,
                    75563,
                    76185,
                    77938,
                    78267,
                    78870,
                    79715,
                    80683,
                    82041,
                    83407,
                    85306,
                    87664,
                    89601,
                    92134,
                    94414,
                    97180,
                    101095,
                    105141,
                    109115,
                    112884,
                    117914,
                    125169,
                    127646,
                    144499,
                    155395,
                    166748,
                    180868,
                    196396,
                    214109,
                    241858,
                    271496,
                    303795,
                    336241,
                    377519,
                    417329,
                    466941,
                    528879,
                    592579,
                    659981,
                    719428,
                    781677,
                    856775,
                    931763,
                    1012612,
                    1094984,
                    1175143,
                    1248770,
                    1320417,
                    1395378,
                    1479090,
                    1564564,
                    1656812,
                    1734936,
                    1834007,
                    1904124,
                    1975477,
                    2055340,
                    2151723,
                    2239476,
                    2317044,
                    2400385,
                    2471542,
                    2548577,
                    2622698
                  ],
                  "yaxis": "y"
                },
                {
                  "hovertemplate": "variable=deaths<br>date=%{x}<br>value=%{y}<extra></extra>",
                  "legendgroup": "deaths",
                  "line": {
                    "color": "#1f77b4"
                  },
                  "mode": "lines",
                  "name": "deaths",
                  "orientation": "v",
                  "showlegend": true,
                  "stackgroup": "1",
                  "type": "scatter",
                  "x": [
                    "2020-01-22T00:00:00",
                    "2020-01-23T00:00:00",
                    "2020-01-24T00:00:00",
                    "2020-01-25T00:00:00",
                    "2020-01-26T00:00:00",
                    "2020-01-27T00:00:00",
                    "2020-01-28T00:00:00",
                    "2020-01-29T00:00:00",
                    "2020-01-30T00:00:00",
                    "2020-01-31T00:00:00",
                    "2020-02-01T00:00:00",
                    "2020-02-02T00:00:00",
                    "2020-02-03T00:00:00",
                    "2020-02-04T00:00:00",
                    "2020-02-05T00:00:00",
                    "2020-02-06T00:00:00",
                    "2020-02-07T00:00:00",
                    "2020-02-08T00:00:00",
                    "2020-02-09T00:00:00",
                    "2020-02-10T00:00:00",
                    "2020-02-11T00:00:00",
                    "2020-02-12T00:00:00",
                    "2020-02-13T00:00:00",
                    "2020-02-14T00:00:00",
                    "2020-02-15T00:00:00",
                    "2020-02-16T00:00:00",
                    "2020-02-17T00:00:00",
                    "2020-02-18T00:00:00",
                    "2020-02-19T00:00:00",
                    "2020-02-20T00:00:00",
                    "2020-02-21T00:00:00",
                    "2020-02-22T00:00:00",
                    "2020-02-23T00:00:00",
                    "2020-02-24T00:00:00",
                    "2020-02-25T00:00:00",
                    "2020-02-26T00:00:00",
                    "2020-02-27T00:00:00",
                    "2020-02-28T00:00:00",
                    "2020-02-29T00:00:00",
                    "2020-03-01T00:00:00",
                    "2020-03-02T00:00:00",
                    "2020-03-03T00:00:00",
                    "2020-03-04T00:00:00",
                    "2020-03-05T00:00:00",
                    "2020-03-06T00:00:00",
                    "2020-03-07T00:00:00",
                    "2020-03-08T00:00:00",
                    "2020-03-09T00:00:00",
                    "2020-03-10T00:00:00",
                    "2020-03-11T00:00:00",
                    "2020-03-12T00:00:00",
                    "2020-03-13T00:00:00",
                    "2020-03-14T00:00:00",
                    "2020-03-15T00:00:00",
                    "2020-03-16T00:00:00",
                    "2020-03-17T00:00:00",
                    "2020-03-18T00:00:00",
                    "2020-03-19T00:00:00",
                    "2020-03-20T00:00:00",
                    "2020-03-21T00:00:00",
                    "2020-03-22T00:00:00",
                    "2020-03-23T00:00:00",
                    "2020-03-24T00:00:00",
                    "2020-03-25T00:00:00",
                    "2020-03-26T00:00:00",
                    "2020-03-27T00:00:00",
                    "2020-03-28T00:00:00",
                    "2020-03-29T00:00:00",
                    "2020-03-30T00:00:00",
                    "2020-03-31T00:00:00",
                    "2020-04-01T00:00:00",
                    "2020-04-02T00:00:00",
                    "2020-04-03T00:00:00",
                    "2020-04-04T00:00:00",
                    "2020-04-05T00:00:00",
                    "2020-04-06T00:00:00",
                    "2020-04-07T00:00:00",
                    "2020-04-08T00:00:00",
                    "2020-04-09T00:00:00",
                    "2020-04-10T00:00:00",
                    "2020-04-11T00:00:00",
                    "2020-04-12T00:00:00",
                    "2020-04-13T00:00:00",
                    "2020-04-14T00:00:00",
                    "2020-04-15T00:00:00",
                    "2020-04-16T00:00:00",
                    "2020-04-17T00:00:00",
                    "2020-04-18T00:00:00",
                    "2020-04-19T00:00:00",
                    "2020-04-20T00:00:00",
                    "2020-04-21T00:00:00",
                    "2020-04-22T00:00:00"
                  ],
                  "xaxis": "x",
                  "y": [
                    17,
                    18,
                    26,
                    42,
                    56,
                    82,
                    131,
                    133,
                    171,
                    213,
                    259,
                    362,
                    426,
                    492,
                    564,
                    634,
                    719,
                    806,
                    906,
                    1013,
                    1113,
                    1118,
                    1371,
                    1523,
                    1666,
                    1770,
                    1868,
                    2007,
                    2122,
                    2245,
                    2249,
                    2456,
                    2466,
                    2626,
                    2705,
                    2766,
                    2810,
                    2866,
                    2935,
                    2990,
                    3079,
                    3154,
                    3248,
                    3342,
                    3454,
                    3552,
                    3796,
                    3982,
                    4256,
                    4608,
                    4713,
                    5397,
                    5812,
                    6433,
                    7119,
                    7898,
                    8726,
                    9860,
                    11292,
                    12965,
                    14642,
                    16496,
                    18614,
                    21170,
                    23959,
                    27187,
                    30641,
                    33914,
                    37571,
                    42097,
                    47171,
                    52974,
                    58778,
                    64595,
                    69362,
                    74553,
                    81925,
                    88335,
                    95509,
                    102522,
                    108499,
                    114088,
                    119481,
                    125984,
                    134178,
                    143803,
                    153823,
                    159497,
                    165031,
                    169973,
                    176570,
                    183014
                  ],
                  "yaxis": "y"
                },
                {
                  "hovertemplate": "variable=new cases<br>date=%{x}<br>value=%{y}<extra></extra>",
                  "legendgroup": "new cases",
                  "line": {
                    "color": "#ff2e63"
                  },
                  "mode": "lines",
                  "name": "new cases",
                  "orientation": "v",
                  "showlegend": true,
                  "stackgroup": "1",
                  "type": "scatter",
                  "x": [
                    "2020-01-22T00:00:00",
                    "2020-01-23T00:00:00",
                    "2020-01-24T00:00:00",
                    "2020-01-25T00:00:00",
                    "2020-01-26T00:00:00",
                    "2020-01-27T00:00:00",
                    "2020-01-28T00:00:00",
                    "2020-01-29T00:00:00",
                    "2020-01-30T00:00:00",
                    "2020-01-31T00:00:00",
                    "2020-02-01T00:00:00",
                    "2020-02-02T00:00:00",
                    "2020-02-03T00:00:00",
                    "2020-02-04T00:00:00",
                    "2020-02-05T00:00:00",
                    "2020-02-06T00:00:00",
                    "2020-02-07T00:00:00",
                    "2020-02-08T00:00:00",
                    "2020-02-09T00:00:00",
                    "2020-02-10T00:00:00",
                    "2020-02-11T00:00:00",
                    "2020-02-12T00:00:00",
                    "2020-02-13T00:00:00",
                    "2020-02-14T00:00:00",
                    "2020-02-15T00:00:00",
                    "2020-02-16T00:00:00",
                    "2020-02-17T00:00:00",
                    "2020-02-18T00:00:00",
                    "2020-02-19T00:00:00",
                    "2020-02-20T00:00:00",
                    "2020-02-21T00:00:00",
                    "2020-02-22T00:00:00",
                    "2020-02-23T00:00:00",
                    "2020-02-24T00:00:00",
                    "2020-02-25T00:00:00",
                    "2020-02-26T00:00:00",
                    "2020-02-27T00:00:00",
                    "2020-02-28T00:00:00",
                    "2020-02-29T00:00:00",
                    "2020-03-01T00:00:00",
                    "2020-03-02T00:00:00",
                    "2020-03-03T00:00:00",
                    "2020-03-04T00:00:00",
                    "2020-03-05T00:00:00",
                    "2020-03-06T00:00:00",
                    "2020-03-07T00:00:00",
                    "2020-03-08T00:00:00",
                    "2020-03-09T00:00:00",
                    "2020-03-10T00:00:00",
                    "2020-03-11T00:00:00",
                    "2020-03-12T00:00:00",
                    "2020-03-13T00:00:00",
                    "2020-03-14T00:00:00",
                    "2020-03-15T00:00:00",
                    "2020-03-16T00:00:00",
                    "2020-03-17T00:00:00",
                    "2020-03-18T00:00:00",
                    "2020-03-19T00:00:00",
                    "2020-03-20T00:00:00",
                    "2020-03-21T00:00:00",
                    "2020-03-22T00:00:00",
                    "2020-03-23T00:00:00",
                    "2020-03-24T00:00:00",
                    "2020-03-25T00:00:00",
                    "2020-03-26T00:00:00",
                    "2020-03-27T00:00:00",
                    "2020-03-28T00:00:00",
                    "2020-03-29T00:00:00",
                    "2020-03-30T00:00:00",
                    "2020-03-31T00:00:00",
                    "2020-04-01T00:00:00",
                    "2020-04-02T00:00:00",
                    "2020-04-03T00:00:00",
                    "2020-04-04T00:00:00",
                    "2020-04-05T00:00:00",
                    "2020-04-06T00:00:00",
                    "2020-04-07T00:00:00",
                    "2020-04-08T00:00:00",
                    "2020-04-09T00:00:00",
                    "2020-04-10T00:00:00",
                    "2020-04-11T00:00:00",
                    "2020-04-12T00:00:00",
                    "2020-04-13T00:00:00",
                    "2020-04-14T00:00:00",
                    "2020-04-15T00:00:00",
                    "2020-04-16T00:00:00",
                    "2020-04-17T00:00:00",
                    "2020-04-18T00:00:00",
                    "2020-04-19T00:00:00",
                    "2020-04-20T00:00:00",
                    "2020-04-21T00:00:00",
                    "2020-04-22T00:00:00"
                  ],
                  "xaxis": "x",
                  "y": [
                    null,
                    99,
                    287,
                    493,
                    684,
                    809,
                    2651,
                    588,
                    2068,
                    1693,
                    2111,
                    4749,
                    3094,
                    4011,
                    3743,
                    3159,
                    3536,
                    2729,
                    3027,
                    2541,
                    2040,
                    1887,
                    13639,
                    6474,
                    2078,
                    2124,
                    1935,
                    1790,
                    424,
                    545,
                    622,
                    1753,
                    329,
                    603,
                    845,
                    968,
                    1358,
                    1366,
                    1899,
                    2358,
                    1937,
                    2533,
                    2280,
                    2766,
                    3915,
                    4046,
                    3974,
                    3769,
                    5030,
                    7255,
                    2477,
                    16853,
                    10896,
                    11353,
                    14120,
                    15528,
                    17713,
                    27749,
                    29638,
                    32299,
                    32446,
                    41278,
                    39810,
                    49612,
                    61938,
                    63700,
                    67402,
                    59447,
                    62249,
                    75098,
                    74988,
                    80849,
                    82372,
                    80159,
                    73627,
                    71647,
                    74961,
                    83712,
                    85474,
                    92248,
                    78124,
                    99071,
                    70117,
                    71353,
                    79863,
                    96383,
                    87753,
                    77568,
                    83341,
                    71157,
                    77035,
                    74121
                  ],
                  "yaxis": "y"
                }
              ],
              "layout": {
                "height": 600,
                "legend": {
                  "title": {
                    "text": "variable"
                  },
                  "tracegroupgap": 0
                },
                "template": {
                  "data": {
                    "bar": [
                      {
                        "error_x": {
                          "color": "#f2f5fa"
                        },
                        "error_y": {
                          "color": "#f2f5fa"
                        },
                        "marker": {
                          "line": {
                            "color": "rgb(17,17,17)",
                            "width": 0.5
                          }
                        },
                        "type": "bar"
                      }
                    ],
                    "barpolar": [
                      {
                        "marker": {
                          "line": {
                            "color": "rgb(17,17,17)",
                            "width": 0.5
                          }
                        },
                        "type": "barpolar"
                      }
                    ],
                    "carpet": [
                      {
                        "aaxis": {
                          "endlinecolor": "#A2B1C6",
                          "gridcolor": "#506784",
                          "linecolor": "#506784",
                          "minorgridcolor": "#506784",
                          "startlinecolor": "#A2B1C6"
                        },
                        "baxis": {
                          "endlinecolor": "#A2B1C6",
                          "gridcolor": "#506784",
                          "linecolor": "#506784",
                          "minorgridcolor": "#506784",
                          "startlinecolor": "#A2B1C6"
                        },
                        "type": "carpet"
                      }
                    ],
                    "choropleth": [
                      {
                        "colorbar": {
                          "outlinewidth": 0,
                          "ticks": ""
                        },
                        "type": "choropleth"
                      }
                    ],
                    "contour": [
                      {
                        "colorbar": {
                          "outlinewidth": 0,
                          "ticks": ""
                        },
                        "colorscale": [
                          [
                            0,
                            "#0d0887"
                          ],
                          [
                            0.1111111111111111,
                            "#46039f"
                          ],
                          [
                            0.2222222222222222,
                            "#7201a8"
                          ],
                          [
                            0.3333333333333333,
                            "#9c179e"
                          ],
                          [
                            0.4444444444444444,
                            "#bd3786"
                          ],
                          [
                            0.5555555555555556,
                            "#d8576b"
                          ],
                          [
                            0.6666666666666666,
                            "#ed7953"
                          ],
                          [
                            0.7777777777777778,
                            "#fb9f3a"
                          ],
                          [
                            0.8888888888888888,
                            "#fdca26"
                          ],
                          [
                            1,
                            "#f0f921"
                          ]
                        ],
                        "type": "contour"
                      }
                    ],
                    "contourcarpet": [
                      {
                        "colorbar": {
                          "outlinewidth": 0,
                          "ticks": ""
                        },
                        "type": "contourcarpet"
                      }
                    ],
                    "heatmap": [
                      {
                        "colorbar": {
                          "outlinewidth": 0,
                          "ticks": ""
                        },
                        "colorscale": [
                          [
                            0,
                            "#0d0887"
                          ],
                          [
                            0.1111111111111111,
                            "#46039f"
                          ],
                          [
                            0.2222222222222222,
                            "#7201a8"
                          ],
                          [
                            0.3333333333333333,
                            "#9c179e"
                          ],
                          [
                            0.4444444444444444,
                            "#bd3786"
                          ],
                          [
                            0.5555555555555556,
                            "#d8576b"
                          ],
                          [
                            0.6666666666666666,
                            "#ed7953"
                          ],
                          [
                            0.7777777777777778,
                            "#fb9f3a"
                          ],
                          [
                            0.8888888888888888,
                            "#fdca26"
                          ],
                          [
                            1,
                            "#f0f921"
                          ]
                        ],
                        "type": "heatmap"
                      }
                    ],
                    "heatmapgl": [
                      {
                        "colorbar": {
                          "outlinewidth": 0,
                          "ticks": ""
                        },
                        "colorscale": [
                          [
                            0,
                            "#0d0887"
                          ],
                          [
                            0.1111111111111111,
                            "#46039f"
                          ],
                          [
                            0.2222222222222222,
                            "#7201a8"
                          ],
                          [
                            0.3333333333333333,
                            "#9c179e"
                          ],
                          [
                            0.4444444444444444,
                            "#bd3786"
                          ],
                          [
                            0.5555555555555556,
                            "#d8576b"
                          ],
                          [
                            0.6666666666666666,
                            "#ed7953"
                          ],
                          [
                            0.7777777777777778,
                            "#fb9f3a"
                          ],
                          [
                            0.8888888888888888,
                            "#fdca26"
                          ],
                          [
                            1,
                            "#f0f921"
                          ]
                        ],
                        "type": "heatmapgl"
                      }
                    ],
                    "histogram": [
                      {
                        "marker": {
                          "colorbar": {
                            "outlinewidth": 0,
                            "ticks": ""
                          }
                        },
                        "type": "histogram"
                      }
                    ],
                    "histogram2d": [
                      {
                        "colorbar": {
                          "outlinewidth": 0,
                          "ticks": ""
                        },
                        "colorscale": [
                          [
                            0,
                            "#0d0887"
                          ],
                          [
                            0.1111111111111111,
                            "#46039f"
                          ],
                          [
                            0.2222222222222222,
                            "#7201a8"
                          ],
                          [
                            0.3333333333333333,
                            "#9c179e"
                          ],
                          [
                            0.4444444444444444,
                            "#bd3786"
                          ],
                          [
                            0.5555555555555556,
                            "#d8576b"
                          ],
                          [
                            0.6666666666666666,
                            "#ed7953"
                          ],
                          [
                            0.7777777777777778,
                            "#fb9f3a"
                          ],
                          [
                            0.8888888888888888,
                            "#fdca26"
                          ],
                          [
                            1,
                            "#f0f921"
                          ]
                        ],
                        "type": "histogram2d"
                      }
                    ],
                    "histogram2dcontour": [
                      {
                        "colorbar": {
                          "outlinewidth": 0,
                          "ticks": ""
                        },
                        "colorscale": [
                          [
                            0,
                            "#0d0887"
                          ],
                          [
                            0.1111111111111111,
                            "#46039f"
                          ],
                          [
                            0.2222222222222222,
                            "#7201a8"
                          ],
                          [
                            0.3333333333333333,
                            "#9c179e"
                          ],
                          [
                            0.4444444444444444,
                            "#bd3786"
                          ],
                          [
                            0.5555555555555556,
                            "#d8576b"
                          ],
                          [
                            0.6666666666666666,
                            "#ed7953"
                          ],
                          [
                            0.7777777777777778,
                            "#fb9f3a"
                          ],
                          [
                            0.8888888888888888,
                            "#fdca26"
                          ],
                          [
                            1,
                            "#f0f921"
                          ]
                        ],
                        "type": "histogram2dcontour"
                      }
                    ],
                    "mesh3d": [
                      {
                        "colorbar": {
                          "outlinewidth": 0,
                          "ticks": ""
                        },
                        "type": "mesh3d"
                      }
                    ],
                    "parcoords": [
                      {
                        "line": {
                          "colorbar": {
                            "outlinewidth": 0,
                            "ticks": ""
                          }
                        },
                        "type": "parcoords"
                      }
                    ],
                    "pie": [
                      {
                        "automargin": true,
                        "type": "pie"
                      }
                    ],
                    "scatter": [
                      {
                        "marker": {
                          "line": {
                            "color": "#283442"
                          }
                        },
                        "type": "scatter"
                      }
                    ],
                    "scatter3d": [
                      {
                        "line": {
                          "colorbar": {
                            "outlinewidth": 0,
                            "ticks": ""
                          }
                        },
                        "marker": {
                          "colorbar": {
                            "outlinewidth": 0,
                            "ticks": ""
                          }
                        },
                        "type": "scatter3d"
                      }
                    ],
                    "scattercarpet": [
                      {
                        "marker": {
                          "colorbar": {
                            "outlinewidth": 0,
                            "ticks": ""
                          }
                        },
                        "type": "scattercarpet"
                      }
                    ],
                    "scattergeo": [
                      {
                        "marker": {
                          "colorbar": {
                            "outlinewidth": 0,
                            "ticks": ""
                          }
                        },
                        "type": "scattergeo"
                      }
                    ],
                    "scattergl": [
                      {
                        "marker": {
                          "line": {
                            "color": "#283442"
                          }
                        },
                        "type": "scattergl"
                      }
                    ],
                    "scattermapbox": [
                      {
                        "marker": {
                          "colorbar": {
                            "outlinewidth": 0,
                            "ticks": ""
                          }
                        },
                        "type": "scattermapbox"
                      }
                    ],
                    "scatterpolar": [
                      {
                        "marker": {
                          "colorbar": {
                            "outlinewidth": 0,
                            "ticks": ""
                          }
                        },
                        "type": "scatterpolar"
                      }
                    ],
                    "scatterpolargl": [
                      {
                        "marker": {
                          "colorbar": {
                            "outlinewidth": 0,
                            "ticks": ""
                          }
                        },
                        "type": "scatterpolargl"
                      }
                    ],
                    "scatterternary": [
                      {
                        "marker": {
                          "colorbar": {
                            "outlinewidth": 0,
                            "ticks": ""
                          }
                        },
                        "type": "scatterternary"
                      }
                    ],
                    "surface": [
                      {
                        "colorbar": {
                          "outlinewidth": 0,
                          "ticks": ""
                        },
                        "colorscale": [
                          [
                            0,
                            "#0d0887"
                          ],
                          [
                            0.1111111111111111,
                            "#46039f"
                          ],
                          [
                            0.2222222222222222,
                            "#7201a8"
                          ],
                          [
                            0.3333333333333333,
                            "#9c179e"
                          ],
                          [
                            0.4444444444444444,
                            "#bd3786"
                          ],
                          [
                            0.5555555555555556,
                            "#d8576b"
                          ],
                          [
                            0.6666666666666666,
                            "#ed7953"
                          ],
                          [
                            0.7777777777777778,
                            "#fb9f3a"
                          ],
                          [
                            0.8888888888888888,
                            "#fdca26"
                          ],
                          [
                            1,
                            "#f0f921"
                          ]
                        ],
                        "type": "surface"
                      }
                    ],
                    "table": [
                      {
                        "cells": {
                          "fill": {
                            "color": "#506784"
                          },
                          "line": {
                            "color": "rgb(17,17,17)"
                          }
                        },
                        "header": {
                          "fill": {
                            "color": "#2a3f5f"
                          },
                          "line": {
                            "color": "rgb(17,17,17)"
                          }
                        },
                        "type": "table"
                      }
                    ]
                  },
                  "layout": {
                    "annotationdefaults": {
                      "arrowcolor": "#f2f5fa",
                      "arrowhead": 0,
                      "arrowwidth": 1
                    },
                    "coloraxis": {
                      "colorbar": {
                        "outlinewidth": 0,
                        "ticks": ""
                      }
                    },
                    "colorscale": {
                      "diverging": [
                        [
                          0,
                          "#8e0152"
                        ],
                        [
                          0.1,
                          "#c51b7d"
                        ],
                        [
                          0.2,
                          "#de77ae"
                        ],
                        [
                          0.3,
                          "#f1b6da"
                        ],
                        [
                          0.4,
                          "#fde0ef"
                        ],
                        [
                          0.5,
                          "#f7f7f7"
                        ],
                        [
                          0.6,
                          "#e6f5d0"
                        ],
                        [
                          0.7,
                          "#b8e186"
                        ],
                        [
                          0.8,
                          "#7fbc41"
                        ],
                        [
                          0.9,
                          "#4d9221"
                        ],
                        [
                          1,
                          "#276419"
                        ]
                      ],
                      "sequential": [
                        [
                          0,
                          "#0d0887"
                        ],
                        [
                          0.1111111111111111,
                          "#46039f"
                        ],
                        [
                          0.2222222222222222,
                          "#7201a8"
                        ],
                        [
                          0.3333333333333333,
                          "#9c179e"
                        ],
                        [
                          0.4444444444444444,
                          "#bd3786"
                        ],
                        [
                          0.5555555555555556,
                          "#d8576b"
                        ],
                        [
                          0.6666666666666666,
                          "#ed7953"
                        ],
                        [
                          0.7777777777777778,
                          "#fb9f3a"
                        ],
                        [
                          0.8888888888888888,
                          "#fdca26"
                        ],
                        [
                          1,
                          "#f0f921"
                        ]
                      ],
                      "sequentialminus": [
                        [
                          0,
                          "#0d0887"
                        ],
                        [
                          0.1111111111111111,
                          "#46039f"
                        ],
                        [
                          0.2222222222222222,
                          "#7201a8"
                        ],
                        [
                          0.3333333333333333,
                          "#9c179e"
                        ],
                        [
                          0.4444444444444444,
                          "#bd3786"
                        ],
                        [
                          0.5555555555555556,
                          "#d8576b"
                        ],
                        [
                          0.6666666666666666,
                          "#ed7953"
                        ],
                        [
                          0.7777777777777778,
                          "#fb9f3a"
                        ],
                        [
                          0.8888888888888888,
                          "#fdca26"
                        ],
                        [
                          1,
                          "#f0f921"
                        ]
                      ]
                    },
                    "colorway": [
                      "#636efa",
                      "#EF553B",
                      "#00cc96",
                      "#ab63fa",
                      "#FFA15A",
                      "#19d3f3",
                      "#FF6692",
                      "#B6E880",
                      "#FF97FF",
                      "#FECB52"
                    ],
                    "font": {
                      "color": "#f2f5fa"
                    },
                    "geo": {
                      "bgcolor": "rgb(17,17,17)",
                      "lakecolor": "rgb(17,17,17)",
                      "landcolor": "rgb(17,17,17)",
                      "showlakes": true,
                      "showland": true,
                      "subunitcolor": "#506784"
                    },
                    "hoverlabel": {
                      "align": "left"
                    },
                    "hovermode": "closest",
                    "mapbox": {
                      "style": "dark"
                    },
                    "paper_bgcolor": "rgb(17,17,17)",
                    "plot_bgcolor": "rgb(17,17,17)",
                    "polar": {
                      "angularaxis": {
                        "gridcolor": "#506784",
                        "linecolor": "#506784",
                        "ticks": ""
                      },
                      "bgcolor": "rgb(17,17,17)",
                      "radialaxis": {
                        "gridcolor": "#506784",
                        "linecolor": "#506784",
                        "ticks": ""
                      }
                    },
                    "scene": {
                      "xaxis": {
                        "backgroundcolor": "rgb(17,17,17)",
                        "gridcolor": "#506784",
                        "gridwidth": 2,
                        "linecolor": "#506784",
                        "showbackground": true,
                        "ticks": "",
                        "zerolinecolor": "#C8D4E3"
                      },
                      "yaxis": {
                        "backgroundcolor": "rgb(17,17,17)",
                        "gridcolor": "#506784",
                        "gridwidth": 2,
                        "linecolor": "#506784",
                        "showbackground": true,
                        "ticks": "",
                        "zerolinecolor": "#C8D4E3"
                      },
                      "zaxis": {
                        "backgroundcolor": "rgb(17,17,17)",
                        "gridcolor": "#506784",
                        "gridwidth": 2,
                        "linecolor": "#506784",
                        "showbackground": true,
                        "ticks": "",
                        "zerolinecolor": "#C8D4E3"
                      }
                    },
                    "shapedefaults": {
                      "line": {
                        "color": "#f2f5fa"
                      }
                    },
                    "sliderdefaults": {
                      "bgcolor": "#C8D4E3",
                      "bordercolor": "rgb(17,17,17)",
                      "borderwidth": 1,
                      "tickwidth": 0
                    },
                    "ternary": {
                      "aaxis": {
                        "gridcolor": "#506784",
                        "linecolor": "#506784",
                        "ticks": ""
                      },
                      "baxis": {
                        "gridcolor": "#506784",
                        "linecolor": "#506784",
                        "ticks": ""
                      },
                      "bgcolor": "rgb(17,17,17)",
                      "caxis": {
                        "gridcolor": "#506784",
                        "linecolor": "#506784",
                        "ticks": ""
                      }
                    },
                    "title": {
                      "x": 0.05
                    },
                    "updatemenudefaults": {
                      "bgcolor": "#506784",
                      "borderwidth": 0
                    },
                    "xaxis": {
                      "automargin": true,
                      "gridcolor": "#283442",
                      "linecolor": "#506784",
                      "ticks": "",
                      "title": {
                        "standoff": 15
                      },
                      "zerolinecolor": "#283442",
                      "zerolinewidth": 2
                    },
                    "yaxis": {
                      "automargin": true,
                      "gridcolor": "#283442",
                      "linecolor": "#506784",
                      "ticks": "",
                      "title": {
                        "standoff": 15
                      },
                      "zerolinecolor": "#283442",
                      "zerolinewidth": 2
                    }
                  }
                },
                "title": {
                  "text": "Worldwide Cases and fatalaties as on 2020-04-22 00:00:00"
                },
                "xaxis": {
                  "anchor": "y",
                  "domain": [
                    0,
                    1
                  ],
                  "rangeslider": {
                    "visible": true
                  },
                  "title": {
                    "text": "date"
                  }
                },
                "yaxis": {
                  "anchor": "x",
                  "domain": [
                    0,
                    1
                  ],
                  "title": {
                    "text": "value"
                  }
                }
              }
            },
            "text/html": [
              "<div>\n",
              "        \n",
              "        \n",
              "            <div id=\"01a4b8d9-0b7d-4f8e-856c-bb1c05a49f8b\" class=\"plotly-graph-div\" style=\"height:600px; width:100%;\"></div>\n",
              "            <script type=\"text/javascript\">\n",
              "                require([\"plotly\"], function(Plotly) {\n",
              "                    window.PLOTLYENV=window.PLOTLYENV || {};\n",
              "                    \n",
              "                if (document.getElementById(\"01a4b8d9-0b7d-4f8e-856c-bb1c05a49f8b\")) {\n",
              "                    Plotly.newPlot(\n",
              "                        '01a4b8d9-0b7d-4f8e-856c-bb1c05a49f8b',\n",
              "                        [{\"hovertemplate\": \"variable=confirmed<br>date=%{x}<br>value=%{y}<extra></extra>\", \"legendgroup\": \"confirmed\", \"line\": {\"color\": \"#fe9801\"}, \"mode\": \"lines\", \"name\": \"confirmed\", \"orientation\": \"v\", \"showlegend\": true, \"stackgroup\": \"1\", \"type\": \"scatter\", \"x\": [\"2020-01-22T00:00:00\", \"2020-01-23T00:00:00\", \"2020-01-24T00:00:00\", \"2020-01-25T00:00:00\", \"2020-01-26T00:00:00\", \"2020-01-27T00:00:00\", \"2020-01-28T00:00:00\", \"2020-01-29T00:00:00\", \"2020-01-30T00:00:00\", \"2020-01-31T00:00:00\", \"2020-02-01T00:00:00\", \"2020-02-02T00:00:00\", \"2020-02-03T00:00:00\", \"2020-02-04T00:00:00\", \"2020-02-05T00:00:00\", \"2020-02-06T00:00:00\", \"2020-02-07T00:00:00\", \"2020-02-08T00:00:00\", \"2020-02-09T00:00:00\", \"2020-02-10T00:00:00\", \"2020-02-11T00:00:00\", \"2020-02-12T00:00:00\", \"2020-02-13T00:00:00\", \"2020-02-14T00:00:00\", \"2020-02-15T00:00:00\", \"2020-02-16T00:00:00\", \"2020-02-17T00:00:00\", \"2020-02-18T00:00:00\", \"2020-02-19T00:00:00\", \"2020-02-20T00:00:00\", \"2020-02-21T00:00:00\", \"2020-02-22T00:00:00\", \"2020-02-23T00:00:00\", \"2020-02-24T00:00:00\", \"2020-02-25T00:00:00\", \"2020-02-26T00:00:00\", \"2020-02-27T00:00:00\", \"2020-02-28T00:00:00\", \"2020-02-29T00:00:00\", \"2020-03-01T00:00:00\", \"2020-03-02T00:00:00\", \"2020-03-03T00:00:00\", \"2020-03-04T00:00:00\", \"2020-03-05T00:00:00\", \"2020-03-06T00:00:00\", \"2020-03-07T00:00:00\", \"2020-03-08T00:00:00\", \"2020-03-09T00:00:00\", \"2020-03-10T00:00:00\", \"2020-03-11T00:00:00\", \"2020-03-12T00:00:00\", \"2020-03-13T00:00:00\", \"2020-03-14T00:00:00\", \"2020-03-15T00:00:00\", \"2020-03-16T00:00:00\", \"2020-03-17T00:00:00\", \"2020-03-18T00:00:00\", \"2020-03-19T00:00:00\", \"2020-03-20T00:00:00\", \"2020-03-21T00:00:00\", \"2020-03-22T00:00:00\", \"2020-03-23T00:00:00\", \"2020-03-24T00:00:00\", \"2020-03-25T00:00:00\", \"2020-03-26T00:00:00\", \"2020-03-27T00:00:00\", \"2020-03-28T00:00:00\", \"2020-03-29T00:00:00\", \"2020-03-30T00:00:00\", \"2020-03-31T00:00:00\", \"2020-04-01T00:00:00\", \"2020-04-02T00:00:00\", \"2020-04-03T00:00:00\", \"2020-04-04T00:00:00\", \"2020-04-05T00:00:00\", \"2020-04-06T00:00:00\", \"2020-04-07T00:00:00\", \"2020-04-08T00:00:00\", \"2020-04-09T00:00:00\", \"2020-04-10T00:00:00\", \"2020-04-11T00:00:00\", \"2020-04-12T00:00:00\", \"2020-04-13T00:00:00\", \"2020-04-14T00:00:00\", \"2020-04-15T00:00:00\", \"2020-04-16T00:00:00\", \"2020-04-17T00:00:00\", \"2020-04-18T00:00:00\", \"2020-04-19T00:00:00\", \"2020-04-20T00:00:00\", \"2020-04-21T00:00:00\", \"2020-04-22T00:00:00\"], \"xaxis\": \"x\", \"y\": [555.0, 654.0, 941.0, 1434.0, 2118.0, 2927.0, 5578.0, 6166.0, 8234.0, 9927.0, 12038.0, 16787.0, 19881.0, 23892.0, 27635.0, 30794.0, 34330.0, 37059.0, 40086.0, 42627.0, 44667.0, 46554.0, 60193.0, 66667.0, 68745.0, 70869.0, 72804.0, 74594.0, 75018.0, 75563.0, 76185.0, 77938.0, 78267.0, 78870.0, 79715.0, 80683.0, 82041.0, 83407.0, 85306.0, 87664.0, 89601.0, 92134.0, 94414.0, 97180.0, 101095.0, 105141.0, 109115.0, 112884.0, 117914.0, 125169.0, 127646.0, 144499.0, 155395.0, 166748.0, 180868.0, 196396.0, 214109.0, 241858.0, 271496.0, 303795.0, 336241.0, 377519.0, 417329.0, 466941.0, 528879.0, 592579.0, 659981.0, 719428.0, 781677.0, 856775.0, 931763.0, 1012612.0, 1094984.0, 1175143.0, 1248770.0, 1320417.0, 1395378.0, 1479090.0, 1564564.0, 1656812.0, 1734936.0, 1834007.0, 1904124.0, 1975477.0, 2055340.0, 2151723.0, 2239476.0, 2317044.0, 2400385.0, 2471542.0, 2548577.0, 2622698.0], \"yaxis\": \"y\"}, {\"hovertemplate\": \"variable=deaths<br>date=%{x}<br>value=%{y}<extra></extra>\", \"legendgroup\": \"deaths\", \"line\": {\"color\": \"#1f77b4\"}, \"mode\": \"lines\", \"name\": \"deaths\", \"orientation\": \"v\", \"showlegend\": true, \"stackgroup\": \"1\", \"type\": \"scatter\", \"x\": [\"2020-01-22T00:00:00\", \"2020-01-23T00:00:00\", \"2020-01-24T00:00:00\", \"2020-01-25T00:00:00\", \"2020-01-26T00:00:00\", \"2020-01-27T00:00:00\", \"2020-01-28T00:00:00\", \"2020-01-29T00:00:00\", \"2020-01-30T00:00:00\", \"2020-01-31T00:00:00\", \"2020-02-01T00:00:00\", \"2020-02-02T00:00:00\", \"2020-02-03T00:00:00\", \"2020-02-04T00:00:00\", \"2020-02-05T00:00:00\", \"2020-02-06T00:00:00\", \"2020-02-07T00:00:00\", \"2020-02-08T00:00:00\", \"2020-02-09T00:00:00\", \"2020-02-10T00:00:00\", \"2020-02-11T00:00:00\", \"2020-02-12T00:00:00\", \"2020-02-13T00:00:00\", \"2020-02-14T00:00:00\", \"2020-02-15T00:00:00\", \"2020-02-16T00:00:00\", \"2020-02-17T00:00:00\", \"2020-02-18T00:00:00\", \"2020-02-19T00:00:00\", \"2020-02-20T00:00:00\", \"2020-02-21T00:00:00\", \"2020-02-22T00:00:00\", \"2020-02-23T00:00:00\", \"2020-02-24T00:00:00\", \"2020-02-25T00:00:00\", \"2020-02-26T00:00:00\", \"2020-02-27T00:00:00\", \"2020-02-28T00:00:00\", \"2020-02-29T00:00:00\", \"2020-03-01T00:00:00\", \"2020-03-02T00:00:00\", \"2020-03-03T00:00:00\", \"2020-03-04T00:00:00\", \"2020-03-05T00:00:00\", \"2020-03-06T00:00:00\", \"2020-03-07T00:00:00\", \"2020-03-08T00:00:00\", \"2020-03-09T00:00:00\", \"2020-03-10T00:00:00\", \"2020-03-11T00:00:00\", \"2020-03-12T00:00:00\", \"2020-03-13T00:00:00\", \"2020-03-14T00:00:00\", \"2020-03-15T00:00:00\", \"2020-03-16T00:00:00\", \"2020-03-17T00:00:00\", \"2020-03-18T00:00:00\", \"2020-03-19T00:00:00\", \"2020-03-20T00:00:00\", \"2020-03-21T00:00:00\", \"2020-03-22T00:00:00\", \"2020-03-23T00:00:00\", \"2020-03-24T00:00:00\", \"2020-03-25T00:00:00\", \"2020-03-26T00:00:00\", \"2020-03-27T00:00:00\", \"2020-03-28T00:00:00\", \"2020-03-29T00:00:00\", \"2020-03-30T00:00:00\", \"2020-03-31T00:00:00\", \"2020-04-01T00:00:00\", \"2020-04-02T00:00:00\", \"2020-04-03T00:00:00\", \"2020-04-04T00:00:00\", \"2020-04-05T00:00:00\", \"2020-04-06T00:00:00\", \"2020-04-07T00:00:00\", \"2020-04-08T00:00:00\", \"2020-04-09T00:00:00\", \"2020-04-10T00:00:00\", \"2020-04-11T00:00:00\", \"2020-04-12T00:00:00\", \"2020-04-13T00:00:00\", \"2020-04-14T00:00:00\", \"2020-04-15T00:00:00\", \"2020-04-16T00:00:00\", \"2020-04-17T00:00:00\", \"2020-04-18T00:00:00\", \"2020-04-19T00:00:00\", \"2020-04-20T00:00:00\", \"2020-04-21T00:00:00\", \"2020-04-22T00:00:00\"], \"xaxis\": \"x\", \"y\": [17.0, 18.0, 26.0, 42.0, 56.0, 82.0, 131.0, 133.0, 171.0, 213.0, 259.0, 362.0, 426.0, 492.0, 564.0, 634.0, 719.0, 806.0, 906.0, 1013.0, 1113.0, 1118.0, 1371.0, 1523.0, 1666.0, 1770.0, 1868.0, 2007.0, 2122.0, 2245.0, 2249.0, 2456.0, 2466.0, 2626.0, 2705.0, 2766.0, 2810.0, 2866.0, 2935.0, 2990.0, 3079.0, 3154.0, 3248.0, 3342.0, 3454.0, 3552.0, 3796.0, 3982.0, 4256.0, 4608.0, 4713.0, 5397.0, 5812.0, 6433.0, 7119.0, 7898.0, 8726.0, 9860.0, 11292.0, 12965.0, 14642.0, 16496.0, 18614.0, 21170.0, 23959.0, 27187.0, 30641.0, 33914.0, 37571.0, 42097.0, 47171.0, 52974.0, 58778.0, 64595.0, 69362.0, 74553.0, 81925.0, 88335.0, 95509.0, 102522.0, 108499.0, 114088.0, 119481.0, 125984.0, 134178.0, 143803.0, 153823.0, 159497.0, 165031.0, 169973.0, 176570.0, 183014.0], \"yaxis\": \"y\"}, {\"hovertemplate\": \"variable=new cases<br>date=%{x}<br>value=%{y}<extra></extra>\", \"legendgroup\": \"new cases\", \"line\": {\"color\": \"#ff2e63\"}, \"mode\": \"lines\", \"name\": \"new cases\", \"orientation\": \"v\", \"showlegend\": true, \"stackgroup\": \"1\", \"type\": \"scatter\", \"x\": [\"2020-01-22T00:00:00\", \"2020-01-23T00:00:00\", \"2020-01-24T00:00:00\", \"2020-01-25T00:00:00\", \"2020-01-26T00:00:00\", \"2020-01-27T00:00:00\", \"2020-01-28T00:00:00\", \"2020-01-29T00:00:00\", \"2020-01-30T00:00:00\", \"2020-01-31T00:00:00\", \"2020-02-01T00:00:00\", \"2020-02-02T00:00:00\", \"2020-02-03T00:00:00\", \"2020-02-04T00:00:00\", \"2020-02-05T00:00:00\", \"2020-02-06T00:00:00\", \"2020-02-07T00:00:00\", \"2020-02-08T00:00:00\", \"2020-02-09T00:00:00\", \"2020-02-10T00:00:00\", \"2020-02-11T00:00:00\", \"2020-02-12T00:00:00\", \"2020-02-13T00:00:00\", \"2020-02-14T00:00:00\", \"2020-02-15T00:00:00\", \"2020-02-16T00:00:00\", \"2020-02-17T00:00:00\", \"2020-02-18T00:00:00\", \"2020-02-19T00:00:00\", \"2020-02-20T00:00:00\", \"2020-02-21T00:00:00\", \"2020-02-22T00:00:00\", \"2020-02-23T00:00:00\", \"2020-02-24T00:00:00\", \"2020-02-25T00:00:00\", \"2020-02-26T00:00:00\", \"2020-02-27T00:00:00\", \"2020-02-28T00:00:00\", \"2020-02-29T00:00:00\", \"2020-03-01T00:00:00\", \"2020-03-02T00:00:00\", \"2020-03-03T00:00:00\", \"2020-03-04T00:00:00\", \"2020-03-05T00:00:00\", \"2020-03-06T00:00:00\", \"2020-03-07T00:00:00\", \"2020-03-08T00:00:00\", \"2020-03-09T00:00:00\", \"2020-03-10T00:00:00\", \"2020-03-11T00:00:00\", \"2020-03-12T00:00:00\", \"2020-03-13T00:00:00\", \"2020-03-14T00:00:00\", \"2020-03-15T00:00:00\", \"2020-03-16T00:00:00\", \"2020-03-17T00:00:00\", \"2020-03-18T00:00:00\", \"2020-03-19T00:00:00\", \"2020-03-20T00:00:00\", \"2020-03-21T00:00:00\", \"2020-03-22T00:00:00\", \"2020-03-23T00:00:00\", \"2020-03-24T00:00:00\", \"2020-03-25T00:00:00\", \"2020-03-26T00:00:00\", \"2020-03-27T00:00:00\", \"2020-03-28T00:00:00\", \"2020-03-29T00:00:00\", \"2020-03-30T00:00:00\", \"2020-03-31T00:00:00\", \"2020-04-01T00:00:00\", \"2020-04-02T00:00:00\", \"2020-04-03T00:00:00\", \"2020-04-04T00:00:00\", \"2020-04-05T00:00:00\", \"2020-04-06T00:00:00\", \"2020-04-07T00:00:00\", \"2020-04-08T00:00:00\", \"2020-04-09T00:00:00\", \"2020-04-10T00:00:00\", \"2020-04-11T00:00:00\", \"2020-04-12T00:00:00\", \"2020-04-13T00:00:00\", \"2020-04-14T00:00:00\", \"2020-04-15T00:00:00\", \"2020-04-16T00:00:00\", \"2020-04-17T00:00:00\", \"2020-04-18T00:00:00\", \"2020-04-19T00:00:00\", \"2020-04-20T00:00:00\", \"2020-04-21T00:00:00\", \"2020-04-22T00:00:00\"], \"xaxis\": \"x\", \"y\": [null, 99.0, 287.0, 493.0, 684.0, 809.0, 2651.0, 588.0, 2068.0, 1693.0, 2111.0, 4749.0, 3094.0, 4011.0, 3743.0, 3159.0, 3536.0, 2729.0, 3027.0, 2541.0, 2040.0, 1887.0, 13639.0, 6474.0, 2078.0, 2124.0, 1935.0, 1790.0, 424.0, 545.0, 622.0, 1753.0, 329.0, 603.0, 845.0, 968.0, 1358.0, 1366.0, 1899.0, 2358.0, 1937.0, 2533.0, 2280.0, 2766.0, 3915.0, 4046.0, 3974.0, 3769.0, 5030.0, 7255.0, 2477.0, 16853.0, 10896.0, 11353.0, 14120.0, 15528.0, 17713.0, 27749.0, 29638.0, 32299.0, 32446.0, 41278.0, 39810.0, 49612.0, 61938.0, 63700.0, 67402.0, 59447.0, 62249.0, 75098.0, 74988.0, 80849.0, 82372.0, 80159.0, 73627.0, 71647.0, 74961.0, 83712.0, 85474.0, 92248.0, 78124.0, 99071.0, 70117.0, 71353.0, 79863.0, 96383.0, 87753.0, 77568.0, 83341.0, 71157.0, 77035.0, 74121.0], \"yaxis\": \"y\"}],\n",
              "                        {\"height\": 600, \"legend\": {\"title\": {\"text\": \"variable\"}, \"tracegroupgap\": 0}, \"template\": {\"data\": {\"bar\": [{\"error_x\": {\"color\": \"#f2f5fa\"}, \"error_y\": {\"color\": \"#f2f5fa\"}, \"marker\": {\"line\": {\"color\": \"rgb(17,17,17)\", \"width\": 0.5}}, \"type\": \"bar\"}], \"barpolar\": [{\"marker\": {\"line\": {\"color\": \"rgb(17,17,17)\", \"width\": 0.5}}, \"type\": \"barpolar\"}], \"carpet\": [{\"aaxis\": {\"endlinecolor\": \"#A2B1C6\", \"gridcolor\": \"#506784\", \"linecolor\": \"#506784\", \"minorgridcolor\": \"#506784\", \"startlinecolor\": \"#A2B1C6\"}, \"baxis\": {\"endlinecolor\": \"#A2B1C6\", \"gridcolor\": \"#506784\", \"linecolor\": \"#506784\", \"minorgridcolor\": \"#506784\", \"startlinecolor\": \"#A2B1C6\"}, \"type\": \"carpet\"}], \"choropleth\": [{\"colorbar\": {\"outlinewidth\": 0, \"ticks\": \"\"}, \"type\": \"choropleth\"}], \"contour\": [{\"colorbar\": {\"outlinewidth\": 0, \"ticks\": \"\"}, \"colorscale\": [[0.0, \"#0d0887\"], [0.1111111111111111, \"#46039f\"], [0.2222222222222222, \"#7201a8\"], [0.3333333333333333, \"#9c179e\"], [0.4444444444444444, \"#bd3786\"], [0.5555555555555556, \"#d8576b\"], [0.6666666666666666, \"#ed7953\"], [0.7777777777777778, \"#fb9f3a\"], [0.8888888888888888, \"#fdca26\"], [1.0, \"#f0f921\"]], \"type\": \"contour\"}], \"contourcarpet\": [{\"colorbar\": {\"outlinewidth\": 0, \"ticks\": \"\"}, \"type\": \"contourcarpet\"}], \"heatmap\": [{\"colorbar\": {\"outlinewidth\": 0, \"ticks\": \"\"}, \"colorscale\": [[0.0, \"#0d0887\"], [0.1111111111111111, \"#46039f\"], [0.2222222222222222, \"#7201a8\"], [0.3333333333333333, \"#9c179e\"], [0.4444444444444444, \"#bd3786\"], [0.5555555555555556, \"#d8576b\"], [0.6666666666666666, \"#ed7953\"], [0.7777777777777778, \"#fb9f3a\"], [0.8888888888888888, \"#fdca26\"], [1.0, \"#f0f921\"]], \"type\": \"heatmap\"}], \"heatmapgl\": [{\"colorbar\": {\"outlinewidth\": 0, \"ticks\": \"\"}, \"colorscale\": [[0.0, \"#0d0887\"], [0.1111111111111111, \"#46039f\"], [0.2222222222222222, \"#7201a8\"], [0.3333333333333333, \"#9c179e\"], [0.4444444444444444, \"#bd3786\"], [0.5555555555555556, \"#d8576b\"], [0.6666666666666666, \"#ed7953\"], [0.7777777777777778, \"#fb9f3a\"], [0.8888888888888888, \"#fdca26\"], [1.0, \"#f0f921\"]], \"type\": \"heatmapgl\"}], \"histogram\": [{\"marker\": {\"colorbar\": {\"outlinewidth\": 0, \"ticks\": \"\"}}, \"type\": \"histogram\"}], \"histogram2d\": [{\"colorbar\": {\"outlinewidth\": 0, \"ticks\": \"\"}, \"colorscale\": [[0.0, \"#0d0887\"], [0.1111111111111111, \"#46039f\"], [0.2222222222222222, \"#7201a8\"], [0.3333333333333333, \"#9c179e\"], [0.4444444444444444, \"#bd3786\"], [0.5555555555555556, \"#d8576b\"], [0.6666666666666666, \"#ed7953\"], [0.7777777777777778, \"#fb9f3a\"], [0.8888888888888888, \"#fdca26\"], [1.0, \"#f0f921\"]], \"type\": \"histogram2d\"}], \"histogram2dcontour\": [{\"colorbar\": {\"outlinewidth\": 0, \"ticks\": \"\"}, \"colorscale\": [[0.0, \"#0d0887\"], [0.1111111111111111, \"#46039f\"], [0.2222222222222222, \"#7201a8\"], [0.3333333333333333, \"#9c179e\"], [0.4444444444444444, \"#bd3786\"], [0.5555555555555556, \"#d8576b\"], [0.6666666666666666, \"#ed7953\"], [0.7777777777777778, \"#fb9f3a\"], [0.8888888888888888, \"#fdca26\"], [1.0, \"#f0f921\"]], \"type\": \"histogram2dcontour\"}], \"mesh3d\": [{\"colorbar\": {\"outlinewidth\": 0, \"ticks\": \"\"}, \"type\": \"mesh3d\"}], \"parcoords\": [{\"line\": {\"colorbar\": {\"outlinewidth\": 0, \"ticks\": \"\"}}, \"type\": \"parcoords\"}], \"pie\": [{\"automargin\": true, \"type\": \"pie\"}], \"scatter\": [{\"marker\": {\"line\": {\"color\": \"#283442\"}}, \"type\": \"scatter\"}], \"scatter3d\": [{\"line\": {\"colorbar\": {\"outlinewidth\": 0, \"ticks\": \"\"}}, \"marker\": {\"colorbar\": {\"outlinewidth\": 0, \"ticks\": \"\"}}, \"type\": \"scatter3d\"}], \"scattercarpet\": [{\"marker\": {\"colorbar\": {\"outlinewidth\": 0, \"ticks\": \"\"}}, \"type\": \"scattercarpet\"}], \"scattergeo\": [{\"marker\": {\"colorbar\": {\"outlinewidth\": 0, \"ticks\": \"\"}}, \"type\": \"scattergeo\"}], \"scattergl\": [{\"marker\": {\"line\": {\"color\": \"#283442\"}}, \"type\": \"scattergl\"}], \"scattermapbox\": [{\"marker\": {\"colorbar\": {\"outlinewidth\": 0, \"ticks\": \"\"}}, \"type\": \"scattermapbox\"}], \"scatterpolar\": [{\"marker\": {\"colorbar\": {\"outlinewidth\": 0, \"ticks\": \"\"}}, \"type\": \"scatterpolar\"}], \"scatterpolargl\": [{\"marker\": {\"colorbar\": {\"outlinewidth\": 0, \"ticks\": \"\"}}, \"type\": \"scatterpolargl\"}], \"scatterternary\": [{\"marker\": {\"colorbar\": {\"outlinewidth\": 0, \"ticks\": \"\"}}, \"type\": \"scatterternary\"}], \"surface\": [{\"colorbar\": {\"outlinewidth\": 0, \"ticks\": \"\"}, \"colorscale\": [[0.0, \"#0d0887\"], [0.1111111111111111, \"#46039f\"], [0.2222222222222222, \"#7201a8\"], [0.3333333333333333, \"#9c179e\"], [0.4444444444444444, \"#bd3786\"], [0.5555555555555556, \"#d8576b\"], [0.6666666666666666, \"#ed7953\"], [0.7777777777777778, \"#fb9f3a\"], [0.8888888888888888, \"#fdca26\"], [1.0, \"#f0f921\"]], \"type\": \"surface\"}], \"table\": [{\"cells\": {\"fill\": {\"color\": \"#506784\"}, \"line\": {\"color\": \"rgb(17,17,17)\"}}, \"header\": {\"fill\": {\"color\": \"#2a3f5f\"}, \"line\": {\"color\": \"rgb(17,17,17)\"}}, \"type\": \"table\"}]}, \"layout\": {\"annotationdefaults\": {\"arrowcolor\": \"#f2f5fa\", \"arrowhead\": 0, \"arrowwidth\": 1}, \"coloraxis\": {\"colorbar\": {\"outlinewidth\": 0, \"ticks\": \"\"}}, \"colorscale\": {\"diverging\": [[0, \"#8e0152\"], [0.1, \"#c51b7d\"], [0.2, \"#de77ae\"], [0.3, \"#f1b6da\"], [0.4, \"#fde0ef\"], [0.5, \"#f7f7f7\"], [0.6, \"#e6f5d0\"], [0.7, \"#b8e186\"], [0.8, \"#7fbc41\"], [0.9, \"#4d9221\"], [1, \"#276419\"]], \"sequential\": [[0.0, \"#0d0887\"], [0.1111111111111111, \"#46039f\"], [0.2222222222222222, \"#7201a8\"], [0.3333333333333333, \"#9c179e\"], [0.4444444444444444, \"#bd3786\"], [0.5555555555555556, \"#d8576b\"], [0.6666666666666666, \"#ed7953\"], [0.7777777777777778, \"#fb9f3a\"], [0.8888888888888888, \"#fdca26\"], [1.0, \"#f0f921\"]], \"sequentialminus\": [[0.0, \"#0d0887\"], [0.1111111111111111, \"#46039f\"], [0.2222222222222222, \"#7201a8\"], [0.3333333333333333, \"#9c179e\"], [0.4444444444444444, \"#bd3786\"], [0.5555555555555556, \"#d8576b\"], [0.6666666666666666, \"#ed7953\"], [0.7777777777777778, \"#fb9f3a\"], [0.8888888888888888, \"#fdca26\"], [1.0, \"#f0f921\"]]}, \"colorway\": [\"#636efa\", \"#EF553B\", \"#00cc96\", \"#ab63fa\", \"#FFA15A\", \"#19d3f3\", \"#FF6692\", \"#B6E880\", \"#FF97FF\", \"#FECB52\"], \"font\": {\"color\": \"#f2f5fa\"}, \"geo\": {\"bgcolor\": \"rgb(17,17,17)\", \"lakecolor\": \"rgb(17,17,17)\", \"landcolor\": \"rgb(17,17,17)\", \"showlakes\": true, \"showland\": true, \"subunitcolor\": \"#506784\"}, \"hoverlabel\": {\"align\": \"left\"}, \"hovermode\": \"closest\", \"mapbox\": {\"style\": \"dark\"}, \"paper_bgcolor\": \"rgb(17,17,17)\", \"plot_bgcolor\": \"rgb(17,17,17)\", \"polar\": {\"angularaxis\": {\"gridcolor\": \"#506784\", \"linecolor\": \"#506784\", \"ticks\": \"\"}, \"bgcolor\": \"rgb(17,17,17)\", \"radialaxis\": {\"gridcolor\": \"#506784\", \"linecolor\": \"#506784\", \"ticks\": \"\"}}, \"scene\": {\"xaxis\": {\"backgroundcolor\": \"rgb(17,17,17)\", \"gridcolor\": \"#506784\", \"gridwidth\": 2, \"linecolor\": \"#506784\", \"showbackground\": true, \"ticks\": \"\", \"zerolinecolor\": \"#C8D4E3\"}, \"yaxis\": {\"backgroundcolor\": \"rgb(17,17,17)\", \"gridcolor\": \"#506784\", \"gridwidth\": 2, \"linecolor\": \"#506784\", \"showbackground\": true, \"ticks\": \"\", \"zerolinecolor\": \"#C8D4E3\"}, \"zaxis\": {\"backgroundcolor\": \"rgb(17,17,17)\", \"gridcolor\": \"#506784\", \"gridwidth\": 2, \"linecolor\": \"#506784\", \"showbackground\": true, \"ticks\": \"\", \"zerolinecolor\": \"#C8D4E3\"}}, \"shapedefaults\": {\"line\": {\"color\": \"#f2f5fa\"}}, \"sliderdefaults\": {\"bgcolor\": \"#C8D4E3\", \"bordercolor\": \"rgb(17,17,17)\", \"borderwidth\": 1, \"tickwidth\": 0}, \"ternary\": {\"aaxis\": {\"gridcolor\": \"#506784\", \"linecolor\": \"#506784\", \"ticks\": \"\"}, \"baxis\": {\"gridcolor\": \"#506784\", \"linecolor\": \"#506784\", \"ticks\": \"\"}, \"bgcolor\": \"rgb(17,17,17)\", \"caxis\": {\"gridcolor\": \"#506784\", \"linecolor\": \"#506784\", \"ticks\": \"\"}}, \"title\": {\"x\": 0.05}, \"updatemenudefaults\": {\"bgcolor\": \"#506784\", \"borderwidth\": 0}, \"xaxis\": {\"automargin\": true, \"gridcolor\": \"#283442\", \"linecolor\": \"#506784\", \"ticks\": \"\", \"title\": {\"standoff\": 15}, \"zerolinecolor\": \"#283442\", \"zerolinewidth\": 2}, \"yaxis\": {\"automargin\": true, \"gridcolor\": \"#283442\", \"linecolor\": \"#506784\", \"ticks\": \"\", \"title\": {\"standoff\": 15}, \"zerolinecolor\": \"#283442\", \"zerolinewidth\": 2}}}, \"title\": {\"text\": \"Worldwide Cases and fatalaties as on 2020-04-22 00:00:00\"}, \"xaxis\": {\"anchor\": \"y\", \"domain\": [0.0, 1.0], \"rangeslider\": {\"visible\": true}, \"title\": {\"text\": \"date\"}}, \"yaxis\": {\"anchor\": \"x\", \"domain\": [0.0, 1.0], \"title\": {\"text\": \"value\"}}},\n",
              "                        {\"responsive\": true}\n",
              "                    ).then(function(){\n",
              "                            \n",
              "var gd = document.getElementById('01a4b8d9-0b7d-4f8e-856c-bb1c05a49f8b');\n",
              "var x = new MutationObserver(function (mutations, observer) {{\n",
              "        var display = window.getComputedStyle(gd).display;\n",
              "        if (!display || display === 'none') {{\n",
              "            console.log([gd, 'removed!']);\n",
              "            Plotly.purge(gd);\n",
              "            observer.disconnect();\n",
              "        }}\n",
              "}});\n",
              "\n",
              "// Listen for the removal of the full notebook cells\n",
              "var notebookContainer = gd.closest('#notebook-container');\n",
              "if (notebookContainer) {{\n",
              "    x.observe(notebookContainer, {childList: true});\n",
              "}}\n",
              "\n",
              "// Listen for the clearing of the current output cell\n",
              "var outputEl = gd.closest('.output');\n",
              "if (outputEl) {{\n",
              "    x.observe(outputEl, {childList: true});\n",
              "}}\n",
              "\n",
              "                        })\n",
              "                };\n",
              "                });\n",
              "            </script>\n",
              "        </div>"
            ]
          },
          "metadata": {
            "tags": []
          }
        }
      ]
    },
    {
      "cell_type": "markdown",
      "metadata": {
        "id": "-ULde9r3kS0Q",
        "colab_type": "text"
      },
      "source": [
        "#### World wide cases,fatalities & New Cases - Tree Map"
      ]
    },
    {
      "cell_type": "code",
      "metadata": {
        "scrolled": true,
        "id": "4vuHNVC_kS0R",
        "colab_type": "code",
        "colab": {},
        "outputId": "f40edc60-4f3d-409c-ba94-5748796413ab"
      },
      "source": [
        "\n",
        "temp = data_cfn.groupby('date')['confirmed','deaths','new cases'].sum().reset_index()\n",
        "temp = temp[temp['date']==max(temp['date'])].reset_index(drop=True)\n",
        "\n",
        "tm = temp.melt(id_vars=\"date\", value_vars=['confirmed','deaths','new cases'])\n",
        "fig = px.treemap(tm, path=[\"variable\"], values=\"value\",\n",
        "                 title=f'Worldwide Cases and fatalaties as on {max_date}',\n",
        "                 height=400, width=600,\n",
        "                 color_discrete_sequence=[act, rec, dth])\n",
        "fig.data[0].textinfo = 'label+text+value'\n",
        "\n",
        "fig.show()"
      ],
      "execution_count": 0,
      "outputs": [
        {
          "output_type": "display_data",
          "data": {
            "application/vnd.plotly.v1+json": {
              "config": {
                "plotlyServerURL": "https://plot.ly"
              },
              "data": [
                {
                  "branchvalues": "total",
                  "domain": {
                    "x": [
                      0,
                      1
                    ],
                    "y": [
                      0,
                      1
                    ]
                  },
                  "hovertemplate": "labels=%{label}<br>value=%{value}<br>parent=%{parent}<br>id=%{id}<extra></extra>",
                  "ids": [
                    "confirmed",
                    "deaths",
                    "new cases"
                  ],
                  "labels": [
                    "confirmed",
                    "deaths",
                    "new cases"
                  ],
                  "name": "",
                  "parents": [
                    "",
                    "",
                    ""
                  ],
                  "textinfo": "label+text+value",
                  "type": "treemap",
                  "values": [
                    2622698,
                    183014,
                    74121
                  ]
                }
              ],
              "layout": {
                "height": 400,
                "legend": {
                  "tracegroupgap": 0
                },
                "template": {
                  "data": {
                    "bar": [
                      {
                        "error_x": {
                          "color": "#f2f5fa"
                        },
                        "error_y": {
                          "color": "#f2f5fa"
                        },
                        "marker": {
                          "line": {
                            "color": "rgb(17,17,17)",
                            "width": 0.5
                          }
                        },
                        "type": "bar"
                      }
                    ],
                    "barpolar": [
                      {
                        "marker": {
                          "line": {
                            "color": "rgb(17,17,17)",
                            "width": 0.5
                          }
                        },
                        "type": "barpolar"
                      }
                    ],
                    "carpet": [
                      {
                        "aaxis": {
                          "endlinecolor": "#A2B1C6",
                          "gridcolor": "#506784",
                          "linecolor": "#506784",
                          "minorgridcolor": "#506784",
                          "startlinecolor": "#A2B1C6"
                        },
                        "baxis": {
                          "endlinecolor": "#A2B1C6",
                          "gridcolor": "#506784",
                          "linecolor": "#506784",
                          "minorgridcolor": "#506784",
                          "startlinecolor": "#A2B1C6"
                        },
                        "type": "carpet"
                      }
                    ],
                    "choropleth": [
                      {
                        "colorbar": {
                          "outlinewidth": 0,
                          "ticks": ""
                        },
                        "type": "choropleth"
                      }
                    ],
                    "contour": [
                      {
                        "colorbar": {
                          "outlinewidth": 0,
                          "ticks": ""
                        },
                        "colorscale": [
                          [
                            0,
                            "#0d0887"
                          ],
                          [
                            0.1111111111111111,
                            "#46039f"
                          ],
                          [
                            0.2222222222222222,
                            "#7201a8"
                          ],
                          [
                            0.3333333333333333,
                            "#9c179e"
                          ],
                          [
                            0.4444444444444444,
                            "#bd3786"
                          ],
                          [
                            0.5555555555555556,
                            "#d8576b"
                          ],
                          [
                            0.6666666666666666,
                            "#ed7953"
                          ],
                          [
                            0.7777777777777778,
                            "#fb9f3a"
                          ],
                          [
                            0.8888888888888888,
                            "#fdca26"
                          ],
                          [
                            1,
                            "#f0f921"
                          ]
                        ],
                        "type": "contour"
                      }
                    ],
                    "contourcarpet": [
                      {
                        "colorbar": {
                          "outlinewidth": 0,
                          "ticks": ""
                        },
                        "type": "contourcarpet"
                      }
                    ],
                    "heatmap": [
                      {
                        "colorbar": {
                          "outlinewidth": 0,
                          "ticks": ""
                        },
                        "colorscale": [
                          [
                            0,
                            "#0d0887"
                          ],
                          [
                            0.1111111111111111,
                            "#46039f"
                          ],
                          [
                            0.2222222222222222,
                            "#7201a8"
                          ],
                          [
                            0.3333333333333333,
                            "#9c179e"
                          ],
                          [
                            0.4444444444444444,
                            "#bd3786"
                          ],
                          [
                            0.5555555555555556,
                            "#d8576b"
                          ],
                          [
                            0.6666666666666666,
                            "#ed7953"
                          ],
                          [
                            0.7777777777777778,
                            "#fb9f3a"
                          ],
                          [
                            0.8888888888888888,
                            "#fdca26"
                          ],
                          [
                            1,
                            "#f0f921"
                          ]
                        ],
                        "type": "heatmap"
                      }
                    ],
                    "heatmapgl": [
                      {
                        "colorbar": {
                          "outlinewidth": 0,
                          "ticks": ""
                        },
                        "colorscale": [
                          [
                            0,
                            "#0d0887"
                          ],
                          [
                            0.1111111111111111,
                            "#46039f"
                          ],
                          [
                            0.2222222222222222,
                            "#7201a8"
                          ],
                          [
                            0.3333333333333333,
                            "#9c179e"
                          ],
                          [
                            0.4444444444444444,
                            "#bd3786"
                          ],
                          [
                            0.5555555555555556,
                            "#d8576b"
                          ],
                          [
                            0.6666666666666666,
                            "#ed7953"
                          ],
                          [
                            0.7777777777777778,
                            "#fb9f3a"
                          ],
                          [
                            0.8888888888888888,
                            "#fdca26"
                          ],
                          [
                            1,
                            "#f0f921"
                          ]
                        ],
                        "type": "heatmapgl"
                      }
                    ],
                    "histogram": [
                      {
                        "marker": {
                          "colorbar": {
                            "outlinewidth": 0,
                            "ticks": ""
                          }
                        },
                        "type": "histogram"
                      }
                    ],
                    "histogram2d": [
                      {
                        "colorbar": {
                          "outlinewidth": 0,
                          "ticks": ""
                        },
                        "colorscale": [
                          [
                            0,
                            "#0d0887"
                          ],
                          [
                            0.1111111111111111,
                            "#46039f"
                          ],
                          [
                            0.2222222222222222,
                            "#7201a8"
                          ],
                          [
                            0.3333333333333333,
                            "#9c179e"
                          ],
                          [
                            0.4444444444444444,
                            "#bd3786"
                          ],
                          [
                            0.5555555555555556,
                            "#d8576b"
                          ],
                          [
                            0.6666666666666666,
                            "#ed7953"
                          ],
                          [
                            0.7777777777777778,
                            "#fb9f3a"
                          ],
                          [
                            0.8888888888888888,
                            "#fdca26"
                          ],
                          [
                            1,
                            "#f0f921"
                          ]
                        ],
                        "type": "histogram2d"
                      }
                    ],
                    "histogram2dcontour": [
                      {
                        "colorbar": {
                          "outlinewidth": 0,
                          "ticks": ""
                        },
                        "colorscale": [
                          [
                            0,
                            "#0d0887"
                          ],
                          [
                            0.1111111111111111,
                            "#46039f"
                          ],
                          [
                            0.2222222222222222,
                            "#7201a8"
                          ],
                          [
                            0.3333333333333333,
                            "#9c179e"
                          ],
                          [
                            0.4444444444444444,
                            "#bd3786"
                          ],
                          [
                            0.5555555555555556,
                            "#d8576b"
                          ],
                          [
                            0.6666666666666666,
                            "#ed7953"
                          ],
                          [
                            0.7777777777777778,
                            "#fb9f3a"
                          ],
                          [
                            0.8888888888888888,
                            "#fdca26"
                          ],
                          [
                            1,
                            "#f0f921"
                          ]
                        ],
                        "type": "histogram2dcontour"
                      }
                    ],
                    "mesh3d": [
                      {
                        "colorbar": {
                          "outlinewidth": 0,
                          "ticks": ""
                        },
                        "type": "mesh3d"
                      }
                    ],
                    "parcoords": [
                      {
                        "line": {
                          "colorbar": {
                            "outlinewidth": 0,
                            "ticks": ""
                          }
                        },
                        "type": "parcoords"
                      }
                    ],
                    "pie": [
                      {
                        "automargin": true,
                        "type": "pie"
                      }
                    ],
                    "scatter": [
                      {
                        "marker": {
                          "line": {
                            "color": "#283442"
                          }
                        },
                        "type": "scatter"
                      }
                    ],
                    "scatter3d": [
                      {
                        "line": {
                          "colorbar": {
                            "outlinewidth": 0,
                            "ticks": ""
                          }
                        },
                        "marker": {
                          "colorbar": {
                            "outlinewidth": 0,
                            "ticks": ""
                          }
                        },
                        "type": "scatter3d"
                      }
                    ],
                    "scattercarpet": [
                      {
                        "marker": {
                          "colorbar": {
                            "outlinewidth": 0,
                            "ticks": ""
                          }
                        },
                        "type": "scattercarpet"
                      }
                    ],
                    "scattergeo": [
                      {
                        "marker": {
                          "colorbar": {
                            "outlinewidth": 0,
                            "ticks": ""
                          }
                        },
                        "type": "scattergeo"
                      }
                    ],
                    "scattergl": [
                      {
                        "marker": {
                          "line": {
                            "color": "#283442"
                          }
                        },
                        "type": "scattergl"
                      }
                    ],
                    "scattermapbox": [
                      {
                        "marker": {
                          "colorbar": {
                            "outlinewidth": 0,
                            "ticks": ""
                          }
                        },
                        "type": "scattermapbox"
                      }
                    ],
                    "scatterpolar": [
                      {
                        "marker": {
                          "colorbar": {
                            "outlinewidth": 0,
                            "ticks": ""
                          }
                        },
                        "type": "scatterpolar"
                      }
                    ],
                    "scatterpolargl": [
                      {
                        "marker": {
                          "colorbar": {
                            "outlinewidth": 0,
                            "ticks": ""
                          }
                        },
                        "type": "scatterpolargl"
                      }
                    ],
                    "scatterternary": [
                      {
                        "marker": {
                          "colorbar": {
                            "outlinewidth": 0,
                            "ticks": ""
                          }
                        },
                        "type": "scatterternary"
                      }
                    ],
                    "surface": [
                      {
                        "colorbar": {
                          "outlinewidth": 0,
                          "ticks": ""
                        },
                        "colorscale": [
                          [
                            0,
                            "#0d0887"
                          ],
                          [
                            0.1111111111111111,
                            "#46039f"
                          ],
                          [
                            0.2222222222222222,
                            "#7201a8"
                          ],
                          [
                            0.3333333333333333,
                            "#9c179e"
                          ],
                          [
                            0.4444444444444444,
                            "#bd3786"
                          ],
                          [
                            0.5555555555555556,
                            "#d8576b"
                          ],
                          [
                            0.6666666666666666,
                            "#ed7953"
                          ],
                          [
                            0.7777777777777778,
                            "#fb9f3a"
                          ],
                          [
                            0.8888888888888888,
                            "#fdca26"
                          ],
                          [
                            1,
                            "#f0f921"
                          ]
                        ],
                        "type": "surface"
                      }
                    ],
                    "table": [
                      {
                        "cells": {
                          "fill": {
                            "color": "#506784"
                          },
                          "line": {
                            "color": "rgb(17,17,17)"
                          }
                        },
                        "header": {
                          "fill": {
                            "color": "#2a3f5f"
                          },
                          "line": {
                            "color": "rgb(17,17,17)"
                          }
                        },
                        "type": "table"
                      }
                    ]
                  },
                  "layout": {
                    "annotationdefaults": {
                      "arrowcolor": "#f2f5fa",
                      "arrowhead": 0,
                      "arrowwidth": 1
                    },
                    "coloraxis": {
                      "colorbar": {
                        "outlinewidth": 0,
                        "ticks": ""
                      }
                    },
                    "colorscale": {
                      "diverging": [
                        [
                          0,
                          "#8e0152"
                        ],
                        [
                          0.1,
                          "#c51b7d"
                        ],
                        [
                          0.2,
                          "#de77ae"
                        ],
                        [
                          0.3,
                          "#f1b6da"
                        ],
                        [
                          0.4,
                          "#fde0ef"
                        ],
                        [
                          0.5,
                          "#f7f7f7"
                        ],
                        [
                          0.6,
                          "#e6f5d0"
                        ],
                        [
                          0.7,
                          "#b8e186"
                        ],
                        [
                          0.8,
                          "#7fbc41"
                        ],
                        [
                          0.9,
                          "#4d9221"
                        ],
                        [
                          1,
                          "#276419"
                        ]
                      ],
                      "sequential": [
                        [
                          0,
                          "#0d0887"
                        ],
                        [
                          0.1111111111111111,
                          "#46039f"
                        ],
                        [
                          0.2222222222222222,
                          "#7201a8"
                        ],
                        [
                          0.3333333333333333,
                          "#9c179e"
                        ],
                        [
                          0.4444444444444444,
                          "#bd3786"
                        ],
                        [
                          0.5555555555555556,
                          "#d8576b"
                        ],
                        [
                          0.6666666666666666,
                          "#ed7953"
                        ],
                        [
                          0.7777777777777778,
                          "#fb9f3a"
                        ],
                        [
                          0.8888888888888888,
                          "#fdca26"
                        ],
                        [
                          1,
                          "#f0f921"
                        ]
                      ],
                      "sequentialminus": [
                        [
                          0,
                          "#0d0887"
                        ],
                        [
                          0.1111111111111111,
                          "#46039f"
                        ],
                        [
                          0.2222222222222222,
                          "#7201a8"
                        ],
                        [
                          0.3333333333333333,
                          "#9c179e"
                        ],
                        [
                          0.4444444444444444,
                          "#bd3786"
                        ],
                        [
                          0.5555555555555556,
                          "#d8576b"
                        ],
                        [
                          0.6666666666666666,
                          "#ed7953"
                        ],
                        [
                          0.7777777777777778,
                          "#fb9f3a"
                        ],
                        [
                          0.8888888888888888,
                          "#fdca26"
                        ],
                        [
                          1,
                          "#f0f921"
                        ]
                      ]
                    },
                    "colorway": [
                      "#636efa",
                      "#EF553B",
                      "#00cc96",
                      "#ab63fa",
                      "#FFA15A",
                      "#19d3f3",
                      "#FF6692",
                      "#B6E880",
                      "#FF97FF",
                      "#FECB52"
                    ],
                    "font": {
                      "color": "#f2f5fa"
                    },
                    "geo": {
                      "bgcolor": "rgb(17,17,17)",
                      "lakecolor": "rgb(17,17,17)",
                      "landcolor": "rgb(17,17,17)",
                      "showlakes": true,
                      "showland": true,
                      "subunitcolor": "#506784"
                    },
                    "hoverlabel": {
                      "align": "left"
                    },
                    "hovermode": "closest",
                    "mapbox": {
                      "style": "dark"
                    },
                    "paper_bgcolor": "rgb(17,17,17)",
                    "plot_bgcolor": "rgb(17,17,17)",
                    "polar": {
                      "angularaxis": {
                        "gridcolor": "#506784",
                        "linecolor": "#506784",
                        "ticks": ""
                      },
                      "bgcolor": "rgb(17,17,17)",
                      "radialaxis": {
                        "gridcolor": "#506784",
                        "linecolor": "#506784",
                        "ticks": ""
                      }
                    },
                    "scene": {
                      "xaxis": {
                        "backgroundcolor": "rgb(17,17,17)",
                        "gridcolor": "#506784",
                        "gridwidth": 2,
                        "linecolor": "#506784",
                        "showbackground": true,
                        "ticks": "",
                        "zerolinecolor": "#C8D4E3"
                      },
                      "yaxis": {
                        "backgroundcolor": "rgb(17,17,17)",
                        "gridcolor": "#506784",
                        "gridwidth": 2,
                        "linecolor": "#506784",
                        "showbackground": true,
                        "ticks": "",
                        "zerolinecolor": "#C8D4E3"
                      },
                      "zaxis": {
                        "backgroundcolor": "rgb(17,17,17)",
                        "gridcolor": "#506784",
                        "gridwidth": 2,
                        "linecolor": "#506784",
                        "showbackground": true,
                        "ticks": "",
                        "zerolinecolor": "#C8D4E3"
                      }
                    },
                    "shapedefaults": {
                      "line": {
                        "color": "#f2f5fa"
                      }
                    },
                    "sliderdefaults": {
                      "bgcolor": "#C8D4E3",
                      "bordercolor": "rgb(17,17,17)",
                      "borderwidth": 1,
                      "tickwidth": 0
                    },
                    "ternary": {
                      "aaxis": {
                        "gridcolor": "#506784",
                        "linecolor": "#506784",
                        "ticks": ""
                      },
                      "baxis": {
                        "gridcolor": "#506784",
                        "linecolor": "#506784",
                        "ticks": ""
                      },
                      "bgcolor": "rgb(17,17,17)",
                      "caxis": {
                        "gridcolor": "#506784",
                        "linecolor": "#506784",
                        "ticks": ""
                      }
                    },
                    "title": {
                      "x": 0.05
                    },
                    "updatemenudefaults": {
                      "bgcolor": "#506784",
                      "borderwidth": 0
                    },
                    "xaxis": {
                      "automargin": true,
                      "gridcolor": "#283442",
                      "linecolor": "#506784",
                      "ticks": "",
                      "title": {
                        "standoff": 15
                      },
                      "zerolinecolor": "#283442",
                      "zerolinewidth": 2
                    },
                    "yaxis": {
                      "automargin": true,
                      "gridcolor": "#283442",
                      "linecolor": "#506784",
                      "ticks": "",
                      "title": {
                        "standoff": 15
                      },
                      "zerolinecolor": "#283442",
                      "zerolinewidth": 2
                    }
                  }
                },
                "title": {
                  "text": "Worldwide Cases and fatalaties as on 2020-04-22 00:00:00"
                },
                "treemapcolorway": [
                  "#fe9801",
                  "#21bf73",
                  "#ff2e63"
                ],
                "width": 600
              }
            },
            "text/html": [
              "<div>\n",
              "        \n",
              "        \n",
              "            <div id=\"360914e2-2f72-4c3b-92c7-a01b82b15e6e\" class=\"plotly-graph-div\" style=\"height:400px; width:600px;\"></div>\n",
              "            <script type=\"text/javascript\">\n",
              "                require([\"plotly\"], function(Plotly) {\n",
              "                    window.PLOTLYENV=window.PLOTLYENV || {};\n",
              "                    \n",
              "                if (document.getElementById(\"360914e2-2f72-4c3b-92c7-a01b82b15e6e\")) {\n",
              "                    Plotly.newPlot(\n",
              "                        '360914e2-2f72-4c3b-92c7-a01b82b15e6e',\n",
              "                        [{\"branchvalues\": \"total\", \"domain\": {\"x\": [0.0, 1.0], \"y\": [0.0, 1.0]}, \"hovertemplate\": \"labels=%{label}<br>value=%{value}<br>parent=%{parent}<br>id=%{id}<extra></extra>\", \"ids\": [\"confirmed\", \"deaths\", \"new cases\"], \"labels\": [\"confirmed\", \"deaths\", \"new cases\"], \"name\": \"\", \"parents\": [\"\", \"\", \"\"], \"textinfo\": \"label+text+value\", \"type\": \"treemap\", \"values\": [2622698.0, 183014.0, 74121.0]}],\n",
              "                        {\"height\": 400, \"legend\": {\"tracegroupgap\": 0}, \"template\": {\"data\": {\"bar\": [{\"error_x\": {\"color\": \"#f2f5fa\"}, \"error_y\": {\"color\": \"#f2f5fa\"}, \"marker\": {\"line\": {\"color\": \"rgb(17,17,17)\", \"width\": 0.5}}, \"type\": \"bar\"}], \"barpolar\": [{\"marker\": {\"line\": {\"color\": \"rgb(17,17,17)\", \"width\": 0.5}}, \"type\": \"barpolar\"}], \"carpet\": [{\"aaxis\": {\"endlinecolor\": \"#A2B1C6\", \"gridcolor\": \"#506784\", \"linecolor\": \"#506784\", \"minorgridcolor\": \"#506784\", \"startlinecolor\": \"#A2B1C6\"}, \"baxis\": {\"endlinecolor\": \"#A2B1C6\", \"gridcolor\": \"#506784\", \"linecolor\": \"#506784\", \"minorgridcolor\": \"#506784\", \"startlinecolor\": \"#A2B1C6\"}, \"type\": \"carpet\"}], \"choropleth\": [{\"colorbar\": {\"outlinewidth\": 0, \"ticks\": \"\"}, \"type\": \"choropleth\"}], \"contour\": [{\"colorbar\": {\"outlinewidth\": 0, \"ticks\": \"\"}, \"colorscale\": [[0.0, \"#0d0887\"], [0.1111111111111111, \"#46039f\"], [0.2222222222222222, \"#7201a8\"], [0.3333333333333333, \"#9c179e\"], [0.4444444444444444, \"#bd3786\"], [0.5555555555555556, \"#d8576b\"], [0.6666666666666666, \"#ed7953\"], [0.7777777777777778, \"#fb9f3a\"], [0.8888888888888888, \"#fdca26\"], [1.0, \"#f0f921\"]], \"type\": \"contour\"}], \"contourcarpet\": [{\"colorbar\": {\"outlinewidth\": 0, \"ticks\": \"\"}, \"type\": \"contourcarpet\"}], \"heatmap\": [{\"colorbar\": {\"outlinewidth\": 0, \"ticks\": \"\"}, \"colorscale\": [[0.0, \"#0d0887\"], [0.1111111111111111, \"#46039f\"], [0.2222222222222222, \"#7201a8\"], [0.3333333333333333, \"#9c179e\"], [0.4444444444444444, \"#bd3786\"], [0.5555555555555556, \"#d8576b\"], [0.6666666666666666, \"#ed7953\"], [0.7777777777777778, \"#fb9f3a\"], [0.8888888888888888, \"#fdca26\"], [1.0, \"#f0f921\"]], \"type\": \"heatmap\"}], \"heatmapgl\": [{\"colorbar\": {\"outlinewidth\": 0, \"ticks\": \"\"}, \"colorscale\": [[0.0, \"#0d0887\"], [0.1111111111111111, \"#46039f\"], [0.2222222222222222, \"#7201a8\"], [0.3333333333333333, \"#9c179e\"], [0.4444444444444444, \"#bd3786\"], [0.5555555555555556, \"#d8576b\"], [0.6666666666666666, \"#ed7953\"], [0.7777777777777778, \"#fb9f3a\"], [0.8888888888888888, \"#fdca26\"], [1.0, \"#f0f921\"]], \"type\": \"heatmapgl\"}], \"histogram\": [{\"marker\": {\"colorbar\": {\"outlinewidth\": 0, \"ticks\": \"\"}}, \"type\": \"histogram\"}], \"histogram2d\": [{\"colorbar\": {\"outlinewidth\": 0, \"ticks\": \"\"}, \"colorscale\": [[0.0, \"#0d0887\"], [0.1111111111111111, \"#46039f\"], [0.2222222222222222, \"#7201a8\"], [0.3333333333333333, \"#9c179e\"], [0.4444444444444444, \"#bd3786\"], [0.5555555555555556, \"#d8576b\"], [0.6666666666666666, \"#ed7953\"], [0.7777777777777778, \"#fb9f3a\"], [0.8888888888888888, \"#fdca26\"], [1.0, \"#f0f921\"]], \"type\": \"histogram2d\"}], \"histogram2dcontour\": [{\"colorbar\": {\"outlinewidth\": 0, \"ticks\": \"\"}, \"colorscale\": [[0.0, \"#0d0887\"], [0.1111111111111111, \"#46039f\"], [0.2222222222222222, \"#7201a8\"], [0.3333333333333333, \"#9c179e\"], [0.4444444444444444, \"#bd3786\"], [0.5555555555555556, \"#d8576b\"], [0.6666666666666666, \"#ed7953\"], [0.7777777777777778, \"#fb9f3a\"], [0.8888888888888888, \"#fdca26\"], [1.0, \"#f0f921\"]], \"type\": \"histogram2dcontour\"}], \"mesh3d\": [{\"colorbar\": {\"outlinewidth\": 0, \"ticks\": \"\"}, \"type\": \"mesh3d\"}], \"parcoords\": [{\"line\": {\"colorbar\": {\"outlinewidth\": 0, \"ticks\": \"\"}}, \"type\": \"parcoords\"}], \"pie\": [{\"automargin\": true, \"type\": \"pie\"}], \"scatter\": [{\"marker\": {\"line\": {\"color\": \"#283442\"}}, \"type\": \"scatter\"}], \"scatter3d\": [{\"line\": {\"colorbar\": {\"outlinewidth\": 0, \"ticks\": \"\"}}, \"marker\": {\"colorbar\": {\"outlinewidth\": 0, \"ticks\": \"\"}}, \"type\": \"scatter3d\"}], \"scattercarpet\": [{\"marker\": {\"colorbar\": {\"outlinewidth\": 0, \"ticks\": \"\"}}, \"type\": \"scattercarpet\"}], \"scattergeo\": [{\"marker\": {\"colorbar\": {\"outlinewidth\": 0, \"ticks\": \"\"}}, \"type\": \"scattergeo\"}], \"scattergl\": [{\"marker\": {\"line\": {\"color\": \"#283442\"}}, \"type\": \"scattergl\"}], \"scattermapbox\": [{\"marker\": {\"colorbar\": {\"outlinewidth\": 0, \"ticks\": \"\"}}, \"type\": \"scattermapbox\"}], \"scatterpolar\": [{\"marker\": {\"colorbar\": {\"outlinewidth\": 0, \"ticks\": \"\"}}, \"type\": \"scatterpolar\"}], \"scatterpolargl\": [{\"marker\": {\"colorbar\": {\"outlinewidth\": 0, \"ticks\": \"\"}}, \"type\": \"scatterpolargl\"}], \"scatterternary\": [{\"marker\": {\"colorbar\": {\"outlinewidth\": 0, \"ticks\": \"\"}}, \"type\": \"scatterternary\"}], \"surface\": [{\"colorbar\": {\"outlinewidth\": 0, \"ticks\": \"\"}, \"colorscale\": [[0.0, \"#0d0887\"], [0.1111111111111111, \"#46039f\"], [0.2222222222222222, \"#7201a8\"], [0.3333333333333333, \"#9c179e\"], [0.4444444444444444, \"#bd3786\"], [0.5555555555555556, \"#d8576b\"], [0.6666666666666666, \"#ed7953\"], [0.7777777777777778, \"#fb9f3a\"], [0.8888888888888888, \"#fdca26\"], [1.0, \"#f0f921\"]], \"type\": \"surface\"}], \"table\": [{\"cells\": {\"fill\": {\"color\": \"#506784\"}, \"line\": {\"color\": \"rgb(17,17,17)\"}}, \"header\": {\"fill\": {\"color\": \"#2a3f5f\"}, \"line\": {\"color\": \"rgb(17,17,17)\"}}, \"type\": \"table\"}]}, \"layout\": {\"annotationdefaults\": {\"arrowcolor\": \"#f2f5fa\", \"arrowhead\": 0, \"arrowwidth\": 1}, \"coloraxis\": {\"colorbar\": {\"outlinewidth\": 0, \"ticks\": \"\"}}, \"colorscale\": {\"diverging\": [[0, \"#8e0152\"], [0.1, \"#c51b7d\"], [0.2, \"#de77ae\"], [0.3, \"#f1b6da\"], [0.4, \"#fde0ef\"], [0.5, \"#f7f7f7\"], [0.6, \"#e6f5d0\"], [0.7, \"#b8e186\"], [0.8, \"#7fbc41\"], [0.9, \"#4d9221\"], [1, \"#276419\"]], \"sequential\": [[0.0, \"#0d0887\"], [0.1111111111111111, \"#46039f\"], [0.2222222222222222, \"#7201a8\"], [0.3333333333333333, \"#9c179e\"], [0.4444444444444444, \"#bd3786\"], [0.5555555555555556, \"#d8576b\"], [0.6666666666666666, \"#ed7953\"], [0.7777777777777778, \"#fb9f3a\"], [0.8888888888888888, \"#fdca26\"], [1.0, \"#f0f921\"]], \"sequentialminus\": [[0.0, \"#0d0887\"], [0.1111111111111111, \"#46039f\"], [0.2222222222222222, \"#7201a8\"], [0.3333333333333333, \"#9c179e\"], [0.4444444444444444, \"#bd3786\"], [0.5555555555555556, \"#d8576b\"], [0.6666666666666666, \"#ed7953\"], [0.7777777777777778, \"#fb9f3a\"], [0.8888888888888888, \"#fdca26\"], [1.0, \"#f0f921\"]]}, \"colorway\": [\"#636efa\", \"#EF553B\", \"#00cc96\", \"#ab63fa\", \"#FFA15A\", \"#19d3f3\", \"#FF6692\", \"#B6E880\", \"#FF97FF\", \"#FECB52\"], \"font\": {\"color\": \"#f2f5fa\"}, \"geo\": {\"bgcolor\": \"rgb(17,17,17)\", \"lakecolor\": \"rgb(17,17,17)\", \"landcolor\": \"rgb(17,17,17)\", \"showlakes\": true, \"showland\": true, \"subunitcolor\": \"#506784\"}, \"hoverlabel\": {\"align\": \"left\"}, \"hovermode\": \"closest\", \"mapbox\": {\"style\": \"dark\"}, \"paper_bgcolor\": \"rgb(17,17,17)\", \"plot_bgcolor\": \"rgb(17,17,17)\", \"polar\": {\"angularaxis\": {\"gridcolor\": \"#506784\", \"linecolor\": \"#506784\", \"ticks\": \"\"}, \"bgcolor\": \"rgb(17,17,17)\", \"radialaxis\": {\"gridcolor\": \"#506784\", \"linecolor\": \"#506784\", \"ticks\": \"\"}}, \"scene\": {\"xaxis\": {\"backgroundcolor\": \"rgb(17,17,17)\", \"gridcolor\": \"#506784\", \"gridwidth\": 2, \"linecolor\": \"#506784\", \"showbackground\": true, \"ticks\": \"\", \"zerolinecolor\": \"#C8D4E3\"}, \"yaxis\": {\"backgroundcolor\": \"rgb(17,17,17)\", \"gridcolor\": \"#506784\", \"gridwidth\": 2, \"linecolor\": \"#506784\", \"showbackground\": true, \"ticks\": \"\", \"zerolinecolor\": \"#C8D4E3\"}, \"zaxis\": {\"backgroundcolor\": \"rgb(17,17,17)\", \"gridcolor\": \"#506784\", \"gridwidth\": 2, \"linecolor\": \"#506784\", \"showbackground\": true, \"ticks\": \"\", \"zerolinecolor\": \"#C8D4E3\"}}, \"shapedefaults\": {\"line\": {\"color\": \"#f2f5fa\"}}, \"sliderdefaults\": {\"bgcolor\": \"#C8D4E3\", \"bordercolor\": \"rgb(17,17,17)\", \"borderwidth\": 1, \"tickwidth\": 0}, \"ternary\": {\"aaxis\": {\"gridcolor\": \"#506784\", \"linecolor\": \"#506784\", \"ticks\": \"\"}, \"baxis\": {\"gridcolor\": \"#506784\", \"linecolor\": \"#506784\", \"ticks\": \"\"}, \"bgcolor\": \"rgb(17,17,17)\", \"caxis\": {\"gridcolor\": \"#506784\", \"linecolor\": \"#506784\", \"ticks\": \"\"}}, \"title\": {\"x\": 0.05}, \"updatemenudefaults\": {\"bgcolor\": \"#506784\", \"borderwidth\": 0}, \"xaxis\": {\"automargin\": true, \"gridcolor\": \"#283442\", \"linecolor\": \"#506784\", \"ticks\": \"\", \"title\": {\"standoff\": 15}, \"zerolinecolor\": \"#283442\", \"zerolinewidth\": 2}, \"yaxis\": {\"automargin\": true, \"gridcolor\": \"#283442\", \"linecolor\": \"#506784\", \"ticks\": \"\", \"title\": {\"standoff\": 15}, \"zerolinecolor\": \"#283442\", \"zerolinewidth\": 2}}}, \"title\": {\"text\": \"Worldwide Cases and fatalaties as on 2020-04-22 00:00:00\"}, \"treemapcolorway\": [\"#fe9801\", \"#21bf73\", \"#ff2e63\"], \"width\": 600},\n",
              "                        {\"responsive\": true}\n",
              "                    ).then(function(){\n",
              "                            \n",
              "var gd = document.getElementById('360914e2-2f72-4c3b-92c7-a01b82b15e6e');\n",
              "var x = new MutationObserver(function (mutations, observer) {{\n",
              "        var display = window.getComputedStyle(gd).display;\n",
              "        if (!display || display === 'none') {{\n",
              "            console.log([gd, 'removed!']);\n",
              "            Plotly.purge(gd);\n",
              "            observer.disconnect();\n",
              "        }}\n",
              "}});\n",
              "\n",
              "// Listen for the removal of the full notebook cells\n",
              "var notebookContainer = gd.closest('#notebook-container');\n",
              "if (notebookContainer) {{\n",
              "    x.observe(notebookContainer, {childList: true});\n",
              "}}\n",
              "\n",
              "// Listen for the clearing of the current output cell\n",
              "var outputEl = gd.closest('.output');\n",
              "if (outputEl) {{\n",
              "    x.observe(outputEl, {childList: true});\n",
              "}}\n",
              "\n",
              "                        })\n",
              "                };\n",
              "                });\n",
              "            </script>\n",
              "        </div>"
            ]
          },
          "metadata": {
            "tags": []
          }
        }
      ]
    },
    {
      "cell_type": "markdown",
      "metadata": {
        "id": "LNWg20l8kS0X",
        "colab_type": "text"
      },
      "source": [
        "### Normalized Infection and Fatality Ratio¶\n",
        "Lets have a closer look at the infection and fatality ratio, when normalized by country population size. This will surely give us an interesting perspective as to which countries are doing better and which ones are not."
      ]
    },
    {
      "cell_type": "markdown",
      "metadata": {
        "id": "iO9n6fRjkS0Y",
        "colab_type": "text"
      },
      "source": [
        "#### Reading Population Data\n",
        "****In this Data the Population is 2020 census****\n",
        "\n",
        "##### Cleaning the Data"
      ]
    },
    {
      "cell_type": "code",
      "metadata": {
        "id": "3GknFML-kS0Y",
        "colab_type": "code",
        "colab": {}
      },
      "source": [
        "\n",
        "def p2f(x):\n",
        "    \"\"\"\n",
        "    Convert urban percentage to float\n",
        "    \"\"\"\n",
        "    try:\n",
        "        return float(x.strip('%'))/100\n",
        "    except:\n",
        "        return np.nan\n",
        "\n",
        "def age2int(x):\n",
        "    \"\"\"\n",
        "    Convert Age to integer\n",
        "    \"\"\"\n",
        "    try:\n",
        "        return int(x)\n",
        "    except:\n",
        "        return np.nan\n",
        "\n",
        "def fert2float(x):\n",
        "    \"\"\"\n",
        "    Convert Fertility Rate to float\n",
        "    \"\"\"\n",
        "    try:\n",
        "        return float(x)\n",
        "    except:\n",
        "        return np.nan\n",
        "\n",
        "## Reding the Population Data and using converters\n",
        "\n",
        "data_pop = pd.read_csv(\"population_by_country_2020.csv\", \n",
        "                           converters={'Urban Pop %':p2f,\n",
        "                           'Fert. Rate':fert2float,\n",
        "                           'Med. Age':age2int})"
      ],
      "execution_count": 0,
      "outputs": []
    },
    {
      "cell_type": "code",
      "metadata": {
        "id": "ZwOQRKb4kS0b",
        "colab_type": "code",
        "colab": {},
        "outputId": "d48e0cec-4fdb-4ebd-9e89-e335764114bd"
      },
      "source": [
        "data_pop"
      ],
      "execution_count": 0,
      "outputs": [
        {
          "output_type": "execute_result",
          "data": {
            "text/html": [
              "<div>\n",
              "<style scoped>\n",
              "    .dataframe tbody tr th:only-of-type {\n",
              "        vertical-align: middle;\n",
              "    }\n",
              "\n",
              "    .dataframe tbody tr th {\n",
              "        vertical-align: top;\n",
              "    }\n",
              "\n",
              "    .dataframe thead th {\n",
              "        text-align: right;\n",
              "    }\n",
              "</style>\n",
              "<table border=\"1\" class=\"dataframe\">\n",
              "  <thead>\n",
              "    <tr style=\"text-align: right;\">\n",
              "      <th></th>\n",
              "      <th>Country (or dependency)</th>\n",
              "      <th>Population (2020)</th>\n",
              "      <th>Yearly Change</th>\n",
              "      <th>Net Change</th>\n",
              "      <th>Density (P/Km²)</th>\n",
              "      <th>Land Area (Km²)</th>\n",
              "      <th>Migrants (net)</th>\n",
              "      <th>Fert. Rate</th>\n",
              "      <th>Med. Age</th>\n",
              "      <th>Urban Pop %</th>\n",
              "      <th>World Share</th>\n",
              "    </tr>\n",
              "  </thead>\n",
              "  <tbody>\n",
              "    <tr>\n",
              "      <th>0</th>\n",
              "      <td>China</td>\n",
              "      <td>1439323776</td>\n",
              "      <td>0.39%</td>\n",
              "      <td>5540090</td>\n",
              "      <td>153</td>\n",
              "      <td>9388211</td>\n",
              "      <td>-348399.0</td>\n",
              "      <td>1.7</td>\n",
              "      <td>38.0</td>\n",
              "      <td>0.61</td>\n",
              "      <td>18.47%</td>\n",
              "    </tr>\n",
              "    <tr>\n",
              "      <th>1</th>\n",
              "      <td>India</td>\n",
              "      <td>1380004385</td>\n",
              "      <td>0.99%</td>\n",
              "      <td>13586631</td>\n",
              "      <td>464</td>\n",
              "      <td>2973190</td>\n",
              "      <td>-532687.0</td>\n",
              "      <td>2.2</td>\n",
              "      <td>28.0</td>\n",
              "      <td>0.35</td>\n",
              "      <td>17.70%</td>\n",
              "    </tr>\n",
              "    <tr>\n",
              "      <th>2</th>\n",
              "      <td>United States</td>\n",
              "      <td>331002651</td>\n",
              "      <td>0.59%</td>\n",
              "      <td>1937734</td>\n",
              "      <td>36</td>\n",
              "      <td>9147420</td>\n",
              "      <td>954806.0</td>\n",
              "      <td>1.8</td>\n",
              "      <td>38.0</td>\n",
              "      <td>0.83</td>\n",
              "      <td>4.25%</td>\n",
              "    </tr>\n",
              "    <tr>\n",
              "      <th>3</th>\n",
              "      <td>Indonesia</td>\n",
              "      <td>273523615</td>\n",
              "      <td>1.07%</td>\n",
              "      <td>2898047</td>\n",
              "      <td>151</td>\n",
              "      <td>1811570</td>\n",
              "      <td>-98955.0</td>\n",
              "      <td>2.3</td>\n",
              "      <td>30.0</td>\n",
              "      <td>0.56</td>\n",
              "      <td>3.51%</td>\n",
              "    </tr>\n",
              "    <tr>\n",
              "      <th>4</th>\n",
              "      <td>Pakistan</td>\n",
              "      <td>220892340</td>\n",
              "      <td>2.00%</td>\n",
              "      <td>4327022</td>\n",
              "      <td>287</td>\n",
              "      <td>770880</td>\n",
              "      <td>-233379.0</td>\n",
              "      <td>3.6</td>\n",
              "      <td>23.0</td>\n",
              "      <td>0.35</td>\n",
              "      <td>2.83%</td>\n",
              "    </tr>\n",
              "    <tr>\n",
              "      <th>...</th>\n",
              "      <td>...</td>\n",
              "      <td>...</td>\n",
              "      <td>...</td>\n",
              "      <td>...</td>\n",
              "      <td>...</td>\n",
              "      <td>...</td>\n",
              "      <td>...</td>\n",
              "      <td>...</td>\n",
              "      <td>...</td>\n",
              "      <td>...</td>\n",
              "      <td>...</td>\n",
              "    </tr>\n",
              "    <tr>\n",
              "      <th>230</th>\n",
              "      <td>Montserrat</td>\n",
              "      <td>4992</td>\n",
              "      <td>0.06%</td>\n",
              "      <td>3</td>\n",
              "      <td>50</td>\n",
              "      <td>100</td>\n",
              "      <td>NaN</td>\n",
              "      <td>NaN</td>\n",
              "      <td>NaN</td>\n",
              "      <td>0.10</td>\n",
              "      <td>0.00%</td>\n",
              "    </tr>\n",
              "    <tr>\n",
              "      <th>231</th>\n",
              "      <td>Falkland Islands</td>\n",
              "      <td>3480</td>\n",
              "      <td>3.05%</td>\n",
              "      <td>103</td>\n",
              "      <td>0</td>\n",
              "      <td>12170</td>\n",
              "      <td>NaN</td>\n",
              "      <td>NaN</td>\n",
              "      <td>NaN</td>\n",
              "      <td>0.66</td>\n",
              "      <td>0.00%</td>\n",
              "    </tr>\n",
              "    <tr>\n",
              "      <th>232</th>\n",
              "      <td>Niue</td>\n",
              "      <td>1626</td>\n",
              "      <td>0.68%</td>\n",
              "      <td>11</td>\n",
              "      <td>6</td>\n",
              "      <td>260</td>\n",
              "      <td>NaN</td>\n",
              "      <td>NaN</td>\n",
              "      <td>NaN</td>\n",
              "      <td>0.46</td>\n",
              "      <td>0.00%</td>\n",
              "    </tr>\n",
              "    <tr>\n",
              "      <th>233</th>\n",
              "      <td>Tokelau</td>\n",
              "      <td>1357</td>\n",
              "      <td>1.27%</td>\n",
              "      <td>17</td>\n",
              "      <td>136</td>\n",
              "      <td>10</td>\n",
              "      <td>NaN</td>\n",
              "      <td>NaN</td>\n",
              "      <td>NaN</td>\n",
              "      <td>0.00</td>\n",
              "      <td>0.00%</td>\n",
              "    </tr>\n",
              "    <tr>\n",
              "      <th>234</th>\n",
              "      <td>Holy See</td>\n",
              "      <td>801</td>\n",
              "      <td>0.25%</td>\n",
              "      <td>2</td>\n",
              "      <td>2003</td>\n",
              "      <td>0</td>\n",
              "      <td>NaN</td>\n",
              "      <td>NaN</td>\n",
              "      <td>NaN</td>\n",
              "      <td>NaN</td>\n",
              "      <td>0.00%</td>\n",
              "    </tr>\n",
              "  </tbody>\n",
              "</table>\n",
              "<p>235 rows × 11 columns</p>\n",
              "</div>"
            ],
            "text/plain": [
              "    Country (or dependency)  Population (2020) Yearly Change  Net Change  \\\n",
              "0                     China         1439323776         0.39%     5540090   \n",
              "1                     India         1380004385         0.99%    13586631   \n",
              "2             United States          331002651         0.59%     1937734   \n",
              "3                 Indonesia          273523615         1.07%     2898047   \n",
              "4                  Pakistan          220892340         2.00%     4327022   \n",
              "..                      ...                ...           ...         ...   \n",
              "230              Montserrat               4992         0.06%           3   \n",
              "231        Falkland Islands               3480         3.05%         103   \n",
              "232                    Niue               1626         0.68%          11   \n",
              "233                 Tokelau               1357         1.27%          17   \n",
              "234                Holy See                801         0.25%           2   \n",
              "\n",
              "     Density (P/Km²)  Land Area (Km²)  Migrants (net)  Fert. Rate  Med. Age  \\\n",
              "0                153          9388211       -348399.0         1.7      38.0   \n",
              "1                464          2973190       -532687.0         2.2      28.0   \n",
              "2                 36          9147420        954806.0         1.8      38.0   \n",
              "3                151          1811570        -98955.0         2.3      30.0   \n",
              "4                287           770880       -233379.0         3.6      23.0   \n",
              "..               ...              ...             ...         ...       ...   \n",
              "230               50              100             NaN         NaN       NaN   \n",
              "231                0            12170             NaN         NaN       NaN   \n",
              "232                6              260             NaN         NaN       NaN   \n",
              "233              136               10             NaN         NaN       NaN   \n",
              "234             2003                0             NaN         NaN       NaN   \n",
              "\n",
              "     Urban Pop % World Share  \n",
              "0           0.61      18.47%  \n",
              "1           0.35      17.70%  \n",
              "2           0.83       4.25%  \n",
              "3           0.56       3.51%  \n",
              "4           0.35       2.83%  \n",
              "..           ...         ...  \n",
              "230         0.10       0.00%  \n",
              "231         0.66       0.00%  \n",
              "232         0.46       0.00%  \n",
              "233         0.00       0.00%  \n",
              "234          NaN       0.00%  \n",
              "\n",
              "[235 rows x 11 columns]"
            ]
          },
          "metadata": {
            "tags": []
          },
          "execution_count": 123
        }
      ]
    },
    {
      "cell_type": "code",
      "metadata": {
        "id": "76EldkrIkS0e",
        "colab_type": "code",
        "colab": {},
        "outputId": "c11889ba-047f-4575-aef0-ca9e03332cc2"
      },
      "source": [
        "display(data_pop.shape)\n",
        "display(data_pop.info())\n",
        "display(data_pop.head())\n",
        "display(data_pop.describe())"
      ],
      "execution_count": 0,
      "outputs": [
        {
          "output_type": "display_data",
          "data": {
            "text/plain": [
              "(235, 11)"
            ]
          },
          "metadata": {
            "tags": []
          }
        },
        {
          "output_type": "stream",
          "text": [
            "<class 'pandas.core.frame.DataFrame'>\n",
            "RangeIndex: 235 entries, 0 to 234\n",
            "Data columns (total 11 columns):\n",
            "Country (or dependency)    235 non-null object\n",
            "Population (2020)          235 non-null int64\n",
            "Yearly Change              235 non-null object\n",
            "Net Change                 235 non-null int64\n",
            "Density (P/Km²)            235 non-null int64\n",
            "Land Area (Km²)            235 non-null int64\n",
            "Migrants (net)             201 non-null float64\n",
            "Fert. Rate                 201 non-null float64\n",
            "Med. Age                   201 non-null float64\n",
            "Urban Pop %                222 non-null float64\n",
            "World Share                235 non-null object\n",
            "dtypes: float64(4), int64(4), object(3)\n",
            "memory usage: 20.3+ KB\n"
          ],
          "name": "stdout"
        },
        {
          "output_type": "display_data",
          "data": {
            "text/plain": [
              "None"
            ]
          },
          "metadata": {
            "tags": []
          }
        },
        {
          "output_type": "display_data",
          "data": {
            "text/html": [
              "<div>\n",
              "<style scoped>\n",
              "    .dataframe tbody tr th:only-of-type {\n",
              "        vertical-align: middle;\n",
              "    }\n",
              "\n",
              "    .dataframe tbody tr th {\n",
              "        vertical-align: top;\n",
              "    }\n",
              "\n",
              "    .dataframe thead th {\n",
              "        text-align: right;\n",
              "    }\n",
              "</style>\n",
              "<table border=\"1\" class=\"dataframe\">\n",
              "  <thead>\n",
              "    <tr style=\"text-align: right;\">\n",
              "      <th></th>\n",
              "      <th>Country (or dependency)</th>\n",
              "      <th>Population (2020)</th>\n",
              "      <th>Yearly Change</th>\n",
              "      <th>Net Change</th>\n",
              "      <th>Density (P/Km²)</th>\n",
              "      <th>Land Area (Km²)</th>\n",
              "      <th>Migrants (net)</th>\n",
              "      <th>Fert. Rate</th>\n",
              "      <th>Med. Age</th>\n",
              "      <th>Urban Pop %</th>\n",
              "      <th>World Share</th>\n",
              "    </tr>\n",
              "  </thead>\n",
              "  <tbody>\n",
              "    <tr>\n",
              "      <th>0</th>\n",
              "      <td>China</td>\n",
              "      <td>1439323776</td>\n",
              "      <td>0.39%</td>\n",
              "      <td>5540090</td>\n",
              "      <td>153</td>\n",
              "      <td>9388211</td>\n",
              "      <td>-348399.0</td>\n",
              "      <td>1.7</td>\n",
              "      <td>38.0</td>\n",
              "      <td>0.61</td>\n",
              "      <td>18.47%</td>\n",
              "    </tr>\n",
              "    <tr>\n",
              "      <th>1</th>\n",
              "      <td>India</td>\n",
              "      <td>1380004385</td>\n",
              "      <td>0.99%</td>\n",
              "      <td>13586631</td>\n",
              "      <td>464</td>\n",
              "      <td>2973190</td>\n",
              "      <td>-532687.0</td>\n",
              "      <td>2.2</td>\n",
              "      <td>28.0</td>\n",
              "      <td>0.35</td>\n",
              "      <td>17.70%</td>\n",
              "    </tr>\n",
              "    <tr>\n",
              "      <th>2</th>\n",
              "      <td>United States</td>\n",
              "      <td>331002651</td>\n",
              "      <td>0.59%</td>\n",
              "      <td>1937734</td>\n",
              "      <td>36</td>\n",
              "      <td>9147420</td>\n",
              "      <td>954806.0</td>\n",
              "      <td>1.8</td>\n",
              "      <td>38.0</td>\n",
              "      <td>0.83</td>\n",
              "      <td>4.25%</td>\n",
              "    </tr>\n",
              "    <tr>\n",
              "      <th>3</th>\n",
              "      <td>Indonesia</td>\n",
              "      <td>273523615</td>\n",
              "      <td>1.07%</td>\n",
              "      <td>2898047</td>\n",
              "      <td>151</td>\n",
              "      <td>1811570</td>\n",
              "      <td>-98955.0</td>\n",
              "      <td>2.3</td>\n",
              "      <td>30.0</td>\n",
              "      <td>0.56</td>\n",
              "      <td>3.51%</td>\n",
              "    </tr>\n",
              "    <tr>\n",
              "      <th>4</th>\n",
              "      <td>Pakistan</td>\n",
              "      <td>220892340</td>\n",
              "      <td>2.00%</td>\n",
              "      <td>4327022</td>\n",
              "      <td>287</td>\n",
              "      <td>770880</td>\n",
              "      <td>-233379.0</td>\n",
              "      <td>3.6</td>\n",
              "      <td>23.0</td>\n",
              "      <td>0.35</td>\n",
              "      <td>2.83%</td>\n",
              "    </tr>\n",
              "  </tbody>\n",
              "</table>\n",
              "</div>"
            ],
            "text/plain": [
              "  Country (or dependency)  Population (2020) Yearly Change  Net Change  \\\n",
              "0                   China         1439323776         0.39%     5540090   \n",
              "1                   India         1380004385         0.99%    13586631   \n",
              "2           United States          331002651         0.59%     1937734   \n",
              "3               Indonesia          273523615         1.07%     2898047   \n",
              "4                Pakistan          220892340         2.00%     4327022   \n",
              "\n",
              "   Density (P/Km²)  Land Area (Km²)  Migrants (net)  Fert. Rate  Med. Age  \\\n",
              "0              153          9388211       -348399.0         1.7      38.0   \n",
              "1              464          2973190       -532687.0         2.2      28.0   \n",
              "2               36          9147420        954806.0         1.8      38.0   \n",
              "3              151          1811570        -98955.0         2.3      30.0   \n",
              "4              287           770880       -233379.0         3.6      23.0   \n",
              "\n",
              "   Urban Pop % World Share  \n",
              "0         0.61      18.47%  \n",
              "1         0.35      17.70%  \n",
              "2         0.83       4.25%  \n",
              "3         0.56       3.51%  \n",
              "4         0.35       2.83%  "
            ]
          },
          "metadata": {
            "tags": []
          }
        },
        {
          "output_type": "display_data",
          "data": {
            "text/html": [
              "<div>\n",
              "<style scoped>\n",
              "    .dataframe tbody tr th:only-of-type {\n",
              "        vertical-align: middle;\n",
              "    }\n",
              "\n",
              "    .dataframe tbody tr th {\n",
              "        vertical-align: top;\n",
              "    }\n",
              "\n",
              "    .dataframe thead th {\n",
              "        text-align: right;\n",
              "    }\n",
              "</style>\n",
              "<table border=\"1\" class=\"dataframe\">\n",
              "  <thead>\n",
              "    <tr style=\"text-align: right;\">\n",
              "      <th></th>\n",
              "      <th>Population (2020)</th>\n",
              "      <th>Net Change</th>\n",
              "      <th>Density (P/Km²)</th>\n",
              "      <th>Land Area (Km²)</th>\n",
              "      <th>Migrants (net)</th>\n",
              "      <th>Fert. Rate</th>\n",
              "      <th>Med. Age</th>\n",
              "      <th>Urban Pop %</th>\n",
              "    </tr>\n",
              "  </thead>\n",
              "  <tbody>\n",
              "    <tr>\n",
              "      <th>count</th>\n",
              "      <td>2.350000e+02</td>\n",
              "      <td>2.350000e+02</td>\n",
              "      <td>235.000000</td>\n",
              "      <td>2.350000e+02</td>\n",
              "      <td>201.000000</td>\n",
              "      <td>201.000000</td>\n",
              "      <td>201.000000</td>\n",
              "      <td>222.000000</td>\n",
              "    </tr>\n",
              "    <tr>\n",
              "      <th>mean</th>\n",
              "      <td>3.316936e+07</td>\n",
              "      <td>3.460878e+05</td>\n",
              "      <td>475.770213</td>\n",
              "      <td>5.535918e+05</td>\n",
              "      <td>6.283582</td>\n",
              "      <td>2.693035</td>\n",
              "      <td>30.606965</td>\n",
              "      <td>0.592342</td>\n",
              "    </tr>\n",
              "    <tr>\n",
              "      <th>std</th>\n",
              "      <td>1.351374e+08</td>\n",
              "      <td>1.128260e+06</td>\n",
              "      <td>2331.285935</td>\n",
              "      <td>1.687796e+06</td>\n",
              "      <td>123291.887548</td>\n",
              "      <td>1.264496</td>\n",
              "      <td>9.127965</td>\n",
              "      <td>0.242304</td>\n",
              "    </tr>\n",
              "    <tr>\n",
              "      <th>min</th>\n",
              "      <td>8.010000e+02</td>\n",
              "      <td>-3.838400e+05</td>\n",
              "      <td>0.000000</td>\n",
              "      <td>0.000000e+00</td>\n",
              "      <td>-653249.000000</td>\n",
              "      <td>1.100000</td>\n",
              "      <td>15.000000</td>\n",
              "      <td>0.000000</td>\n",
              "    </tr>\n",
              "    <tr>\n",
              "      <th>25%</th>\n",
              "      <td>3.988760e+05</td>\n",
              "      <td>4.240000e+02</td>\n",
              "      <td>37.000000</td>\n",
              "      <td>2.545000e+03</td>\n",
              "      <td>-10047.000000</td>\n",
              "      <td>1.700000</td>\n",
              "      <td>22.000000</td>\n",
              "      <td>0.430000</td>\n",
              "    </tr>\n",
              "    <tr>\n",
              "      <th>50%</th>\n",
              "      <td>5.459642e+06</td>\n",
              "      <td>3.917000e+04</td>\n",
              "      <td>95.000000</td>\n",
              "      <td>7.724000e+04</td>\n",
              "      <td>-852.000000</td>\n",
              "      <td>2.300000</td>\n",
              "      <td>30.000000</td>\n",
              "      <td>0.605000</td>\n",
              "    </tr>\n",
              "    <tr>\n",
              "      <th>75%</th>\n",
              "      <td>2.057705e+07</td>\n",
              "      <td>2.496600e+05</td>\n",
              "      <td>239.500000</td>\n",
              "      <td>4.038200e+05</td>\n",
              "      <td>9741.000000</td>\n",
              "      <td>3.600000</td>\n",
              "      <td>39.000000</td>\n",
              "      <td>0.790000</td>\n",
              "    </tr>\n",
              "    <tr>\n",
              "      <th>max</th>\n",
              "      <td>1.439324e+09</td>\n",
              "      <td>1.358663e+07</td>\n",
              "      <td>26337.000000</td>\n",
              "      <td>1.637687e+07</td>\n",
              "      <td>954806.000000</td>\n",
              "      <td>7.000000</td>\n",
              "      <td>48.000000</td>\n",
              "      <td>1.000000</td>\n",
              "    </tr>\n",
              "  </tbody>\n",
              "</table>\n",
              "</div>"
            ],
            "text/plain": [
              "       Population (2020)    Net Change  Density (P/Km²)  Land Area (Km²)  \\\n",
              "count       2.350000e+02  2.350000e+02       235.000000     2.350000e+02   \n",
              "mean        3.316936e+07  3.460878e+05       475.770213     5.535918e+05   \n",
              "std         1.351374e+08  1.128260e+06      2331.285935     1.687796e+06   \n",
              "min         8.010000e+02 -3.838400e+05         0.000000     0.000000e+00   \n",
              "25%         3.988760e+05  4.240000e+02        37.000000     2.545000e+03   \n",
              "50%         5.459642e+06  3.917000e+04        95.000000     7.724000e+04   \n",
              "75%         2.057705e+07  2.496600e+05       239.500000     4.038200e+05   \n",
              "max         1.439324e+09  1.358663e+07     26337.000000     1.637687e+07   \n",
              "\n",
              "       Migrants (net)  Fert. Rate    Med. Age  Urban Pop %  \n",
              "count      201.000000  201.000000  201.000000   222.000000  \n",
              "mean         6.283582    2.693035   30.606965     0.592342  \n",
              "std     123291.887548    1.264496    9.127965     0.242304  \n",
              "min    -653249.000000    1.100000   15.000000     0.000000  \n",
              "25%     -10047.000000    1.700000   22.000000     0.430000  \n",
              "50%       -852.000000    2.300000   30.000000     0.605000  \n",
              "75%       9741.000000    3.600000   39.000000     0.790000  \n",
              "max     954806.000000    7.000000   48.000000     1.000000  "
            ]
          },
          "metadata": {
            "tags": []
          }
        }
      ]
    },
    {
      "cell_type": "code",
      "metadata": {
        "id": "ALxydBqXkS0h",
        "colab_type": "code",
        "colab": {}
      },
      "source": [
        "data_pop.rename(columns={'Country (or dependency)': 'country',\n",
        "                             'Population (2020)' : 'population',\n",
        "                             'Density (P/Km²)' : 'density',\n",
        "                             'Fert. Rate' : 'fertility',\n",
        "                             'Med. Age' : \"age\",\n",
        "                             'Urban Pop %' : 'urban percentage'}, inplace=True)\n",
        "data_pop['country'] = data_pop['country'].replace('United States', 'US')\n",
        "data_pop = data_pop[[\"country\", \"population\", \"density\", \"fertility\", \"age\", \"urban percentage\"]]"
      ],
      "execution_count": 0,
      "outputs": []
    },
    {
      "cell_type": "code",
      "metadata": {
        "id": "tJi2EcCbkS0n",
        "colab_type": "code",
        "colab": {},
        "outputId": "44c95c58-b73e-40f3-cd51-957fd9dc25d6"
      },
      "source": [
        "display(data_pop.shape)\n",
        "display(data_pop.info())\n",
        "display(data_pop.head())\n",
        "display(data_pop.describe())"
      ],
      "execution_count": 0,
      "outputs": [
        {
          "output_type": "display_data",
          "data": {
            "text/plain": [
              "(235, 6)"
            ]
          },
          "metadata": {
            "tags": []
          }
        },
        {
          "output_type": "stream",
          "text": [
            "<class 'pandas.core.frame.DataFrame'>\n",
            "RangeIndex: 235 entries, 0 to 234\n",
            "Data columns (total 6 columns):\n",
            "country             235 non-null object\n",
            "population          235 non-null int64\n",
            "density             235 non-null int64\n",
            "fertility           201 non-null float64\n",
            "age                 201 non-null float64\n",
            "urban percentage    222 non-null float64\n",
            "dtypes: float64(3), int64(2), object(1)\n",
            "memory usage: 11.1+ KB\n"
          ],
          "name": "stdout"
        },
        {
          "output_type": "display_data",
          "data": {
            "text/plain": [
              "None"
            ]
          },
          "metadata": {
            "tags": []
          }
        },
        {
          "output_type": "display_data",
          "data": {
            "text/html": [
              "<div>\n",
              "<style scoped>\n",
              "    .dataframe tbody tr th:only-of-type {\n",
              "        vertical-align: middle;\n",
              "    }\n",
              "\n",
              "    .dataframe tbody tr th {\n",
              "        vertical-align: top;\n",
              "    }\n",
              "\n",
              "    .dataframe thead th {\n",
              "        text-align: right;\n",
              "    }\n",
              "</style>\n",
              "<table border=\"1\" class=\"dataframe\">\n",
              "  <thead>\n",
              "    <tr style=\"text-align: right;\">\n",
              "      <th></th>\n",
              "      <th>country</th>\n",
              "      <th>population</th>\n",
              "      <th>density</th>\n",
              "      <th>fertility</th>\n",
              "      <th>age</th>\n",
              "      <th>urban percentage</th>\n",
              "    </tr>\n",
              "  </thead>\n",
              "  <tbody>\n",
              "    <tr>\n",
              "      <th>0</th>\n",
              "      <td>China</td>\n",
              "      <td>1439323776</td>\n",
              "      <td>153</td>\n",
              "      <td>1.7</td>\n",
              "      <td>38.0</td>\n",
              "      <td>0.61</td>\n",
              "    </tr>\n",
              "    <tr>\n",
              "      <th>1</th>\n",
              "      <td>India</td>\n",
              "      <td>1380004385</td>\n",
              "      <td>464</td>\n",
              "      <td>2.2</td>\n",
              "      <td>28.0</td>\n",
              "      <td>0.35</td>\n",
              "    </tr>\n",
              "    <tr>\n",
              "      <th>2</th>\n",
              "      <td>US</td>\n",
              "      <td>331002651</td>\n",
              "      <td>36</td>\n",
              "      <td>1.8</td>\n",
              "      <td>38.0</td>\n",
              "      <td>0.83</td>\n",
              "    </tr>\n",
              "    <tr>\n",
              "      <th>3</th>\n",
              "      <td>Indonesia</td>\n",
              "      <td>273523615</td>\n",
              "      <td>151</td>\n",
              "      <td>2.3</td>\n",
              "      <td>30.0</td>\n",
              "      <td>0.56</td>\n",
              "    </tr>\n",
              "    <tr>\n",
              "      <th>4</th>\n",
              "      <td>Pakistan</td>\n",
              "      <td>220892340</td>\n",
              "      <td>287</td>\n",
              "      <td>3.6</td>\n",
              "      <td>23.0</td>\n",
              "      <td>0.35</td>\n",
              "    </tr>\n",
              "  </tbody>\n",
              "</table>\n",
              "</div>"
            ],
            "text/plain": [
              "     country  population  density  fertility   age  urban percentage\n",
              "0      China  1439323776      153        1.7  38.0              0.61\n",
              "1      India  1380004385      464        2.2  28.0              0.35\n",
              "2         US   331002651       36        1.8  38.0              0.83\n",
              "3  Indonesia   273523615      151        2.3  30.0              0.56\n",
              "4   Pakistan   220892340      287        3.6  23.0              0.35"
            ]
          },
          "metadata": {
            "tags": []
          }
        },
        {
          "output_type": "display_data",
          "data": {
            "text/html": [
              "<div>\n",
              "<style scoped>\n",
              "    .dataframe tbody tr th:only-of-type {\n",
              "        vertical-align: middle;\n",
              "    }\n",
              "\n",
              "    .dataframe tbody tr th {\n",
              "        vertical-align: top;\n",
              "    }\n",
              "\n",
              "    .dataframe thead th {\n",
              "        text-align: right;\n",
              "    }\n",
              "</style>\n",
              "<table border=\"1\" class=\"dataframe\">\n",
              "  <thead>\n",
              "    <tr style=\"text-align: right;\">\n",
              "      <th></th>\n",
              "      <th>population</th>\n",
              "      <th>density</th>\n",
              "      <th>fertility</th>\n",
              "      <th>age</th>\n",
              "      <th>urban percentage</th>\n",
              "    </tr>\n",
              "  </thead>\n",
              "  <tbody>\n",
              "    <tr>\n",
              "      <th>count</th>\n",
              "      <td>2.350000e+02</td>\n",
              "      <td>235.000000</td>\n",
              "      <td>201.000000</td>\n",
              "      <td>201.000000</td>\n",
              "      <td>222.000000</td>\n",
              "    </tr>\n",
              "    <tr>\n",
              "      <th>mean</th>\n",
              "      <td>3.316936e+07</td>\n",
              "      <td>475.770213</td>\n",
              "      <td>2.693035</td>\n",
              "      <td>30.606965</td>\n",
              "      <td>0.592342</td>\n",
              "    </tr>\n",
              "    <tr>\n",
              "      <th>std</th>\n",
              "      <td>1.351374e+08</td>\n",
              "      <td>2331.285935</td>\n",
              "      <td>1.264496</td>\n",
              "      <td>9.127965</td>\n",
              "      <td>0.242304</td>\n",
              "    </tr>\n",
              "    <tr>\n",
              "      <th>min</th>\n",
              "      <td>8.010000e+02</td>\n",
              "      <td>0.000000</td>\n",
              "      <td>1.100000</td>\n",
              "      <td>15.000000</td>\n",
              "      <td>0.000000</td>\n",
              "    </tr>\n",
              "    <tr>\n",
              "      <th>25%</th>\n",
              "      <td>3.988760e+05</td>\n",
              "      <td>37.000000</td>\n",
              "      <td>1.700000</td>\n",
              "      <td>22.000000</td>\n",
              "      <td>0.430000</td>\n",
              "    </tr>\n",
              "    <tr>\n",
              "      <th>50%</th>\n",
              "      <td>5.459642e+06</td>\n",
              "      <td>95.000000</td>\n",
              "      <td>2.300000</td>\n",
              "      <td>30.000000</td>\n",
              "      <td>0.605000</td>\n",
              "    </tr>\n",
              "    <tr>\n",
              "      <th>75%</th>\n",
              "      <td>2.057705e+07</td>\n",
              "      <td>239.500000</td>\n",
              "      <td>3.600000</td>\n",
              "      <td>39.000000</td>\n",
              "      <td>0.790000</td>\n",
              "    </tr>\n",
              "    <tr>\n",
              "      <th>max</th>\n",
              "      <td>1.439324e+09</td>\n",
              "      <td>26337.000000</td>\n",
              "      <td>7.000000</td>\n",
              "      <td>48.000000</td>\n",
              "      <td>1.000000</td>\n",
              "    </tr>\n",
              "  </tbody>\n",
              "</table>\n",
              "</div>"
            ],
            "text/plain": [
              "         population       density   fertility         age  urban percentage\n",
              "count  2.350000e+02    235.000000  201.000000  201.000000        222.000000\n",
              "mean   3.316936e+07    475.770213    2.693035   30.606965          0.592342\n",
              "std    1.351374e+08   2331.285935    1.264496    9.127965          0.242304\n",
              "min    8.010000e+02      0.000000    1.100000   15.000000          0.000000\n",
              "25%    3.988760e+05     37.000000    1.700000   22.000000          0.430000\n",
              "50%    5.459642e+06     95.000000    2.300000   30.000000          0.605000\n",
              "75%    2.057705e+07    239.500000    3.600000   39.000000          0.790000\n",
              "max    1.439324e+09  26337.000000    7.000000   48.000000          1.000000"
            ]
          },
          "metadata": {
            "tags": []
          }
        }
      ]
    },
    {
      "cell_type": "markdown",
      "metadata": {
        "id": "e7XDSk1mkS0u",
        "colab_type": "text"
      },
      "source": [
        "***Inference***\n",
        "\n",
        "Looking at the above info, i feel most of the data is cleaned to the relevance"
      ]
    },
    {
      "cell_type": "markdown",
      "metadata": {
        "id": "SFvjc9-qkS0u",
        "colab_type": "text"
      },
      "source": [
        "#### Merging the Population Data with the original data"
      ]
    },
    {
      "cell_type": "code",
      "metadata": {
        "id": "4IZTQlNKkS0v",
        "colab_type": "code",
        "colab": {}
      },
      "source": [
        "data = pd.merge(data, data_pop, on='country')"
      ],
      "execution_count": 0,
      "outputs": []
    },
    {
      "cell_type": "code",
      "metadata": {
        "id": "YuDslI2tkS0y",
        "colab_type": "code",
        "colab": {},
        "outputId": "17be34fb-139b-46d8-c001-7cf952647698"
      },
      "source": [
        "data"
      ],
      "execution_count": 0,
      "outputs": [
        {
          "output_type": "execute_result",
          "data": {
            "text/html": [
              "<div>\n",
              "<style scoped>\n",
              "    .dataframe tbody tr th:only-of-type {\n",
              "        vertical-align: middle;\n",
              "    }\n",
              "\n",
              "    .dataframe tbody tr th {\n",
              "        vertical-align: top;\n",
              "    }\n",
              "\n",
              "    .dataframe thead th {\n",
              "        text-align: right;\n",
              "    }\n",
              "</style>\n",
              "<table border=\"1\" class=\"dataframe\">\n",
              "  <thead>\n",
              "    <tr style=\"text-align: right;\">\n",
              "      <th></th>\n",
              "      <th>state</th>\n",
              "      <th>country</th>\n",
              "      <th>lat</th>\n",
              "      <th>long</th>\n",
              "      <th>date</th>\n",
              "      <th>confirmed</th>\n",
              "      <th>deaths</th>\n",
              "      <th>recovered</th>\n",
              "      <th>active</th>\n",
              "      <th>population</th>\n",
              "      <th>density</th>\n",
              "      <th>fertility</th>\n",
              "      <th>age</th>\n",
              "      <th>urban percentage</th>\n",
              "    </tr>\n",
              "  </thead>\n",
              "  <tbody>\n",
              "    <tr>\n",
              "      <th>0</th>\n",
              "      <td></td>\n",
              "      <td>Afghanistan</td>\n",
              "      <td>33.000000</td>\n",
              "      <td>65.000000</td>\n",
              "      <td>2020-01-22</td>\n",
              "      <td>0</td>\n",
              "      <td>0</td>\n",
              "      <td>0</td>\n",
              "      <td>0</td>\n",
              "      <td>38928346</td>\n",
              "      <td>60</td>\n",
              "      <td>4.6</td>\n",
              "      <td>18.0</td>\n",
              "      <td>0.25</td>\n",
              "    </tr>\n",
              "    <tr>\n",
              "      <th>1</th>\n",
              "      <td></td>\n",
              "      <td>Afghanistan</td>\n",
              "      <td>33.000000</td>\n",
              "      <td>65.000000</td>\n",
              "      <td>2020-01-23</td>\n",
              "      <td>0</td>\n",
              "      <td>0</td>\n",
              "      <td>0</td>\n",
              "      <td>0</td>\n",
              "      <td>38928346</td>\n",
              "      <td>60</td>\n",
              "      <td>4.6</td>\n",
              "      <td>18.0</td>\n",
              "      <td>0.25</td>\n",
              "    </tr>\n",
              "    <tr>\n",
              "      <th>2</th>\n",
              "      <td></td>\n",
              "      <td>Afghanistan</td>\n",
              "      <td>33.000000</td>\n",
              "      <td>65.000000</td>\n",
              "      <td>2020-01-24</td>\n",
              "      <td>0</td>\n",
              "      <td>0</td>\n",
              "      <td>0</td>\n",
              "      <td>0</td>\n",
              "      <td>38928346</td>\n",
              "      <td>60</td>\n",
              "      <td>4.6</td>\n",
              "      <td>18.0</td>\n",
              "      <td>0.25</td>\n",
              "    </tr>\n",
              "    <tr>\n",
              "      <th>3</th>\n",
              "      <td></td>\n",
              "      <td>Afghanistan</td>\n",
              "      <td>33.000000</td>\n",
              "      <td>65.000000</td>\n",
              "      <td>2020-01-25</td>\n",
              "      <td>0</td>\n",
              "      <td>0</td>\n",
              "      <td>0</td>\n",
              "      <td>0</td>\n",
              "      <td>38928346</td>\n",
              "      <td>60</td>\n",
              "      <td>4.6</td>\n",
              "      <td>18.0</td>\n",
              "      <td>0.25</td>\n",
              "    </tr>\n",
              "    <tr>\n",
              "      <th>4</th>\n",
              "      <td></td>\n",
              "      <td>Afghanistan</td>\n",
              "      <td>33.000000</td>\n",
              "      <td>65.000000</td>\n",
              "      <td>2020-01-26</td>\n",
              "      <td>0</td>\n",
              "      <td>0</td>\n",
              "      <td>0</td>\n",
              "      <td>0</td>\n",
              "      <td>38928346</td>\n",
              "      <td>60</td>\n",
              "      <td>4.6</td>\n",
              "      <td>18.0</td>\n",
              "      <td>0.25</td>\n",
              "    </tr>\n",
              "    <tr>\n",
              "      <th>...</th>\n",
              "      <td>...</td>\n",
              "      <td>...</td>\n",
              "      <td>...</td>\n",
              "      <td>...</td>\n",
              "      <td>...</td>\n",
              "      <td>...</td>\n",
              "      <td>...</td>\n",
              "      <td>...</td>\n",
              "      <td>...</td>\n",
              "      <td>...</td>\n",
              "      <td>...</td>\n",
              "      <td>...</td>\n",
              "      <td>...</td>\n",
              "      <td>...</td>\n",
              "    </tr>\n",
              "    <tr>\n",
              "      <th>22811</th>\n",
              "      <td></td>\n",
              "      <td>Yemen</td>\n",
              "      <td>15.552727</td>\n",
              "      <td>48.516388</td>\n",
              "      <td>2020-04-18</td>\n",
              "      <td>1</td>\n",
              "      <td>0</td>\n",
              "      <td>0</td>\n",
              "      <td>1</td>\n",
              "      <td>29825964</td>\n",
              "      <td>56</td>\n",
              "      <td>3.8</td>\n",
              "      <td>20.0</td>\n",
              "      <td>0.38</td>\n",
              "    </tr>\n",
              "    <tr>\n",
              "      <th>22812</th>\n",
              "      <td></td>\n",
              "      <td>Yemen</td>\n",
              "      <td>15.552727</td>\n",
              "      <td>48.516388</td>\n",
              "      <td>2020-04-19</td>\n",
              "      <td>1</td>\n",
              "      <td>0</td>\n",
              "      <td>0</td>\n",
              "      <td>1</td>\n",
              "      <td>29825964</td>\n",
              "      <td>56</td>\n",
              "      <td>3.8</td>\n",
              "      <td>20.0</td>\n",
              "      <td>0.38</td>\n",
              "    </tr>\n",
              "    <tr>\n",
              "      <th>22813</th>\n",
              "      <td></td>\n",
              "      <td>Yemen</td>\n",
              "      <td>15.552727</td>\n",
              "      <td>48.516388</td>\n",
              "      <td>2020-04-20</td>\n",
              "      <td>1</td>\n",
              "      <td>0</td>\n",
              "      <td>0</td>\n",
              "      <td>1</td>\n",
              "      <td>29825964</td>\n",
              "      <td>56</td>\n",
              "      <td>3.8</td>\n",
              "      <td>20.0</td>\n",
              "      <td>0.38</td>\n",
              "    </tr>\n",
              "    <tr>\n",
              "      <th>22814</th>\n",
              "      <td></td>\n",
              "      <td>Yemen</td>\n",
              "      <td>15.552727</td>\n",
              "      <td>48.516388</td>\n",
              "      <td>2020-04-21</td>\n",
              "      <td>1</td>\n",
              "      <td>0</td>\n",
              "      <td>0</td>\n",
              "      <td>1</td>\n",
              "      <td>29825964</td>\n",
              "      <td>56</td>\n",
              "      <td>3.8</td>\n",
              "      <td>20.0</td>\n",
              "      <td>0.38</td>\n",
              "    </tr>\n",
              "    <tr>\n",
              "      <th>22815</th>\n",
              "      <td></td>\n",
              "      <td>Yemen</td>\n",
              "      <td>15.552727</td>\n",
              "      <td>48.516388</td>\n",
              "      <td>2020-04-22</td>\n",
              "      <td>1</td>\n",
              "      <td>0</td>\n",
              "      <td>0</td>\n",
              "      <td>1</td>\n",
              "      <td>29825964</td>\n",
              "      <td>56</td>\n",
              "      <td>3.8</td>\n",
              "      <td>20.0</td>\n",
              "      <td>0.38</td>\n",
              "    </tr>\n",
              "  </tbody>\n",
              "</table>\n",
              "<p>22816 rows × 14 columns</p>\n",
              "</div>"
            ],
            "text/plain": [
              "      state      country        lat       long       date  confirmed  deaths  \\\n",
              "0            Afghanistan  33.000000  65.000000 2020-01-22          0       0   \n",
              "1            Afghanistan  33.000000  65.000000 2020-01-23          0       0   \n",
              "2            Afghanistan  33.000000  65.000000 2020-01-24          0       0   \n",
              "3            Afghanistan  33.000000  65.000000 2020-01-25          0       0   \n",
              "4            Afghanistan  33.000000  65.000000 2020-01-26          0       0   \n",
              "...     ...          ...        ...        ...        ...        ...     ...   \n",
              "22811              Yemen  15.552727  48.516388 2020-04-18          1       0   \n",
              "22812              Yemen  15.552727  48.516388 2020-04-19          1       0   \n",
              "22813              Yemen  15.552727  48.516388 2020-04-20          1       0   \n",
              "22814              Yemen  15.552727  48.516388 2020-04-21          1       0   \n",
              "22815              Yemen  15.552727  48.516388 2020-04-22          1       0   \n",
              "\n",
              "       recovered  active  population  density  fertility   age  \\\n",
              "0              0       0    38928346       60        4.6  18.0   \n",
              "1              0       0    38928346       60        4.6  18.0   \n",
              "2              0       0    38928346       60        4.6  18.0   \n",
              "3              0       0    38928346       60        4.6  18.0   \n",
              "4              0       0    38928346       60        4.6  18.0   \n",
              "...          ...     ...         ...      ...        ...   ...   \n",
              "22811          0       1    29825964       56        3.8  20.0   \n",
              "22812          0       1    29825964       56        3.8  20.0   \n",
              "22813          0       1    29825964       56        3.8  20.0   \n",
              "22814          0       1    29825964       56        3.8  20.0   \n",
              "22815          0       1    29825964       56        3.8  20.0   \n",
              "\n",
              "       urban percentage  \n",
              "0                  0.25  \n",
              "1                  0.25  \n",
              "2                  0.25  \n",
              "3                  0.25  \n",
              "4                  0.25  \n",
              "...                 ...  \n",
              "22811              0.38  \n",
              "22812              0.38  \n",
              "22813              0.38  \n",
              "22814              0.38  \n",
              "22815              0.38  \n",
              "\n",
              "[22816 rows x 14 columns]"
            ]
          },
          "metadata": {
            "tags": []
          },
          "execution_count": 128
        }
      ]
    },
    {
      "cell_type": "markdown",
      "metadata": {
        "id": "I3-Z_JBGkS01",
        "colab_type": "text"
      },
      "source": [
        "#### Bar chart - Infection Rate of the top 10 least populated countries"
      ]
    },
    {
      "cell_type": "code",
      "metadata": {
        "id": "qfFquqwQkS01",
        "colab_type": "code",
        "colab": {},
        "outputId": "fb3855f0-3b2d-4143-9ee5-25dea1ce75f5"
      },
      "source": [
        "data_ir_ld = data[data['date'] == max(data['date'])]\n",
        "data_ir = data_ir_ld.groupby('country')['confirmed', 'population'].agg({'confirmed':'sum','deaths':'sum',\n",
        "                                                                        'recovered':'sum','density':'mean',\n",
        "                                                                        'age':'mean','urban percentage':'mean',\n",
        "                                                                        'population':'mean'}).reset_index()\n",
        "\n",
        "data_ir['infectionRate'] = round((data_ir['confirmed']/data_ir['population'])*100, 5)\n",
        "data_ir['mortalityRate'] = round((data_ir['deaths']/data_ir['confirmed']),2)\n",
        "temp = data_ir[data_ir['confirmed']>100]\n",
        "temp = temp.sort_values('infectionRate', ascending=False)\n",
        "\n",
        "fig = px.bar(temp.sort_values(by=\"infectionRate\", ascending=False)[:10][::-1],\n",
        "             x = 'infectionRate', y = 'country', \n",
        "             title='% of infected people by country', text='infectionRate', height=500, orientation='h',\n",
        "             color_discrete_sequence=['red']\n",
        "            )\n",
        "fig.show()"
      ],
      "execution_count": 0,
      "outputs": [
        {
          "output_type": "display_data",
          "data": {
            "application/vnd.plotly.v1+json": {
              "config": {
                "plotlyServerURL": "https://plot.ly"
              },
              "data": [
                {
                  "alignmentgroup": "True",
                  "hovertemplate": "infectionRate=%{text}<br>country=%{y}<extra></extra>",
                  "legendgroup": "",
                  "marker": {
                    "color": "red"
                  },
                  "name": "",
                  "offsetgroup": "",
                  "orientation": "h",
                  "showlegend": false,
                  "text": [
                    0.25368,
                    0.30983,
                    0.32662,
                    0.33762,
                    0.36144,
                    0.44571,
                    0.52309,
                    0.58373,
                    0.93574,
                    1.43821
                  ],
                  "textposition": "auto",
                  "type": "bar",
                  "x": [
                    0.25368,
                    0.30983,
                    0.32662,
                    0.33762,
                    0.36144,
                    0.44571,
                    0.52309,
                    0.58373,
                    0.93574,
                    1.43821
                  ],
                  "xaxis": "x",
                  "y": [
                    "US",
                    "Italy",
                    "Switzerland",
                    "Ireland",
                    "Belgium",
                    "Spain",
                    "Iceland",
                    "Luxembourg",
                    "Andorra",
                    "San Marino"
                  ],
                  "yaxis": "y"
                }
              ],
              "layout": {
                "barmode": "relative",
                "height": 500,
                "legend": {
                  "tracegroupgap": 0
                },
                "template": {
                  "data": {
                    "bar": [
                      {
                        "error_x": {
                          "color": "#f2f5fa"
                        },
                        "error_y": {
                          "color": "#f2f5fa"
                        },
                        "marker": {
                          "line": {
                            "color": "rgb(17,17,17)",
                            "width": 0.5
                          }
                        },
                        "type": "bar"
                      }
                    ],
                    "barpolar": [
                      {
                        "marker": {
                          "line": {
                            "color": "rgb(17,17,17)",
                            "width": 0.5
                          }
                        },
                        "type": "barpolar"
                      }
                    ],
                    "carpet": [
                      {
                        "aaxis": {
                          "endlinecolor": "#A2B1C6",
                          "gridcolor": "#506784",
                          "linecolor": "#506784",
                          "minorgridcolor": "#506784",
                          "startlinecolor": "#A2B1C6"
                        },
                        "baxis": {
                          "endlinecolor": "#A2B1C6",
                          "gridcolor": "#506784",
                          "linecolor": "#506784",
                          "minorgridcolor": "#506784",
                          "startlinecolor": "#A2B1C6"
                        },
                        "type": "carpet"
                      }
                    ],
                    "choropleth": [
                      {
                        "colorbar": {
                          "outlinewidth": 0,
                          "ticks": ""
                        },
                        "type": "choropleth"
                      }
                    ],
                    "contour": [
                      {
                        "colorbar": {
                          "outlinewidth": 0,
                          "ticks": ""
                        },
                        "colorscale": [
                          [
                            0,
                            "#0d0887"
                          ],
                          [
                            0.1111111111111111,
                            "#46039f"
                          ],
                          [
                            0.2222222222222222,
                            "#7201a8"
                          ],
                          [
                            0.3333333333333333,
                            "#9c179e"
                          ],
                          [
                            0.4444444444444444,
                            "#bd3786"
                          ],
                          [
                            0.5555555555555556,
                            "#d8576b"
                          ],
                          [
                            0.6666666666666666,
                            "#ed7953"
                          ],
                          [
                            0.7777777777777778,
                            "#fb9f3a"
                          ],
                          [
                            0.8888888888888888,
                            "#fdca26"
                          ],
                          [
                            1,
                            "#f0f921"
                          ]
                        ],
                        "type": "contour"
                      }
                    ],
                    "contourcarpet": [
                      {
                        "colorbar": {
                          "outlinewidth": 0,
                          "ticks": ""
                        },
                        "type": "contourcarpet"
                      }
                    ],
                    "heatmap": [
                      {
                        "colorbar": {
                          "outlinewidth": 0,
                          "ticks": ""
                        },
                        "colorscale": [
                          [
                            0,
                            "#0d0887"
                          ],
                          [
                            0.1111111111111111,
                            "#46039f"
                          ],
                          [
                            0.2222222222222222,
                            "#7201a8"
                          ],
                          [
                            0.3333333333333333,
                            "#9c179e"
                          ],
                          [
                            0.4444444444444444,
                            "#bd3786"
                          ],
                          [
                            0.5555555555555556,
                            "#d8576b"
                          ],
                          [
                            0.6666666666666666,
                            "#ed7953"
                          ],
                          [
                            0.7777777777777778,
                            "#fb9f3a"
                          ],
                          [
                            0.8888888888888888,
                            "#fdca26"
                          ],
                          [
                            1,
                            "#f0f921"
                          ]
                        ],
                        "type": "heatmap"
                      }
                    ],
                    "heatmapgl": [
                      {
                        "colorbar": {
                          "outlinewidth": 0,
                          "ticks": ""
                        },
                        "colorscale": [
                          [
                            0,
                            "#0d0887"
                          ],
                          [
                            0.1111111111111111,
                            "#46039f"
                          ],
                          [
                            0.2222222222222222,
                            "#7201a8"
                          ],
                          [
                            0.3333333333333333,
                            "#9c179e"
                          ],
                          [
                            0.4444444444444444,
                            "#bd3786"
                          ],
                          [
                            0.5555555555555556,
                            "#d8576b"
                          ],
                          [
                            0.6666666666666666,
                            "#ed7953"
                          ],
                          [
                            0.7777777777777778,
                            "#fb9f3a"
                          ],
                          [
                            0.8888888888888888,
                            "#fdca26"
                          ],
                          [
                            1,
                            "#f0f921"
                          ]
                        ],
                        "type": "heatmapgl"
                      }
                    ],
                    "histogram": [
                      {
                        "marker": {
                          "colorbar": {
                            "outlinewidth": 0,
                            "ticks": ""
                          }
                        },
                        "type": "histogram"
                      }
                    ],
                    "histogram2d": [
                      {
                        "colorbar": {
                          "outlinewidth": 0,
                          "ticks": ""
                        },
                        "colorscale": [
                          [
                            0,
                            "#0d0887"
                          ],
                          [
                            0.1111111111111111,
                            "#46039f"
                          ],
                          [
                            0.2222222222222222,
                            "#7201a8"
                          ],
                          [
                            0.3333333333333333,
                            "#9c179e"
                          ],
                          [
                            0.4444444444444444,
                            "#bd3786"
                          ],
                          [
                            0.5555555555555556,
                            "#d8576b"
                          ],
                          [
                            0.6666666666666666,
                            "#ed7953"
                          ],
                          [
                            0.7777777777777778,
                            "#fb9f3a"
                          ],
                          [
                            0.8888888888888888,
                            "#fdca26"
                          ],
                          [
                            1,
                            "#f0f921"
                          ]
                        ],
                        "type": "histogram2d"
                      }
                    ],
                    "histogram2dcontour": [
                      {
                        "colorbar": {
                          "outlinewidth": 0,
                          "ticks": ""
                        },
                        "colorscale": [
                          [
                            0,
                            "#0d0887"
                          ],
                          [
                            0.1111111111111111,
                            "#46039f"
                          ],
                          [
                            0.2222222222222222,
                            "#7201a8"
                          ],
                          [
                            0.3333333333333333,
                            "#9c179e"
                          ],
                          [
                            0.4444444444444444,
                            "#bd3786"
                          ],
                          [
                            0.5555555555555556,
                            "#d8576b"
                          ],
                          [
                            0.6666666666666666,
                            "#ed7953"
                          ],
                          [
                            0.7777777777777778,
                            "#fb9f3a"
                          ],
                          [
                            0.8888888888888888,
                            "#fdca26"
                          ],
                          [
                            1,
                            "#f0f921"
                          ]
                        ],
                        "type": "histogram2dcontour"
                      }
                    ],
                    "mesh3d": [
                      {
                        "colorbar": {
                          "outlinewidth": 0,
                          "ticks": ""
                        },
                        "type": "mesh3d"
                      }
                    ],
                    "parcoords": [
                      {
                        "line": {
                          "colorbar": {
                            "outlinewidth": 0,
                            "ticks": ""
                          }
                        },
                        "type": "parcoords"
                      }
                    ],
                    "pie": [
                      {
                        "automargin": true,
                        "type": "pie"
                      }
                    ],
                    "scatter": [
                      {
                        "marker": {
                          "line": {
                            "color": "#283442"
                          }
                        },
                        "type": "scatter"
                      }
                    ],
                    "scatter3d": [
                      {
                        "line": {
                          "colorbar": {
                            "outlinewidth": 0,
                            "ticks": ""
                          }
                        },
                        "marker": {
                          "colorbar": {
                            "outlinewidth": 0,
                            "ticks": ""
                          }
                        },
                        "type": "scatter3d"
                      }
                    ],
                    "scattercarpet": [
                      {
                        "marker": {
                          "colorbar": {
                            "outlinewidth": 0,
                            "ticks": ""
                          }
                        },
                        "type": "scattercarpet"
                      }
                    ],
                    "scattergeo": [
                      {
                        "marker": {
                          "colorbar": {
                            "outlinewidth": 0,
                            "ticks": ""
                          }
                        },
                        "type": "scattergeo"
                      }
                    ],
                    "scattergl": [
                      {
                        "marker": {
                          "line": {
                            "color": "#283442"
                          }
                        },
                        "type": "scattergl"
                      }
                    ],
                    "scattermapbox": [
                      {
                        "marker": {
                          "colorbar": {
                            "outlinewidth": 0,
                            "ticks": ""
                          }
                        },
                        "type": "scattermapbox"
                      }
                    ],
                    "scatterpolar": [
                      {
                        "marker": {
                          "colorbar": {
                            "outlinewidth": 0,
                            "ticks": ""
                          }
                        },
                        "type": "scatterpolar"
                      }
                    ],
                    "scatterpolargl": [
                      {
                        "marker": {
                          "colorbar": {
                            "outlinewidth": 0,
                            "ticks": ""
                          }
                        },
                        "type": "scatterpolargl"
                      }
                    ],
                    "scatterternary": [
                      {
                        "marker": {
                          "colorbar": {
                            "outlinewidth": 0,
                            "ticks": ""
                          }
                        },
                        "type": "scatterternary"
                      }
                    ],
                    "surface": [
                      {
                        "colorbar": {
                          "outlinewidth": 0,
                          "ticks": ""
                        },
                        "colorscale": [
                          [
                            0,
                            "#0d0887"
                          ],
                          [
                            0.1111111111111111,
                            "#46039f"
                          ],
                          [
                            0.2222222222222222,
                            "#7201a8"
                          ],
                          [
                            0.3333333333333333,
                            "#9c179e"
                          ],
                          [
                            0.4444444444444444,
                            "#bd3786"
                          ],
                          [
                            0.5555555555555556,
                            "#d8576b"
                          ],
                          [
                            0.6666666666666666,
                            "#ed7953"
                          ],
                          [
                            0.7777777777777778,
                            "#fb9f3a"
                          ],
                          [
                            0.8888888888888888,
                            "#fdca26"
                          ],
                          [
                            1,
                            "#f0f921"
                          ]
                        ],
                        "type": "surface"
                      }
                    ],
                    "table": [
                      {
                        "cells": {
                          "fill": {
                            "color": "#506784"
                          },
                          "line": {
                            "color": "rgb(17,17,17)"
                          }
                        },
                        "header": {
                          "fill": {
                            "color": "#2a3f5f"
                          },
                          "line": {
                            "color": "rgb(17,17,17)"
                          }
                        },
                        "type": "table"
                      }
                    ]
                  },
                  "layout": {
                    "annotationdefaults": {
                      "arrowcolor": "#f2f5fa",
                      "arrowhead": 0,
                      "arrowwidth": 1
                    },
                    "coloraxis": {
                      "colorbar": {
                        "outlinewidth": 0,
                        "ticks": ""
                      }
                    },
                    "colorscale": {
                      "diverging": [
                        [
                          0,
                          "#8e0152"
                        ],
                        [
                          0.1,
                          "#c51b7d"
                        ],
                        [
                          0.2,
                          "#de77ae"
                        ],
                        [
                          0.3,
                          "#f1b6da"
                        ],
                        [
                          0.4,
                          "#fde0ef"
                        ],
                        [
                          0.5,
                          "#f7f7f7"
                        ],
                        [
                          0.6,
                          "#e6f5d0"
                        ],
                        [
                          0.7,
                          "#b8e186"
                        ],
                        [
                          0.8,
                          "#7fbc41"
                        ],
                        [
                          0.9,
                          "#4d9221"
                        ],
                        [
                          1,
                          "#276419"
                        ]
                      ],
                      "sequential": [
                        [
                          0,
                          "#0d0887"
                        ],
                        [
                          0.1111111111111111,
                          "#46039f"
                        ],
                        [
                          0.2222222222222222,
                          "#7201a8"
                        ],
                        [
                          0.3333333333333333,
                          "#9c179e"
                        ],
                        [
                          0.4444444444444444,
                          "#bd3786"
                        ],
                        [
                          0.5555555555555556,
                          "#d8576b"
                        ],
                        [
                          0.6666666666666666,
                          "#ed7953"
                        ],
                        [
                          0.7777777777777778,
                          "#fb9f3a"
                        ],
                        [
                          0.8888888888888888,
                          "#fdca26"
                        ],
                        [
                          1,
                          "#f0f921"
                        ]
                      ],
                      "sequentialminus": [
                        [
                          0,
                          "#0d0887"
                        ],
                        [
                          0.1111111111111111,
                          "#46039f"
                        ],
                        [
                          0.2222222222222222,
                          "#7201a8"
                        ],
                        [
                          0.3333333333333333,
                          "#9c179e"
                        ],
                        [
                          0.4444444444444444,
                          "#bd3786"
                        ],
                        [
                          0.5555555555555556,
                          "#d8576b"
                        ],
                        [
                          0.6666666666666666,
                          "#ed7953"
                        ],
                        [
                          0.7777777777777778,
                          "#fb9f3a"
                        ],
                        [
                          0.8888888888888888,
                          "#fdca26"
                        ],
                        [
                          1,
                          "#f0f921"
                        ]
                      ]
                    },
                    "colorway": [
                      "#636efa",
                      "#EF553B",
                      "#00cc96",
                      "#ab63fa",
                      "#FFA15A",
                      "#19d3f3",
                      "#FF6692",
                      "#B6E880",
                      "#FF97FF",
                      "#FECB52"
                    ],
                    "font": {
                      "color": "#f2f5fa"
                    },
                    "geo": {
                      "bgcolor": "rgb(17,17,17)",
                      "lakecolor": "rgb(17,17,17)",
                      "landcolor": "rgb(17,17,17)",
                      "showlakes": true,
                      "showland": true,
                      "subunitcolor": "#506784"
                    },
                    "hoverlabel": {
                      "align": "left"
                    },
                    "hovermode": "closest",
                    "mapbox": {
                      "style": "dark"
                    },
                    "paper_bgcolor": "rgb(17,17,17)",
                    "plot_bgcolor": "rgb(17,17,17)",
                    "polar": {
                      "angularaxis": {
                        "gridcolor": "#506784",
                        "linecolor": "#506784",
                        "ticks": ""
                      },
                      "bgcolor": "rgb(17,17,17)",
                      "radialaxis": {
                        "gridcolor": "#506784",
                        "linecolor": "#506784",
                        "ticks": ""
                      }
                    },
                    "scene": {
                      "xaxis": {
                        "backgroundcolor": "rgb(17,17,17)",
                        "gridcolor": "#506784",
                        "gridwidth": 2,
                        "linecolor": "#506784",
                        "showbackground": true,
                        "ticks": "",
                        "zerolinecolor": "#C8D4E3"
                      },
                      "yaxis": {
                        "backgroundcolor": "rgb(17,17,17)",
                        "gridcolor": "#506784",
                        "gridwidth": 2,
                        "linecolor": "#506784",
                        "showbackground": true,
                        "ticks": "",
                        "zerolinecolor": "#C8D4E3"
                      },
                      "zaxis": {
                        "backgroundcolor": "rgb(17,17,17)",
                        "gridcolor": "#506784",
                        "gridwidth": 2,
                        "linecolor": "#506784",
                        "showbackground": true,
                        "ticks": "",
                        "zerolinecolor": "#C8D4E3"
                      }
                    },
                    "shapedefaults": {
                      "line": {
                        "color": "#f2f5fa"
                      }
                    },
                    "sliderdefaults": {
                      "bgcolor": "#C8D4E3",
                      "bordercolor": "rgb(17,17,17)",
                      "borderwidth": 1,
                      "tickwidth": 0
                    },
                    "ternary": {
                      "aaxis": {
                        "gridcolor": "#506784",
                        "linecolor": "#506784",
                        "ticks": ""
                      },
                      "baxis": {
                        "gridcolor": "#506784",
                        "linecolor": "#506784",
                        "ticks": ""
                      },
                      "bgcolor": "rgb(17,17,17)",
                      "caxis": {
                        "gridcolor": "#506784",
                        "linecolor": "#506784",
                        "ticks": ""
                      }
                    },
                    "title": {
                      "x": 0.05
                    },
                    "updatemenudefaults": {
                      "bgcolor": "#506784",
                      "borderwidth": 0
                    },
                    "xaxis": {
                      "automargin": true,
                      "gridcolor": "#283442",
                      "linecolor": "#506784",
                      "ticks": "",
                      "title": {
                        "standoff": 15
                      },
                      "zerolinecolor": "#283442",
                      "zerolinewidth": 2
                    },
                    "yaxis": {
                      "automargin": true,
                      "gridcolor": "#283442",
                      "linecolor": "#506784",
                      "ticks": "",
                      "title": {
                        "standoff": 15
                      },
                      "zerolinecolor": "#283442",
                      "zerolinewidth": 2
                    }
                  }
                },
                "title": {
                  "text": "% of infected people by country"
                },
                "xaxis": {
                  "anchor": "y",
                  "domain": [
                    0,
                    1
                  ],
                  "title": {
                    "text": "infectionRate"
                  }
                },
                "yaxis": {
                  "anchor": "x",
                  "domain": [
                    0,
                    1
                  ],
                  "title": {
                    "text": "country"
                  }
                }
              }
            },
            "text/html": [
              "<div>\n",
              "        \n",
              "        \n",
              "            <div id=\"621cb69c-60d4-41d2-92ce-33442b52b3a6\" class=\"plotly-graph-div\" style=\"height:500px; width:100%;\"></div>\n",
              "            <script type=\"text/javascript\">\n",
              "                require([\"plotly\"], function(Plotly) {\n",
              "                    window.PLOTLYENV=window.PLOTLYENV || {};\n",
              "                    \n",
              "                if (document.getElementById(\"621cb69c-60d4-41d2-92ce-33442b52b3a6\")) {\n",
              "                    Plotly.newPlot(\n",
              "                        '621cb69c-60d4-41d2-92ce-33442b52b3a6',\n",
              "                        [{\"alignmentgroup\": \"True\", \"hovertemplate\": \"infectionRate=%{text}<br>country=%{y}<extra></extra>\", \"legendgroup\": \"\", \"marker\": {\"color\": \"red\"}, \"name\": \"\", \"offsetgroup\": \"\", \"orientation\": \"h\", \"showlegend\": false, \"text\": [0.25368, 0.30983, 0.32662, 0.33762, 0.36144, 0.44571, 0.52309, 0.58373, 0.93574, 1.43821], \"textposition\": \"auto\", \"type\": \"bar\", \"x\": [0.25368, 0.30983, 0.32662, 0.33762, 0.36144, 0.44571, 0.52309, 0.58373, 0.93574, 1.43821], \"xaxis\": \"x\", \"y\": [\"US\", \"Italy\", \"Switzerland\", \"Ireland\", \"Belgium\", \"Spain\", \"Iceland\", \"Luxembourg\", \"Andorra\", \"San Marino\"], \"yaxis\": \"y\"}],\n",
              "                        {\"barmode\": \"relative\", \"height\": 500, \"legend\": {\"tracegroupgap\": 0}, \"template\": {\"data\": {\"bar\": [{\"error_x\": {\"color\": \"#f2f5fa\"}, \"error_y\": {\"color\": \"#f2f5fa\"}, \"marker\": {\"line\": {\"color\": \"rgb(17,17,17)\", \"width\": 0.5}}, \"type\": \"bar\"}], \"barpolar\": [{\"marker\": {\"line\": {\"color\": \"rgb(17,17,17)\", \"width\": 0.5}}, \"type\": \"barpolar\"}], \"carpet\": [{\"aaxis\": {\"endlinecolor\": \"#A2B1C6\", \"gridcolor\": \"#506784\", \"linecolor\": \"#506784\", \"minorgridcolor\": \"#506784\", \"startlinecolor\": \"#A2B1C6\"}, \"baxis\": {\"endlinecolor\": \"#A2B1C6\", \"gridcolor\": \"#506784\", \"linecolor\": \"#506784\", \"minorgridcolor\": \"#506784\", \"startlinecolor\": \"#A2B1C6\"}, \"type\": \"carpet\"}], \"choropleth\": [{\"colorbar\": {\"outlinewidth\": 0, \"ticks\": \"\"}, \"type\": \"choropleth\"}], \"contour\": [{\"colorbar\": {\"outlinewidth\": 0, \"ticks\": \"\"}, \"colorscale\": [[0.0, \"#0d0887\"], [0.1111111111111111, \"#46039f\"], [0.2222222222222222, \"#7201a8\"], [0.3333333333333333, \"#9c179e\"], [0.4444444444444444, \"#bd3786\"], [0.5555555555555556, \"#d8576b\"], [0.6666666666666666, \"#ed7953\"], [0.7777777777777778, \"#fb9f3a\"], [0.8888888888888888, \"#fdca26\"], [1.0, \"#f0f921\"]], \"type\": \"contour\"}], \"contourcarpet\": [{\"colorbar\": {\"outlinewidth\": 0, \"ticks\": \"\"}, \"type\": \"contourcarpet\"}], \"heatmap\": [{\"colorbar\": {\"outlinewidth\": 0, \"ticks\": \"\"}, \"colorscale\": [[0.0, \"#0d0887\"], [0.1111111111111111, \"#46039f\"], [0.2222222222222222, \"#7201a8\"], [0.3333333333333333, \"#9c179e\"], [0.4444444444444444, \"#bd3786\"], [0.5555555555555556, \"#d8576b\"], [0.6666666666666666, \"#ed7953\"], [0.7777777777777778, \"#fb9f3a\"], [0.8888888888888888, \"#fdca26\"], [1.0, \"#f0f921\"]], \"type\": \"heatmap\"}], \"heatmapgl\": [{\"colorbar\": {\"outlinewidth\": 0, \"ticks\": \"\"}, \"colorscale\": [[0.0, \"#0d0887\"], [0.1111111111111111, \"#46039f\"], [0.2222222222222222, \"#7201a8\"], [0.3333333333333333, \"#9c179e\"], [0.4444444444444444, \"#bd3786\"], [0.5555555555555556, \"#d8576b\"], [0.6666666666666666, \"#ed7953\"], [0.7777777777777778, \"#fb9f3a\"], [0.8888888888888888, \"#fdca26\"], [1.0, \"#f0f921\"]], \"type\": \"heatmapgl\"}], \"histogram\": [{\"marker\": {\"colorbar\": {\"outlinewidth\": 0, \"ticks\": \"\"}}, \"type\": \"histogram\"}], \"histogram2d\": [{\"colorbar\": {\"outlinewidth\": 0, \"ticks\": \"\"}, \"colorscale\": [[0.0, \"#0d0887\"], [0.1111111111111111, \"#46039f\"], [0.2222222222222222, \"#7201a8\"], [0.3333333333333333, \"#9c179e\"], [0.4444444444444444, \"#bd3786\"], [0.5555555555555556, \"#d8576b\"], [0.6666666666666666, \"#ed7953\"], [0.7777777777777778, \"#fb9f3a\"], [0.8888888888888888, \"#fdca26\"], [1.0, \"#f0f921\"]], \"type\": \"histogram2d\"}], \"histogram2dcontour\": [{\"colorbar\": {\"outlinewidth\": 0, \"ticks\": \"\"}, \"colorscale\": [[0.0, \"#0d0887\"], [0.1111111111111111, \"#46039f\"], [0.2222222222222222, \"#7201a8\"], [0.3333333333333333, \"#9c179e\"], [0.4444444444444444, \"#bd3786\"], [0.5555555555555556, \"#d8576b\"], [0.6666666666666666, \"#ed7953\"], [0.7777777777777778, \"#fb9f3a\"], [0.8888888888888888, \"#fdca26\"], [1.0, \"#f0f921\"]], \"type\": \"histogram2dcontour\"}], \"mesh3d\": [{\"colorbar\": {\"outlinewidth\": 0, \"ticks\": \"\"}, \"type\": \"mesh3d\"}], \"parcoords\": [{\"line\": {\"colorbar\": {\"outlinewidth\": 0, \"ticks\": \"\"}}, \"type\": \"parcoords\"}], \"pie\": [{\"automargin\": true, \"type\": \"pie\"}], \"scatter\": [{\"marker\": {\"line\": {\"color\": \"#283442\"}}, \"type\": \"scatter\"}], \"scatter3d\": [{\"line\": {\"colorbar\": {\"outlinewidth\": 0, \"ticks\": \"\"}}, \"marker\": {\"colorbar\": {\"outlinewidth\": 0, \"ticks\": \"\"}}, \"type\": \"scatter3d\"}], \"scattercarpet\": [{\"marker\": {\"colorbar\": {\"outlinewidth\": 0, \"ticks\": \"\"}}, \"type\": \"scattercarpet\"}], \"scattergeo\": [{\"marker\": {\"colorbar\": {\"outlinewidth\": 0, \"ticks\": \"\"}}, \"type\": \"scattergeo\"}], \"scattergl\": [{\"marker\": {\"line\": {\"color\": \"#283442\"}}, \"type\": \"scattergl\"}], \"scattermapbox\": [{\"marker\": {\"colorbar\": {\"outlinewidth\": 0, \"ticks\": \"\"}}, \"type\": \"scattermapbox\"}], \"scatterpolar\": [{\"marker\": {\"colorbar\": {\"outlinewidth\": 0, \"ticks\": \"\"}}, \"type\": \"scatterpolar\"}], \"scatterpolargl\": [{\"marker\": {\"colorbar\": {\"outlinewidth\": 0, \"ticks\": \"\"}}, \"type\": \"scatterpolargl\"}], \"scatterternary\": [{\"marker\": {\"colorbar\": {\"outlinewidth\": 0, \"ticks\": \"\"}}, \"type\": \"scatterternary\"}], \"surface\": [{\"colorbar\": {\"outlinewidth\": 0, \"ticks\": \"\"}, \"colorscale\": [[0.0, \"#0d0887\"], [0.1111111111111111, \"#46039f\"], [0.2222222222222222, \"#7201a8\"], [0.3333333333333333, \"#9c179e\"], [0.4444444444444444, \"#bd3786\"], [0.5555555555555556, \"#d8576b\"], [0.6666666666666666, \"#ed7953\"], [0.7777777777777778, \"#fb9f3a\"], [0.8888888888888888, \"#fdca26\"], [1.0, \"#f0f921\"]], \"type\": \"surface\"}], \"table\": [{\"cells\": {\"fill\": {\"color\": \"#506784\"}, \"line\": {\"color\": \"rgb(17,17,17)\"}}, \"header\": {\"fill\": {\"color\": \"#2a3f5f\"}, \"line\": {\"color\": \"rgb(17,17,17)\"}}, \"type\": \"table\"}]}, \"layout\": {\"annotationdefaults\": {\"arrowcolor\": \"#f2f5fa\", \"arrowhead\": 0, \"arrowwidth\": 1}, \"coloraxis\": {\"colorbar\": {\"outlinewidth\": 0, \"ticks\": \"\"}}, \"colorscale\": {\"diverging\": [[0, \"#8e0152\"], [0.1, \"#c51b7d\"], [0.2, \"#de77ae\"], [0.3, \"#f1b6da\"], [0.4, \"#fde0ef\"], [0.5, \"#f7f7f7\"], [0.6, \"#e6f5d0\"], [0.7, \"#b8e186\"], [0.8, \"#7fbc41\"], [0.9, \"#4d9221\"], [1, \"#276419\"]], \"sequential\": [[0.0, \"#0d0887\"], [0.1111111111111111, \"#46039f\"], [0.2222222222222222, \"#7201a8\"], [0.3333333333333333, \"#9c179e\"], [0.4444444444444444, \"#bd3786\"], [0.5555555555555556, \"#d8576b\"], [0.6666666666666666, \"#ed7953\"], [0.7777777777777778, \"#fb9f3a\"], [0.8888888888888888, \"#fdca26\"], [1.0, \"#f0f921\"]], \"sequentialminus\": [[0.0, \"#0d0887\"], [0.1111111111111111, \"#46039f\"], [0.2222222222222222, \"#7201a8\"], [0.3333333333333333, \"#9c179e\"], [0.4444444444444444, \"#bd3786\"], [0.5555555555555556, \"#d8576b\"], [0.6666666666666666, \"#ed7953\"], [0.7777777777777778, \"#fb9f3a\"], [0.8888888888888888, \"#fdca26\"], [1.0, \"#f0f921\"]]}, \"colorway\": [\"#636efa\", \"#EF553B\", \"#00cc96\", \"#ab63fa\", \"#FFA15A\", \"#19d3f3\", \"#FF6692\", \"#B6E880\", \"#FF97FF\", \"#FECB52\"], \"font\": {\"color\": \"#f2f5fa\"}, \"geo\": {\"bgcolor\": \"rgb(17,17,17)\", \"lakecolor\": \"rgb(17,17,17)\", \"landcolor\": \"rgb(17,17,17)\", \"showlakes\": true, \"showland\": true, \"subunitcolor\": \"#506784\"}, \"hoverlabel\": {\"align\": \"left\"}, \"hovermode\": \"closest\", \"mapbox\": {\"style\": \"dark\"}, \"paper_bgcolor\": \"rgb(17,17,17)\", \"plot_bgcolor\": \"rgb(17,17,17)\", \"polar\": {\"angularaxis\": {\"gridcolor\": \"#506784\", \"linecolor\": \"#506784\", \"ticks\": \"\"}, \"bgcolor\": \"rgb(17,17,17)\", \"radialaxis\": {\"gridcolor\": \"#506784\", \"linecolor\": \"#506784\", \"ticks\": \"\"}}, \"scene\": {\"xaxis\": {\"backgroundcolor\": \"rgb(17,17,17)\", \"gridcolor\": \"#506784\", \"gridwidth\": 2, \"linecolor\": \"#506784\", \"showbackground\": true, \"ticks\": \"\", \"zerolinecolor\": \"#C8D4E3\"}, \"yaxis\": {\"backgroundcolor\": \"rgb(17,17,17)\", \"gridcolor\": \"#506784\", \"gridwidth\": 2, \"linecolor\": \"#506784\", \"showbackground\": true, \"ticks\": \"\", \"zerolinecolor\": \"#C8D4E3\"}, \"zaxis\": {\"backgroundcolor\": \"rgb(17,17,17)\", \"gridcolor\": \"#506784\", \"gridwidth\": 2, \"linecolor\": \"#506784\", \"showbackground\": true, \"ticks\": \"\", \"zerolinecolor\": \"#C8D4E3\"}}, \"shapedefaults\": {\"line\": {\"color\": \"#f2f5fa\"}}, \"sliderdefaults\": {\"bgcolor\": \"#C8D4E3\", \"bordercolor\": \"rgb(17,17,17)\", \"borderwidth\": 1, \"tickwidth\": 0}, \"ternary\": {\"aaxis\": {\"gridcolor\": \"#506784\", \"linecolor\": \"#506784\", \"ticks\": \"\"}, \"baxis\": {\"gridcolor\": \"#506784\", \"linecolor\": \"#506784\", \"ticks\": \"\"}, \"bgcolor\": \"rgb(17,17,17)\", \"caxis\": {\"gridcolor\": \"#506784\", \"linecolor\": \"#506784\", \"ticks\": \"\"}}, \"title\": {\"x\": 0.05}, \"updatemenudefaults\": {\"bgcolor\": \"#506784\", \"borderwidth\": 0}, \"xaxis\": {\"automargin\": true, \"gridcolor\": \"#283442\", \"linecolor\": \"#506784\", \"ticks\": \"\", \"title\": {\"standoff\": 15}, \"zerolinecolor\": \"#283442\", \"zerolinewidth\": 2}, \"yaxis\": {\"automargin\": true, \"gridcolor\": \"#283442\", \"linecolor\": \"#506784\", \"ticks\": \"\", \"title\": {\"standoff\": 15}, \"zerolinecolor\": \"#283442\", \"zerolinewidth\": 2}}}, \"title\": {\"text\": \"% of infected people by country\"}, \"xaxis\": {\"anchor\": \"y\", \"domain\": [0.0, 1.0], \"title\": {\"text\": \"infectionRate\"}}, \"yaxis\": {\"anchor\": \"x\", \"domain\": [0.0, 1.0], \"title\": {\"text\": \"country\"}}},\n",
              "                        {\"responsive\": true}\n",
              "                    ).then(function(){\n",
              "                            \n",
              "var gd = document.getElementById('621cb69c-60d4-41d2-92ce-33442b52b3a6');\n",
              "var x = new MutationObserver(function (mutations, observer) {{\n",
              "        var display = window.getComputedStyle(gd).display;\n",
              "        if (!display || display === 'none') {{\n",
              "            console.log([gd, 'removed!']);\n",
              "            Plotly.purge(gd);\n",
              "            observer.disconnect();\n",
              "        }}\n",
              "}});\n",
              "\n",
              "// Listen for the removal of the full notebook cells\n",
              "var notebookContainer = gd.closest('#notebook-container');\n",
              "if (notebookContainer) {{\n",
              "    x.observe(notebookContainer, {childList: true});\n",
              "}}\n",
              "\n",
              "// Listen for the clearing of the current output cell\n",
              "var outputEl = gd.closest('.output');\n",
              "if (outputEl) {{\n",
              "    x.observe(outputEl, {childList: true});\n",
              "}}\n",
              "\n",
              "                        })\n",
              "                };\n",
              "                });\n",
              "            </script>\n",
              "        </div>"
            ]
          },
          "metadata": {
            "tags": []
          }
        }
      ]
    },
    {
      "cell_type": "code",
      "metadata": {
        "id": "_HT1ObPBkS04",
        "colab_type": "code",
        "colab": {},
        "outputId": "0d6107b2-a460-447d-9ba8-7e366bdf519c"
      },
      "source": [
        "data_ir.sample(5)"
      ],
      "execution_count": 0,
      "outputs": [
        {
          "output_type": "execute_result",
          "data": {
            "text/html": [
              "<div>\n",
              "<style scoped>\n",
              "    .dataframe tbody tr th:only-of-type {\n",
              "        vertical-align: middle;\n",
              "    }\n",
              "\n",
              "    .dataframe tbody tr th {\n",
              "        vertical-align: top;\n",
              "    }\n",
              "\n",
              "    .dataframe thead th {\n",
              "        text-align: right;\n",
              "    }\n",
              "</style>\n",
              "<table border=\"1\" class=\"dataframe\">\n",
              "  <thead>\n",
              "    <tr style=\"text-align: right;\">\n",
              "      <th></th>\n",
              "      <th>country</th>\n",
              "      <th>confirmed</th>\n",
              "      <th>deaths</th>\n",
              "      <th>recovered</th>\n",
              "      <th>density</th>\n",
              "      <th>age</th>\n",
              "      <th>urban percentage</th>\n",
              "      <th>population</th>\n",
              "      <th>infectionRate</th>\n",
              "      <th>mortalityRate</th>\n",
              "    </tr>\n",
              "  </thead>\n",
              "  <tbody>\n",
              "    <tr>\n",
              "      <th>114</th>\n",
              "      <td>Niger</td>\n",
              "      <td>662</td>\n",
              "      <td>22</td>\n",
              "      <td>193</td>\n",
              "      <td>19</td>\n",
              "      <td>15.0</td>\n",
              "      <td>0.17</td>\n",
              "      <td>24206644</td>\n",
              "      <td>0.00273</td>\n",
              "      <td>0.03</td>\n",
              "    </tr>\n",
              "    <tr>\n",
              "      <th>165</th>\n",
              "      <td>Uzbekistan</td>\n",
              "      <td>1716</td>\n",
              "      <td>7</td>\n",
              "      <td>450</td>\n",
              "      <td>79</td>\n",
              "      <td>28.0</td>\n",
              "      <td>0.50</td>\n",
              "      <td>33469203</td>\n",
              "      <td>0.00513</td>\n",
              "      <td>0.00</td>\n",
              "    </tr>\n",
              "    <tr>\n",
              "      <th>124</th>\n",
              "      <td>Philippines</td>\n",
              "      <td>6710</td>\n",
              "      <td>446</td>\n",
              "      <td>693</td>\n",
              "      <td>368</td>\n",
              "      <td>26.0</td>\n",
              "      <td>0.47</td>\n",
              "      <td>109581078</td>\n",
              "      <td>0.00612</td>\n",
              "      <td>0.07</td>\n",
              "    </tr>\n",
              "    <tr>\n",
              "      <th>100</th>\n",
              "      <td>Mauritania</td>\n",
              "      <td>7</td>\n",
              "      <td>1</td>\n",
              "      <td>6</td>\n",
              "      <td>5</td>\n",
              "      <td>20.0</td>\n",
              "      <td>0.57</td>\n",
              "      <td>4649658</td>\n",
              "      <td>0.00015</td>\n",
              "      <td>0.14</td>\n",
              "    </tr>\n",
              "    <tr>\n",
              "      <th>87</th>\n",
              "      <td>Latvia</td>\n",
              "      <td>761</td>\n",
              "      <td>11</td>\n",
              "      <td>133</td>\n",
              "      <td>30</td>\n",
              "      <td>44.0</td>\n",
              "      <td>0.69</td>\n",
              "      <td>1886198</td>\n",
              "      <td>0.04035</td>\n",
              "      <td>0.01</td>\n",
              "    </tr>\n",
              "  </tbody>\n",
              "</table>\n",
              "</div>"
            ],
            "text/plain": [
              "         country  confirmed  deaths  recovered  density   age  \\\n",
              "114        Niger        662      22        193       19  15.0   \n",
              "165   Uzbekistan       1716       7        450       79  28.0   \n",
              "124  Philippines       6710     446        693      368  26.0   \n",
              "100   Mauritania          7       1          6        5  20.0   \n",
              "87        Latvia        761      11        133       30  44.0   \n",
              "\n",
              "     urban percentage  population  infectionRate  mortalityRate  \n",
              "114              0.17    24206644        0.00273           0.03  \n",
              "165              0.50    33469203        0.00513           0.00  \n",
              "124              0.47   109581078        0.00612           0.07  \n",
              "100              0.57     4649658        0.00015           0.14  \n",
              "87               0.69     1886198        0.04035           0.01  "
            ]
          },
          "metadata": {
            "tags": []
          },
          "execution_count": 130
        }
      ]
    },
    {
      "cell_type": "code",
      "metadata": {
        "scrolled": false,
        "id": "LvYxX7wlkS06",
        "colab_type": "code",
        "colab": {},
        "outputId": "c7592668-569a-440d-cc61-c92c1c21e4d7"
      },
      "source": [
        "data_ir_sort = temp.copy()\n",
        "data_ir_sort = data_ir_sort.sort_values(by='confirmed',axis=0,ascending=False)\n",
        "data_ir_sort = data_ir_sort.nlargest(20,'confirmed')\n",
        "data_ir_sort_melt = pd.melt(data_ir_sort, id_vars=['country'], value_vars=['confirmed','population',\n",
        "                                                                           'infectionRate','mortalityRate',\n",
        "                                                                           ])\n",
        "fig = px.line(data_ir_sort_melt, x=\"country\", y=\"value\", color='variable', \n",
        "              title=f\"Worldwide Confirmed/Population(2020) & infection Rate as on {max_date} on Log Scale\",log_y=True)\n",
        "fig.show()"
      ],
      "execution_count": 0,
      "outputs": [
        {
          "output_type": "display_data",
          "data": {
            "application/vnd.plotly.v1+json": {
              "config": {
                "plotlyServerURL": "https://plot.ly"
              },
              "data": [
                {
                  "hovertemplate": "variable=confirmed<br>country=%{x}<br>value=%{y}<extra></extra>",
                  "legendgroup": "confirmed",
                  "line": {
                    "color": "#636efa",
                    "dash": "solid"
                  },
                  "mode": "lines",
                  "name": "confirmed",
                  "showlegend": true,
                  "type": "scatter",
                  "x": [
                    "US",
                    "Spain",
                    "Italy",
                    "France",
                    "Germany",
                    "United Kingdom",
                    "Turkey",
                    "Iran",
                    "China",
                    "Russia",
                    "Brazil",
                    "Belgium",
                    "Canada",
                    "Netherlands",
                    "Switzerland",
                    "Portugal",
                    "India",
                    "Peru",
                    "Ireland",
                    "Sweden"
                  ],
                  "xaxis": "x",
                  "y": [
                    839675,
                    208389,
                    187327,
                    157125,
                    150648,
                    134638,
                    98674,
                    85996,
                    83868,
                    57999,
                    45757,
                    41889,
                    41650,
                    35027,
                    28268,
                    21982,
                    21370,
                    19250,
                    16671,
                    16004
                  ],
                  "yaxis": "y"
                },
                {
                  "hovertemplate": "variable=population<br>country=%{x}<br>value=%{y}<extra></extra>",
                  "legendgroup": "population",
                  "line": {
                    "color": "#EF553B",
                    "dash": "solid"
                  },
                  "mode": "lines",
                  "name": "population",
                  "showlegend": true,
                  "type": "scatter",
                  "x": [
                    "US",
                    "Spain",
                    "Italy",
                    "France",
                    "Germany",
                    "United Kingdom",
                    "Turkey",
                    "Iran",
                    "China",
                    "Russia",
                    "Brazil",
                    "Belgium",
                    "Canada",
                    "Netherlands",
                    "Switzerland",
                    "Portugal",
                    "India",
                    "Peru",
                    "Ireland",
                    "Sweden"
                  ],
                  "xaxis": "x",
                  "y": [
                    331002651,
                    46754778,
                    60461826,
                    65273511,
                    83783942,
                    67886011,
                    84339067,
                    83992949,
                    1439323776,
                    145934462,
                    212559417,
                    11589623,
                    37742154,
                    17134872,
                    8654622,
                    10196709,
                    1380004385,
                    32971854,
                    4937786,
                    10099265
                  ],
                  "yaxis": "y"
                },
                {
                  "hovertemplate": "variable=infectionRate<br>country=%{x}<br>value=%{y}<extra></extra>",
                  "legendgroup": "infectionRate",
                  "line": {
                    "color": "#00cc96",
                    "dash": "solid"
                  },
                  "mode": "lines",
                  "name": "infectionRate",
                  "showlegend": true,
                  "type": "scatter",
                  "x": [
                    "US",
                    "Spain",
                    "Italy",
                    "France",
                    "Germany",
                    "United Kingdom",
                    "Turkey",
                    "Iran",
                    "China",
                    "Russia",
                    "Brazil",
                    "Belgium",
                    "Canada",
                    "Netherlands",
                    "Switzerland",
                    "Portugal",
                    "India",
                    "Peru",
                    "Ireland",
                    "Sweden"
                  ],
                  "xaxis": "x",
                  "y": [
                    0.25368,
                    0.44571,
                    0.30983,
                    0.24072,
                    0.17981,
                    0.19833,
                    0.117,
                    0.10238,
                    0.00583,
                    0.03974,
                    0.02153,
                    0.36144,
                    0.11035,
                    0.20442,
                    0.32662,
                    0.21558,
                    0.00155,
                    0.05838,
                    0.33762,
                    0.15847
                  ],
                  "yaxis": "y"
                },
                {
                  "hovertemplate": "variable=mortalityRate<br>country=%{x}<br>value=%{y}<extra></extra>",
                  "legendgroup": "mortalityRate",
                  "line": {
                    "color": "#ab63fa",
                    "dash": "solid"
                  },
                  "mode": "lines",
                  "name": "mortalityRate",
                  "showlegend": true,
                  "type": "scatter",
                  "x": [
                    "US",
                    "Spain",
                    "Italy",
                    "France",
                    "Germany",
                    "United Kingdom",
                    "Turkey",
                    "Iran",
                    "China",
                    "Russia",
                    "Brazil",
                    "Belgium",
                    "Canada",
                    "Netherlands",
                    "Switzerland",
                    "Portugal",
                    "India",
                    "Peru",
                    "Ireland",
                    "Sweden"
                  ],
                  "xaxis": "x",
                  "y": [
                    0.06,
                    0.1,
                    0.13,
                    0.14,
                    0.04,
                    0.13,
                    0.02,
                    0.06,
                    0.06,
                    0.01,
                    0.06,
                    0.15,
                    0.05,
                    0.12,
                    0.05,
                    0.04,
                    0.03,
                    0.03,
                    0.05,
                    0.12
                  ],
                  "yaxis": "y"
                }
              ],
              "layout": {
                "legend": {
                  "title": {
                    "text": "variable"
                  },
                  "tracegroupgap": 0
                },
                "template": {
                  "data": {
                    "bar": [
                      {
                        "error_x": {
                          "color": "#f2f5fa"
                        },
                        "error_y": {
                          "color": "#f2f5fa"
                        },
                        "marker": {
                          "line": {
                            "color": "rgb(17,17,17)",
                            "width": 0.5
                          }
                        },
                        "type": "bar"
                      }
                    ],
                    "barpolar": [
                      {
                        "marker": {
                          "line": {
                            "color": "rgb(17,17,17)",
                            "width": 0.5
                          }
                        },
                        "type": "barpolar"
                      }
                    ],
                    "carpet": [
                      {
                        "aaxis": {
                          "endlinecolor": "#A2B1C6",
                          "gridcolor": "#506784",
                          "linecolor": "#506784",
                          "minorgridcolor": "#506784",
                          "startlinecolor": "#A2B1C6"
                        },
                        "baxis": {
                          "endlinecolor": "#A2B1C6",
                          "gridcolor": "#506784",
                          "linecolor": "#506784",
                          "minorgridcolor": "#506784",
                          "startlinecolor": "#A2B1C6"
                        },
                        "type": "carpet"
                      }
                    ],
                    "choropleth": [
                      {
                        "colorbar": {
                          "outlinewidth": 0,
                          "ticks": ""
                        },
                        "type": "choropleth"
                      }
                    ],
                    "contour": [
                      {
                        "colorbar": {
                          "outlinewidth": 0,
                          "ticks": ""
                        },
                        "colorscale": [
                          [
                            0,
                            "#0d0887"
                          ],
                          [
                            0.1111111111111111,
                            "#46039f"
                          ],
                          [
                            0.2222222222222222,
                            "#7201a8"
                          ],
                          [
                            0.3333333333333333,
                            "#9c179e"
                          ],
                          [
                            0.4444444444444444,
                            "#bd3786"
                          ],
                          [
                            0.5555555555555556,
                            "#d8576b"
                          ],
                          [
                            0.6666666666666666,
                            "#ed7953"
                          ],
                          [
                            0.7777777777777778,
                            "#fb9f3a"
                          ],
                          [
                            0.8888888888888888,
                            "#fdca26"
                          ],
                          [
                            1,
                            "#f0f921"
                          ]
                        ],
                        "type": "contour"
                      }
                    ],
                    "contourcarpet": [
                      {
                        "colorbar": {
                          "outlinewidth": 0,
                          "ticks": ""
                        },
                        "type": "contourcarpet"
                      }
                    ],
                    "heatmap": [
                      {
                        "colorbar": {
                          "outlinewidth": 0,
                          "ticks": ""
                        },
                        "colorscale": [
                          [
                            0,
                            "#0d0887"
                          ],
                          [
                            0.1111111111111111,
                            "#46039f"
                          ],
                          [
                            0.2222222222222222,
                            "#7201a8"
                          ],
                          [
                            0.3333333333333333,
                            "#9c179e"
                          ],
                          [
                            0.4444444444444444,
                            "#bd3786"
                          ],
                          [
                            0.5555555555555556,
                            "#d8576b"
                          ],
                          [
                            0.6666666666666666,
                            "#ed7953"
                          ],
                          [
                            0.7777777777777778,
                            "#fb9f3a"
                          ],
                          [
                            0.8888888888888888,
                            "#fdca26"
                          ],
                          [
                            1,
                            "#f0f921"
                          ]
                        ],
                        "type": "heatmap"
                      }
                    ],
                    "heatmapgl": [
                      {
                        "colorbar": {
                          "outlinewidth": 0,
                          "ticks": ""
                        },
                        "colorscale": [
                          [
                            0,
                            "#0d0887"
                          ],
                          [
                            0.1111111111111111,
                            "#46039f"
                          ],
                          [
                            0.2222222222222222,
                            "#7201a8"
                          ],
                          [
                            0.3333333333333333,
                            "#9c179e"
                          ],
                          [
                            0.4444444444444444,
                            "#bd3786"
                          ],
                          [
                            0.5555555555555556,
                            "#d8576b"
                          ],
                          [
                            0.6666666666666666,
                            "#ed7953"
                          ],
                          [
                            0.7777777777777778,
                            "#fb9f3a"
                          ],
                          [
                            0.8888888888888888,
                            "#fdca26"
                          ],
                          [
                            1,
                            "#f0f921"
                          ]
                        ],
                        "type": "heatmapgl"
                      }
                    ],
                    "histogram": [
                      {
                        "marker": {
                          "colorbar": {
                            "outlinewidth": 0,
                            "ticks": ""
                          }
                        },
                        "type": "histogram"
                      }
                    ],
                    "histogram2d": [
                      {
                        "colorbar": {
                          "outlinewidth": 0,
                          "ticks": ""
                        },
                        "colorscale": [
                          [
                            0,
                            "#0d0887"
                          ],
                          [
                            0.1111111111111111,
                            "#46039f"
                          ],
                          [
                            0.2222222222222222,
                            "#7201a8"
                          ],
                          [
                            0.3333333333333333,
                            "#9c179e"
                          ],
                          [
                            0.4444444444444444,
                            "#bd3786"
                          ],
                          [
                            0.5555555555555556,
                            "#d8576b"
                          ],
                          [
                            0.6666666666666666,
                            "#ed7953"
                          ],
                          [
                            0.7777777777777778,
                            "#fb9f3a"
                          ],
                          [
                            0.8888888888888888,
                            "#fdca26"
                          ],
                          [
                            1,
                            "#f0f921"
                          ]
                        ],
                        "type": "histogram2d"
                      }
                    ],
                    "histogram2dcontour": [
                      {
                        "colorbar": {
                          "outlinewidth": 0,
                          "ticks": ""
                        },
                        "colorscale": [
                          [
                            0,
                            "#0d0887"
                          ],
                          [
                            0.1111111111111111,
                            "#46039f"
                          ],
                          [
                            0.2222222222222222,
                            "#7201a8"
                          ],
                          [
                            0.3333333333333333,
                            "#9c179e"
                          ],
                          [
                            0.4444444444444444,
                            "#bd3786"
                          ],
                          [
                            0.5555555555555556,
                            "#d8576b"
                          ],
                          [
                            0.6666666666666666,
                            "#ed7953"
                          ],
                          [
                            0.7777777777777778,
                            "#fb9f3a"
                          ],
                          [
                            0.8888888888888888,
                            "#fdca26"
                          ],
                          [
                            1,
                            "#f0f921"
                          ]
                        ],
                        "type": "histogram2dcontour"
                      }
                    ],
                    "mesh3d": [
                      {
                        "colorbar": {
                          "outlinewidth": 0,
                          "ticks": ""
                        },
                        "type": "mesh3d"
                      }
                    ],
                    "parcoords": [
                      {
                        "line": {
                          "colorbar": {
                            "outlinewidth": 0,
                            "ticks": ""
                          }
                        },
                        "type": "parcoords"
                      }
                    ],
                    "pie": [
                      {
                        "automargin": true,
                        "type": "pie"
                      }
                    ],
                    "scatter": [
                      {
                        "marker": {
                          "line": {
                            "color": "#283442"
                          }
                        },
                        "type": "scatter"
                      }
                    ],
                    "scatter3d": [
                      {
                        "line": {
                          "colorbar": {
                            "outlinewidth": 0,
                            "ticks": ""
                          }
                        },
                        "marker": {
                          "colorbar": {
                            "outlinewidth": 0,
                            "ticks": ""
                          }
                        },
                        "type": "scatter3d"
                      }
                    ],
                    "scattercarpet": [
                      {
                        "marker": {
                          "colorbar": {
                            "outlinewidth": 0,
                            "ticks": ""
                          }
                        },
                        "type": "scattercarpet"
                      }
                    ],
                    "scattergeo": [
                      {
                        "marker": {
                          "colorbar": {
                            "outlinewidth": 0,
                            "ticks": ""
                          }
                        },
                        "type": "scattergeo"
                      }
                    ],
                    "scattergl": [
                      {
                        "marker": {
                          "line": {
                            "color": "#283442"
                          }
                        },
                        "type": "scattergl"
                      }
                    ],
                    "scattermapbox": [
                      {
                        "marker": {
                          "colorbar": {
                            "outlinewidth": 0,
                            "ticks": ""
                          }
                        },
                        "type": "scattermapbox"
                      }
                    ],
                    "scatterpolar": [
                      {
                        "marker": {
                          "colorbar": {
                            "outlinewidth": 0,
                            "ticks": ""
                          }
                        },
                        "type": "scatterpolar"
                      }
                    ],
                    "scatterpolargl": [
                      {
                        "marker": {
                          "colorbar": {
                            "outlinewidth": 0,
                            "ticks": ""
                          }
                        },
                        "type": "scatterpolargl"
                      }
                    ],
                    "scatterternary": [
                      {
                        "marker": {
                          "colorbar": {
                            "outlinewidth": 0,
                            "ticks": ""
                          }
                        },
                        "type": "scatterternary"
                      }
                    ],
                    "surface": [
                      {
                        "colorbar": {
                          "outlinewidth": 0,
                          "ticks": ""
                        },
                        "colorscale": [
                          [
                            0,
                            "#0d0887"
                          ],
                          [
                            0.1111111111111111,
                            "#46039f"
                          ],
                          [
                            0.2222222222222222,
                            "#7201a8"
                          ],
                          [
                            0.3333333333333333,
                            "#9c179e"
                          ],
                          [
                            0.4444444444444444,
                            "#bd3786"
                          ],
                          [
                            0.5555555555555556,
                            "#d8576b"
                          ],
                          [
                            0.6666666666666666,
                            "#ed7953"
                          ],
                          [
                            0.7777777777777778,
                            "#fb9f3a"
                          ],
                          [
                            0.8888888888888888,
                            "#fdca26"
                          ],
                          [
                            1,
                            "#f0f921"
                          ]
                        ],
                        "type": "surface"
                      }
                    ],
                    "table": [
                      {
                        "cells": {
                          "fill": {
                            "color": "#506784"
                          },
                          "line": {
                            "color": "rgb(17,17,17)"
                          }
                        },
                        "header": {
                          "fill": {
                            "color": "#2a3f5f"
                          },
                          "line": {
                            "color": "rgb(17,17,17)"
                          }
                        },
                        "type": "table"
                      }
                    ]
                  },
                  "layout": {
                    "annotationdefaults": {
                      "arrowcolor": "#f2f5fa",
                      "arrowhead": 0,
                      "arrowwidth": 1
                    },
                    "coloraxis": {
                      "colorbar": {
                        "outlinewidth": 0,
                        "ticks": ""
                      }
                    },
                    "colorscale": {
                      "diverging": [
                        [
                          0,
                          "#8e0152"
                        ],
                        [
                          0.1,
                          "#c51b7d"
                        ],
                        [
                          0.2,
                          "#de77ae"
                        ],
                        [
                          0.3,
                          "#f1b6da"
                        ],
                        [
                          0.4,
                          "#fde0ef"
                        ],
                        [
                          0.5,
                          "#f7f7f7"
                        ],
                        [
                          0.6,
                          "#e6f5d0"
                        ],
                        [
                          0.7,
                          "#b8e186"
                        ],
                        [
                          0.8,
                          "#7fbc41"
                        ],
                        [
                          0.9,
                          "#4d9221"
                        ],
                        [
                          1,
                          "#276419"
                        ]
                      ],
                      "sequential": [
                        [
                          0,
                          "#0d0887"
                        ],
                        [
                          0.1111111111111111,
                          "#46039f"
                        ],
                        [
                          0.2222222222222222,
                          "#7201a8"
                        ],
                        [
                          0.3333333333333333,
                          "#9c179e"
                        ],
                        [
                          0.4444444444444444,
                          "#bd3786"
                        ],
                        [
                          0.5555555555555556,
                          "#d8576b"
                        ],
                        [
                          0.6666666666666666,
                          "#ed7953"
                        ],
                        [
                          0.7777777777777778,
                          "#fb9f3a"
                        ],
                        [
                          0.8888888888888888,
                          "#fdca26"
                        ],
                        [
                          1,
                          "#f0f921"
                        ]
                      ],
                      "sequentialminus": [
                        [
                          0,
                          "#0d0887"
                        ],
                        [
                          0.1111111111111111,
                          "#46039f"
                        ],
                        [
                          0.2222222222222222,
                          "#7201a8"
                        ],
                        [
                          0.3333333333333333,
                          "#9c179e"
                        ],
                        [
                          0.4444444444444444,
                          "#bd3786"
                        ],
                        [
                          0.5555555555555556,
                          "#d8576b"
                        ],
                        [
                          0.6666666666666666,
                          "#ed7953"
                        ],
                        [
                          0.7777777777777778,
                          "#fb9f3a"
                        ],
                        [
                          0.8888888888888888,
                          "#fdca26"
                        ],
                        [
                          1,
                          "#f0f921"
                        ]
                      ]
                    },
                    "colorway": [
                      "#636efa",
                      "#EF553B",
                      "#00cc96",
                      "#ab63fa",
                      "#FFA15A",
                      "#19d3f3",
                      "#FF6692",
                      "#B6E880",
                      "#FF97FF",
                      "#FECB52"
                    ],
                    "font": {
                      "color": "#f2f5fa"
                    },
                    "geo": {
                      "bgcolor": "rgb(17,17,17)",
                      "lakecolor": "rgb(17,17,17)",
                      "landcolor": "rgb(17,17,17)",
                      "showlakes": true,
                      "showland": true,
                      "subunitcolor": "#506784"
                    },
                    "hoverlabel": {
                      "align": "left"
                    },
                    "hovermode": "closest",
                    "mapbox": {
                      "style": "dark"
                    },
                    "paper_bgcolor": "rgb(17,17,17)",
                    "plot_bgcolor": "rgb(17,17,17)",
                    "polar": {
                      "angularaxis": {
                        "gridcolor": "#506784",
                        "linecolor": "#506784",
                        "ticks": ""
                      },
                      "bgcolor": "rgb(17,17,17)",
                      "radialaxis": {
                        "gridcolor": "#506784",
                        "linecolor": "#506784",
                        "ticks": ""
                      }
                    },
                    "scene": {
                      "xaxis": {
                        "backgroundcolor": "rgb(17,17,17)",
                        "gridcolor": "#506784",
                        "gridwidth": 2,
                        "linecolor": "#506784",
                        "showbackground": true,
                        "ticks": "",
                        "zerolinecolor": "#C8D4E3"
                      },
                      "yaxis": {
                        "backgroundcolor": "rgb(17,17,17)",
                        "gridcolor": "#506784",
                        "gridwidth": 2,
                        "linecolor": "#506784",
                        "showbackground": true,
                        "ticks": "",
                        "zerolinecolor": "#C8D4E3"
                      },
                      "zaxis": {
                        "backgroundcolor": "rgb(17,17,17)",
                        "gridcolor": "#506784",
                        "gridwidth": 2,
                        "linecolor": "#506784",
                        "showbackground": true,
                        "ticks": "",
                        "zerolinecolor": "#C8D4E3"
                      }
                    },
                    "shapedefaults": {
                      "line": {
                        "color": "#f2f5fa"
                      }
                    },
                    "sliderdefaults": {
                      "bgcolor": "#C8D4E3",
                      "bordercolor": "rgb(17,17,17)",
                      "borderwidth": 1,
                      "tickwidth": 0
                    },
                    "ternary": {
                      "aaxis": {
                        "gridcolor": "#506784",
                        "linecolor": "#506784",
                        "ticks": ""
                      },
                      "baxis": {
                        "gridcolor": "#506784",
                        "linecolor": "#506784",
                        "ticks": ""
                      },
                      "bgcolor": "rgb(17,17,17)",
                      "caxis": {
                        "gridcolor": "#506784",
                        "linecolor": "#506784",
                        "ticks": ""
                      }
                    },
                    "title": {
                      "x": 0.05
                    },
                    "updatemenudefaults": {
                      "bgcolor": "#506784",
                      "borderwidth": 0
                    },
                    "xaxis": {
                      "automargin": true,
                      "gridcolor": "#283442",
                      "linecolor": "#506784",
                      "ticks": "",
                      "title": {
                        "standoff": 15
                      },
                      "zerolinecolor": "#283442",
                      "zerolinewidth": 2
                    },
                    "yaxis": {
                      "automargin": true,
                      "gridcolor": "#283442",
                      "linecolor": "#506784",
                      "ticks": "",
                      "title": {
                        "standoff": 15
                      },
                      "zerolinecolor": "#283442",
                      "zerolinewidth": 2
                    }
                  }
                },
                "title": {
                  "text": "Worldwide Confirmed/Population(2020) & infection Rate as on 2020-04-22 00:00:00 on Log Scale"
                },
                "xaxis": {
                  "anchor": "y",
                  "domain": [
                    0,
                    1
                  ],
                  "title": {
                    "text": "country"
                  }
                },
                "yaxis": {
                  "anchor": "x",
                  "domain": [
                    0,
                    1
                  ],
                  "title": {
                    "text": "value"
                  },
                  "type": "log"
                }
              }
            },
            "text/html": [
              "<div>\n",
              "        \n",
              "        \n",
              "            <div id=\"074952c5-2453-4e23-ac6f-cbeb7d16c8e8\" class=\"plotly-graph-div\" style=\"height:525px; width:100%;\"></div>\n",
              "            <script type=\"text/javascript\">\n",
              "                require([\"plotly\"], function(Plotly) {\n",
              "                    window.PLOTLYENV=window.PLOTLYENV || {};\n",
              "                    \n",
              "                if (document.getElementById(\"074952c5-2453-4e23-ac6f-cbeb7d16c8e8\")) {\n",
              "                    Plotly.newPlot(\n",
              "                        '074952c5-2453-4e23-ac6f-cbeb7d16c8e8',\n",
              "                        [{\"hovertemplate\": \"variable=confirmed<br>country=%{x}<br>value=%{y}<extra></extra>\", \"legendgroup\": \"confirmed\", \"line\": {\"color\": \"#636efa\", \"dash\": \"solid\"}, \"mode\": \"lines\", \"name\": \"confirmed\", \"showlegend\": true, \"type\": \"scatter\", \"x\": [\"US\", \"Spain\", \"Italy\", \"France\", \"Germany\", \"United Kingdom\", \"Turkey\", \"Iran\", \"China\", \"Russia\", \"Brazil\", \"Belgium\", \"Canada\", \"Netherlands\", \"Switzerland\", \"Portugal\", \"India\", \"Peru\", \"Ireland\", \"Sweden\"], \"xaxis\": \"x\", \"y\": [839675.0, 208389.0, 187327.0, 157125.0, 150648.0, 134638.0, 98674.0, 85996.0, 83868.0, 57999.0, 45757.0, 41889.0, 41650.0, 35027.0, 28268.0, 21982.0, 21370.0, 19250.0, 16671.0, 16004.0], \"yaxis\": \"y\"}, {\"hovertemplate\": \"variable=population<br>country=%{x}<br>value=%{y}<extra></extra>\", \"legendgroup\": \"population\", \"line\": {\"color\": \"#EF553B\", \"dash\": \"solid\"}, \"mode\": \"lines\", \"name\": \"population\", \"showlegend\": true, \"type\": \"scatter\", \"x\": [\"US\", \"Spain\", \"Italy\", \"France\", \"Germany\", \"United Kingdom\", \"Turkey\", \"Iran\", \"China\", \"Russia\", \"Brazil\", \"Belgium\", \"Canada\", \"Netherlands\", \"Switzerland\", \"Portugal\", \"India\", \"Peru\", \"Ireland\", \"Sweden\"], \"xaxis\": \"x\", \"y\": [331002651.0, 46754778.0, 60461826.0, 65273511.0, 83783942.0, 67886011.0, 84339067.0, 83992949.0, 1439323776.0, 145934462.0, 212559417.0, 11589623.0, 37742154.0, 17134872.0, 8654622.0, 10196709.0, 1380004385.0, 32971854.0, 4937786.0, 10099265.0], \"yaxis\": \"y\"}, {\"hovertemplate\": \"variable=infectionRate<br>country=%{x}<br>value=%{y}<extra></extra>\", \"legendgroup\": \"infectionRate\", \"line\": {\"color\": \"#00cc96\", \"dash\": \"solid\"}, \"mode\": \"lines\", \"name\": \"infectionRate\", \"showlegend\": true, \"type\": \"scatter\", \"x\": [\"US\", \"Spain\", \"Italy\", \"France\", \"Germany\", \"United Kingdom\", \"Turkey\", \"Iran\", \"China\", \"Russia\", \"Brazil\", \"Belgium\", \"Canada\", \"Netherlands\", \"Switzerland\", \"Portugal\", \"India\", \"Peru\", \"Ireland\", \"Sweden\"], \"xaxis\": \"x\", \"y\": [0.25368, 0.44571, 0.30983, 0.24072, 0.17981, 0.19833, 0.117, 0.10238, 0.00583, 0.03974, 0.02153, 0.36144, 0.11035, 0.20442, 0.32662, 0.21558, 0.00155, 0.05838, 0.33762, 0.15847], \"yaxis\": \"y\"}, {\"hovertemplate\": \"variable=mortalityRate<br>country=%{x}<br>value=%{y}<extra></extra>\", \"legendgroup\": \"mortalityRate\", \"line\": {\"color\": \"#ab63fa\", \"dash\": \"solid\"}, \"mode\": \"lines\", \"name\": \"mortalityRate\", \"showlegend\": true, \"type\": \"scatter\", \"x\": [\"US\", \"Spain\", \"Italy\", \"France\", \"Germany\", \"United Kingdom\", \"Turkey\", \"Iran\", \"China\", \"Russia\", \"Brazil\", \"Belgium\", \"Canada\", \"Netherlands\", \"Switzerland\", \"Portugal\", \"India\", \"Peru\", \"Ireland\", \"Sweden\"], \"xaxis\": \"x\", \"y\": [0.06, 0.1, 0.13, 0.14, 0.04, 0.13, 0.02, 0.06, 0.06, 0.01, 0.06, 0.15, 0.05, 0.12, 0.05, 0.04, 0.03, 0.03, 0.05, 0.12], \"yaxis\": \"y\"}],\n",
              "                        {\"legend\": {\"title\": {\"text\": \"variable\"}, \"tracegroupgap\": 0}, \"template\": {\"data\": {\"bar\": [{\"error_x\": {\"color\": \"#f2f5fa\"}, \"error_y\": {\"color\": \"#f2f5fa\"}, \"marker\": {\"line\": {\"color\": \"rgb(17,17,17)\", \"width\": 0.5}}, \"type\": \"bar\"}], \"barpolar\": [{\"marker\": {\"line\": {\"color\": \"rgb(17,17,17)\", \"width\": 0.5}}, \"type\": \"barpolar\"}], \"carpet\": [{\"aaxis\": {\"endlinecolor\": \"#A2B1C6\", \"gridcolor\": \"#506784\", \"linecolor\": \"#506784\", \"minorgridcolor\": \"#506784\", \"startlinecolor\": \"#A2B1C6\"}, \"baxis\": {\"endlinecolor\": \"#A2B1C6\", \"gridcolor\": \"#506784\", \"linecolor\": \"#506784\", \"minorgridcolor\": \"#506784\", \"startlinecolor\": \"#A2B1C6\"}, \"type\": \"carpet\"}], \"choropleth\": [{\"colorbar\": {\"outlinewidth\": 0, \"ticks\": \"\"}, \"type\": \"choropleth\"}], \"contour\": [{\"colorbar\": {\"outlinewidth\": 0, \"ticks\": \"\"}, \"colorscale\": [[0.0, \"#0d0887\"], [0.1111111111111111, \"#46039f\"], [0.2222222222222222, \"#7201a8\"], [0.3333333333333333, \"#9c179e\"], [0.4444444444444444, \"#bd3786\"], [0.5555555555555556, \"#d8576b\"], [0.6666666666666666, \"#ed7953\"], [0.7777777777777778, \"#fb9f3a\"], [0.8888888888888888, \"#fdca26\"], [1.0, \"#f0f921\"]], \"type\": \"contour\"}], \"contourcarpet\": [{\"colorbar\": {\"outlinewidth\": 0, \"ticks\": \"\"}, \"type\": \"contourcarpet\"}], \"heatmap\": [{\"colorbar\": {\"outlinewidth\": 0, \"ticks\": \"\"}, \"colorscale\": [[0.0, \"#0d0887\"], [0.1111111111111111, \"#46039f\"], [0.2222222222222222, \"#7201a8\"], [0.3333333333333333, \"#9c179e\"], [0.4444444444444444, \"#bd3786\"], [0.5555555555555556, \"#d8576b\"], [0.6666666666666666, \"#ed7953\"], [0.7777777777777778, \"#fb9f3a\"], [0.8888888888888888, \"#fdca26\"], [1.0, \"#f0f921\"]], \"type\": \"heatmap\"}], \"heatmapgl\": [{\"colorbar\": {\"outlinewidth\": 0, \"ticks\": \"\"}, \"colorscale\": [[0.0, \"#0d0887\"], [0.1111111111111111, \"#46039f\"], [0.2222222222222222, \"#7201a8\"], [0.3333333333333333, \"#9c179e\"], [0.4444444444444444, \"#bd3786\"], [0.5555555555555556, \"#d8576b\"], [0.6666666666666666, \"#ed7953\"], [0.7777777777777778, \"#fb9f3a\"], [0.8888888888888888, \"#fdca26\"], [1.0, \"#f0f921\"]], \"type\": \"heatmapgl\"}], \"histogram\": [{\"marker\": {\"colorbar\": {\"outlinewidth\": 0, \"ticks\": \"\"}}, \"type\": \"histogram\"}], \"histogram2d\": [{\"colorbar\": {\"outlinewidth\": 0, \"ticks\": \"\"}, \"colorscale\": [[0.0, \"#0d0887\"], [0.1111111111111111, \"#46039f\"], [0.2222222222222222, \"#7201a8\"], [0.3333333333333333, \"#9c179e\"], [0.4444444444444444, \"#bd3786\"], [0.5555555555555556, \"#d8576b\"], [0.6666666666666666, \"#ed7953\"], [0.7777777777777778, \"#fb9f3a\"], [0.8888888888888888, \"#fdca26\"], [1.0, \"#f0f921\"]], \"type\": \"histogram2d\"}], \"histogram2dcontour\": [{\"colorbar\": {\"outlinewidth\": 0, \"ticks\": \"\"}, \"colorscale\": [[0.0, \"#0d0887\"], [0.1111111111111111, \"#46039f\"], [0.2222222222222222, \"#7201a8\"], [0.3333333333333333, \"#9c179e\"], [0.4444444444444444, \"#bd3786\"], [0.5555555555555556, \"#d8576b\"], [0.6666666666666666, \"#ed7953\"], [0.7777777777777778, \"#fb9f3a\"], [0.8888888888888888, \"#fdca26\"], [1.0, \"#f0f921\"]], \"type\": \"histogram2dcontour\"}], \"mesh3d\": [{\"colorbar\": {\"outlinewidth\": 0, \"ticks\": \"\"}, \"type\": \"mesh3d\"}], \"parcoords\": [{\"line\": {\"colorbar\": {\"outlinewidth\": 0, \"ticks\": \"\"}}, \"type\": \"parcoords\"}], \"pie\": [{\"automargin\": true, \"type\": \"pie\"}], \"scatter\": [{\"marker\": {\"line\": {\"color\": \"#283442\"}}, \"type\": \"scatter\"}], \"scatter3d\": [{\"line\": {\"colorbar\": {\"outlinewidth\": 0, \"ticks\": \"\"}}, \"marker\": {\"colorbar\": {\"outlinewidth\": 0, \"ticks\": \"\"}}, \"type\": \"scatter3d\"}], \"scattercarpet\": [{\"marker\": {\"colorbar\": {\"outlinewidth\": 0, \"ticks\": \"\"}}, \"type\": \"scattercarpet\"}], \"scattergeo\": [{\"marker\": {\"colorbar\": {\"outlinewidth\": 0, \"ticks\": \"\"}}, \"type\": \"scattergeo\"}], \"scattergl\": [{\"marker\": {\"line\": {\"color\": \"#283442\"}}, \"type\": \"scattergl\"}], \"scattermapbox\": [{\"marker\": {\"colorbar\": {\"outlinewidth\": 0, \"ticks\": \"\"}}, \"type\": \"scattermapbox\"}], \"scatterpolar\": [{\"marker\": {\"colorbar\": {\"outlinewidth\": 0, \"ticks\": \"\"}}, \"type\": \"scatterpolar\"}], \"scatterpolargl\": [{\"marker\": {\"colorbar\": {\"outlinewidth\": 0, \"ticks\": \"\"}}, \"type\": \"scatterpolargl\"}], \"scatterternary\": [{\"marker\": {\"colorbar\": {\"outlinewidth\": 0, \"ticks\": \"\"}}, \"type\": \"scatterternary\"}], \"surface\": [{\"colorbar\": {\"outlinewidth\": 0, \"ticks\": \"\"}, \"colorscale\": [[0.0, \"#0d0887\"], [0.1111111111111111, \"#46039f\"], [0.2222222222222222, \"#7201a8\"], [0.3333333333333333, \"#9c179e\"], [0.4444444444444444, \"#bd3786\"], [0.5555555555555556, \"#d8576b\"], [0.6666666666666666, \"#ed7953\"], [0.7777777777777778, \"#fb9f3a\"], [0.8888888888888888, \"#fdca26\"], [1.0, \"#f0f921\"]], \"type\": \"surface\"}], \"table\": [{\"cells\": {\"fill\": {\"color\": \"#506784\"}, \"line\": {\"color\": \"rgb(17,17,17)\"}}, \"header\": {\"fill\": {\"color\": \"#2a3f5f\"}, \"line\": {\"color\": \"rgb(17,17,17)\"}}, \"type\": \"table\"}]}, \"layout\": {\"annotationdefaults\": {\"arrowcolor\": \"#f2f5fa\", \"arrowhead\": 0, \"arrowwidth\": 1}, \"coloraxis\": {\"colorbar\": {\"outlinewidth\": 0, \"ticks\": \"\"}}, \"colorscale\": {\"diverging\": [[0, \"#8e0152\"], [0.1, \"#c51b7d\"], [0.2, \"#de77ae\"], [0.3, \"#f1b6da\"], [0.4, \"#fde0ef\"], [0.5, \"#f7f7f7\"], [0.6, \"#e6f5d0\"], [0.7, \"#b8e186\"], [0.8, \"#7fbc41\"], [0.9, \"#4d9221\"], [1, \"#276419\"]], \"sequential\": [[0.0, \"#0d0887\"], [0.1111111111111111, \"#46039f\"], [0.2222222222222222, \"#7201a8\"], [0.3333333333333333, \"#9c179e\"], [0.4444444444444444, \"#bd3786\"], [0.5555555555555556, \"#d8576b\"], [0.6666666666666666, \"#ed7953\"], [0.7777777777777778, \"#fb9f3a\"], [0.8888888888888888, \"#fdca26\"], [1.0, \"#f0f921\"]], \"sequentialminus\": [[0.0, \"#0d0887\"], [0.1111111111111111, \"#46039f\"], [0.2222222222222222, \"#7201a8\"], [0.3333333333333333, \"#9c179e\"], [0.4444444444444444, \"#bd3786\"], [0.5555555555555556, \"#d8576b\"], [0.6666666666666666, \"#ed7953\"], [0.7777777777777778, \"#fb9f3a\"], [0.8888888888888888, \"#fdca26\"], [1.0, \"#f0f921\"]]}, \"colorway\": [\"#636efa\", \"#EF553B\", \"#00cc96\", \"#ab63fa\", \"#FFA15A\", \"#19d3f3\", \"#FF6692\", \"#B6E880\", \"#FF97FF\", \"#FECB52\"], \"font\": {\"color\": \"#f2f5fa\"}, \"geo\": {\"bgcolor\": \"rgb(17,17,17)\", \"lakecolor\": \"rgb(17,17,17)\", \"landcolor\": \"rgb(17,17,17)\", \"showlakes\": true, \"showland\": true, \"subunitcolor\": \"#506784\"}, \"hoverlabel\": {\"align\": \"left\"}, \"hovermode\": \"closest\", \"mapbox\": {\"style\": \"dark\"}, \"paper_bgcolor\": \"rgb(17,17,17)\", \"plot_bgcolor\": \"rgb(17,17,17)\", \"polar\": {\"angularaxis\": {\"gridcolor\": \"#506784\", \"linecolor\": \"#506784\", \"ticks\": \"\"}, \"bgcolor\": \"rgb(17,17,17)\", \"radialaxis\": {\"gridcolor\": \"#506784\", \"linecolor\": \"#506784\", \"ticks\": \"\"}}, \"scene\": {\"xaxis\": {\"backgroundcolor\": \"rgb(17,17,17)\", \"gridcolor\": \"#506784\", \"gridwidth\": 2, \"linecolor\": \"#506784\", \"showbackground\": true, \"ticks\": \"\", \"zerolinecolor\": \"#C8D4E3\"}, \"yaxis\": {\"backgroundcolor\": \"rgb(17,17,17)\", \"gridcolor\": \"#506784\", \"gridwidth\": 2, \"linecolor\": \"#506784\", \"showbackground\": true, \"ticks\": \"\", \"zerolinecolor\": \"#C8D4E3\"}, \"zaxis\": {\"backgroundcolor\": \"rgb(17,17,17)\", \"gridcolor\": \"#506784\", \"gridwidth\": 2, \"linecolor\": \"#506784\", \"showbackground\": true, \"ticks\": \"\", \"zerolinecolor\": \"#C8D4E3\"}}, \"shapedefaults\": {\"line\": {\"color\": \"#f2f5fa\"}}, \"sliderdefaults\": {\"bgcolor\": \"#C8D4E3\", \"bordercolor\": \"rgb(17,17,17)\", \"borderwidth\": 1, \"tickwidth\": 0}, \"ternary\": {\"aaxis\": {\"gridcolor\": \"#506784\", \"linecolor\": \"#506784\", \"ticks\": \"\"}, \"baxis\": {\"gridcolor\": \"#506784\", \"linecolor\": \"#506784\", \"ticks\": \"\"}, \"bgcolor\": \"rgb(17,17,17)\", \"caxis\": {\"gridcolor\": \"#506784\", \"linecolor\": \"#506784\", \"ticks\": \"\"}}, \"title\": {\"x\": 0.05}, \"updatemenudefaults\": {\"bgcolor\": \"#506784\", \"borderwidth\": 0}, \"xaxis\": {\"automargin\": true, \"gridcolor\": \"#283442\", \"linecolor\": \"#506784\", \"ticks\": \"\", \"title\": {\"standoff\": 15}, \"zerolinecolor\": \"#283442\", \"zerolinewidth\": 2}, \"yaxis\": {\"automargin\": true, \"gridcolor\": \"#283442\", \"linecolor\": \"#506784\", \"ticks\": \"\", \"title\": {\"standoff\": 15}, \"zerolinecolor\": \"#283442\", \"zerolinewidth\": 2}}}, \"title\": {\"text\": \"Worldwide Confirmed/Population(2020) & infection Rate as on 2020-04-22 00:00:00 on Log Scale\"}, \"xaxis\": {\"anchor\": \"y\", \"domain\": [0.0, 1.0], \"title\": {\"text\": \"country\"}}, \"yaxis\": {\"anchor\": \"x\", \"domain\": [0.0, 1.0], \"title\": {\"text\": \"value\"}, \"type\": \"log\"}},\n",
              "                        {\"responsive\": true}\n",
              "                    ).then(function(){\n",
              "                            \n",
              "var gd = document.getElementById('074952c5-2453-4e23-ac6f-cbeb7d16c8e8');\n",
              "var x = new MutationObserver(function (mutations, observer) {{\n",
              "        var display = window.getComputedStyle(gd).display;\n",
              "        if (!display || display === 'none') {{\n",
              "            console.log([gd, 'removed!']);\n",
              "            Plotly.purge(gd);\n",
              "            observer.disconnect();\n",
              "        }}\n",
              "}});\n",
              "\n",
              "// Listen for the removal of the full notebook cells\n",
              "var notebookContainer = gd.closest('#notebook-container');\n",
              "if (notebookContainer) {{\n",
              "    x.observe(notebookContainer, {childList: true});\n",
              "}}\n",
              "\n",
              "// Listen for the clearing of the current output cell\n",
              "var outputEl = gd.closest('.output');\n",
              "if (outputEl) {{\n",
              "    x.observe(outputEl, {childList: true});\n",
              "}}\n",
              "\n",
              "                        })\n",
              "                };\n",
              "                });\n",
              "            </script>\n",
              "        </div>"
            ]
          },
          "metadata": {
            "tags": []
          }
        }
      ]
    },
    {
      "cell_type": "code",
      "metadata": {
        "id": "As3OZZw3kS09",
        "colab_type": "code",
        "colab": {},
        "outputId": "e6b96099-eb4d-4c8f-8766-e3e81f66692b"
      },
      "source": [
        "data_ir_sort_small = data_ir_sort.nsmallest(20,'population')\n",
        "data_ir_sort_small_melt = pd.melt(data_ir_sort_small, id_vars=['country'], value_vars=['confirmed','population',\n",
        "                                                                           'infectionRate','mortalityRate',\n",
        "                                                                          'density','age','urban percentage'])\n",
        "fig = px.line(data_ir_sort_small_melt, x=\"country\", y=\"value\", color='variable', \n",
        "              title=f\"Worldwide Confirmed/Population(2020) & infection Rate as on {max_date} on Log Scale\",log_y=True)\n",
        "fig.show()"
      ],
      "execution_count": 0,
      "outputs": [
        {
          "output_type": "display_data",
          "data": {
            "application/vnd.plotly.v1+json": {
              "config": {
                "plotlyServerURL": "https://plot.ly"
              },
              "data": [
                {
                  "hovertemplate": "variable=confirmed<br>country=%{x}<br>value=%{y}<extra></extra>",
                  "legendgroup": "confirmed",
                  "line": {
                    "color": "#636efa",
                    "dash": "solid"
                  },
                  "mode": "lines",
                  "name": "confirmed",
                  "showlegend": true,
                  "type": "scatter",
                  "x": [
                    "Ireland",
                    "Switzerland",
                    "Sweden",
                    "Portugal",
                    "Belgium",
                    "Netherlands",
                    "Peru",
                    "Canada",
                    "Spain",
                    "Italy",
                    "France",
                    "United Kingdom",
                    "Germany",
                    "Iran",
                    "Turkey",
                    "Russia",
                    "Brazil",
                    "US",
                    "India",
                    "China"
                  ],
                  "xaxis": "x",
                  "y": [
                    16671,
                    28268,
                    16004,
                    21982,
                    41889,
                    35027,
                    19250,
                    41650,
                    208389,
                    187327,
                    157125,
                    134638,
                    150648,
                    85996,
                    98674,
                    57999,
                    45757,
                    839675,
                    21370,
                    83868
                  ],
                  "yaxis": "y"
                },
                {
                  "hovertemplate": "variable=population<br>country=%{x}<br>value=%{y}<extra></extra>",
                  "legendgroup": "population",
                  "line": {
                    "color": "#EF553B",
                    "dash": "solid"
                  },
                  "mode": "lines",
                  "name": "population",
                  "showlegend": true,
                  "type": "scatter",
                  "x": [
                    "Ireland",
                    "Switzerland",
                    "Sweden",
                    "Portugal",
                    "Belgium",
                    "Netherlands",
                    "Peru",
                    "Canada",
                    "Spain",
                    "Italy",
                    "France",
                    "United Kingdom",
                    "Germany",
                    "Iran",
                    "Turkey",
                    "Russia",
                    "Brazil",
                    "US",
                    "India",
                    "China"
                  ],
                  "xaxis": "x",
                  "y": [
                    4937786,
                    8654622,
                    10099265,
                    10196709,
                    11589623,
                    17134872,
                    32971854,
                    37742154,
                    46754778,
                    60461826,
                    65273511,
                    67886011,
                    83783942,
                    83992949,
                    84339067,
                    145934462,
                    212559417,
                    331002651,
                    1380004385,
                    1439323776
                  ],
                  "yaxis": "y"
                },
                {
                  "hovertemplate": "variable=infectionRate<br>country=%{x}<br>value=%{y}<extra></extra>",
                  "legendgroup": "infectionRate",
                  "line": {
                    "color": "#00cc96",
                    "dash": "solid"
                  },
                  "mode": "lines",
                  "name": "infectionRate",
                  "showlegend": true,
                  "type": "scatter",
                  "x": [
                    "Ireland",
                    "Switzerland",
                    "Sweden",
                    "Portugal",
                    "Belgium",
                    "Netherlands",
                    "Peru",
                    "Canada",
                    "Spain",
                    "Italy",
                    "France",
                    "United Kingdom",
                    "Germany",
                    "Iran",
                    "Turkey",
                    "Russia",
                    "Brazil",
                    "US",
                    "India",
                    "China"
                  ],
                  "xaxis": "x",
                  "y": [
                    0.33762,
                    0.32662,
                    0.15847,
                    0.21558,
                    0.36144,
                    0.20442,
                    0.05838,
                    0.11035,
                    0.44571,
                    0.30983,
                    0.24072,
                    0.19833,
                    0.17981,
                    0.10238,
                    0.117,
                    0.03974,
                    0.02153,
                    0.25368,
                    0.00155,
                    0.00583
                  ],
                  "yaxis": "y"
                },
                {
                  "hovertemplate": "variable=mortalityRate<br>country=%{x}<br>value=%{y}<extra></extra>",
                  "legendgroup": "mortalityRate",
                  "line": {
                    "color": "#ab63fa",
                    "dash": "solid"
                  },
                  "mode": "lines",
                  "name": "mortalityRate",
                  "showlegend": true,
                  "type": "scatter",
                  "x": [
                    "Ireland",
                    "Switzerland",
                    "Sweden",
                    "Portugal",
                    "Belgium",
                    "Netherlands",
                    "Peru",
                    "Canada",
                    "Spain",
                    "Italy",
                    "France",
                    "United Kingdom",
                    "Germany",
                    "Iran",
                    "Turkey",
                    "Russia",
                    "Brazil",
                    "US",
                    "India",
                    "China"
                  ],
                  "xaxis": "x",
                  "y": [
                    0.05,
                    0.05,
                    0.12,
                    0.04,
                    0.15,
                    0.12,
                    0.03,
                    0.05,
                    0.1,
                    0.13,
                    0.14,
                    0.13,
                    0.04,
                    0.06,
                    0.02,
                    0.01,
                    0.06,
                    0.06,
                    0.03,
                    0.06
                  ],
                  "yaxis": "y"
                },
                {
                  "hovertemplate": "variable=density<br>country=%{x}<br>value=%{y}<extra></extra>",
                  "legendgroup": "density",
                  "line": {
                    "color": "#FFA15A",
                    "dash": "solid"
                  },
                  "mode": "lines",
                  "name": "density",
                  "showlegend": true,
                  "type": "scatter",
                  "x": [
                    "Ireland",
                    "Switzerland",
                    "Sweden",
                    "Portugal",
                    "Belgium",
                    "Netherlands",
                    "Peru",
                    "Canada",
                    "Spain",
                    "Italy",
                    "France",
                    "United Kingdom",
                    "Germany",
                    "Iran",
                    "Turkey",
                    "Russia",
                    "Brazil",
                    "US",
                    "India",
                    "China"
                  ],
                  "xaxis": "x",
                  "y": [
                    72,
                    219,
                    25,
                    111,
                    383,
                    508,
                    26,
                    4,
                    94,
                    206,
                    119,
                    281,
                    240,
                    52,
                    110,
                    9,
                    25,
                    36,
                    464,
                    153
                  ],
                  "yaxis": "y"
                },
                {
                  "hovertemplate": "variable=age<br>country=%{x}<br>value=%{y}<extra></extra>",
                  "legendgroup": "age",
                  "line": {
                    "color": "#19d3f3",
                    "dash": "solid"
                  },
                  "mode": "lines",
                  "name": "age",
                  "showlegend": true,
                  "type": "scatter",
                  "x": [
                    "Ireland",
                    "Switzerland",
                    "Sweden",
                    "Portugal",
                    "Belgium",
                    "Netherlands",
                    "Peru",
                    "Canada",
                    "Spain",
                    "Italy",
                    "France",
                    "United Kingdom",
                    "Germany",
                    "Iran",
                    "Turkey",
                    "Russia",
                    "Brazil",
                    "US",
                    "India",
                    "China"
                  ],
                  "xaxis": "x",
                  "y": [
                    38,
                    43,
                    41,
                    46,
                    42,
                    43,
                    31,
                    41,
                    45,
                    47,
                    42,
                    40,
                    46,
                    32,
                    32,
                    40,
                    33,
                    38,
                    28,
                    38
                  ],
                  "yaxis": "y"
                },
                {
                  "hovertemplate": "variable=urban percentage<br>country=%{x}<br>value=%{y}<extra></extra>",
                  "legendgroup": "urban percentage",
                  "line": {
                    "color": "#FF6692",
                    "dash": "solid"
                  },
                  "mode": "lines",
                  "name": "urban percentage",
                  "showlegend": true,
                  "type": "scatter",
                  "x": [
                    "Ireland",
                    "Switzerland",
                    "Sweden",
                    "Portugal",
                    "Belgium",
                    "Netherlands",
                    "Peru",
                    "Canada",
                    "Spain",
                    "Italy",
                    "France",
                    "United Kingdom",
                    "Germany",
                    "Iran",
                    "Turkey",
                    "Russia",
                    "Brazil",
                    "US",
                    "India",
                    "China"
                  ],
                  "xaxis": "x",
                  "y": [
                    0.63,
                    0.74,
                    0.88,
                    0.66,
                    0.98,
                    0.92,
                    0.79,
                    0.8100000000000004,
                    0.8,
                    0.69,
                    0.8200000000000002,
                    0.83,
                    0.76,
                    0.76,
                    0.76,
                    0.74,
                    0.88,
                    0.83,
                    0.35,
                    0.6099999999999998
                  ],
                  "yaxis": "y"
                }
              ],
              "layout": {
                "legend": {
                  "title": {
                    "text": "variable"
                  },
                  "tracegroupgap": 0
                },
                "template": {
                  "data": {
                    "bar": [
                      {
                        "error_x": {
                          "color": "#f2f5fa"
                        },
                        "error_y": {
                          "color": "#f2f5fa"
                        },
                        "marker": {
                          "line": {
                            "color": "rgb(17,17,17)",
                            "width": 0.5
                          }
                        },
                        "type": "bar"
                      }
                    ],
                    "barpolar": [
                      {
                        "marker": {
                          "line": {
                            "color": "rgb(17,17,17)",
                            "width": 0.5
                          }
                        },
                        "type": "barpolar"
                      }
                    ],
                    "carpet": [
                      {
                        "aaxis": {
                          "endlinecolor": "#A2B1C6",
                          "gridcolor": "#506784",
                          "linecolor": "#506784",
                          "minorgridcolor": "#506784",
                          "startlinecolor": "#A2B1C6"
                        },
                        "baxis": {
                          "endlinecolor": "#A2B1C6",
                          "gridcolor": "#506784",
                          "linecolor": "#506784",
                          "minorgridcolor": "#506784",
                          "startlinecolor": "#A2B1C6"
                        },
                        "type": "carpet"
                      }
                    ],
                    "choropleth": [
                      {
                        "colorbar": {
                          "outlinewidth": 0,
                          "ticks": ""
                        },
                        "type": "choropleth"
                      }
                    ],
                    "contour": [
                      {
                        "colorbar": {
                          "outlinewidth": 0,
                          "ticks": ""
                        },
                        "colorscale": [
                          [
                            0,
                            "#0d0887"
                          ],
                          [
                            0.1111111111111111,
                            "#46039f"
                          ],
                          [
                            0.2222222222222222,
                            "#7201a8"
                          ],
                          [
                            0.3333333333333333,
                            "#9c179e"
                          ],
                          [
                            0.4444444444444444,
                            "#bd3786"
                          ],
                          [
                            0.5555555555555556,
                            "#d8576b"
                          ],
                          [
                            0.6666666666666666,
                            "#ed7953"
                          ],
                          [
                            0.7777777777777778,
                            "#fb9f3a"
                          ],
                          [
                            0.8888888888888888,
                            "#fdca26"
                          ],
                          [
                            1,
                            "#f0f921"
                          ]
                        ],
                        "type": "contour"
                      }
                    ],
                    "contourcarpet": [
                      {
                        "colorbar": {
                          "outlinewidth": 0,
                          "ticks": ""
                        },
                        "type": "contourcarpet"
                      }
                    ],
                    "heatmap": [
                      {
                        "colorbar": {
                          "outlinewidth": 0,
                          "ticks": ""
                        },
                        "colorscale": [
                          [
                            0,
                            "#0d0887"
                          ],
                          [
                            0.1111111111111111,
                            "#46039f"
                          ],
                          [
                            0.2222222222222222,
                            "#7201a8"
                          ],
                          [
                            0.3333333333333333,
                            "#9c179e"
                          ],
                          [
                            0.4444444444444444,
                            "#bd3786"
                          ],
                          [
                            0.5555555555555556,
                            "#d8576b"
                          ],
                          [
                            0.6666666666666666,
                            "#ed7953"
                          ],
                          [
                            0.7777777777777778,
                            "#fb9f3a"
                          ],
                          [
                            0.8888888888888888,
                            "#fdca26"
                          ],
                          [
                            1,
                            "#f0f921"
                          ]
                        ],
                        "type": "heatmap"
                      }
                    ],
                    "heatmapgl": [
                      {
                        "colorbar": {
                          "outlinewidth": 0,
                          "ticks": ""
                        },
                        "colorscale": [
                          [
                            0,
                            "#0d0887"
                          ],
                          [
                            0.1111111111111111,
                            "#46039f"
                          ],
                          [
                            0.2222222222222222,
                            "#7201a8"
                          ],
                          [
                            0.3333333333333333,
                            "#9c179e"
                          ],
                          [
                            0.4444444444444444,
                            "#bd3786"
                          ],
                          [
                            0.5555555555555556,
                            "#d8576b"
                          ],
                          [
                            0.6666666666666666,
                            "#ed7953"
                          ],
                          [
                            0.7777777777777778,
                            "#fb9f3a"
                          ],
                          [
                            0.8888888888888888,
                            "#fdca26"
                          ],
                          [
                            1,
                            "#f0f921"
                          ]
                        ],
                        "type": "heatmapgl"
                      }
                    ],
                    "histogram": [
                      {
                        "marker": {
                          "colorbar": {
                            "outlinewidth": 0,
                            "ticks": ""
                          }
                        },
                        "type": "histogram"
                      }
                    ],
                    "histogram2d": [
                      {
                        "colorbar": {
                          "outlinewidth": 0,
                          "ticks": ""
                        },
                        "colorscale": [
                          [
                            0,
                            "#0d0887"
                          ],
                          [
                            0.1111111111111111,
                            "#46039f"
                          ],
                          [
                            0.2222222222222222,
                            "#7201a8"
                          ],
                          [
                            0.3333333333333333,
                            "#9c179e"
                          ],
                          [
                            0.4444444444444444,
                            "#bd3786"
                          ],
                          [
                            0.5555555555555556,
                            "#d8576b"
                          ],
                          [
                            0.6666666666666666,
                            "#ed7953"
                          ],
                          [
                            0.7777777777777778,
                            "#fb9f3a"
                          ],
                          [
                            0.8888888888888888,
                            "#fdca26"
                          ],
                          [
                            1,
                            "#f0f921"
                          ]
                        ],
                        "type": "histogram2d"
                      }
                    ],
                    "histogram2dcontour": [
                      {
                        "colorbar": {
                          "outlinewidth": 0,
                          "ticks": ""
                        },
                        "colorscale": [
                          [
                            0,
                            "#0d0887"
                          ],
                          [
                            0.1111111111111111,
                            "#46039f"
                          ],
                          [
                            0.2222222222222222,
                            "#7201a8"
                          ],
                          [
                            0.3333333333333333,
                            "#9c179e"
                          ],
                          [
                            0.4444444444444444,
                            "#bd3786"
                          ],
                          [
                            0.5555555555555556,
                            "#d8576b"
                          ],
                          [
                            0.6666666666666666,
                            "#ed7953"
                          ],
                          [
                            0.7777777777777778,
                            "#fb9f3a"
                          ],
                          [
                            0.8888888888888888,
                            "#fdca26"
                          ],
                          [
                            1,
                            "#f0f921"
                          ]
                        ],
                        "type": "histogram2dcontour"
                      }
                    ],
                    "mesh3d": [
                      {
                        "colorbar": {
                          "outlinewidth": 0,
                          "ticks": ""
                        },
                        "type": "mesh3d"
                      }
                    ],
                    "parcoords": [
                      {
                        "line": {
                          "colorbar": {
                            "outlinewidth": 0,
                            "ticks": ""
                          }
                        },
                        "type": "parcoords"
                      }
                    ],
                    "pie": [
                      {
                        "automargin": true,
                        "type": "pie"
                      }
                    ],
                    "scatter": [
                      {
                        "marker": {
                          "line": {
                            "color": "#283442"
                          }
                        },
                        "type": "scatter"
                      }
                    ],
                    "scatter3d": [
                      {
                        "line": {
                          "colorbar": {
                            "outlinewidth": 0,
                            "ticks": ""
                          }
                        },
                        "marker": {
                          "colorbar": {
                            "outlinewidth": 0,
                            "ticks": ""
                          }
                        },
                        "type": "scatter3d"
                      }
                    ],
                    "scattercarpet": [
                      {
                        "marker": {
                          "colorbar": {
                            "outlinewidth": 0,
                            "ticks": ""
                          }
                        },
                        "type": "scattercarpet"
                      }
                    ],
                    "scattergeo": [
                      {
                        "marker": {
                          "colorbar": {
                            "outlinewidth": 0,
                            "ticks": ""
                          }
                        },
                        "type": "scattergeo"
                      }
                    ],
                    "scattergl": [
                      {
                        "marker": {
                          "line": {
                            "color": "#283442"
                          }
                        },
                        "type": "scattergl"
                      }
                    ],
                    "scattermapbox": [
                      {
                        "marker": {
                          "colorbar": {
                            "outlinewidth": 0,
                            "ticks": ""
                          }
                        },
                        "type": "scattermapbox"
                      }
                    ],
                    "scatterpolar": [
                      {
                        "marker": {
                          "colorbar": {
                            "outlinewidth": 0,
                            "ticks": ""
                          }
                        },
                        "type": "scatterpolar"
                      }
                    ],
                    "scatterpolargl": [
                      {
                        "marker": {
                          "colorbar": {
                            "outlinewidth": 0,
                            "ticks": ""
                          }
                        },
                        "type": "scatterpolargl"
                      }
                    ],
                    "scatterternary": [
                      {
                        "marker": {
                          "colorbar": {
                            "outlinewidth": 0,
                            "ticks": ""
                          }
                        },
                        "type": "scatterternary"
                      }
                    ],
                    "surface": [
                      {
                        "colorbar": {
                          "outlinewidth": 0,
                          "ticks": ""
                        },
                        "colorscale": [
                          [
                            0,
                            "#0d0887"
                          ],
                          [
                            0.1111111111111111,
                            "#46039f"
                          ],
                          [
                            0.2222222222222222,
                            "#7201a8"
                          ],
                          [
                            0.3333333333333333,
                            "#9c179e"
                          ],
                          [
                            0.4444444444444444,
                            "#bd3786"
                          ],
                          [
                            0.5555555555555556,
                            "#d8576b"
                          ],
                          [
                            0.6666666666666666,
                            "#ed7953"
                          ],
                          [
                            0.7777777777777778,
                            "#fb9f3a"
                          ],
                          [
                            0.8888888888888888,
                            "#fdca26"
                          ],
                          [
                            1,
                            "#f0f921"
                          ]
                        ],
                        "type": "surface"
                      }
                    ],
                    "table": [
                      {
                        "cells": {
                          "fill": {
                            "color": "#506784"
                          },
                          "line": {
                            "color": "rgb(17,17,17)"
                          }
                        },
                        "header": {
                          "fill": {
                            "color": "#2a3f5f"
                          },
                          "line": {
                            "color": "rgb(17,17,17)"
                          }
                        },
                        "type": "table"
                      }
                    ]
                  },
                  "layout": {
                    "annotationdefaults": {
                      "arrowcolor": "#f2f5fa",
                      "arrowhead": 0,
                      "arrowwidth": 1
                    },
                    "coloraxis": {
                      "colorbar": {
                        "outlinewidth": 0,
                        "ticks": ""
                      }
                    },
                    "colorscale": {
                      "diverging": [
                        [
                          0,
                          "#8e0152"
                        ],
                        [
                          0.1,
                          "#c51b7d"
                        ],
                        [
                          0.2,
                          "#de77ae"
                        ],
                        [
                          0.3,
                          "#f1b6da"
                        ],
                        [
                          0.4,
                          "#fde0ef"
                        ],
                        [
                          0.5,
                          "#f7f7f7"
                        ],
                        [
                          0.6,
                          "#e6f5d0"
                        ],
                        [
                          0.7,
                          "#b8e186"
                        ],
                        [
                          0.8,
                          "#7fbc41"
                        ],
                        [
                          0.9,
                          "#4d9221"
                        ],
                        [
                          1,
                          "#276419"
                        ]
                      ],
                      "sequential": [
                        [
                          0,
                          "#0d0887"
                        ],
                        [
                          0.1111111111111111,
                          "#46039f"
                        ],
                        [
                          0.2222222222222222,
                          "#7201a8"
                        ],
                        [
                          0.3333333333333333,
                          "#9c179e"
                        ],
                        [
                          0.4444444444444444,
                          "#bd3786"
                        ],
                        [
                          0.5555555555555556,
                          "#d8576b"
                        ],
                        [
                          0.6666666666666666,
                          "#ed7953"
                        ],
                        [
                          0.7777777777777778,
                          "#fb9f3a"
                        ],
                        [
                          0.8888888888888888,
                          "#fdca26"
                        ],
                        [
                          1,
                          "#f0f921"
                        ]
                      ],
                      "sequentialminus": [
                        [
                          0,
                          "#0d0887"
                        ],
                        [
                          0.1111111111111111,
                          "#46039f"
                        ],
                        [
                          0.2222222222222222,
                          "#7201a8"
                        ],
                        [
                          0.3333333333333333,
                          "#9c179e"
                        ],
                        [
                          0.4444444444444444,
                          "#bd3786"
                        ],
                        [
                          0.5555555555555556,
                          "#d8576b"
                        ],
                        [
                          0.6666666666666666,
                          "#ed7953"
                        ],
                        [
                          0.7777777777777778,
                          "#fb9f3a"
                        ],
                        [
                          0.8888888888888888,
                          "#fdca26"
                        ],
                        [
                          1,
                          "#f0f921"
                        ]
                      ]
                    },
                    "colorway": [
                      "#636efa",
                      "#EF553B",
                      "#00cc96",
                      "#ab63fa",
                      "#FFA15A",
                      "#19d3f3",
                      "#FF6692",
                      "#B6E880",
                      "#FF97FF",
                      "#FECB52"
                    ],
                    "font": {
                      "color": "#f2f5fa"
                    },
                    "geo": {
                      "bgcolor": "rgb(17,17,17)",
                      "lakecolor": "rgb(17,17,17)",
                      "landcolor": "rgb(17,17,17)",
                      "showlakes": true,
                      "showland": true,
                      "subunitcolor": "#506784"
                    },
                    "hoverlabel": {
                      "align": "left"
                    },
                    "hovermode": "closest",
                    "mapbox": {
                      "style": "dark"
                    },
                    "paper_bgcolor": "rgb(17,17,17)",
                    "plot_bgcolor": "rgb(17,17,17)",
                    "polar": {
                      "angularaxis": {
                        "gridcolor": "#506784",
                        "linecolor": "#506784",
                        "ticks": ""
                      },
                      "bgcolor": "rgb(17,17,17)",
                      "radialaxis": {
                        "gridcolor": "#506784",
                        "linecolor": "#506784",
                        "ticks": ""
                      }
                    },
                    "scene": {
                      "xaxis": {
                        "backgroundcolor": "rgb(17,17,17)",
                        "gridcolor": "#506784",
                        "gridwidth": 2,
                        "linecolor": "#506784",
                        "showbackground": true,
                        "ticks": "",
                        "zerolinecolor": "#C8D4E3"
                      },
                      "yaxis": {
                        "backgroundcolor": "rgb(17,17,17)",
                        "gridcolor": "#506784",
                        "gridwidth": 2,
                        "linecolor": "#506784",
                        "showbackground": true,
                        "ticks": "",
                        "zerolinecolor": "#C8D4E3"
                      },
                      "zaxis": {
                        "backgroundcolor": "rgb(17,17,17)",
                        "gridcolor": "#506784",
                        "gridwidth": 2,
                        "linecolor": "#506784",
                        "showbackground": true,
                        "ticks": "",
                        "zerolinecolor": "#C8D4E3"
                      }
                    },
                    "shapedefaults": {
                      "line": {
                        "color": "#f2f5fa"
                      }
                    },
                    "sliderdefaults": {
                      "bgcolor": "#C8D4E3",
                      "bordercolor": "rgb(17,17,17)",
                      "borderwidth": 1,
                      "tickwidth": 0
                    },
                    "ternary": {
                      "aaxis": {
                        "gridcolor": "#506784",
                        "linecolor": "#506784",
                        "ticks": ""
                      },
                      "baxis": {
                        "gridcolor": "#506784",
                        "linecolor": "#506784",
                        "ticks": ""
                      },
                      "bgcolor": "rgb(17,17,17)",
                      "caxis": {
                        "gridcolor": "#506784",
                        "linecolor": "#506784",
                        "ticks": ""
                      }
                    },
                    "title": {
                      "x": 0.05
                    },
                    "updatemenudefaults": {
                      "bgcolor": "#506784",
                      "borderwidth": 0
                    },
                    "xaxis": {
                      "automargin": true,
                      "gridcolor": "#283442",
                      "linecolor": "#506784",
                      "ticks": "",
                      "title": {
                        "standoff": 15
                      },
                      "zerolinecolor": "#283442",
                      "zerolinewidth": 2
                    },
                    "yaxis": {
                      "automargin": true,
                      "gridcolor": "#283442",
                      "linecolor": "#506784",
                      "ticks": "",
                      "title": {
                        "standoff": 15
                      },
                      "zerolinecolor": "#283442",
                      "zerolinewidth": 2
                    }
                  }
                },
                "title": {
                  "text": "Worldwide Confirmed/Population(2020) & infection Rate as on 2020-04-22 00:00:00 on Log Scale"
                },
                "xaxis": {
                  "anchor": "y",
                  "domain": [
                    0,
                    1
                  ],
                  "title": {
                    "text": "country"
                  }
                },
                "yaxis": {
                  "anchor": "x",
                  "domain": [
                    0,
                    1
                  ],
                  "title": {
                    "text": "value"
                  },
                  "type": "log"
                }
              }
            },
            "text/html": [
              "<div>\n",
              "        \n",
              "        \n",
              "            <div id=\"368536ed-aa16-4295-9efe-2d742ca929f4\" class=\"plotly-graph-div\" style=\"height:525px; width:100%;\"></div>\n",
              "            <script type=\"text/javascript\">\n",
              "                require([\"plotly\"], function(Plotly) {\n",
              "                    window.PLOTLYENV=window.PLOTLYENV || {};\n",
              "                    \n",
              "                if (document.getElementById(\"368536ed-aa16-4295-9efe-2d742ca929f4\")) {\n",
              "                    Plotly.newPlot(\n",
              "                        '368536ed-aa16-4295-9efe-2d742ca929f4',\n",
              "                        [{\"hovertemplate\": \"variable=confirmed<br>country=%{x}<br>value=%{y}<extra></extra>\", \"legendgroup\": \"confirmed\", \"line\": {\"color\": \"#636efa\", \"dash\": \"solid\"}, \"mode\": \"lines\", \"name\": \"confirmed\", \"showlegend\": true, \"type\": \"scatter\", \"x\": [\"Ireland\", \"Switzerland\", \"Sweden\", \"Portugal\", \"Belgium\", \"Netherlands\", \"Peru\", \"Canada\", \"Spain\", \"Italy\", \"France\", \"United Kingdom\", \"Germany\", \"Iran\", \"Turkey\", \"Russia\", \"Brazil\", \"US\", \"India\", \"China\"], \"xaxis\": \"x\", \"y\": [16671.0, 28268.0, 16004.0, 21982.0, 41889.0, 35027.0, 19250.0, 41650.0, 208389.0, 187327.0, 157125.0, 134638.0, 150648.0, 85996.0, 98674.0, 57999.0, 45757.0, 839675.0, 21370.0, 83868.0], \"yaxis\": \"y\"}, {\"hovertemplate\": \"variable=population<br>country=%{x}<br>value=%{y}<extra></extra>\", \"legendgroup\": \"population\", \"line\": {\"color\": \"#EF553B\", \"dash\": \"solid\"}, \"mode\": \"lines\", \"name\": \"population\", \"showlegend\": true, \"type\": \"scatter\", \"x\": [\"Ireland\", \"Switzerland\", \"Sweden\", \"Portugal\", \"Belgium\", \"Netherlands\", \"Peru\", \"Canada\", \"Spain\", \"Italy\", \"France\", \"United Kingdom\", \"Germany\", \"Iran\", \"Turkey\", \"Russia\", \"Brazil\", \"US\", \"India\", \"China\"], \"xaxis\": \"x\", \"y\": [4937786.0, 8654622.0, 10099265.0, 10196709.0, 11589623.0, 17134872.0, 32971854.0, 37742154.0, 46754778.0, 60461826.0, 65273511.0, 67886011.0, 83783942.0, 83992949.0, 84339067.0, 145934462.0, 212559417.0, 331002651.0, 1380004385.0, 1439323776.0], \"yaxis\": \"y\"}, {\"hovertemplate\": \"variable=infectionRate<br>country=%{x}<br>value=%{y}<extra></extra>\", \"legendgroup\": \"infectionRate\", \"line\": {\"color\": \"#00cc96\", \"dash\": \"solid\"}, \"mode\": \"lines\", \"name\": \"infectionRate\", \"showlegend\": true, \"type\": \"scatter\", \"x\": [\"Ireland\", \"Switzerland\", \"Sweden\", \"Portugal\", \"Belgium\", \"Netherlands\", \"Peru\", \"Canada\", \"Spain\", \"Italy\", \"France\", \"United Kingdom\", \"Germany\", \"Iran\", \"Turkey\", \"Russia\", \"Brazil\", \"US\", \"India\", \"China\"], \"xaxis\": \"x\", \"y\": [0.33762, 0.32662, 0.15847, 0.21558, 0.36144, 0.20442, 0.05838, 0.11035, 0.44571, 0.30983, 0.24072, 0.19833, 0.17981, 0.10238, 0.117, 0.03974, 0.02153, 0.25368, 0.00155, 0.00583], \"yaxis\": \"y\"}, {\"hovertemplate\": \"variable=mortalityRate<br>country=%{x}<br>value=%{y}<extra></extra>\", \"legendgroup\": \"mortalityRate\", \"line\": {\"color\": \"#ab63fa\", \"dash\": \"solid\"}, \"mode\": \"lines\", \"name\": \"mortalityRate\", \"showlegend\": true, \"type\": \"scatter\", \"x\": [\"Ireland\", \"Switzerland\", \"Sweden\", \"Portugal\", \"Belgium\", \"Netherlands\", \"Peru\", \"Canada\", \"Spain\", \"Italy\", \"France\", \"United Kingdom\", \"Germany\", \"Iran\", \"Turkey\", \"Russia\", \"Brazil\", \"US\", \"India\", \"China\"], \"xaxis\": \"x\", \"y\": [0.05, 0.05, 0.12, 0.04, 0.15, 0.12, 0.03, 0.05, 0.1, 0.13, 0.14, 0.13, 0.04, 0.06, 0.02, 0.01, 0.06, 0.06, 0.03, 0.06], \"yaxis\": \"y\"}, {\"hovertemplate\": \"variable=density<br>country=%{x}<br>value=%{y}<extra></extra>\", \"legendgroup\": \"density\", \"line\": {\"color\": \"#FFA15A\", \"dash\": \"solid\"}, \"mode\": \"lines\", \"name\": \"density\", \"showlegend\": true, \"type\": \"scatter\", \"x\": [\"Ireland\", \"Switzerland\", \"Sweden\", \"Portugal\", \"Belgium\", \"Netherlands\", \"Peru\", \"Canada\", \"Spain\", \"Italy\", \"France\", \"United Kingdom\", \"Germany\", \"Iran\", \"Turkey\", \"Russia\", \"Brazil\", \"US\", \"India\", \"China\"], \"xaxis\": \"x\", \"y\": [72.0, 219.0, 25.0, 111.0, 383.0, 508.0, 26.0, 4.0, 94.0, 206.0, 119.0, 281.0, 240.0, 52.0, 110.0, 9.0, 25.0, 36.0, 464.0, 153.0], \"yaxis\": \"y\"}, {\"hovertemplate\": \"variable=age<br>country=%{x}<br>value=%{y}<extra></extra>\", \"legendgroup\": \"age\", \"line\": {\"color\": \"#19d3f3\", \"dash\": \"solid\"}, \"mode\": \"lines\", \"name\": \"age\", \"showlegend\": true, \"type\": \"scatter\", \"x\": [\"Ireland\", \"Switzerland\", \"Sweden\", \"Portugal\", \"Belgium\", \"Netherlands\", \"Peru\", \"Canada\", \"Spain\", \"Italy\", \"France\", \"United Kingdom\", \"Germany\", \"Iran\", \"Turkey\", \"Russia\", \"Brazil\", \"US\", \"India\", \"China\"], \"xaxis\": \"x\", \"y\": [38.0, 43.0, 41.0, 46.0, 42.0, 43.0, 31.0, 41.0, 45.0, 47.0, 42.0, 40.0, 46.0, 32.0, 32.0, 40.0, 33.0, 38.0, 28.0, 38.0], \"yaxis\": \"y\"}, {\"hovertemplate\": \"variable=urban percentage<br>country=%{x}<br>value=%{y}<extra></extra>\", \"legendgroup\": \"urban percentage\", \"line\": {\"color\": \"#FF6692\", \"dash\": \"solid\"}, \"mode\": \"lines\", \"name\": \"urban percentage\", \"showlegend\": true, \"type\": \"scatter\", \"x\": [\"Ireland\", \"Switzerland\", \"Sweden\", \"Portugal\", \"Belgium\", \"Netherlands\", \"Peru\", \"Canada\", \"Spain\", \"Italy\", \"France\", \"United Kingdom\", \"Germany\", \"Iran\", \"Turkey\", \"Russia\", \"Brazil\", \"US\", \"India\", \"China\"], \"xaxis\": \"x\", \"y\": [0.63, 0.74, 0.88, 0.66, 0.98, 0.92, 0.79, 0.8100000000000004, 0.8, 0.69, 0.8200000000000002, 0.83, 0.76, 0.76, 0.76, 0.74, 0.88, 0.83, 0.35, 0.6099999999999998], \"yaxis\": \"y\"}],\n",
              "                        {\"legend\": {\"title\": {\"text\": \"variable\"}, \"tracegroupgap\": 0}, \"template\": {\"data\": {\"bar\": [{\"error_x\": {\"color\": \"#f2f5fa\"}, \"error_y\": {\"color\": \"#f2f5fa\"}, \"marker\": {\"line\": {\"color\": \"rgb(17,17,17)\", \"width\": 0.5}}, \"type\": \"bar\"}], \"barpolar\": [{\"marker\": {\"line\": {\"color\": \"rgb(17,17,17)\", \"width\": 0.5}}, \"type\": \"barpolar\"}], \"carpet\": [{\"aaxis\": {\"endlinecolor\": \"#A2B1C6\", \"gridcolor\": \"#506784\", \"linecolor\": \"#506784\", \"minorgridcolor\": \"#506784\", \"startlinecolor\": \"#A2B1C6\"}, \"baxis\": {\"endlinecolor\": \"#A2B1C6\", \"gridcolor\": \"#506784\", \"linecolor\": \"#506784\", \"minorgridcolor\": \"#506784\", \"startlinecolor\": \"#A2B1C6\"}, \"type\": \"carpet\"}], \"choropleth\": [{\"colorbar\": {\"outlinewidth\": 0, \"ticks\": \"\"}, \"type\": \"choropleth\"}], \"contour\": [{\"colorbar\": {\"outlinewidth\": 0, \"ticks\": \"\"}, \"colorscale\": [[0.0, \"#0d0887\"], [0.1111111111111111, \"#46039f\"], [0.2222222222222222, \"#7201a8\"], [0.3333333333333333, \"#9c179e\"], [0.4444444444444444, \"#bd3786\"], [0.5555555555555556, \"#d8576b\"], [0.6666666666666666, \"#ed7953\"], [0.7777777777777778, \"#fb9f3a\"], [0.8888888888888888, \"#fdca26\"], [1.0, \"#f0f921\"]], \"type\": \"contour\"}], \"contourcarpet\": [{\"colorbar\": {\"outlinewidth\": 0, \"ticks\": \"\"}, \"type\": \"contourcarpet\"}], \"heatmap\": [{\"colorbar\": {\"outlinewidth\": 0, \"ticks\": \"\"}, \"colorscale\": [[0.0, \"#0d0887\"], [0.1111111111111111, \"#46039f\"], [0.2222222222222222, \"#7201a8\"], [0.3333333333333333, \"#9c179e\"], [0.4444444444444444, \"#bd3786\"], [0.5555555555555556, \"#d8576b\"], [0.6666666666666666, \"#ed7953\"], [0.7777777777777778, \"#fb9f3a\"], [0.8888888888888888, \"#fdca26\"], [1.0, \"#f0f921\"]], \"type\": \"heatmap\"}], \"heatmapgl\": [{\"colorbar\": {\"outlinewidth\": 0, \"ticks\": \"\"}, \"colorscale\": [[0.0, \"#0d0887\"], [0.1111111111111111, \"#46039f\"], [0.2222222222222222, \"#7201a8\"], [0.3333333333333333, \"#9c179e\"], [0.4444444444444444, \"#bd3786\"], [0.5555555555555556, \"#d8576b\"], [0.6666666666666666, \"#ed7953\"], [0.7777777777777778, \"#fb9f3a\"], [0.8888888888888888, \"#fdca26\"], [1.0, \"#f0f921\"]], \"type\": \"heatmapgl\"}], \"histogram\": [{\"marker\": {\"colorbar\": {\"outlinewidth\": 0, \"ticks\": \"\"}}, \"type\": \"histogram\"}], \"histogram2d\": [{\"colorbar\": {\"outlinewidth\": 0, \"ticks\": \"\"}, \"colorscale\": [[0.0, \"#0d0887\"], [0.1111111111111111, \"#46039f\"], [0.2222222222222222, \"#7201a8\"], [0.3333333333333333, \"#9c179e\"], [0.4444444444444444, \"#bd3786\"], [0.5555555555555556, \"#d8576b\"], [0.6666666666666666, \"#ed7953\"], [0.7777777777777778, \"#fb9f3a\"], [0.8888888888888888, \"#fdca26\"], [1.0, \"#f0f921\"]], \"type\": \"histogram2d\"}], \"histogram2dcontour\": [{\"colorbar\": {\"outlinewidth\": 0, \"ticks\": \"\"}, \"colorscale\": [[0.0, \"#0d0887\"], [0.1111111111111111, \"#46039f\"], [0.2222222222222222, \"#7201a8\"], [0.3333333333333333, \"#9c179e\"], [0.4444444444444444, \"#bd3786\"], [0.5555555555555556, \"#d8576b\"], [0.6666666666666666, \"#ed7953\"], [0.7777777777777778, \"#fb9f3a\"], [0.8888888888888888, \"#fdca26\"], [1.0, \"#f0f921\"]], \"type\": \"histogram2dcontour\"}], \"mesh3d\": [{\"colorbar\": {\"outlinewidth\": 0, \"ticks\": \"\"}, \"type\": \"mesh3d\"}], \"parcoords\": [{\"line\": {\"colorbar\": {\"outlinewidth\": 0, \"ticks\": \"\"}}, \"type\": \"parcoords\"}], \"pie\": [{\"automargin\": true, \"type\": \"pie\"}], \"scatter\": [{\"marker\": {\"line\": {\"color\": \"#283442\"}}, \"type\": \"scatter\"}], \"scatter3d\": [{\"line\": {\"colorbar\": {\"outlinewidth\": 0, \"ticks\": \"\"}}, \"marker\": {\"colorbar\": {\"outlinewidth\": 0, \"ticks\": \"\"}}, \"type\": \"scatter3d\"}], \"scattercarpet\": [{\"marker\": {\"colorbar\": {\"outlinewidth\": 0, \"ticks\": \"\"}}, \"type\": \"scattercarpet\"}], \"scattergeo\": [{\"marker\": {\"colorbar\": {\"outlinewidth\": 0, \"ticks\": \"\"}}, \"type\": \"scattergeo\"}], \"scattergl\": [{\"marker\": {\"line\": {\"color\": \"#283442\"}}, \"type\": \"scattergl\"}], \"scattermapbox\": [{\"marker\": {\"colorbar\": {\"outlinewidth\": 0, \"ticks\": \"\"}}, \"type\": \"scattermapbox\"}], \"scatterpolar\": [{\"marker\": {\"colorbar\": {\"outlinewidth\": 0, \"ticks\": \"\"}}, \"type\": \"scatterpolar\"}], \"scatterpolargl\": [{\"marker\": {\"colorbar\": {\"outlinewidth\": 0, \"ticks\": \"\"}}, \"type\": \"scatterpolargl\"}], \"scatterternary\": [{\"marker\": {\"colorbar\": {\"outlinewidth\": 0, \"ticks\": \"\"}}, \"type\": \"scatterternary\"}], \"surface\": [{\"colorbar\": {\"outlinewidth\": 0, \"ticks\": \"\"}, \"colorscale\": [[0.0, \"#0d0887\"], [0.1111111111111111, \"#46039f\"], [0.2222222222222222, \"#7201a8\"], [0.3333333333333333, \"#9c179e\"], [0.4444444444444444, \"#bd3786\"], [0.5555555555555556, \"#d8576b\"], [0.6666666666666666, \"#ed7953\"], [0.7777777777777778, \"#fb9f3a\"], [0.8888888888888888, \"#fdca26\"], [1.0, \"#f0f921\"]], \"type\": \"surface\"}], \"table\": [{\"cells\": {\"fill\": {\"color\": \"#506784\"}, \"line\": {\"color\": \"rgb(17,17,17)\"}}, \"header\": {\"fill\": {\"color\": \"#2a3f5f\"}, \"line\": {\"color\": \"rgb(17,17,17)\"}}, \"type\": \"table\"}]}, \"layout\": {\"annotationdefaults\": {\"arrowcolor\": \"#f2f5fa\", \"arrowhead\": 0, \"arrowwidth\": 1}, \"coloraxis\": {\"colorbar\": {\"outlinewidth\": 0, \"ticks\": \"\"}}, \"colorscale\": {\"diverging\": [[0, \"#8e0152\"], [0.1, \"#c51b7d\"], [0.2, \"#de77ae\"], [0.3, \"#f1b6da\"], [0.4, \"#fde0ef\"], [0.5, \"#f7f7f7\"], [0.6, \"#e6f5d0\"], [0.7, \"#b8e186\"], [0.8, \"#7fbc41\"], [0.9, \"#4d9221\"], [1, \"#276419\"]], \"sequential\": [[0.0, \"#0d0887\"], [0.1111111111111111, \"#46039f\"], [0.2222222222222222, \"#7201a8\"], [0.3333333333333333, \"#9c179e\"], [0.4444444444444444, \"#bd3786\"], [0.5555555555555556, \"#d8576b\"], [0.6666666666666666, \"#ed7953\"], [0.7777777777777778, \"#fb9f3a\"], [0.8888888888888888, \"#fdca26\"], [1.0, \"#f0f921\"]], \"sequentialminus\": [[0.0, \"#0d0887\"], [0.1111111111111111, \"#46039f\"], [0.2222222222222222, \"#7201a8\"], [0.3333333333333333, \"#9c179e\"], [0.4444444444444444, \"#bd3786\"], [0.5555555555555556, \"#d8576b\"], [0.6666666666666666, \"#ed7953\"], [0.7777777777777778, \"#fb9f3a\"], [0.8888888888888888, \"#fdca26\"], [1.0, \"#f0f921\"]]}, \"colorway\": [\"#636efa\", \"#EF553B\", \"#00cc96\", \"#ab63fa\", \"#FFA15A\", \"#19d3f3\", \"#FF6692\", \"#B6E880\", \"#FF97FF\", \"#FECB52\"], \"font\": {\"color\": \"#f2f5fa\"}, \"geo\": {\"bgcolor\": \"rgb(17,17,17)\", \"lakecolor\": \"rgb(17,17,17)\", \"landcolor\": \"rgb(17,17,17)\", \"showlakes\": true, \"showland\": true, \"subunitcolor\": \"#506784\"}, \"hoverlabel\": {\"align\": \"left\"}, \"hovermode\": \"closest\", \"mapbox\": {\"style\": \"dark\"}, \"paper_bgcolor\": \"rgb(17,17,17)\", \"plot_bgcolor\": \"rgb(17,17,17)\", \"polar\": {\"angularaxis\": {\"gridcolor\": \"#506784\", \"linecolor\": \"#506784\", \"ticks\": \"\"}, \"bgcolor\": \"rgb(17,17,17)\", \"radialaxis\": {\"gridcolor\": \"#506784\", \"linecolor\": \"#506784\", \"ticks\": \"\"}}, \"scene\": {\"xaxis\": {\"backgroundcolor\": \"rgb(17,17,17)\", \"gridcolor\": \"#506784\", \"gridwidth\": 2, \"linecolor\": \"#506784\", \"showbackground\": true, \"ticks\": \"\", \"zerolinecolor\": \"#C8D4E3\"}, \"yaxis\": {\"backgroundcolor\": \"rgb(17,17,17)\", \"gridcolor\": \"#506784\", \"gridwidth\": 2, \"linecolor\": \"#506784\", \"showbackground\": true, \"ticks\": \"\", \"zerolinecolor\": \"#C8D4E3\"}, \"zaxis\": {\"backgroundcolor\": \"rgb(17,17,17)\", \"gridcolor\": \"#506784\", \"gridwidth\": 2, \"linecolor\": \"#506784\", \"showbackground\": true, \"ticks\": \"\", \"zerolinecolor\": \"#C8D4E3\"}}, \"shapedefaults\": {\"line\": {\"color\": \"#f2f5fa\"}}, \"sliderdefaults\": {\"bgcolor\": \"#C8D4E3\", \"bordercolor\": \"rgb(17,17,17)\", \"borderwidth\": 1, \"tickwidth\": 0}, \"ternary\": {\"aaxis\": {\"gridcolor\": \"#506784\", \"linecolor\": \"#506784\", \"ticks\": \"\"}, \"baxis\": {\"gridcolor\": \"#506784\", \"linecolor\": \"#506784\", \"ticks\": \"\"}, \"bgcolor\": \"rgb(17,17,17)\", \"caxis\": {\"gridcolor\": \"#506784\", \"linecolor\": \"#506784\", \"ticks\": \"\"}}, \"title\": {\"x\": 0.05}, \"updatemenudefaults\": {\"bgcolor\": \"#506784\", \"borderwidth\": 0}, \"xaxis\": {\"automargin\": true, \"gridcolor\": \"#283442\", \"linecolor\": \"#506784\", \"ticks\": \"\", \"title\": {\"standoff\": 15}, \"zerolinecolor\": \"#283442\", \"zerolinewidth\": 2}, \"yaxis\": {\"automargin\": true, \"gridcolor\": \"#283442\", \"linecolor\": \"#506784\", \"ticks\": \"\", \"title\": {\"standoff\": 15}, \"zerolinecolor\": \"#283442\", \"zerolinewidth\": 2}}}, \"title\": {\"text\": \"Worldwide Confirmed/Population(2020) & infection Rate as on 2020-04-22 00:00:00 on Log Scale\"}, \"xaxis\": {\"anchor\": \"y\", \"domain\": [0.0, 1.0], \"title\": {\"text\": \"country\"}}, \"yaxis\": {\"anchor\": \"x\", \"domain\": [0.0, 1.0], \"title\": {\"text\": \"value\"}, \"type\": \"log\"}},\n",
              "                        {\"responsive\": true}\n",
              "                    ).then(function(){\n",
              "                            \n",
              "var gd = document.getElementById('368536ed-aa16-4295-9efe-2d742ca929f4');\n",
              "var x = new MutationObserver(function (mutations, observer) {{\n",
              "        var display = window.getComputedStyle(gd).display;\n",
              "        if (!display || display === 'none') {{\n",
              "            console.log([gd, 'removed!']);\n",
              "            Plotly.purge(gd);\n",
              "            observer.disconnect();\n",
              "        }}\n",
              "}});\n",
              "\n",
              "// Listen for the removal of the full notebook cells\n",
              "var notebookContainer = gd.closest('#notebook-container');\n",
              "if (notebookContainer) {{\n",
              "    x.observe(notebookContainer, {childList: true});\n",
              "}}\n",
              "\n",
              "// Listen for the clearing of the current output cell\n",
              "var outputEl = gd.closest('.output');\n",
              "if (outputEl) {{\n",
              "    x.observe(outputEl, {childList: true});\n",
              "}}\n",
              "\n",
              "                        })\n",
              "                };\n",
              "                });\n",
              "            </script>\n",
              "        </div>"
            ]
          },
          "metadata": {
            "tags": []
          }
        }
      ]
    },
    {
      "cell_type": "code",
      "metadata": {
        "id": "qx7NgL4MkS1A",
        "colab_type": "code",
        "colab": {},
        "outputId": "baac4871-8a9d-47dc-eda3-3c6da8f2ff78"
      },
      "source": [
        "data_ir_sort_large = data_ir_sort.nlargest(20,'population')\n",
        "data_ir_sort_large_melt = pd.melt(data_ir_sort_large, id_vars=['country'], value_vars=['confirmed','population',\n",
        "                                                                           'infectionRate','mortalityRate',\n",
        "                                                                        'density','age','urban percentage'])\n",
        "fig = px.line(data_ir_sort_large_melt, x=\"country\", y=\"value\", color='variable', \n",
        "              title=f\"Worldwide Confirmed/Population(2020) & infection Rate as on {max_date} on Log Scale\",log_y=True)\n",
        "fig.show()"
      ],
      "execution_count": 0,
      "outputs": [
        {
          "output_type": "display_data",
          "data": {
            "application/vnd.plotly.v1+json": {
              "config": {
                "plotlyServerURL": "https://plot.ly"
              },
              "data": [
                {
                  "hovertemplate": "variable=confirmed<br>country=%{x}<br>value=%{y}<extra></extra>",
                  "legendgroup": "confirmed",
                  "line": {
                    "color": "#636efa",
                    "dash": "solid"
                  },
                  "mode": "lines",
                  "name": "confirmed",
                  "showlegend": true,
                  "type": "scatter",
                  "x": [
                    "China",
                    "India",
                    "US",
                    "Brazil",
                    "Russia",
                    "Turkey",
                    "Iran",
                    "Germany",
                    "United Kingdom",
                    "France",
                    "Italy",
                    "Spain",
                    "Canada",
                    "Peru",
                    "Netherlands",
                    "Belgium",
                    "Portugal",
                    "Sweden",
                    "Switzerland",
                    "Ireland"
                  ],
                  "xaxis": "x",
                  "y": [
                    83868,
                    21370,
                    839675,
                    45757,
                    57999,
                    98674,
                    85996,
                    150648,
                    134638,
                    157125,
                    187327,
                    208389,
                    41650,
                    19250,
                    35027,
                    41889,
                    21982,
                    16004,
                    28268,
                    16671
                  ],
                  "yaxis": "y"
                },
                {
                  "hovertemplate": "variable=population<br>country=%{x}<br>value=%{y}<extra></extra>",
                  "legendgroup": "population",
                  "line": {
                    "color": "#EF553B",
                    "dash": "solid"
                  },
                  "mode": "lines",
                  "name": "population",
                  "showlegend": true,
                  "type": "scatter",
                  "x": [
                    "China",
                    "India",
                    "US",
                    "Brazil",
                    "Russia",
                    "Turkey",
                    "Iran",
                    "Germany",
                    "United Kingdom",
                    "France",
                    "Italy",
                    "Spain",
                    "Canada",
                    "Peru",
                    "Netherlands",
                    "Belgium",
                    "Portugal",
                    "Sweden",
                    "Switzerland",
                    "Ireland"
                  ],
                  "xaxis": "x",
                  "y": [
                    1439323776,
                    1380004385,
                    331002651,
                    212559417,
                    145934462,
                    84339067,
                    83992949,
                    83783942,
                    67886011,
                    65273511,
                    60461826,
                    46754778,
                    37742154,
                    32971854,
                    17134872,
                    11589623,
                    10196709,
                    10099265,
                    8654622,
                    4937786
                  ],
                  "yaxis": "y"
                },
                {
                  "hovertemplate": "variable=infectionRate<br>country=%{x}<br>value=%{y}<extra></extra>",
                  "legendgroup": "infectionRate",
                  "line": {
                    "color": "#00cc96",
                    "dash": "solid"
                  },
                  "mode": "lines",
                  "name": "infectionRate",
                  "showlegend": true,
                  "type": "scatter",
                  "x": [
                    "China",
                    "India",
                    "US",
                    "Brazil",
                    "Russia",
                    "Turkey",
                    "Iran",
                    "Germany",
                    "United Kingdom",
                    "France",
                    "Italy",
                    "Spain",
                    "Canada",
                    "Peru",
                    "Netherlands",
                    "Belgium",
                    "Portugal",
                    "Sweden",
                    "Switzerland",
                    "Ireland"
                  ],
                  "xaxis": "x",
                  "y": [
                    0.00583,
                    0.00155,
                    0.25368,
                    0.02153,
                    0.03974,
                    0.117,
                    0.10238,
                    0.17981,
                    0.19833,
                    0.24072,
                    0.30983,
                    0.44571,
                    0.11035,
                    0.05838,
                    0.20442,
                    0.36144,
                    0.21558,
                    0.15847,
                    0.32662,
                    0.33762
                  ],
                  "yaxis": "y"
                },
                {
                  "hovertemplate": "variable=mortalityRate<br>country=%{x}<br>value=%{y}<extra></extra>",
                  "legendgroup": "mortalityRate",
                  "line": {
                    "color": "#ab63fa",
                    "dash": "solid"
                  },
                  "mode": "lines",
                  "name": "mortalityRate",
                  "showlegend": true,
                  "type": "scatter",
                  "x": [
                    "China",
                    "India",
                    "US",
                    "Brazil",
                    "Russia",
                    "Turkey",
                    "Iran",
                    "Germany",
                    "United Kingdom",
                    "France",
                    "Italy",
                    "Spain",
                    "Canada",
                    "Peru",
                    "Netherlands",
                    "Belgium",
                    "Portugal",
                    "Sweden",
                    "Switzerland",
                    "Ireland"
                  ],
                  "xaxis": "x",
                  "y": [
                    0.06,
                    0.03,
                    0.06,
                    0.06,
                    0.01,
                    0.02,
                    0.06,
                    0.04,
                    0.13,
                    0.14,
                    0.13,
                    0.1,
                    0.05,
                    0.03,
                    0.12,
                    0.15,
                    0.04,
                    0.12,
                    0.05,
                    0.05
                  ],
                  "yaxis": "y"
                },
                {
                  "hovertemplate": "variable=density<br>country=%{x}<br>value=%{y}<extra></extra>",
                  "legendgroup": "density",
                  "line": {
                    "color": "#FFA15A",
                    "dash": "solid"
                  },
                  "mode": "lines",
                  "name": "density",
                  "showlegend": true,
                  "type": "scatter",
                  "x": [
                    "China",
                    "India",
                    "US",
                    "Brazil",
                    "Russia",
                    "Turkey",
                    "Iran",
                    "Germany",
                    "United Kingdom",
                    "France",
                    "Italy",
                    "Spain",
                    "Canada",
                    "Peru",
                    "Netherlands",
                    "Belgium",
                    "Portugal",
                    "Sweden",
                    "Switzerland",
                    "Ireland"
                  ],
                  "xaxis": "x",
                  "y": [
                    153,
                    464,
                    36,
                    25,
                    9,
                    110,
                    52,
                    240,
                    281,
                    119,
                    206,
                    94,
                    4,
                    26,
                    508,
                    383,
                    111,
                    25,
                    219,
                    72
                  ],
                  "yaxis": "y"
                },
                {
                  "hovertemplate": "variable=age<br>country=%{x}<br>value=%{y}<extra></extra>",
                  "legendgroup": "age",
                  "line": {
                    "color": "#19d3f3",
                    "dash": "solid"
                  },
                  "mode": "lines",
                  "name": "age",
                  "showlegend": true,
                  "type": "scatter",
                  "x": [
                    "China",
                    "India",
                    "US",
                    "Brazil",
                    "Russia",
                    "Turkey",
                    "Iran",
                    "Germany",
                    "United Kingdom",
                    "France",
                    "Italy",
                    "Spain",
                    "Canada",
                    "Peru",
                    "Netherlands",
                    "Belgium",
                    "Portugal",
                    "Sweden",
                    "Switzerland",
                    "Ireland"
                  ],
                  "xaxis": "x",
                  "y": [
                    38,
                    28,
                    38,
                    33,
                    40,
                    32,
                    32,
                    46,
                    40,
                    42,
                    47,
                    45,
                    41,
                    31,
                    43,
                    42,
                    46,
                    41,
                    43,
                    38
                  ],
                  "yaxis": "y"
                },
                {
                  "hovertemplate": "variable=urban percentage<br>country=%{x}<br>value=%{y}<extra></extra>",
                  "legendgroup": "urban percentage",
                  "line": {
                    "color": "#FF6692",
                    "dash": "solid"
                  },
                  "mode": "lines",
                  "name": "urban percentage",
                  "showlegend": true,
                  "type": "scatter",
                  "x": [
                    "China",
                    "India",
                    "US",
                    "Brazil",
                    "Russia",
                    "Turkey",
                    "Iran",
                    "Germany",
                    "United Kingdom",
                    "France",
                    "Italy",
                    "Spain",
                    "Canada",
                    "Peru",
                    "Netherlands",
                    "Belgium",
                    "Portugal",
                    "Sweden",
                    "Switzerland",
                    "Ireland"
                  ],
                  "xaxis": "x",
                  "y": [
                    0.6099999999999998,
                    0.35,
                    0.83,
                    0.88,
                    0.74,
                    0.76,
                    0.76,
                    0.76,
                    0.83,
                    0.8200000000000002,
                    0.69,
                    0.8,
                    0.8100000000000004,
                    0.79,
                    0.92,
                    0.98,
                    0.66,
                    0.88,
                    0.74,
                    0.63
                  ],
                  "yaxis": "y"
                }
              ],
              "layout": {
                "legend": {
                  "title": {
                    "text": "variable"
                  },
                  "tracegroupgap": 0
                },
                "template": {
                  "data": {
                    "bar": [
                      {
                        "error_x": {
                          "color": "#f2f5fa"
                        },
                        "error_y": {
                          "color": "#f2f5fa"
                        },
                        "marker": {
                          "line": {
                            "color": "rgb(17,17,17)",
                            "width": 0.5
                          }
                        },
                        "type": "bar"
                      }
                    ],
                    "barpolar": [
                      {
                        "marker": {
                          "line": {
                            "color": "rgb(17,17,17)",
                            "width": 0.5
                          }
                        },
                        "type": "barpolar"
                      }
                    ],
                    "carpet": [
                      {
                        "aaxis": {
                          "endlinecolor": "#A2B1C6",
                          "gridcolor": "#506784",
                          "linecolor": "#506784",
                          "minorgridcolor": "#506784",
                          "startlinecolor": "#A2B1C6"
                        },
                        "baxis": {
                          "endlinecolor": "#A2B1C6",
                          "gridcolor": "#506784",
                          "linecolor": "#506784",
                          "minorgridcolor": "#506784",
                          "startlinecolor": "#A2B1C6"
                        },
                        "type": "carpet"
                      }
                    ],
                    "choropleth": [
                      {
                        "colorbar": {
                          "outlinewidth": 0,
                          "ticks": ""
                        },
                        "type": "choropleth"
                      }
                    ],
                    "contour": [
                      {
                        "colorbar": {
                          "outlinewidth": 0,
                          "ticks": ""
                        },
                        "colorscale": [
                          [
                            0,
                            "#0d0887"
                          ],
                          [
                            0.1111111111111111,
                            "#46039f"
                          ],
                          [
                            0.2222222222222222,
                            "#7201a8"
                          ],
                          [
                            0.3333333333333333,
                            "#9c179e"
                          ],
                          [
                            0.4444444444444444,
                            "#bd3786"
                          ],
                          [
                            0.5555555555555556,
                            "#d8576b"
                          ],
                          [
                            0.6666666666666666,
                            "#ed7953"
                          ],
                          [
                            0.7777777777777778,
                            "#fb9f3a"
                          ],
                          [
                            0.8888888888888888,
                            "#fdca26"
                          ],
                          [
                            1,
                            "#f0f921"
                          ]
                        ],
                        "type": "contour"
                      }
                    ],
                    "contourcarpet": [
                      {
                        "colorbar": {
                          "outlinewidth": 0,
                          "ticks": ""
                        },
                        "type": "contourcarpet"
                      }
                    ],
                    "heatmap": [
                      {
                        "colorbar": {
                          "outlinewidth": 0,
                          "ticks": ""
                        },
                        "colorscale": [
                          [
                            0,
                            "#0d0887"
                          ],
                          [
                            0.1111111111111111,
                            "#46039f"
                          ],
                          [
                            0.2222222222222222,
                            "#7201a8"
                          ],
                          [
                            0.3333333333333333,
                            "#9c179e"
                          ],
                          [
                            0.4444444444444444,
                            "#bd3786"
                          ],
                          [
                            0.5555555555555556,
                            "#d8576b"
                          ],
                          [
                            0.6666666666666666,
                            "#ed7953"
                          ],
                          [
                            0.7777777777777778,
                            "#fb9f3a"
                          ],
                          [
                            0.8888888888888888,
                            "#fdca26"
                          ],
                          [
                            1,
                            "#f0f921"
                          ]
                        ],
                        "type": "heatmap"
                      }
                    ],
                    "heatmapgl": [
                      {
                        "colorbar": {
                          "outlinewidth": 0,
                          "ticks": ""
                        },
                        "colorscale": [
                          [
                            0,
                            "#0d0887"
                          ],
                          [
                            0.1111111111111111,
                            "#46039f"
                          ],
                          [
                            0.2222222222222222,
                            "#7201a8"
                          ],
                          [
                            0.3333333333333333,
                            "#9c179e"
                          ],
                          [
                            0.4444444444444444,
                            "#bd3786"
                          ],
                          [
                            0.5555555555555556,
                            "#d8576b"
                          ],
                          [
                            0.6666666666666666,
                            "#ed7953"
                          ],
                          [
                            0.7777777777777778,
                            "#fb9f3a"
                          ],
                          [
                            0.8888888888888888,
                            "#fdca26"
                          ],
                          [
                            1,
                            "#f0f921"
                          ]
                        ],
                        "type": "heatmapgl"
                      }
                    ],
                    "histogram": [
                      {
                        "marker": {
                          "colorbar": {
                            "outlinewidth": 0,
                            "ticks": ""
                          }
                        },
                        "type": "histogram"
                      }
                    ],
                    "histogram2d": [
                      {
                        "colorbar": {
                          "outlinewidth": 0,
                          "ticks": ""
                        },
                        "colorscale": [
                          [
                            0,
                            "#0d0887"
                          ],
                          [
                            0.1111111111111111,
                            "#46039f"
                          ],
                          [
                            0.2222222222222222,
                            "#7201a8"
                          ],
                          [
                            0.3333333333333333,
                            "#9c179e"
                          ],
                          [
                            0.4444444444444444,
                            "#bd3786"
                          ],
                          [
                            0.5555555555555556,
                            "#d8576b"
                          ],
                          [
                            0.6666666666666666,
                            "#ed7953"
                          ],
                          [
                            0.7777777777777778,
                            "#fb9f3a"
                          ],
                          [
                            0.8888888888888888,
                            "#fdca26"
                          ],
                          [
                            1,
                            "#f0f921"
                          ]
                        ],
                        "type": "histogram2d"
                      }
                    ],
                    "histogram2dcontour": [
                      {
                        "colorbar": {
                          "outlinewidth": 0,
                          "ticks": ""
                        },
                        "colorscale": [
                          [
                            0,
                            "#0d0887"
                          ],
                          [
                            0.1111111111111111,
                            "#46039f"
                          ],
                          [
                            0.2222222222222222,
                            "#7201a8"
                          ],
                          [
                            0.3333333333333333,
                            "#9c179e"
                          ],
                          [
                            0.4444444444444444,
                            "#bd3786"
                          ],
                          [
                            0.5555555555555556,
                            "#d8576b"
                          ],
                          [
                            0.6666666666666666,
                            "#ed7953"
                          ],
                          [
                            0.7777777777777778,
                            "#fb9f3a"
                          ],
                          [
                            0.8888888888888888,
                            "#fdca26"
                          ],
                          [
                            1,
                            "#f0f921"
                          ]
                        ],
                        "type": "histogram2dcontour"
                      }
                    ],
                    "mesh3d": [
                      {
                        "colorbar": {
                          "outlinewidth": 0,
                          "ticks": ""
                        },
                        "type": "mesh3d"
                      }
                    ],
                    "parcoords": [
                      {
                        "line": {
                          "colorbar": {
                            "outlinewidth": 0,
                            "ticks": ""
                          }
                        },
                        "type": "parcoords"
                      }
                    ],
                    "pie": [
                      {
                        "automargin": true,
                        "type": "pie"
                      }
                    ],
                    "scatter": [
                      {
                        "marker": {
                          "line": {
                            "color": "#283442"
                          }
                        },
                        "type": "scatter"
                      }
                    ],
                    "scatter3d": [
                      {
                        "line": {
                          "colorbar": {
                            "outlinewidth": 0,
                            "ticks": ""
                          }
                        },
                        "marker": {
                          "colorbar": {
                            "outlinewidth": 0,
                            "ticks": ""
                          }
                        },
                        "type": "scatter3d"
                      }
                    ],
                    "scattercarpet": [
                      {
                        "marker": {
                          "colorbar": {
                            "outlinewidth": 0,
                            "ticks": ""
                          }
                        },
                        "type": "scattercarpet"
                      }
                    ],
                    "scattergeo": [
                      {
                        "marker": {
                          "colorbar": {
                            "outlinewidth": 0,
                            "ticks": ""
                          }
                        },
                        "type": "scattergeo"
                      }
                    ],
                    "scattergl": [
                      {
                        "marker": {
                          "line": {
                            "color": "#283442"
                          }
                        },
                        "type": "scattergl"
                      }
                    ],
                    "scattermapbox": [
                      {
                        "marker": {
                          "colorbar": {
                            "outlinewidth": 0,
                            "ticks": ""
                          }
                        },
                        "type": "scattermapbox"
                      }
                    ],
                    "scatterpolar": [
                      {
                        "marker": {
                          "colorbar": {
                            "outlinewidth": 0,
                            "ticks": ""
                          }
                        },
                        "type": "scatterpolar"
                      }
                    ],
                    "scatterpolargl": [
                      {
                        "marker": {
                          "colorbar": {
                            "outlinewidth": 0,
                            "ticks": ""
                          }
                        },
                        "type": "scatterpolargl"
                      }
                    ],
                    "scatterternary": [
                      {
                        "marker": {
                          "colorbar": {
                            "outlinewidth": 0,
                            "ticks": ""
                          }
                        },
                        "type": "scatterternary"
                      }
                    ],
                    "surface": [
                      {
                        "colorbar": {
                          "outlinewidth": 0,
                          "ticks": ""
                        },
                        "colorscale": [
                          [
                            0,
                            "#0d0887"
                          ],
                          [
                            0.1111111111111111,
                            "#46039f"
                          ],
                          [
                            0.2222222222222222,
                            "#7201a8"
                          ],
                          [
                            0.3333333333333333,
                            "#9c179e"
                          ],
                          [
                            0.4444444444444444,
                            "#bd3786"
                          ],
                          [
                            0.5555555555555556,
                            "#d8576b"
                          ],
                          [
                            0.6666666666666666,
                            "#ed7953"
                          ],
                          [
                            0.7777777777777778,
                            "#fb9f3a"
                          ],
                          [
                            0.8888888888888888,
                            "#fdca26"
                          ],
                          [
                            1,
                            "#f0f921"
                          ]
                        ],
                        "type": "surface"
                      }
                    ],
                    "table": [
                      {
                        "cells": {
                          "fill": {
                            "color": "#506784"
                          },
                          "line": {
                            "color": "rgb(17,17,17)"
                          }
                        },
                        "header": {
                          "fill": {
                            "color": "#2a3f5f"
                          },
                          "line": {
                            "color": "rgb(17,17,17)"
                          }
                        },
                        "type": "table"
                      }
                    ]
                  },
                  "layout": {
                    "annotationdefaults": {
                      "arrowcolor": "#f2f5fa",
                      "arrowhead": 0,
                      "arrowwidth": 1
                    },
                    "coloraxis": {
                      "colorbar": {
                        "outlinewidth": 0,
                        "ticks": ""
                      }
                    },
                    "colorscale": {
                      "diverging": [
                        [
                          0,
                          "#8e0152"
                        ],
                        [
                          0.1,
                          "#c51b7d"
                        ],
                        [
                          0.2,
                          "#de77ae"
                        ],
                        [
                          0.3,
                          "#f1b6da"
                        ],
                        [
                          0.4,
                          "#fde0ef"
                        ],
                        [
                          0.5,
                          "#f7f7f7"
                        ],
                        [
                          0.6,
                          "#e6f5d0"
                        ],
                        [
                          0.7,
                          "#b8e186"
                        ],
                        [
                          0.8,
                          "#7fbc41"
                        ],
                        [
                          0.9,
                          "#4d9221"
                        ],
                        [
                          1,
                          "#276419"
                        ]
                      ],
                      "sequential": [
                        [
                          0,
                          "#0d0887"
                        ],
                        [
                          0.1111111111111111,
                          "#46039f"
                        ],
                        [
                          0.2222222222222222,
                          "#7201a8"
                        ],
                        [
                          0.3333333333333333,
                          "#9c179e"
                        ],
                        [
                          0.4444444444444444,
                          "#bd3786"
                        ],
                        [
                          0.5555555555555556,
                          "#d8576b"
                        ],
                        [
                          0.6666666666666666,
                          "#ed7953"
                        ],
                        [
                          0.7777777777777778,
                          "#fb9f3a"
                        ],
                        [
                          0.8888888888888888,
                          "#fdca26"
                        ],
                        [
                          1,
                          "#f0f921"
                        ]
                      ],
                      "sequentialminus": [
                        [
                          0,
                          "#0d0887"
                        ],
                        [
                          0.1111111111111111,
                          "#46039f"
                        ],
                        [
                          0.2222222222222222,
                          "#7201a8"
                        ],
                        [
                          0.3333333333333333,
                          "#9c179e"
                        ],
                        [
                          0.4444444444444444,
                          "#bd3786"
                        ],
                        [
                          0.5555555555555556,
                          "#d8576b"
                        ],
                        [
                          0.6666666666666666,
                          "#ed7953"
                        ],
                        [
                          0.7777777777777778,
                          "#fb9f3a"
                        ],
                        [
                          0.8888888888888888,
                          "#fdca26"
                        ],
                        [
                          1,
                          "#f0f921"
                        ]
                      ]
                    },
                    "colorway": [
                      "#636efa",
                      "#EF553B",
                      "#00cc96",
                      "#ab63fa",
                      "#FFA15A",
                      "#19d3f3",
                      "#FF6692",
                      "#B6E880",
                      "#FF97FF",
                      "#FECB52"
                    ],
                    "font": {
                      "color": "#f2f5fa"
                    },
                    "geo": {
                      "bgcolor": "rgb(17,17,17)",
                      "lakecolor": "rgb(17,17,17)",
                      "landcolor": "rgb(17,17,17)",
                      "showlakes": true,
                      "showland": true,
                      "subunitcolor": "#506784"
                    },
                    "hoverlabel": {
                      "align": "left"
                    },
                    "hovermode": "closest",
                    "mapbox": {
                      "style": "dark"
                    },
                    "paper_bgcolor": "rgb(17,17,17)",
                    "plot_bgcolor": "rgb(17,17,17)",
                    "polar": {
                      "angularaxis": {
                        "gridcolor": "#506784",
                        "linecolor": "#506784",
                        "ticks": ""
                      },
                      "bgcolor": "rgb(17,17,17)",
                      "radialaxis": {
                        "gridcolor": "#506784",
                        "linecolor": "#506784",
                        "ticks": ""
                      }
                    },
                    "scene": {
                      "xaxis": {
                        "backgroundcolor": "rgb(17,17,17)",
                        "gridcolor": "#506784",
                        "gridwidth": 2,
                        "linecolor": "#506784",
                        "showbackground": true,
                        "ticks": "",
                        "zerolinecolor": "#C8D4E3"
                      },
                      "yaxis": {
                        "backgroundcolor": "rgb(17,17,17)",
                        "gridcolor": "#506784",
                        "gridwidth": 2,
                        "linecolor": "#506784",
                        "showbackground": true,
                        "ticks": "",
                        "zerolinecolor": "#C8D4E3"
                      },
                      "zaxis": {
                        "backgroundcolor": "rgb(17,17,17)",
                        "gridcolor": "#506784",
                        "gridwidth": 2,
                        "linecolor": "#506784",
                        "showbackground": true,
                        "ticks": "",
                        "zerolinecolor": "#C8D4E3"
                      }
                    },
                    "shapedefaults": {
                      "line": {
                        "color": "#f2f5fa"
                      }
                    },
                    "sliderdefaults": {
                      "bgcolor": "#C8D4E3",
                      "bordercolor": "rgb(17,17,17)",
                      "borderwidth": 1,
                      "tickwidth": 0
                    },
                    "ternary": {
                      "aaxis": {
                        "gridcolor": "#506784",
                        "linecolor": "#506784",
                        "ticks": ""
                      },
                      "baxis": {
                        "gridcolor": "#506784",
                        "linecolor": "#506784",
                        "ticks": ""
                      },
                      "bgcolor": "rgb(17,17,17)",
                      "caxis": {
                        "gridcolor": "#506784",
                        "linecolor": "#506784",
                        "ticks": ""
                      }
                    },
                    "title": {
                      "x": 0.05
                    },
                    "updatemenudefaults": {
                      "bgcolor": "#506784",
                      "borderwidth": 0
                    },
                    "xaxis": {
                      "automargin": true,
                      "gridcolor": "#283442",
                      "linecolor": "#506784",
                      "ticks": "",
                      "title": {
                        "standoff": 15
                      },
                      "zerolinecolor": "#283442",
                      "zerolinewidth": 2
                    },
                    "yaxis": {
                      "automargin": true,
                      "gridcolor": "#283442",
                      "linecolor": "#506784",
                      "ticks": "",
                      "title": {
                        "standoff": 15
                      },
                      "zerolinecolor": "#283442",
                      "zerolinewidth": 2
                    }
                  }
                },
                "title": {
                  "text": "Worldwide Confirmed/Population(2020) & infection Rate as on 2020-04-22 00:00:00 on Log Scale"
                },
                "xaxis": {
                  "anchor": "y",
                  "domain": [
                    0,
                    1
                  ],
                  "title": {
                    "text": "country"
                  }
                },
                "yaxis": {
                  "anchor": "x",
                  "domain": [
                    0,
                    1
                  ],
                  "title": {
                    "text": "value"
                  },
                  "type": "log"
                }
              }
            },
            "text/html": [
              "<div>\n",
              "        \n",
              "        \n",
              "            <div id=\"e57218d4-cd7c-4cf9-b0f0-e58ae8327561\" class=\"plotly-graph-div\" style=\"height:525px; width:100%;\"></div>\n",
              "            <script type=\"text/javascript\">\n",
              "                require([\"plotly\"], function(Plotly) {\n",
              "                    window.PLOTLYENV=window.PLOTLYENV || {};\n",
              "                    \n",
              "                if (document.getElementById(\"e57218d4-cd7c-4cf9-b0f0-e58ae8327561\")) {\n",
              "                    Plotly.newPlot(\n",
              "                        'e57218d4-cd7c-4cf9-b0f0-e58ae8327561',\n",
              "                        [{\"hovertemplate\": \"variable=confirmed<br>country=%{x}<br>value=%{y}<extra></extra>\", \"legendgroup\": \"confirmed\", \"line\": {\"color\": \"#636efa\", \"dash\": \"solid\"}, \"mode\": \"lines\", \"name\": \"confirmed\", \"showlegend\": true, \"type\": \"scatter\", \"x\": [\"China\", \"India\", \"US\", \"Brazil\", \"Russia\", \"Turkey\", \"Iran\", \"Germany\", \"United Kingdom\", \"France\", \"Italy\", \"Spain\", \"Canada\", \"Peru\", \"Netherlands\", \"Belgium\", \"Portugal\", \"Sweden\", \"Switzerland\", \"Ireland\"], \"xaxis\": \"x\", \"y\": [83868.0, 21370.0, 839675.0, 45757.0, 57999.0, 98674.0, 85996.0, 150648.0, 134638.0, 157125.0, 187327.0, 208389.0, 41650.0, 19250.0, 35027.0, 41889.0, 21982.0, 16004.0, 28268.0, 16671.0], \"yaxis\": \"y\"}, {\"hovertemplate\": \"variable=population<br>country=%{x}<br>value=%{y}<extra></extra>\", \"legendgroup\": \"population\", \"line\": {\"color\": \"#EF553B\", \"dash\": \"solid\"}, \"mode\": \"lines\", \"name\": \"population\", \"showlegend\": true, \"type\": \"scatter\", \"x\": [\"China\", \"India\", \"US\", \"Brazil\", \"Russia\", \"Turkey\", \"Iran\", \"Germany\", \"United Kingdom\", \"France\", \"Italy\", \"Spain\", \"Canada\", \"Peru\", \"Netherlands\", \"Belgium\", \"Portugal\", \"Sweden\", \"Switzerland\", \"Ireland\"], \"xaxis\": \"x\", \"y\": [1439323776.0, 1380004385.0, 331002651.0, 212559417.0, 145934462.0, 84339067.0, 83992949.0, 83783942.0, 67886011.0, 65273511.0, 60461826.0, 46754778.0, 37742154.0, 32971854.0, 17134872.0, 11589623.0, 10196709.0, 10099265.0, 8654622.0, 4937786.0], \"yaxis\": \"y\"}, {\"hovertemplate\": \"variable=infectionRate<br>country=%{x}<br>value=%{y}<extra></extra>\", \"legendgroup\": \"infectionRate\", \"line\": {\"color\": \"#00cc96\", \"dash\": \"solid\"}, \"mode\": \"lines\", \"name\": \"infectionRate\", \"showlegend\": true, \"type\": \"scatter\", \"x\": [\"China\", \"India\", \"US\", \"Brazil\", \"Russia\", \"Turkey\", \"Iran\", \"Germany\", \"United Kingdom\", \"France\", \"Italy\", \"Spain\", \"Canada\", \"Peru\", \"Netherlands\", \"Belgium\", \"Portugal\", \"Sweden\", \"Switzerland\", \"Ireland\"], \"xaxis\": \"x\", \"y\": [0.00583, 0.00155, 0.25368, 0.02153, 0.03974, 0.117, 0.10238, 0.17981, 0.19833, 0.24072, 0.30983, 0.44571, 0.11035, 0.05838, 0.20442, 0.36144, 0.21558, 0.15847, 0.32662, 0.33762], \"yaxis\": \"y\"}, {\"hovertemplate\": \"variable=mortalityRate<br>country=%{x}<br>value=%{y}<extra></extra>\", \"legendgroup\": \"mortalityRate\", \"line\": {\"color\": \"#ab63fa\", \"dash\": \"solid\"}, \"mode\": \"lines\", \"name\": \"mortalityRate\", \"showlegend\": true, \"type\": \"scatter\", \"x\": [\"China\", \"India\", \"US\", \"Brazil\", \"Russia\", \"Turkey\", \"Iran\", \"Germany\", \"United Kingdom\", \"France\", \"Italy\", \"Spain\", \"Canada\", \"Peru\", \"Netherlands\", \"Belgium\", \"Portugal\", \"Sweden\", \"Switzerland\", \"Ireland\"], \"xaxis\": \"x\", \"y\": [0.06, 0.03, 0.06, 0.06, 0.01, 0.02, 0.06, 0.04, 0.13, 0.14, 0.13, 0.1, 0.05, 0.03, 0.12, 0.15, 0.04, 0.12, 0.05, 0.05], \"yaxis\": \"y\"}, {\"hovertemplate\": \"variable=density<br>country=%{x}<br>value=%{y}<extra></extra>\", \"legendgroup\": \"density\", \"line\": {\"color\": \"#FFA15A\", \"dash\": \"solid\"}, \"mode\": \"lines\", \"name\": \"density\", \"showlegend\": true, \"type\": \"scatter\", \"x\": [\"China\", \"India\", \"US\", \"Brazil\", \"Russia\", \"Turkey\", \"Iran\", \"Germany\", \"United Kingdom\", \"France\", \"Italy\", \"Spain\", \"Canada\", \"Peru\", \"Netherlands\", \"Belgium\", \"Portugal\", \"Sweden\", \"Switzerland\", \"Ireland\"], \"xaxis\": \"x\", \"y\": [153.0, 464.0, 36.0, 25.0, 9.0, 110.0, 52.0, 240.0, 281.0, 119.0, 206.0, 94.0, 4.0, 26.0, 508.0, 383.0, 111.0, 25.0, 219.0, 72.0], \"yaxis\": \"y\"}, {\"hovertemplate\": \"variable=age<br>country=%{x}<br>value=%{y}<extra></extra>\", \"legendgroup\": \"age\", \"line\": {\"color\": \"#19d3f3\", \"dash\": \"solid\"}, \"mode\": \"lines\", \"name\": \"age\", \"showlegend\": true, \"type\": \"scatter\", \"x\": [\"China\", \"India\", \"US\", \"Brazil\", \"Russia\", \"Turkey\", \"Iran\", \"Germany\", \"United Kingdom\", \"France\", \"Italy\", \"Spain\", \"Canada\", \"Peru\", \"Netherlands\", \"Belgium\", \"Portugal\", \"Sweden\", \"Switzerland\", \"Ireland\"], \"xaxis\": \"x\", \"y\": [38.0, 28.0, 38.0, 33.0, 40.0, 32.0, 32.0, 46.0, 40.0, 42.0, 47.0, 45.0, 41.0, 31.0, 43.0, 42.0, 46.0, 41.0, 43.0, 38.0], \"yaxis\": \"y\"}, {\"hovertemplate\": \"variable=urban percentage<br>country=%{x}<br>value=%{y}<extra></extra>\", \"legendgroup\": \"urban percentage\", \"line\": {\"color\": \"#FF6692\", \"dash\": \"solid\"}, \"mode\": \"lines\", \"name\": \"urban percentage\", \"showlegend\": true, \"type\": \"scatter\", \"x\": [\"China\", \"India\", \"US\", \"Brazil\", \"Russia\", \"Turkey\", \"Iran\", \"Germany\", \"United Kingdom\", \"France\", \"Italy\", \"Spain\", \"Canada\", \"Peru\", \"Netherlands\", \"Belgium\", \"Portugal\", \"Sweden\", \"Switzerland\", \"Ireland\"], \"xaxis\": \"x\", \"y\": [0.6099999999999998, 0.35, 0.83, 0.88, 0.74, 0.76, 0.76, 0.76, 0.83, 0.8200000000000002, 0.69, 0.8, 0.8100000000000004, 0.79, 0.92, 0.98, 0.66, 0.88, 0.74, 0.63], \"yaxis\": \"y\"}],\n",
              "                        {\"legend\": {\"title\": {\"text\": \"variable\"}, \"tracegroupgap\": 0}, \"template\": {\"data\": {\"bar\": [{\"error_x\": {\"color\": \"#f2f5fa\"}, \"error_y\": {\"color\": \"#f2f5fa\"}, \"marker\": {\"line\": {\"color\": \"rgb(17,17,17)\", \"width\": 0.5}}, \"type\": \"bar\"}], \"barpolar\": [{\"marker\": {\"line\": {\"color\": \"rgb(17,17,17)\", \"width\": 0.5}}, \"type\": \"barpolar\"}], \"carpet\": [{\"aaxis\": {\"endlinecolor\": \"#A2B1C6\", \"gridcolor\": \"#506784\", \"linecolor\": \"#506784\", \"minorgridcolor\": \"#506784\", \"startlinecolor\": \"#A2B1C6\"}, \"baxis\": {\"endlinecolor\": \"#A2B1C6\", \"gridcolor\": \"#506784\", \"linecolor\": \"#506784\", \"minorgridcolor\": \"#506784\", \"startlinecolor\": \"#A2B1C6\"}, \"type\": \"carpet\"}], \"choropleth\": [{\"colorbar\": {\"outlinewidth\": 0, \"ticks\": \"\"}, \"type\": \"choropleth\"}], \"contour\": [{\"colorbar\": {\"outlinewidth\": 0, \"ticks\": \"\"}, \"colorscale\": [[0.0, \"#0d0887\"], [0.1111111111111111, \"#46039f\"], [0.2222222222222222, \"#7201a8\"], [0.3333333333333333, \"#9c179e\"], [0.4444444444444444, \"#bd3786\"], [0.5555555555555556, \"#d8576b\"], [0.6666666666666666, \"#ed7953\"], [0.7777777777777778, \"#fb9f3a\"], [0.8888888888888888, \"#fdca26\"], [1.0, \"#f0f921\"]], \"type\": \"contour\"}], \"contourcarpet\": [{\"colorbar\": {\"outlinewidth\": 0, \"ticks\": \"\"}, \"type\": \"contourcarpet\"}], \"heatmap\": [{\"colorbar\": {\"outlinewidth\": 0, \"ticks\": \"\"}, \"colorscale\": [[0.0, \"#0d0887\"], [0.1111111111111111, \"#46039f\"], [0.2222222222222222, \"#7201a8\"], [0.3333333333333333, \"#9c179e\"], [0.4444444444444444, \"#bd3786\"], [0.5555555555555556, \"#d8576b\"], [0.6666666666666666, \"#ed7953\"], [0.7777777777777778, \"#fb9f3a\"], [0.8888888888888888, \"#fdca26\"], [1.0, \"#f0f921\"]], \"type\": \"heatmap\"}], \"heatmapgl\": [{\"colorbar\": {\"outlinewidth\": 0, \"ticks\": \"\"}, \"colorscale\": [[0.0, \"#0d0887\"], [0.1111111111111111, \"#46039f\"], [0.2222222222222222, \"#7201a8\"], [0.3333333333333333, \"#9c179e\"], [0.4444444444444444, \"#bd3786\"], [0.5555555555555556, \"#d8576b\"], [0.6666666666666666, \"#ed7953\"], [0.7777777777777778, \"#fb9f3a\"], [0.8888888888888888, \"#fdca26\"], [1.0, \"#f0f921\"]], \"type\": \"heatmapgl\"}], \"histogram\": [{\"marker\": {\"colorbar\": {\"outlinewidth\": 0, \"ticks\": \"\"}}, \"type\": \"histogram\"}], \"histogram2d\": [{\"colorbar\": {\"outlinewidth\": 0, \"ticks\": \"\"}, \"colorscale\": [[0.0, \"#0d0887\"], [0.1111111111111111, \"#46039f\"], [0.2222222222222222, \"#7201a8\"], [0.3333333333333333, \"#9c179e\"], [0.4444444444444444, \"#bd3786\"], [0.5555555555555556, \"#d8576b\"], [0.6666666666666666, \"#ed7953\"], [0.7777777777777778, \"#fb9f3a\"], [0.8888888888888888, \"#fdca26\"], [1.0, \"#f0f921\"]], \"type\": \"histogram2d\"}], \"histogram2dcontour\": [{\"colorbar\": {\"outlinewidth\": 0, \"ticks\": \"\"}, \"colorscale\": [[0.0, \"#0d0887\"], [0.1111111111111111, \"#46039f\"], [0.2222222222222222, \"#7201a8\"], [0.3333333333333333, \"#9c179e\"], [0.4444444444444444, \"#bd3786\"], [0.5555555555555556, \"#d8576b\"], [0.6666666666666666, \"#ed7953\"], [0.7777777777777778, \"#fb9f3a\"], [0.8888888888888888, \"#fdca26\"], [1.0, \"#f0f921\"]], \"type\": \"histogram2dcontour\"}], \"mesh3d\": [{\"colorbar\": {\"outlinewidth\": 0, \"ticks\": \"\"}, \"type\": \"mesh3d\"}], \"parcoords\": [{\"line\": {\"colorbar\": {\"outlinewidth\": 0, \"ticks\": \"\"}}, \"type\": \"parcoords\"}], \"pie\": [{\"automargin\": true, \"type\": \"pie\"}], \"scatter\": [{\"marker\": {\"line\": {\"color\": \"#283442\"}}, \"type\": \"scatter\"}], \"scatter3d\": [{\"line\": {\"colorbar\": {\"outlinewidth\": 0, \"ticks\": \"\"}}, \"marker\": {\"colorbar\": {\"outlinewidth\": 0, \"ticks\": \"\"}}, \"type\": \"scatter3d\"}], \"scattercarpet\": [{\"marker\": {\"colorbar\": {\"outlinewidth\": 0, \"ticks\": \"\"}}, \"type\": \"scattercarpet\"}], \"scattergeo\": [{\"marker\": {\"colorbar\": {\"outlinewidth\": 0, \"ticks\": \"\"}}, \"type\": \"scattergeo\"}], \"scattergl\": [{\"marker\": {\"line\": {\"color\": \"#283442\"}}, \"type\": \"scattergl\"}], \"scattermapbox\": [{\"marker\": {\"colorbar\": {\"outlinewidth\": 0, \"ticks\": \"\"}}, \"type\": \"scattermapbox\"}], \"scatterpolar\": [{\"marker\": {\"colorbar\": {\"outlinewidth\": 0, \"ticks\": \"\"}}, \"type\": \"scatterpolar\"}], \"scatterpolargl\": [{\"marker\": {\"colorbar\": {\"outlinewidth\": 0, \"ticks\": \"\"}}, \"type\": \"scatterpolargl\"}], \"scatterternary\": [{\"marker\": {\"colorbar\": {\"outlinewidth\": 0, \"ticks\": \"\"}}, \"type\": \"scatterternary\"}], \"surface\": [{\"colorbar\": {\"outlinewidth\": 0, \"ticks\": \"\"}, \"colorscale\": [[0.0, \"#0d0887\"], [0.1111111111111111, \"#46039f\"], [0.2222222222222222, \"#7201a8\"], [0.3333333333333333, \"#9c179e\"], [0.4444444444444444, \"#bd3786\"], [0.5555555555555556, \"#d8576b\"], [0.6666666666666666, \"#ed7953\"], [0.7777777777777778, \"#fb9f3a\"], [0.8888888888888888, \"#fdca26\"], [1.0, \"#f0f921\"]], \"type\": \"surface\"}], \"table\": [{\"cells\": {\"fill\": {\"color\": \"#506784\"}, \"line\": {\"color\": \"rgb(17,17,17)\"}}, \"header\": {\"fill\": {\"color\": \"#2a3f5f\"}, \"line\": {\"color\": \"rgb(17,17,17)\"}}, \"type\": \"table\"}]}, \"layout\": {\"annotationdefaults\": {\"arrowcolor\": \"#f2f5fa\", \"arrowhead\": 0, \"arrowwidth\": 1}, \"coloraxis\": {\"colorbar\": {\"outlinewidth\": 0, \"ticks\": \"\"}}, \"colorscale\": {\"diverging\": [[0, \"#8e0152\"], [0.1, \"#c51b7d\"], [0.2, \"#de77ae\"], [0.3, \"#f1b6da\"], [0.4, \"#fde0ef\"], [0.5, \"#f7f7f7\"], [0.6, \"#e6f5d0\"], [0.7, \"#b8e186\"], [0.8, \"#7fbc41\"], [0.9, \"#4d9221\"], [1, \"#276419\"]], \"sequential\": [[0.0, \"#0d0887\"], [0.1111111111111111, \"#46039f\"], [0.2222222222222222, \"#7201a8\"], [0.3333333333333333, \"#9c179e\"], [0.4444444444444444, \"#bd3786\"], [0.5555555555555556, \"#d8576b\"], [0.6666666666666666, \"#ed7953\"], [0.7777777777777778, \"#fb9f3a\"], [0.8888888888888888, \"#fdca26\"], [1.0, \"#f0f921\"]], \"sequentialminus\": [[0.0, \"#0d0887\"], [0.1111111111111111, \"#46039f\"], [0.2222222222222222, \"#7201a8\"], [0.3333333333333333, \"#9c179e\"], [0.4444444444444444, \"#bd3786\"], [0.5555555555555556, \"#d8576b\"], [0.6666666666666666, \"#ed7953\"], [0.7777777777777778, \"#fb9f3a\"], [0.8888888888888888, \"#fdca26\"], [1.0, \"#f0f921\"]]}, \"colorway\": [\"#636efa\", \"#EF553B\", \"#00cc96\", \"#ab63fa\", \"#FFA15A\", \"#19d3f3\", \"#FF6692\", \"#B6E880\", \"#FF97FF\", \"#FECB52\"], \"font\": {\"color\": \"#f2f5fa\"}, \"geo\": {\"bgcolor\": \"rgb(17,17,17)\", \"lakecolor\": \"rgb(17,17,17)\", \"landcolor\": \"rgb(17,17,17)\", \"showlakes\": true, \"showland\": true, \"subunitcolor\": \"#506784\"}, \"hoverlabel\": {\"align\": \"left\"}, \"hovermode\": \"closest\", \"mapbox\": {\"style\": \"dark\"}, \"paper_bgcolor\": \"rgb(17,17,17)\", \"plot_bgcolor\": \"rgb(17,17,17)\", \"polar\": {\"angularaxis\": {\"gridcolor\": \"#506784\", \"linecolor\": \"#506784\", \"ticks\": \"\"}, \"bgcolor\": \"rgb(17,17,17)\", \"radialaxis\": {\"gridcolor\": \"#506784\", \"linecolor\": \"#506784\", \"ticks\": \"\"}}, \"scene\": {\"xaxis\": {\"backgroundcolor\": \"rgb(17,17,17)\", \"gridcolor\": \"#506784\", \"gridwidth\": 2, \"linecolor\": \"#506784\", \"showbackground\": true, \"ticks\": \"\", \"zerolinecolor\": \"#C8D4E3\"}, \"yaxis\": {\"backgroundcolor\": \"rgb(17,17,17)\", \"gridcolor\": \"#506784\", \"gridwidth\": 2, \"linecolor\": \"#506784\", \"showbackground\": true, \"ticks\": \"\", \"zerolinecolor\": \"#C8D4E3\"}, \"zaxis\": {\"backgroundcolor\": \"rgb(17,17,17)\", \"gridcolor\": \"#506784\", \"gridwidth\": 2, \"linecolor\": \"#506784\", \"showbackground\": true, \"ticks\": \"\", \"zerolinecolor\": \"#C8D4E3\"}}, \"shapedefaults\": {\"line\": {\"color\": \"#f2f5fa\"}}, \"sliderdefaults\": {\"bgcolor\": \"#C8D4E3\", \"bordercolor\": \"rgb(17,17,17)\", \"borderwidth\": 1, \"tickwidth\": 0}, \"ternary\": {\"aaxis\": {\"gridcolor\": \"#506784\", \"linecolor\": \"#506784\", \"ticks\": \"\"}, \"baxis\": {\"gridcolor\": \"#506784\", \"linecolor\": \"#506784\", \"ticks\": \"\"}, \"bgcolor\": \"rgb(17,17,17)\", \"caxis\": {\"gridcolor\": \"#506784\", \"linecolor\": \"#506784\", \"ticks\": \"\"}}, \"title\": {\"x\": 0.05}, \"updatemenudefaults\": {\"bgcolor\": \"#506784\", \"borderwidth\": 0}, \"xaxis\": {\"automargin\": true, \"gridcolor\": \"#283442\", \"linecolor\": \"#506784\", \"ticks\": \"\", \"title\": {\"standoff\": 15}, \"zerolinecolor\": \"#283442\", \"zerolinewidth\": 2}, \"yaxis\": {\"automargin\": true, \"gridcolor\": \"#283442\", \"linecolor\": \"#506784\", \"ticks\": \"\", \"title\": {\"standoff\": 15}, \"zerolinecolor\": \"#283442\", \"zerolinewidth\": 2}}}, \"title\": {\"text\": \"Worldwide Confirmed/Population(2020) & infection Rate as on 2020-04-22 00:00:00 on Log Scale\"}, \"xaxis\": {\"anchor\": \"y\", \"domain\": [0.0, 1.0], \"title\": {\"text\": \"country\"}}, \"yaxis\": {\"anchor\": \"x\", \"domain\": [0.0, 1.0], \"title\": {\"text\": \"value\"}, \"type\": \"log\"}},\n",
              "                        {\"responsive\": true}\n",
              "                    ).then(function(){\n",
              "                            \n",
              "var gd = document.getElementById('e57218d4-cd7c-4cf9-b0f0-e58ae8327561');\n",
              "var x = new MutationObserver(function (mutations, observer) {{\n",
              "        var display = window.getComputedStyle(gd).display;\n",
              "        if (!display || display === 'none') {{\n",
              "            console.log([gd, 'removed!']);\n",
              "            Plotly.purge(gd);\n",
              "            observer.disconnect();\n",
              "        }}\n",
              "}});\n",
              "\n",
              "// Listen for the removal of the full notebook cells\n",
              "var notebookContainer = gd.closest('#notebook-container');\n",
              "if (notebookContainer) {{\n",
              "    x.observe(notebookContainer, {childList: true});\n",
              "}}\n",
              "\n",
              "// Listen for the clearing of the current output cell\n",
              "var outputEl = gd.closest('.output');\n",
              "if (outputEl) {{\n",
              "    x.observe(outputEl, {childList: true});\n",
              "}}\n",
              "\n",
              "                        })\n",
              "                };\n",
              "                });\n",
              "            </script>\n",
              "        </div>"
            ]
          },
          "metadata": {
            "tags": []
          }
        }
      ]
    },
    {
      "cell_type": "markdown",
      "metadata": {
        "id": "3SXIvpfJkS1D",
        "colab_type": "text"
      },
      "source": [
        "***Inference***\n",
        "1. Countries with Lesser Population suffered with higher infection rate and higher mortality rate compared to the countries with Higher population. "
      ]
    },
    {
      "cell_type": "code",
      "metadata": {
        "id": "5km-u-y0kS1D",
        "colab_type": "code",
        "colab": {},
        "outputId": "5865fad0-7244-4f76-fc17-a416bce1bf6a"
      },
      "source": [
        "countries = data['country'].unique()\n",
        "print(f'{len(countries)} countries are in dataset:\\n{countries}')"
      ],
      "execution_count": 0,
      "outputs": [
        {
          "output_type": "stream",
          "text": [
            "172 countries are in dataset:\n",
            "['Afghanistan' 'Albania' 'Algeria' 'Andorra' 'Angola'\n",
            " 'Antigua and Barbuda' 'Argentina' 'Armenia' 'Australia' 'Austria'\n",
            " 'Azerbaijan' 'Bahamas' 'Bahrain' 'Bangladesh' 'Barbados' 'Belarus'\n",
            " 'Belgium' 'Benin' 'Bhutan' 'Bolivia' 'Bosnia and Herzegovina' 'Brazil'\n",
            " 'Brunei' 'Bulgaria' 'Burkina Faso' 'Cabo Verde' 'Cambodia' 'Cameroon'\n",
            " 'Canada' 'Central African Republic' 'Chad' 'Chile' 'China' 'Colombia'\n",
            " 'Costa Rica' 'Croatia' 'Cuba' 'Cyprus' 'Denmark' 'Djibouti'\n",
            " 'Dominican Republic' 'Ecuador' 'Egypt' 'El Salvador' 'Equatorial Guinea'\n",
            " 'Eritrea' 'Estonia' 'Eswatini' 'Ethiopia' 'Fiji' 'Finland' 'France'\n",
            " 'Gabon' 'Gambia' 'Georgia' 'Germany' 'Ghana' 'Greece' 'Guatemala'\n",
            " 'Guinea' 'Guyana' 'Haiti' 'Holy See' 'Honduras' 'Hungary' 'Iceland'\n",
            " 'India' 'Indonesia' 'Iran' 'Iraq' 'Ireland' 'Israel' 'Italy' 'Jamaica'\n",
            " 'Japan' 'Jordan' 'Kazakhstan' 'Kenya' 'South Korea' 'Kuwait' 'Kyrgyzstan'\n",
            " 'Latvia' 'Lebanon' 'Liberia' 'Liechtenstein' 'Lithuania' 'Luxembourg'\n",
            " 'Madagascar' 'Malaysia' 'Maldives' 'Malta' 'Mauritania' 'Mauritius'\n",
            " 'Mexico' 'Moldova' 'Monaco' 'Mongolia' 'Montenegro' 'Morocco' 'Namibia'\n",
            " 'Nepal' 'Netherlands' 'New Zealand' 'Nicaragua' 'Niger' 'Nigeria'\n",
            " 'North Macedonia' 'Norway' 'Oman' 'Pakistan' 'Panama' 'Papua New Guinea'\n",
            " 'Paraguay' 'Peru' 'Philippines' 'Poland' 'Portugal' 'Qatar' 'Romania'\n",
            " 'Russia' 'Rwanda' 'Saint Lucia' 'San Marino' 'Saudi Arabia' 'Senegal'\n",
            " 'Serbia' 'Seychelles' 'Singapore' 'Slovakia' 'Slovenia' 'Somalia'\n",
            " 'South Africa' 'Spain' 'Sri Lanka' 'Sudan' 'Suriname' 'Sweden'\n",
            " 'Switzerland' 'Tanzania' 'Thailand' 'Togo' 'Trinidad and Tobago'\n",
            " 'Tunisia' 'Turkey' 'Uganda' 'Ukraine' 'United Arab Emirates'\n",
            " 'United Kingdom' 'Uruguay' 'US' 'Uzbekistan' 'Venezuela' 'Vietnam'\n",
            " 'Zambia' 'Zimbabwe' 'Dominica' 'Grenada' 'Mozambique' 'Syria'\n",
            " 'Timor-Leste' 'Belize' 'Laos' 'Libya' 'Guinea-Bissau' 'Mali' 'Botswana'\n",
            " 'Burundi' 'Sierra Leone' 'Malawi' 'South Sudan' 'Western Sahara' 'Yemen']\n"
          ],
          "name": "stdout"
        }
      ]
    },
    {
      "cell_type": "code",
      "metadata": {
        "scrolled": true,
        "id": "4YmEO_ECkS1G",
        "colab_type": "code",
        "colab": {},
        "outputId": "3a8f4092-bf3d-4a39-cc2f-0c897aaedb40"
      },
      "source": [
        "data.columns"
      ],
      "execution_count": 0,
      "outputs": [
        {
          "output_type": "execute_result",
          "data": {
            "text/plain": [
              "Index(['state', 'country', 'lat', 'long', 'date', 'confirmed', 'deaths',\n",
              "       'recovered', 'active', 'population', 'density', 'fertility', 'age',\n",
              "       'urban percentage'],\n",
              "      dtype='object')"
            ]
          },
          "metadata": {
            "tags": []
          },
          "execution_count": 135
        }
      ]
    },
    {
      "cell_type": "code",
      "metadata": {
        "scrolled": false,
        "id": "TEHtCds8kS1L",
        "colab_type": "code",
        "colab": {},
        "outputId": "864486de-5adf-45a6-eed6-927dccb6a862"
      },
      "source": [
        "print('Date: ', max_date)\n",
        "for i in [1, 10, 100, 1000, 10000]:\n",
        "    n_countries = len(data.query('(date == @max_date) & confirmed > @i'))\n",
        "    print(f'{n_countries} countries have more than {i} confirmed cases')"
      ],
      "execution_count": 0,
      "outputs": [
        {
          "output_type": "stream",
          "text": [
            "Date:  2020-04-22 00:00:00\n",
            "244 countries have more than 1 confirmed cases\n",
            "231 countries have more than 10 confirmed cases\n",
            "172 countries have more than 100 confirmed cases\n",
            "90 countries have more than 1000 confirmed cases\n",
            "31 countries have more than 10000 confirmed cases\n"
          ],
          "name": "stdout"
        }
      ]
    },
    {
      "cell_type": "code",
      "metadata": {
        "id": "p1nQPx4YkS1O",
        "colab_type": "code",
        "colab": {},
        "outputId": "c8ff4de5-6583-43b9-c7c0-e5a4e41d5656"
      },
      "source": [
        "print('Date: ', max_date)\n",
        "for i in [1, 10, 100, 1000, 10000]:\n",
        "    n_countries = len(data.query('(date == @max_date) & deaths > @i'))\n",
        "    print(f'{n_countries} countries have more than {i} fatalities')"
      ],
      "execution_count": 0,
      "outputs": [
        {
          "output_type": "stream",
          "text": [
            "Date:  2020-04-22 00:00:00\n",
            "174 countries have more than 1 fatalities\n",
            "102 countries have more than 10 fatalities\n",
            "49 countries have more than 100 fatalities\n",
            "15 countries have more than 1000 fatalities\n",
            "5 countries have more than 10000 fatalities\n"
          ],
          "name": "stdout"
        }
      ]
    },
    {
      "cell_type": "code",
      "metadata": {
        "id": "Wn6jTLI6kS1S",
        "colab_type": "code",
        "colab": {},
        "outputId": "f0dc68df-c160-444f-fe3f-8118ba23b75b"
      },
      "source": [
        "ax = sns.distplot(np.log10(data.query('date == \"2020-04-20\"')['confirmed'] + 1))\n",
        "ax.set_xlim([0, 6])\n",
        "ax.set_xticks(np.arange(7))\n",
        "_ = ax.set_xticklabels(['0', '10', '100', '1k', '10k', '100k'])"
      ],
      "execution_count": 0,
      "outputs": [
        {
          "output_type": "display_data",
          "data": {
            "image/png": "[encoded data removed]",
            "text/plain": [
              "<Figure size 432x288 with 1 Axes>"
            ]
          },
          "metadata": {
            "tags": [],
            "needs_background": "light"
          }
        }
      ]
    },
    {
      "cell_type": "code",
      "metadata": {
        "id": "pyoDNBpakS1U",
        "colab_type": "code",
        "colab": {},
        "outputId": "29bfdf85-2ce0-44d4-c936-700bdad6802e"
      },
      "source": [
        "ax = sns.distplot(np.log10(data.query('date == \"2020-04-20\"')['deaths'] + 1))\n",
        "ax.set_xlim([0, 6])\n",
        "ax.set_xticks(np.arange(7))\n",
        "_ = ax.set_xticklabels(['0', '10', '100', '1k', '10k', '100k'])"
      ],
      "execution_count": 0,
      "outputs": [
        {
          "output_type": "display_data",
          "data": {
            "image/png": "[encoded data removed]",
            "text/plain": [
              "<Figure size 432x288 with 1 Axes>"
            ]
          },
          "metadata": {
            "tags": [],
            "needs_background": "light"
          }
        }
      ]
    }
  ]
}